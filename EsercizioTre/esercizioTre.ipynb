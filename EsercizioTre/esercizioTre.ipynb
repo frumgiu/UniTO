{
 "cells": [
  {
   "cell_type": "code",
   "execution_count": 1,
   "metadata": {
    "collapsed": true,
    "ExecuteTime": {
     "end_time": "2023-05-17T17:08:15.821913Z",
     "start_time": "2023-05-17T17:08:13.904490Z"
    }
   },
   "outputs": [],
   "source": [
    "from nltk.corpus import framenet as fn\n",
    "from nltk.corpus import wordnet as wn\n",
    "from disambiguazione import mapping\n",
    "from utilsTre import print_lus, getFrameSetForStudent"
   ]
  },
  {
   "cell_type": "code",
   "execution_count": 2,
   "outputs": [
    {
     "name": "stdout",
     "output_type": "stream",
     "text": [
      "\n",
      "student: Giulia Frumento\n",
      "\tID: 1010\tframe: Partitive\n",
      "\tID:  966\tframe: Speed_description\n",
      "\tID: 2285\tframe: Mining\n",
      "\tID:  411\tframe: Receiving\n",
      "\tID:  121\tframe: Bail_decision\n"
     ]
    }
   ],
   "source": [
    "list_id = getFrameSetForStudent('Giulia Frumento')"
   ],
   "metadata": {
    "collapsed": false,
    "ExecuteTime": {
     "end_time": "2023-05-17T17:08:24.225098Z",
     "start_time": "2023-05-17T17:08:15.826215Z"
    }
   }
  },
  {
   "cell_type": "code",
   "execution_count": 3,
   "outputs": [
    {
     "name": "stdout",
     "output_type": "stream",
     "text": [
      "\n",
      "____ LUs frame Partitive  ____\n",
      "of.prep\n",
      "out of.prep\n",
      "\n",
      "____ LUs frame Speed_description  ____\n",
      "fast.a\n",
      "quick.a\n",
      "speedy.a\n",
      "speed.n\n",
      "breakneck.a\n",
      "rate.n\n",
      "pace.n\n",
      "rapidly.adv\n",
      "speedily.adv\n",
      "smart.a\n",
      "rapid.a\n",
      "\n",
      "____ LUs frame Mining  ____\n",
      "mine.v\n",
      "miner.n\n",
      "extract.v\n",
      "\n",
      "____ LUs frame Receiving  ____\n",
      "receive.v\n",
      "accept.v\n",
      "receipt.n\n",
      "\n",
      "____ LUs frame Bail_decision  ____\n",
      "set.v\n",
      "fix.v\n",
      "order.v\n",
      "bail.n\n",
      "bond.n\n"
     ]
    }
   ],
   "source": [
    "print_lus(list_id)"
   ],
   "metadata": {
    "collapsed": false,
    "ExecuteTime": {
     "end_time": "2023-05-17T17:08:24.239256Z",
     "start_time": "2023-05-17T17:08:24.229823Z"
    }
   }
  },
  {
   "cell_type": "code",
   "execution_count": 6,
   "outputs": [
    {
     "name": "stdout",
     "output_type": "stream",
     "text": [
      "\n",
      "____ Frame Name disambiguato ____\n",
      "Synset('speed.n.01')   4\n",
      "\n",
      "____ FE disambiguati ____\n",
      "Entity   Synset('entity.n.01')   1\n",
      "Attribute   Synset('property.n.04')   2\n",
      "Speed   Synset('speed.n.01')   4\n",
      "Degree   Synset('degree.n.02')   3\n",
      "Time   Synset('time.n.02')   5\n",
      "Circumstances   Synset('fortune.n.04')   3\n",
      "Explanation   Synset('explanation.n.01')   4\n",
      "\n",
      "____ LU disambiguati ____\n",
      "fast.a   None   0\n",
      "quick.a   None   0\n",
      "speedy.a   None   0\n",
      "speed.n   None   0\n",
      "breakneck.a   None   0\n",
      "rate.n   None   0\n",
      "pace.n   None   0\n",
      "rapidly.adv   None   0\n",
      "speedily.adv   None   0\n",
      "smart.a   None   0\n",
      "rapid.a   None   0\n"
     ]
    }
   ],
   "source": [
    "mapping(fn.frame(966))"
   ],
   "metadata": {
    "collapsed": false,
    "ExecuteTime": {
     "end_time": "2023-05-17T17:09:24.030975Z",
     "start_time": "2023-05-17T17:09:24.006696Z"
    }
   }
  },
  {
   "cell_type": "code",
   "execution_count": 5,
   "outputs": [
    {
     "data": {
      "text/plain": "'bail.n.01'"
     },
     "execution_count": 5,
     "metadata": {},
     "output_type": "execute_result"
    }
   ],
   "source": [
    "wn.synsets('bail')[0].name()"
   ],
   "metadata": {
    "collapsed": false,
    "ExecuteTime": {
     "end_time": "2023-05-17T17:08:26.879112Z",
     "start_time": "2023-05-17T17:08:26.842958Z"
    }
   }
  }
 ],
 "metadata": {
  "kernelspec": {
   "display_name": "Python 3",
   "language": "python",
   "name": "python3"
  },
  "language_info": {
   "codemirror_mode": {
    "name": "ipython",
    "version": 2
   },
   "file_extension": ".py",
   "mimetype": "text/x-python",
   "name": "python",
   "nbconvert_exporter": "python",
   "pygments_lexer": "ipython2",
   "version": "2.7.6"
  }
 },
 "nbformat": 4,
 "nbformat_minor": 0
}
