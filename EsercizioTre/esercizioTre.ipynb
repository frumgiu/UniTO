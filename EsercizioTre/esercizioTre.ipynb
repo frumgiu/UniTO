{
 "cells": [
  {
   "cell_type": "code",
   "execution_count": 1,
   "metadata": {
    "collapsed": true,
    "ExecuteTime": {
     "end_time": "2023-05-19T18:16:55.513145Z",
     "start_time": "2023-05-19T18:16:53.900785Z"
    }
   },
   "outputs": [],
   "source": [
    "from disambiguazione import mapping\n",
    "from utilsTre import getFrameSetForStudent"
   ]
  },
  {
   "cell_type": "code",
   "execution_count": 2,
   "outputs": [
    {
     "name": "stdout",
     "output_type": "stream",
     "text": [
      "\n",
      "student: Giulia Frumento\n",
      "\tID: 1010\tframe: Partitive\n",
      "\tID:  966\tframe: Speed_description\n",
      "\tID: 2285\tframe: Mining\n",
      "\tID:  411\tframe: Receiving\n",
      "\tID:  121\tframe: Bail_decision\n"
     ]
    },
    {
     "data": {
      "text/plain": "0.696969696969697"
     },
     "execution_count": 2,
     "metadata": {},
     "output_type": "execute_result"
    }
   ],
   "source": [
    "getFrameSetForStudent('Giulia Frumento')\n",
    "mapping()"
   ],
   "metadata": {
    "collapsed": false,
    "ExecuteTime": {
     "end_time": "2023-05-19T18:17:05.584826Z",
     "start_time": "2023-05-19T18:16:55.517493Z"
    }
   }
  },
  {
   "cell_type": "markdown",
   "source": [],
   "metadata": {
    "collapsed": false
   }
  }
 ],
 "metadata": {
  "kernelspec": {
   "display_name": "Python 3",
   "language": "python",
   "name": "python3"
  },
  "language_info": {
   "codemirror_mode": {
    "name": "ipython",
    "version": 2
   },
   "file_extension": ".py",
   "mimetype": "text/x-python",
   "name": "python",
   "nbconvert_exporter": "python",
   "pygments_lexer": "ipython2",
   "version": "2.7.6"
  }
 },
 "nbformat": 4,
 "nbformat_minor": 0
}
