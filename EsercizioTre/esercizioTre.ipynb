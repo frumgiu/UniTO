{
 "cells": [
  {
   "cell_type": "code",
   "execution_count": 1,
   "metadata": {
    "collapsed": true,
    "ExecuteTime": {
     "end_time": "2023-05-17T18:37:50.943001Z",
     "start_time": "2023-05-17T18:37:49.552475Z"
    }
   },
   "outputs": [],
   "source": [
    "from nltk.corpus import framenet as fn\n",
    "from nltk.corpus import wordnet as wn\n",
    "from disambiguazione import mapping\n",
    "from utilsTre import getFrameSetForStudent"
   ]
  },
  {
   "cell_type": "code",
   "execution_count": 2,
   "outputs": [
    {
     "name": "stdout",
     "output_type": "stream",
     "text": [
      "\n",
      "student: Giulia Frumento\n",
      "\tID: 1010\tframe: Partitive\n",
      "\tID:  966\tframe: Speed_description\n",
      "\tID: 2285\tframe: Mining\n",
      "\tID:  411\tframe: Receiving\n",
      "\tID:  121\tframe: Bail_decision\n"
     ]
    }
   ],
   "source": [
    "list_id = getFrameSetForStudent('Giulia Frumento')"
   ],
   "metadata": {
    "collapsed": false,
    "ExecuteTime": {
     "end_time": "2023-05-17T18:37:57.544763Z",
     "start_time": "2023-05-17T18:37:50.948269Z"
    }
   }
  },
  {
   "cell_type": "code",
   "execution_count": 3,
   "outputs": [
    {
     "data": {
      "text/plain": "{'Bail_decision': Synset('bail.n.01'),\n 'Accused': Synset('accuse.v.01'),\n 'Judge': Synset('judge.v.05'),\n 'Status': Synset('status.n.01'),\n 'Time': Synset('time.n.02'),\n 'Place': Synset('place.n.03'),\n 'Manner': Synset('manner.n.01'),\n 'Means': Synset('mean.v.03'),\n 'Purpose': Synset('determination.n.02'),\n 'set.v': Synset('set.v.04'),\n 'fix.v': Synset('fix.v.06'),\n 'order.v': Synset('order.v.01'),\n 'bail.n': Synset('bail.n.01'),\n 'bond.n': Synset('bond.n.02')}"
     },
     "execution_count": 3,
     "metadata": {},
     "output_type": "execute_result"
    }
   ],
   "source": [
    "mapping(fn.frame(121))"
   ],
   "metadata": {
    "collapsed": false,
    "ExecuteTime": {
     "end_time": "2023-05-17T18:38:00.369336Z",
     "start_time": "2023-05-17T18:37:57.549618Z"
    }
   }
  }
 ],
 "metadata": {
  "kernelspec": {
   "display_name": "Python 3",
   "language": "python",
   "name": "python3"
  },
  "language_info": {
   "codemirror_mode": {
    "name": "ipython",
    "version": 2
   },
   "file_extension": ".py",
   "mimetype": "text/x-python",
   "name": "python",
   "nbconvert_exporter": "python",
   "pygments_lexer": "ipython2",
   "version": "2.7.6"
  }
 },
 "nbformat": 4,
 "nbformat_minor": 0
}
