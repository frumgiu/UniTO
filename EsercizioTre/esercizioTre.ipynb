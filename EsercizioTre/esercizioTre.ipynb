{
 "cells": [
  {
   "cell_type": "code",
   "execution_count": 1,
   "metadata": {
    "collapsed": true,
    "ExecuteTime": {
     "end_time": "2023-05-16T20:21:07.947686Z",
     "start_time": "2023-05-16T20:21:06.252476Z"
    }
   },
   "outputs": [],
   "source": [
    "from nltk.corpus import framenet as fn\n",
    "from disambiguazione import mapping\n",
    "from utilsTre import print_fe, print_lus, getFrameSetForStudent"
   ]
  },
  {
   "cell_type": "code",
   "execution_count": 2,
   "outputs": [
    {
     "name": "stdout",
     "output_type": "stream",
     "text": [
      "\n",
      "student: Giulia Frumento\n",
      "\tID: 1010\tframe: Partitive\n",
      "\tID:  966\tframe: Speed_description\n",
      "\tID: 2285\tframe: Mining\n",
      "\tID:  411\tframe: Receiving\n",
      "\tID:  121\tframe: Bail_decision\n"
     ]
    }
   ],
   "source": [
    "list_id = getFrameSetForStudent('Giulia Frumento')"
   ],
   "metadata": {
    "collapsed": false,
    "ExecuteTime": {
     "end_time": "2023-05-16T20:21:15.455070Z",
     "start_time": "2023-05-16T20:21:07.952318Z"
    }
   }
  },
  {
   "cell_type": "code",
   "execution_count": 3,
   "outputs": [
    {
     "name": "stdout",
     "output_type": "stream",
     "text": [
      "\n",
      "____ FEs frame Partitive  ____\n",
      "\tFE: Subset\n",
      "\tFE: Group\n",
      "\n",
      "____ FEs frame Speed_description  ____\n",
      "\tFE: Entity\n",
      "\tFE: Attribute\n",
      "\tFE: Speed\n",
      "\tFE: Degree\n",
      "\tFE: Time\n",
      "\tFE: Circumstances\n",
      "\tFE: Explanation\n",
      "\n",
      "____ FEs frame Mining  ____\n",
      "\tFE: Miner\n",
      "\tFE: Resource\n",
      "\tFE: Place\n",
      "\tFE: Means\n",
      "\tFE: Outcome\n",
      "\tFE: Time\n",
      "\n",
      "____ FEs frame Receiving  ____\n",
      "\tFE: Recipient\n",
      "\tFE: Donor\n",
      "\tFE: Theme\n",
      "\tFE: Purpose_of_donor\n",
      "\tFE: Means\n",
      "\tFE: Time\n",
      "\tFE: Place\n",
      "\tFE: Mode_of_transfer\n",
      "\tFE: Depictive\n",
      "\tFE: Manner\n",
      "\tFE: Countertransfer\n",
      "\tFE: Path\n",
      "\tFE: Purpose_of_theme\n",
      "\tFE: Role\n",
      "\n",
      "____ FEs frame Bail_decision  ____\n",
      "\tFE: Accused\n",
      "\tFE: Judge\n",
      "\tFE: Status\n",
      "\tFE: Time\n",
      "\tFE: Place\n",
      "\tFE: Manner\n",
      "\tFE: Means\n",
      "\tFE: Purpose\n"
     ]
    }
   ],
   "source": [
    "print_fe(list_id)"
   ],
   "metadata": {
    "collapsed": false,
    "ExecuteTime": {
     "end_time": "2023-05-16T20:21:15.463287Z",
     "start_time": "2023-05-16T20:21:15.458962Z"
    }
   }
  },
  {
   "cell_type": "code",
   "execution_count": 4,
   "outputs": [
    {
     "name": "stdout",
     "output_type": "stream",
     "text": [
      "\n",
      "____ LUs frame Partitive  ____\n",
      "of.prep\n",
      "out of.prep\n",
      "\n",
      "____ LUs frame Speed_description  ____\n",
      "fast.a\n",
      "quick.a\n",
      "speedy.a\n",
      "speed.n\n",
      "breakneck.a\n",
      "rate.n\n",
      "pace.n\n",
      "rapidly.adv\n",
      "speedily.adv\n",
      "smart.a\n",
      "rapid.a\n",
      "\n",
      "____ LUs frame Mining  ____\n",
      "mine.v\n",
      "miner.n\n",
      "extract.v\n",
      "\n",
      "____ LUs frame Receiving  ____\n",
      "receive.v\n",
      "accept.v\n",
      "receipt.n\n",
      "\n",
      "____ LUs frame Bail_decision  ____\n",
      "set.v\n",
      "fix.v\n",
      "order.v\n",
      "bail.n\n",
      "bond.n\n"
     ]
    }
   ],
   "source": [
    "print_lus(list_id)"
   ],
   "metadata": {
    "collapsed": false,
    "ExecuteTime": {
     "end_time": "2023-05-16T20:21:15.472102Z",
     "start_time": "2023-05-16T20:21:15.467137Z"
    }
   }
  },
  {
   "cell_type": "code",
   "execution_count": 5,
   "outputs": [
    {
     "name": "stdout",
     "output_type": "stream",
     "text": [
      "\n",
      "____ Frame disambiguato ____\n",
      "Synset('speed.n.01')   4\n",
      "\n",
      "____ FE disambiguati ____\n",
      "Entity   Synset('entity.n.01')   1\n",
      "Attribute   Synset('property.n.04')   2\n",
      "Speed   Synset('speed.n.01')   4\n",
      "Degree   Synset('degree.n.02')   3\n",
      "Time   Synset('time.n.02')   5\n",
      "Circumstances   Synset('fortune.n.04')   3\n",
      "Explanation   Synset('explanation.n.01')   4\n"
     ]
    }
   ],
   "source": [
    "mapping(fn.frame(966))"
   ],
   "metadata": {
    "collapsed": false,
    "ExecuteTime": {
     "end_time": "2023-05-16T20:21:17.444620Z",
     "start_time": "2023-05-16T20:21:15.478405Z"
    }
   }
  }
 ],
 "metadata": {
  "kernelspec": {
   "display_name": "Python 3",
   "language": "python",
   "name": "python3"
  },
  "language_info": {
   "codemirror_mode": {
    "name": "ipython",
    "version": 2
   },
   "file_extension": ".py",
   "mimetype": "text/x-python",
   "name": "python",
   "nbconvert_exporter": "python",
   "pygments_lexer": "ipython2",
   "version": "2.7.6"
  }
 },
 "nbformat": 4,
 "nbformat_minor": 0
}
