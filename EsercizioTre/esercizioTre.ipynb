{
 "cells": [
  {
   "cell_type": "code",
   "execution_count": 1,
   "metadata": {
    "collapsed": true,
    "ExecuteTime": {
     "end_time": "2023-05-16T19:10:01.273867Z",
     "start_time": "2023-05-16T19:09:59.408911Z"
    }
   },
   "outputs": [],
   "source": [
    "from nltk.corpus import framenet as fn\n",
    "from disambiguazione import mapping_framename"
   ]
  },
  {
   "cell_type": "code",
   "execution_count": 2,
   "outputs": [
    {
     "name": "stdout",
     "output_type": "stream",
     "text": [
      "\n",
      "student: Giulia Frumento\n",
      "\tID: 1010\tframe: Partitive\n",
      "\tID:  966\tframe: Speed_description\n",
      "\tID: 2285\tframe: Mining\n",
      "\tID:  411\tframe: Receiving\n",
      "\tID:  121\tframe: Bail_decision\n"
     ]
    }
   ],
   "source": [
    "import hashlib\n",
    "from random import randint\n",
    "from random import seed\n",
    "\n",
    "def get_frams_IDs():\n",
    "    return [f.ID for f in fn.frames()]\n",
    "\n",
    "def getFrameSetForStudent(surname, list_len=5):\n",
    "    list_frame_id = []\n",
    "    nof_frames = len(fn.frames())\n",
    "    base_idx = (abs(int(hashlib.sha512(surname.encode('utf-8')).hexdigest(), 16)) % nof_frames)\n",
    "    print('\\nstudent: ' + surname)\n",
    "    framenet_IDs = get_frams_IDs()\n",
    "    i = 0\n",
    "    offset = 0\n",
    "    seed(1)\n",
    "    while i < list_len:\n",
    "        fID = framenet_IDs[(base_idx+offset)%nof_frames]\n",
    "        f = fn.frame(fID)\n",
    "        fNAME = f.name\n",
    "        print('\\tID: {a:4d}\\tframe: {framename}'.format(a=fID, framename=fNAME))\n",
    "        offset = randint(0, nof_frames)\n",
    "        i += 1\n",
    "        list_frame_id.append(f)\n",
    "    return list_frame_id\n",
    "\n",
    "list_id = getFrameSetForStudent('Giulia Frumento')"
   ],
   "metadata": {
    "collapsed": false,
    "ExecuteTime": {
     "end_time": "2023-05-16T19:10:09.904571Z",
     "start_time": "2023-05-16T19:10:01.287116Z"
    }
   }
  },
  {
   "cell_type": "code",
   "execution_count": 3,
   "outputs": [
    {
     "name": "stdout",
     "output_type": "stream",
     "text": [
      "\n",
      "____ FEs frame Partitive  ____\n",
      "\tFE: Subset\n",
      "\tFE: Group\n",
      "\n",
      "____ FEs frame Speed_description  ____\n",
      "\tFE: Entity\n",
      "\tFE: Attribute\n",
      "\tFE: Speed\n",
      "\tFE: Degree\n",
      "\tFE: Time\n",
      "\tFE: Circumstances\n",
      "\tFE: Explanation\n",
      "\n",
      "____ FEs frame Mining  ____\n",
      "\tFE: Miner\n",
      "\tFE: Resource\n",
      "\tFE: Place\n",
      "\tFE: Means\n",
      "\tFE: Outcome\n",
      "\tFE: Time\n",
      "\n",
      "____ FEs frame Receiving  ____\n",
      "\tFE: Recipient\n",
      "\tFE: Donor\n",
      "\tFE: Theme\n",
      "\tFE: Purpose_of_donor\n",
      "\tFE: Means\n",
      "\tFE: Time\n",
      "\tFE: Place\n",
      "\tFE: Mode_of_transfer\n",
      "\tFE: Depictive\n",
      "\tFE: Manner\n",
      "\tFE: Countertransfer\n",
      "\tFE: Path\n",
      "\tFE: Purpose_of_theme\n",
      "\tFE: Role\n",
      "\n",
      "____ FEs frame Bail_decision  ____\n",
      "\tFE: Accused\n",
      "\tFE: Judge\n",
      "\tFE: Status\n",
      "\tFE: Time\n",
      "\tFE: Place\n",
      "\tFE: Manner\n",
      "\tFE: Means\n",
      "\tFE: Purpose\n"
     ]
    }
   ],
   "source": [
    "for f in list_id:\n",
    "    key = f.FE.keys()\n",
    "    print('\\n____ FEs frame', f.name ,' ____')\n",
    "    FEs = f.FE.keys()\n",
    "    for fe in FEs:\n",
    "        fed = f.FE[fe]\n",
    "        print('\\tFE: {}'.format(fe))"
   ],
   "metadata": {
    "collapsed": false,
    "ExecuteTime": {
     "end_time": "2023-05-16T19:10:09.921092Z",
     "start_time": "2023-05-16T19:10:09.912944Z"
    }
   }
  },
  {
   "cell_type": "code",
   "execution_count": 4,
   "outputs": [
    {
     "name": "stdout",
     "output_type": "stream",
     "text": [
      "\n",
      "____ LUs frame Partitive  ____\n",
      "of.prep\n",
      "out of.prep\n",
      "\n",
      "____ LUs frame Speed_description  ____\n",
      "fast.a\n",
      "quick.a\n",
      "speedy.a\n",
      "speed.n\n",
      "breakneck.a\n",
      "rate.n\n",
      "pace.n\n",
      "rapidly.adv\n",
      "speedily.adv\n",
      "smart.a\n",
      "rapid.a\n",
      "\n",
      "____ LUs frame Mining  ____\n",
      "mine.v\n",
      "miner.n\n",
      "extract.v\n",
      "\n",
      "____ LUs frame Receiving  ____\n",
      "receive.v\n",
      "accept.v\n",
      "receipt.n\n",
      "\n",
      "____ LUs frame Bail_decision  ____\n",
      "set.v\n",
      "fix.v\n",
      "order.v\n",
      "bail.n\n",
      "bond.n\n"
     ]
    }
   ],
   "source": [
    "for f in list_id:\n",
    "    print('\\n____ LUs frame', f.name ,' ____')\n",
    "    LUs = f.lexUnit.keys()\n",
    "    for lu in LUs:\n",
    "        print(lu)"
   ],
   "metadata": {
    "collapsed": false,
    "ExecuteTime": {
     "end_time": "2023-05-16T19:10:09.965472Z",
     "start_time": "2023-05-16T19:10:09.926393Z"
    }
   }
  },
  {
   "cell_type": "code",
   "execution_count": 7,
   "outputs": [
    {
     "data": {
      "text/plain": "(Synset('partitive.n.01'), 1)"
     },
     "execution_count": 7,
     "metadata": {},
     "output_type": "execute_result"
    }
   ],
   "source": [
    "mapping_framename(fn.frame(1010))"
   ],
   "metadata": {
    "collapsed": false,
    "ExecuteTime": {
     "end_time": "2023-05-16T19:14:40.201013Z",
     "start_time": "2023-05-16T19:14:40.186933Z"
    }
   }
  }
 ],
 "metadata": {
  "kernelspec": {
   "display_name": "Python 3",
   "language": "python",
   "name": "python3"
  },
  "language_info": {
   "codemirror_mode": {
    "name": "ipython",
    "version": 2
   },
   "file_extension": ".py",
   "mimetype": "text/x-python",
   "name": "python",
   "nbconvert_exporter": "python",
   "pygments_lexer": "ipython2",
   "version": "2.7.6"
  }
 },
 "nbformat": 4,
 "nbformat_minor": 0
}
