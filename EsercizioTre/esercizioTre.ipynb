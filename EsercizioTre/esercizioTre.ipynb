{
 "cells": [
  {
   "cell_type": "code",
   "execution_count": 1,
   "metadata": {
    "collapsed": true,
    "ExecuteTime": {
     "end_time": "2023-05-17T18:02:31.732771Z",
     "start_time": "2023-05-17T18:02:30.148954Z"
    }
   },
   "outputs": [],
   "source": [
    "from nltk.corpus import framenet as fn\n",
    "from nltk.corpus import wordnet as wn\n",
    "from disambiguazione import mapping\n",
    "from utilsTre import print_lus, getFrameSetForStudent"
   ]
  },
  {
   "cell_type": "code",
   "execution_count": 2,
   "outputs": [
    {
     "name": "stdout",
     "output_type": "stream",
     "text": [
      "\n",
      "student: Giulia Frumento\n",
      "\tID: 1010\tframe: Partitive\n",
      "\tID:  966\tframe: Speed_description\n",
      "\tID: 2285\tframe: Mining\n",
      "\tID:  411\tframe: Receiving\n",
      "\tID:  121\tframe: Bail_decision\n"
     ]
    }
   ],
   "source": [
    "list_id = getFrameSetForStudent('Giulia Frumento')"
   ],
   "metadata": {
    "collapsed": false,
    "ExecuteTime": {
     "end_time": "2023-05-17T18:02:38.460898Z",
     "start_time": "2023-05-17T18:02:31.740591Z"
    }
   }
  },
  {
   "cell_type": "code",
   "execution_count": 3,
   "outputs": [],
   "source": [
    "# print_lus(list_id)"
   ],
   "metadata": {
    "collapsed": false,
    "ExecuteTime": {
     "end_time": "2023-05-17T18:02:38.468780Z",
     "start_time": "2023-05-17T18:02:38.462509Z"
    }
   }
  },
  {
   "cell_type": "code",
   "execution_count": 4,
   "outputs": [
    {
     "name": "stdout",
     "output_type": "stream",
     "text": [
      "\n",
      "____ Frame Name disambiguato ____\n",
      "Synset('speed.n.01')   4\n",
      "\n",
      "____ FE disambiguati ____\n",
      "Entity   Synset('entity.n.01')   1\n",
      "Attribute   Synset('attribute.n.02')   2\n",
      "Speed   Synset('speed.n.02')   2\n",
      "Degree   Synset('degree.n.01')   1\n",
      "Time   Synset('time.n.02')   5\n",
      "Circumstances   Synset('fortune.n.04')   3\n",
      "Explanation   Synset('explanation.n.01')   1\n",
      "\n",
      "____ LU disambiguati ____\n",
      "fast.a   Synset('fast.a.01')   4\n",
      "quick.a   None   0\n",
      "speedy.a   None   0\n",
      "speed.n   Synset('speed.n.02')   3\n",
      "breakneck.a   None   0\n",
      "rate.n   Synset('rate.n.01')   1\n",
      "pace.n   Synset('pace.n.03')   4\n",
      "rapidly.adv   None   0\n",
      "speedily.adv   None   0\n",
      "smart.a   Synset('smart.a.01')   1\n",
      "rapid.a   None   0\n"
     ]
    }
   ],
   "source": [
    "mapping(fn.frame(966))"
   ],
   "metadata": {
    "collapsed": false,
    "ExecuteTime": {
     "end_time": "2023-05-17T18:02:40.721334Z",
     "start_time": "2023-05-17T18:02:38.472912Z"
    }
   }
  },
  {
   "cell_type": "code",
   "execution_count": 5,
   "outputs": [],
   "source": [
    "# wn.synsets('bail')[0].name()"
   ],
   "metadata": {
    "collapsed": false,
    "ExecuteTime": {
     "end_time": "2023-05-17T18:02:40.730621Z",
     "start_time": "2023-05-17T18:02:40.722068Z"
    }
   }
  }
 ],
 "metadata": {
  "kernelspec": {
   "display_name": "Python 3",
   "language": "python",
   "name": "python3"
  },
  "language_info": {
   "codemirror_mode": {
    "name": "ipython",
    "version": 2
   },
   "file_extension": ".py",
   "mimetype": "text/x-python",
   "name": "python",
   "nbconvert_exporter": "python",
   "pygments_lexer": "ipython2",
   "version": "2.7.6"
  }
 },
 "nbformat": 4,
 "nbformat_minor": 0
}
