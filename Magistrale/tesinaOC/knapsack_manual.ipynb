{
 "cells": [
  {
   "cell_type": "markdown",
   "metadata": {
    "collapsed": false
   },
   "source": [
    "# AQC per il problema dello zaino"
   ]
  },
  {
   "cell_type": "code",
   "execution_count": 1,
   "metadata": {
    "collapsed": false,
    "ExecuteTime": {
     "end_time": "2024-02-28T15:35:02.774826Z",
     "start_time": "2024-02-28T15:34:59.080670Z"
    }
   },
   "outputs": [
    {
     "name": "stderr",
     "output_type": "stream",
     "text": [
      "/Users/giulia/tesinaOC/ocean/lib/python3.9/site-packages/urllib3/__init__.py:35: NotOpenSSLWarning: urllib3 v2 only supports OpenSSL 1.1.1+, currently the 'ssl' module is compiled with 'LibreSSL 2.8.3'. See: https://github.com/urllib3/urllib3/issues/3020\n",
      "  warnings.warn(\n"
     ]
    }
   ],
   "source": [
    "import math\n",
    "import pandas as pd\n",
    "import dimod\n",
    "import sympy as sp\n",
    "from sympy.abc import m, M, c, lamda\n",
    "import dwave.system as dw"
   ]
  },
  {
   "cell_type": "markdown",
   "metadata": {
    "collapsed": false
   },
   "source": [
    "### Caricamento dati\n",
    "Lettura di un dataset dalla cartella *data*. Per motivi di tempi di esecuzioni e capacità delle macchine i test sono stati fatti sui dataset più piccoli, come *small* e *very_small*.\n",
    "Si stampa il dataset, composto dalla colonna dei **profitti** e la colonna dei **pesi**."
   ]
  },
  {
   "cell_type": "code",
   "execution_count": 2,
   "metadata": {
    "collapsed": false,
    "ExecuteTime": {
     "end_time": "2024-02-28T15:35:02.785478Z",
     "start_time": "2024-02-28T15:35:02.776220Z"
    }
   },
   "outputs": [
    {
     "data": {
      "text/plain": "   p  w\n1  3  1\n2  4  3\n3  2  2",
      "text/html": "<div>\n<style scoped>\n    .dataframe tbody tr th:only-of-type {\n        vertical-align: middle;\n    }\n\n    .dataframe tbody tr th {\n        vertical-align: top;\n    }\n\n    .dataframe thead th {\n        text-align: right;\n    }\n</style>\n<table border=\"1\" class=\"dataframe\">\n  <thead>\n    <tr style=\"text-align: right;\">\n      <th></th>\n      <th>p</th>\n      <th>w</th>\n    </tr>\n  </thead>\n  <tbody>\n    <tr>\n      <th>1</th>\n      <td>3</td>\n      <td>1</td>\n    </tr>\n    <tr>\n      <th>2</th>\n      <td>4</td>\n      <td>3</td>\n    </tr>\n    <tr>\n      <th>3</th>\n      <td>2</td>\n      <td>2</td>\n    </tr>\n  </tbody>\n</table>\n</div>"
     },
     "execution_count": 2,
     "metadata": {},
     "output_type": "execute_result"
    }
   ],
   "source": [
    "data = pd.read_csv('data/very_small.csv', names=['p', 'w'])\n",
    "data.index = range(1, len(data) + 1)\n",
    "\n",
    "data"
   ]
  },
  {
   "cell_type": "markdown",
   "metadata": {
    "collapsed": false
   },
   "source": [
    "Si setta la capacità dello zaino manualmente per motivi di praticità: era difficile inserirla nel dataset in formato csv"
   ]
  },
  {
   "cell_type": "code",
   "execution_count": 3,
   "metadata": {
    "collapsed": false,
    "ExecuteTime": {
     "end_time": "2024-02-28T15:35:02.788845Z",
     "start_time": "2024-02-28T15:35:02.786384Z"
    }
   },
   "outputs": [
    {
     "name": "stdout",
     "output_type": "stream",
     "text": [
      "c = 4\n"
     ]
    }
   ],
   "source": [
    "num_items = len(data)\n",
    "capacity = int(0.8 * sum(data['w'])) # Fissa capacità dello zaino all'80% della somma dei pesi degli elementi\n",
    "\n",
    "print(f'c = {capacity}')"
   ]
  },
  {
   "cell_type": "markdown",
   "metadata": {
    "collapsed": false
   },
   "source": [
    "### Prima formulazione\n",
    "L'implementazione segue quanto descritto nella tesina.\n",
    "Si introducono delle variabili di slack $y_i$ per rappresentare tutti i possibili valori di riempimento dello zaino.\n",
    "Si è usata la libreria **sympy** per scrivere le formule ed effettuare in modo meccanico i calcoli, sotto seguono dei procedimenti per definire variabili e indici per la scrittura della formula."
   ]
  },
  {
   "cell_type": "code",
   "execution_count": 4,
   "metadata": {
    "collapsed": false,
    "ExecuteTime": {
     "end_time": "2024-02-28T15:35:02.793868Z",
     "start_time": "2024-02-28T15:35:02.790217Z"
    }
   },
   "outputs": [],
   "source": [
    "j = sp.Idx('j')         # Indici per le sommatorie\n",
    "n = sp.Idx('n')\n",
    "X = sp.IndexedBase('x') # Vettori variabili oggetti\n",
    "P = sp.IndexedBase('p') # Vettori variabili profitto\n",
    "W = sp.IndexedBase('w') # Vettori variabili pesi\n",
    "Y = sp.IndexedBase('y') # Vettori variabili di slack\n",
    "\n",
    "syms = [X[k] for k in range(1, num_items + 1)] + [Y[k] for k in range(1, capacity + 1)]"
   ]
  },
  {
   "cell_type": "code",
   "execution_count": 5,
   "metadata": {
    "collapsed": false,
    "ExecuteTime": {
     "end_time": "2024-02-28T15:35:02.829748Z",
     "start_time": "2024-02-28T15:35:02.794671Z"
    }
   },
   "outputs": [
    {
     "data": {
      "text/plain": "lamda*((1 - Sum(y[n], (n, 1, c)))**2 + (Sum(n*y[n], (n, 1, c)) - Sum(w[j]*x[j], (j, 1, m)))**2) - Sum(p[j]*x[j], (j, 1, m))",
      "text/latex": "$\\displaystyle \\lambda \\left(\\left(1 - \\sum_{n=1}^{c} {y}_{n}\\right)^{2} + \\left(\\sum_{n=1}^{c} n {y}_{n} - \\sum_{j=1}^{m} {w}_{j} {x}_{j}\\right)^{2}\\right) - \\sum_{j=1}^{m} {p}_{j} {x}_{j}$"
     },
     "execution_count": 5,
     "metadata": {},
     "output_type": "execute_result"
    }
   ],
   "source": [
    "first_f = -sp.Sum(P[j] * X[j], (j, 1, m)) + \\\n",
    "          lamda * ((1 - sp.Sum(Y[n], (n, 1, c)))**2 +\n",
    "                   (sp.Sum(n * Y[n], (n, 1, c)) - sp.Sum(W[j] * X[j], (j, 1, m)))**2)\n",
    "first_f"
   ]
  },
  {
   "cell_type": "markdown",
   "metadata": {
    "collapsed": false
   },
   "source": [
    "Una volta definita la formula vengono fatte le sostituzioni con i valori effettivi. Il $.doit()$ serve per svolgere alcune sostituzioni e passaggi prima di procedere con il resto, serve per motivi di ottimizzazione delle prestazioni: far fare tutte le sostituzioni insieme può portare a problemi."
   ]
  },
  {
   "cell_type": "markdown",
   "metadata": {
    "collapsed": false
   },
   "source": []
  },
  {
   "cell_type": "code",
   "execution_count": 6,
   "metadata": {
    "collapsed": false,
    "ExecuteTime": {
     "end_time": "2024-02-28T15:35:02.859151Z",
     "start_time": "2024-02-28T15:35:02.830445Z"
    }
   },
   "outputs": [
    {
     "data": {
      "text/plain": "5*(-y[1] - y[2] - y[3] - y[4] + 1)**2 + 5*(-x[1] - 3*x[2] - 2*x[3] + y[1] + 2*y[2] + 3*y[3] + 4*y[4])**2 - 3*x[1] - 4*x[2] - 2*x[3]",
      "text/latex": "$\\displaystyle 5 \\left(- {y}_{1} - {y}_{2} - {y}_{3} - {y}_{4} + 1\\right)^{2} + 5 \\left(- {x}_{1} - 3 {x}_{2} - 2 {x}_{3} + {y}_{1} + 2 {y}_{2} + 3 {y}_{3} + 4 {y}_{4}\\right)^{2} - 3 {x}_{1} - 4 {x}_{2} - 2 {x}_{3}$"
     },
     "execution_count": 6,
     "metadata": {},
     "output_type": "execute_result"
    }
   ],
   "source": [
    "first_f = first_f.subs([(m, num_items), (c, capacity)]).doit() \\\n",
    "                 .subs([(P[i], data['p'][i]) for i in range(1, num_items + 1)]) \\\n",
    "                 .subs([(W[i], data['w'][i]) for i in range(1, num_items + 1)]) \\\n",
    "                 .subs(lamda, 1 + data['p'].max())\n",
    "first_f"
   ]
  },
  {
   "cell_type": "markdown",
   "metadata": {
    "collapsed": false
   },
   "source": [
    "Si espande la funzione. Dal momento che siamo in un dominio binario si possono sostituire tutte le $x^n$ con la loro base $x$"
   ]
  },
  {
   "cell_type": "code",
   "execution_count": 7,
   "metadata": {
    "collapsed": false,
    "ExecuteTime": {
     "end_time": "2024-02-28T15:35:02.887936Z",
     "start_time": "2024-02-28T15:35:02.860889Z"
    }
   },
   "outputs": [
    {
     "data": {
      "text/plain": "30*x[1]*x[2] + 20*x[1]*x[3] - 10*x[1]*y[1] - 20*x[1]*y[2] - 30*x[1]*y[3] - 40*x[1]*y[4] + 2*x[1] + 60*x[2]*x[3] - 30*x[2]*y[1] - 60*x[2]*y[2] - 90*x[2]*y[3] - 120*x[2]*y[4] + 41*x[2] - 20*x[3]*y[1] - 40*x[3]*y[2] - 60*x[3]*y[3] - 80*x[3]*y[4] + 18*x[3] + 30*y[1]*y[2] + 40*y[1]*y[3] + 50*y[1]*y[4] + 70*y[2]*y[3] + 90*y[2]*y[4] + 15*y[2] + 130*y[3]*y[4] + 40*y[3] + 75*y[4] + 5",
      "text/latex": "$\\displaystyle 30 {x}_{1} {x}_{2} + 20 {x}_{1} {x}_{3} - 10 {x}_{1} {y}_{1} - 20 {x}_{1} {y}_{2} - 30 {x}_{1} {y}_{3} - 40 {x}_{1} {y}_{4} + 2 {x}_{1} + 60 {x}_{2} {x}_{3} - 30 {x}_{2} {y}_{1} - 60 {x}_{2} {y}_{2} - 90 {x}_{2} {y}_{3} - 120 {x}_{2} {y}_{4} + 41 {x}_{2} - 20 {x}_{3} {y}_{1} - 40 {x}_{3} {y}_{2} - 60 {x}_{3} {y}_{3} - 80 {x}_{3} {y}_{4} + 18 {x}_{3} + 30 {y}_{1} {y}_{2} + 40 {y}_{1} {y}_{3} + 50 {y}_{1} {y}_{4} + 70 {y}_{2} {y}_{3} + 90 {y}_{2} {y}_{4} + 15 {y}_{2} + 130 {y}_{3} {y}_{4} + 40 {y}_{3} + 75 {y}_{4} + 5$"
     },
     "execution_count": 7,
     "metadata": {},
     "output_type": "execute_result"
    }
   ],
   "source": [
    "first_f = sp.expand(first_f).replace(lambda x: x.is_Pow, lambda x: x.base); first_f"
   ]
  },
  {
   "cell_type": "code",
   "execution_count": 8,
   "metadata": {
    "collapsed": false,
    "ExecuteTime": {
     "end_time": "2024-02-28T15:35:02.902023Z",
     "start_time": "2024-02-28T15:35:02.888741Z"
    }
   },
   "outputs": [
    {
     "data": {
      "text/plain": "      x[1]  x[2]  x[3]  y[1]  y[2]  y[3]  y[4]\nx[1]     2    30    20   -10   -20   -30   -40\nx[2]     0    41    60   -30   -60   -90  -120\nx[3]     0     0    18   -20   -40   -60   -80\ny[1]     0     0     0     0    30    40    50\ny[2]     0     0     0     0    15    70    90\ny[3]     0     0     0     0     0    40   130\ny[4]     0     0     0     0     0     0    75",
      "text/html": "<div>\n<style scoped>\n    .dataframe tbody tr th:only-of-type {\n        vertical-align: middle;\n    }\n\n    .dataframe tbody tr th {\n        vertical-align: top;\n    }\n\n    .dataframe thead th {\n        text-align: right;\n    }\n</style>\n<table border=\"1\" class=\"dataframe\">\n  <thead>\n    <tr style=\"text-align: right;\">\n      <th></th>\n      <th>x[1]</th>\n      <th>x[2]</th>\n      <th>x[3]</th>\n      <th>y[1]</th>\n      <th>y[2]</th>\n      <th>y[3]</th>\n      <th>y[4]</th>\n    </tr>\n  </thead>\n  <tbody>\n    <tr>\n      <th>x[1]</th>\n      <td>2</td>\n      <td>30</td>\n      <td>20</td>\n      <td>-10</td>\n      <td>-20</td>\n      <td>-30</td>\n      <td>-40</td>\n    </tr>\n    <tr>\n      <th>x[2]</th>\n      <td>0</td>\n      <td>41</td>\n      <td>60</td>\n      <td>-30</td>\n      <td>-60</td>\n      <td>-90</td>\n      <td>-120</td>\n    </tr>\n    <tr>\n      <th>x[3]</th>\n      <td>0</td>\n      <td>0</td>\n      <td>18</td>\n      <td>-20</td>\n      <td>-40</td>\n      <td>-60</td>\n      <td>-80</td>\n    </tr>\n    <tr>\n      <th>y[1]</th>\n      <td>0</td>\n      <td>0</td>\n      <td>0</td>\n      <td>0</td>\n      <td>30</td>\n      <td>40</td>\n      <td>50</td>\n    </tr>\n    <tr>\n      <th>y[2]</th>\n      <td>0</td>\n      <td>0</td>\n      <td>0</td>\n      <td>0</td>\n      <td>15</td>\n      <td>70</td>\n      <td>90</td>\n    </tr>\n    <tr>\n      <th>y[3]</th>\n      <td>0</td>\n      <td>0</td>\n      <td>0</td>\n      <td>0</td>\n      <td>0</td>\n      <td>40</td>\n      <td>130</td>\n    </tr>\n    <tr>\n      <th>y[4]</th>\n      <td>0</td>\n      <td>0</td>\n      <td>0</td>\n      <td>0</td>\n      <td>0</td>\n      <td>0</td>\n      <td>75</td>\n    </tr>\n  </tbody>\n</table>\n</div>"
     },
     "execution_count": 8,
     "metadata": {},
     "output_type": "execute_result"
    }
   ],
   "source": [
    "first_Q = pd.DataFrame(0, index=syms, columns=syms)\n",
    "\n",
    "first_p = sp.Poly(first_f)  # Viene interpretato come un polinomio\n",
    "\n",
    "for sym1 in syms:\n",
    "    for sym2 in syms[syms.index(sym1):]:\n",
    "        first_Q.loc[sym1, sym2] = int(first_p.coeff_monomial(sym1 if sym1 == sym2 else sym1*sym2))\n",
    "\n",
    "first_Q"
   ]
  },
  {
   "cell_type": "markdown",
   "metadata": {
    "collapsed": false
   },
   "source": [
    "### Approccio brute force\n",
    "Viene eseguito un metodo di **brute force** nel quale vengono calcolate tutte le soluzioni possibili, che sono poi ordinate in senso non decrescente di valore energetico.\n",
    "Per dataset grossi questo approccio non funziona, in quanto eccede i limiti di memoria utilizzabili.\n",
    "È stato usato per verificare che il modello fosse corretto."
   ]
  },
  {
   "cell_type": "code",
   "execution_count": 9,
   "metadata": {
    "collapsed": false,
    "ExecuteTime": {
     "end_time": "2024-02-28T15:35:02.911398Z",
     "start_time": "2024-02-28T15:35:02.903159Z"
    }
   },
   "outputs": [
    {
     "data": {
      "text/plain": "     0  1  2  3  4  5  6  energy  num_occurrences\n125  1  1  0  0  0  0  1   -12.0                1\n57   1  0  1  0  0  1  0   -10.0                1\n101  1  1  1  0  1  0  1    -9.0                1\n60   0  1  0  0  0  1  0    -9.0                1\n14   1  0  0  1  0  0  0    -8.0                1\n..  .. .. .. .. .. .. ..     ...              ...\n79   0  0  0  1  0  1  1   335.0                1\n87   0  0  1  1  1  1  1   358.0                1\n95   0  0  0  0  1  1  1   420.0                1\n81   1  0  0  1  1  1  1   442.0                1\n80   0  0  0  1  1  1  1   540.0                1\n\n[128 rows x 9 columns]",
      "text/html": "<div>\n<style scoped>\n    .dataframe tbody tr th:only-of-type {\n        vertical-align: middle;\n    }\n\n    .dataframe tbody tr th {\n        vertical-align: top;\n    }\n\n    .dataframe thead th {\n        text-align: right;\n    }\n</style>\n<table border=\"1\" class=\"dataframe\">\n  <thead>\n    <tr style=\"text-align: right;\">\n      <th></th>\n      <th>0</th>\n      <th>1</th>\n      <th>2</th>\n      <th>3</th>\n      <th>4</th>\n      <th>5</th>\n      <th>6</th>\n      <th>energy</th>\n      <th>num_occurrences</th>\n    </tr>\n  </thead>\n  <tbody>\n    <tr>\n      <th>125</th>\n      <td>1</td>\n      <td>1</td>\n      <td>0</td>\n      <td>0</td>\n      <td>0</td>\n      <td>0</td>\n      <td>1</td>\n      <td>-12.0</td>\n      <td>1</td>\n    </tr>\n    <tr>\n      <th>57</th>\n      <td>1</td>\n      <td>0</td>\n      <td>1</td>\n      <td>0</td>\n      <td>0</td>\n      <td>1</td>\n      <td>0</td>\n      <td>-10.0</td>\n      <td>1</td>\n    </tr>\n    <tr>\n      <th>101</th>\n      <td>1</td>\n      <td>1</td>\n      <td>1</td>\n      <td>0</td>\n      <td>1</td>\n      <td>0</td>\n      <td>1</td>\n      <td>-9.0</td>\n      <td>1</td>\n    </tr>\n    <tr>\n      <th>60</th>\n      <td>0</td>\n      <td>1</td>\n      <td>0</td>\n      <td>0</td>\n      <td>0</td>\n      <td>1</td>\n      <td>0</td>\n      <td>-9.0</td>\n      <td>1</td>\n    </tr>\n    <tr>\n      <th>14</th>\n      <td>1</td>\n      <td>0</td>\n      <td>0</td>\n      <td>1</td>\n      <td>0</td>\n      <td>0</td>\n      <td>0</td>\n      <td>-8.0</td>\n      <td>1</td>\n    </tr>\n    <tr>\n      <th>...</th>\n      <td>...</td>\n      <td>...</td>\n      <td>...</td>\n      <td>...</td>\n      <td>...</td>\n      <td>...</td>\n      <td>...</td>\n      <td>...</td>\n      <td>...</td>\n    </tr>\n    <tr>\n      <th>79</th>\n      <td>0</td>\n      <td>0</td>\n      <td>0</td>\n      <td>1</td>\n      <td>0</td>\n      <td>1</td>\n      <td>1</td>\n      <td>335.0</td>\n      <td>1</td>\n    </tr>\n    <tr>\n      <th>87</th>\n      <td>0</td>\n      <td>0</td>\n      <td>1</td>\n      <td>1</td>\n      <td>1</td>\n      <td>1</td>\n      <td>1</td>\n      <td>358.0</td>\n      <td>1</td>\n    </tr>\n    <tr>\n      <th>95</th>\n      <td>0</td>\n      <td>0</td>\n      <td>0</td>\n      <td>0</td>\n      <td>1</td>\n      <td>1</td>\n      <td>1</td>\n      <td>420.0</td>\n      <td>1</td>\n    </tr>\n    <tr>\n      <th>81</th>\n      <td>1</td>\n      <td>0</td>\n      <td>0</td>\n      <td>1</td>\n      <td>1</td>\n      <td>1</td>\n      <td>1</td>\n      <td>442.0</td>\n      <td>1</td>\n    </tr>\n    <tr>\n      <th>80</th>\n      <td>0</td>\n      <td>0</td>\n      <td>0</td>\n      <td>1</td>\n      <td>1</td>\n      <td>1</td>\n      <td>1</td>\n      <td>540.0</td>\n      <td>1</td>\n    </tr>\n  </tbody>\n</table>\n<p>128 rows × 9 columns</p>\n</div>"
     },
     "execution_count": 9,
     "metadata": {},
     "output_type": "execute_result"
    }
   ],
   "source": [
    "dimod.ExactSolver().sample_qubo(first_Q).to_pandas_dataframe().sort_values(by='energy')"
   ]
  },
  {
   "cell_type": "markdown",
   "metadata": {
    "collapsed": false
   },
   "source": [
    "### Approccio Simulated Annealing\n",
    "Viene eseguito un metodo di **simulated annealing** nel quale si approssima il valore di minimo globale della funzione. Al pari di altre euristiche, è un valido metodo per ottenere buone soluzioni in una quantità ragionevole di tempo."
   ]
  },
  {
   "cell_type": "code",
   "execution_count": 10,
   "metadata": {
    "collapsed": false,
    "ExecuteTime": {
     "end_time": "2024-02-28T15:35:03.066214Z",
     "start_time": "2024-02-28T15:35:02.913322Z"
    }
   },
   "outputs": [
    {
     "data": {
      "text/plain": "   0  1  2  3  4  5  6  energy  num_occurrences\n3  1  1  0  0  0  0  1   -12.0                1\n4  0  0  1  0  1  0  0    -7.0                1\n1  0  1  1  1  0  0  1    -6.0                1\n2  0  1  1  0  1  1  0    -6.0                1\n5  0  1  1  1  0  0  1    -6.0                1\n6  0  1  1  0  1  1  0    -6.0                1\n7  0  1  1  1  0  0  1    -6.0                1\n0  1  1  1  0  0  1  1    -4.0                1\n8  0  1  0  0  1  0  0    -4.0                1\n9  1  1  1  0  0  1  1    -4.0                1",
      "text/html": "<div>\n<style scoped>\n    .dataframe tbody tr th:only-of-type {\n        vertical-align: middle;\n    }\n\n    .dataframe tbody tr th {\n        vertical-align: top;\n    }\n\n    .dataframe thead th {\n        text-align: right;\n    }\n</style>\n<table border=\"1\" class=\"dataframe\">\n  <thead>\n    <tr style=\"text-align: right;\">\n      <th></th>\n      <th>0</th>\n      <th>1</th>\n      <th>2</th>\n      <th>3</th>\n      <th>4</th>\n      <th>5</th>\n      <th>6</th>\n      <th>energy</th>\n      <th>num_occurrences</th>\n    </tr>\n  </thead>\n  <tbody>\n    <tr>\n      <th>3</th>\n      <td>1</td>\n      <td>1</td>\n      <td>0</td>\n      <td>0</td>\n      <td>0</td>\n      <td>0</td>\n      <td>1</td>\n      <td>-12.0</td>\n      <td>1</td>\n    </tr>\n    <tr>\n      <th>4</th>\n      <td>0</td>\n      <td>0</td>\n      <td>1</td>\n      <td>0</td>\n      <td>1</td>\n      <td>0</td>\n      <td>0</td>\n      <td>-7.0</td>\n      <td>1</td>\n    </tr>\n    <tr>\n      <th>1</th>\n      <td>0</td>\n      <td>1</td>\n      <td>1</td>\n      <td>1</td>\n      <td>0</td>\n      <td>0</td>\n      <td>1</td>\n      <td>-6.0</td>\n      <td>1</td>\n    </tr>\n    <tr>\n      <th>2</th>\n      <td>0</td>\n      <td>1</td>\n      <td>1</td>\n      <td>0</td>\n      <td>1</td>\n      <td>1</td>\n      <td>0</td>\n      <td>-6.0</td>\n      <td>1</td>\n    </tr>\n    <tr>\n      <th>5</th>\n      <td>0</td>\n      <td>1</td>\n      <td>1</td>\n      <td>1</td>\n      <td>0</td>\n      <td>0</td>\n      <td>1</td>\n      <td>-6.0</td>\n      <td>1</td>\n    </tr>\n    <tr>\n      <th>6</th>\n      <td>0</td>\n      <td>1</td>\n      <td>1</td>\n      <td>0</td>\n      <td>1</td>\n      <td>1</td>\n      <td>0</td>\n      <td>-6.0</td>\n      <td>1</td>\n    </tr>\n    <tr>\n      <th>7</th>\n      <td>0</td>\n      <td>1</td>\n      <td>1</td>\n      <td>1</td>\n      <td>0</td>\n      <td>0</td>\n      <td>1</td>\n      <td>-6.0</td>\n      <td>1</td>\n    </tr>\n    <tr>\n      <th>0</th>\n      <td>1</td>\n      <td>1</td>\n      <td>1</td>\n      <td>0</td>\n      <td>0</td>\n      <td>1</td>\n      <td>1</td>\n      <td>-4.0</td>\n      <td>1</td>\n    </tr>\n    <tr>\n      <th>8</th>\n      <td>0</td>\n      <td>1</td>\n      <td>0</td>\n      <td>0</td>\n      <td>1</td>\n      <td>0</td>\n      <td>0</td>\n      <td>-4.0</td>\n      <td>1</td>\n    </tr>\n    <tr>\n      <th>9</th>\n      <td>1</td>\n      <td>1</td>\n      <td>1</td>\n      <td>0</td>\n      <td>0</td>\n      <td>1</td>\n      <td>1</td>\n      <td>-4.0</td>\n      <td>1</td>\n    </tr>\n  </tbody>\n</table>\n</div>"
     },
     "execution_count": 10,
     "metadata": {},
     "output_type": "execute_result"
    }
   ],
   "source": [
    "dimod.SimulatedAnnealingSampler().sample_qubo(first_Q).to_pandas_dataframe().sort_values(by='energy')"
   ]
  },
  {
   "cell_type": "markdown",
   "metadata": {
    "collapsed": false
   },
   "source": [
    "### Seconda formulazione\n",
    "L'implementazione segue quanto descritto nella tesina.\n",
    "Il numero di variabili è notevolmente ridotto in questo approccio, rendendolo più semplice ed efficiente."
   ]
  },
  {
   "cell_type": "code",
   "execution_count": 11,
   "metadata": {
    "collapsed": false,
    "ExecuteTime": {
     "end_time": "2024-02-28T15:35:03.069999Z",
     "start_time": "2024-02-28T15:35:03.067067Z"
    }
   },
   "outputs": [],
   "source": [
    "i = sp.Idx('i')\n",
    "j = sp.Idx('j')\n",
    "n = sp.Idx('n')\n",
    "X = sp.IndexedBase('x')\n",
    "P = sp.IndexedBase('p')\n",
    "W = sp.IndexedBase('w')\n",
    "Y = sp.IndexedBase('y')\n",
    "\n",
    "syms = [X[k] for k in range(1, num_items + 1)] + [Y[k] for k in range(0, math.floor(math.log(capacity, 2)) + 1)]"
   ]
  },
  {
   "cell_type": "code",
   "execution_count": 12,
   "metadata": {
    "collapsed": false,
    "ExecuteTime": {
     "end_time": "2024-02-28T15:35:03.077960Z",
     "start_time": "2024-02-28T15:35:03.070716Z"
    }
   },
   "outputs": [
    {
     "data": {
      "text/plain": "lamda*((-2**M + c + 1)*y[M] + Sum(2**i*y[i], (i, 0, M - 1)) - Sum(w[j]*x[j], (j, 1, m)))**2 - Sum(p[j]*x[j], (j, 1, m))",
      "text/latex": "$\\displaystyle \\lambda \\left(\\left(- 2^{M} + c + 1\\right) {y}_{M} + \\sum_{i=0}^{M - 1} 2^{i} {y}_{i} - \\sum_{j=1}^{m} {w}_{j} {x}_{j}\\right)^{2} - \\sum_{j=1}^{m} {p}_{j} {x}_{j}$"
     },
     "execution_count": 12,
     "metadata": {},
     "output_type": "execute_result"
    }
   ],
   "source": [
    "second_f = -sp.Sum(P[j] * X[j], (j, 1, m)) + \\\n",
    "           lamda * (((c - (2**M - 1)) * Y[M] + sp.Sum(2**i * Y[i], (i, 0, M - 1)) -\n",
    "                     sp.Sum(W[j] * X[j], (j, 1, m)))**2)\n",
    "second_f"
   ]
  },
  {
   "cell_type": "markdown",
   "source": [
    "Una volta definita la formula vengono fatte le sostituzioni con i valori effettivi. Il $.doit()$ serve per svolgere alcune sostituzioni e passaggi prima di procedere con il resto, serve per motivi di ottimizzazione delle prestazioni: far fare tutte le sostituzioni insieme può portare a problemi."
   ],
   "metadata": {
    "collapsed": false
   }
  },
  {
   "cell_type": "code",
   "execution_count": 13,
   "metadata": {
    "collapsed": false,
    "ExecuteTime": {
     "end_time": "2024-02-28T15:35:03.095315Z",
     "start_time": "2024-02-28T15:35:03.078619Z"
    }
   },
   "outputs": [
    {
     "data": {
      "text/plain": "5*(-x[1] - 3*x[2] - 2*x[3] + y[0] + 2*y[1] + y[2])**2 - 3*x[1] - 4*x[2] - 2*x[3]",
      "text/latex": "$\\displaystyle 5 \\left(- {x}_{1} - 3 {x}_{2} - 2 {x}_{3} + {y}_{0} + 2 {y}_{1} + {y}_{2}\\right)^{2} - 3 {x}_{1} - 4 {x}_{2} - 2 {x}_{3}$"
     },
     "execution_count": 13,
     "metadata": {},
     "output_type": "execute_result"
    }
   ],
   "source": [
    "second_f = second_f.subs([(m, num_items), (c, capacity), (M, math.floor(math.log(capacity, 2)))]).doit() \\\n",
    "                   .subs([(P[i], data['p'][i]) for i in range(1, num_items + 1)]) \\\n",
    "                   .subs([(W[i], data['w'][i]) for i in range(1, num_items + 1)]) \\\n",
    "                   .subs(lamda, 1 + data['p'].max())\n",
    "\n",
    "second_f"
   ]
  },
  {
   "cell_type": "code",
   "execution_count": 14,
   "metadata": {
    "collapsed": false,
    "ExecuteTime": {
     "end_time": "2024-02-28T15:35:03.106753Z",
     "start_time": "2024-02-28T15:35:03.096162Z"
    }
   },
   "outputs": [
    {
     "data": {
      "text/plain": "30*x[1]*x[2] + 20*x[1]*x[3] - 10*x[1]*y[0] - 20*x[1]*y[1] - 10*x[1]*y[2] + 2*x[1] + 60*x[2]*x[3] - 30*x[2]*y[0] - 60*x[2]*y[1] - 30*x[2]*y[2] + 41*x[2] - 20*x[3]*y[0] - 40*x[3]*y[1] - 20*x[3]*y[2] + 18*x[3] + 20*y[0]*y[1] + 10*y[0]*y[2] + 5*y[0] + 20*y[1]*y[2] + 20*y[1] + 5*y[2]",
      "text/latex": "$\\displaystyle 30 {x}_{1} {x}_{2} + 20 {x}_{1} {x}_{3} - 10 {x}_{1} {y}_{0} - 20 {x}_{1} {y}_{1} - 10 {x}_{1} {y}_{2} + 2 {x}_{1} + 60 {x}_{2} {x}_{3} - 30 {x}_{2} {y}_{0} - 60 {x}_{2} {y}_{1} - 30 {x}_{2} {y}_{2} + 41 {x}_{2} - 20 {x}_{3} {y}_{0} - 40 {x}_{3} {y}_{1} - 20 {x}_{3} {y}_{2} + 18 {x}_{3} + 20 {y}_{0} {y}_{1} + 10 {y}_{0} {y}_{2} + 5 {y}_{0} + 20 {y}_{1} {y}_{2} + 20 {y}_{1} + 5 {y}_{2}$"
     },
     "execution_count": 14,
     "metadata": {},
     "output_type": "execute_result"
    }
   ],
   "source": [
    "second_f = second_f.expand().replace(lambda x: x.is_Pow, lambda x: x.base); second_f"
   ]
  },
  {
   "cell_type": "code",
   "execution_count": 15,
   "metadata": {
    "collapsed": false,
    "ExecuteTime": {
     "end_time": "2024-02-28T15:35:03.116958Z",
     "start_time": "2024-02-28T15:35:03.107566Z"
    }
   },
   "outputs": [
    {
     "data": {
      "text/plain": "      x[1]  x[2]  x[3]  y[0]  y[1]  y[2]\nx[1]     2    30    20   -10   -20   -10\nx[2]     0    41    60   -30   -60   -30\nx[3]     0     0    18   -20   -40   -20\ny[0]     0     0     0     5    20    10\ny[1]     0     0     0     0    20    20\ny[2]     0     0     0     0     0     5",
      "text/html": "<div>\n<style scoped>\n    .dataframe tbody tr th:only-of-type {\n        vertical-align: middle;\n    }\n\n    .dataframe tbody tr th {\n        vertical-align: top;\n    }\n\n    .dataframe thead th {\n        text-align: right;\n    }\n</style>\n<table border=\"1\" class=\"dataframe\">\n  <thead>\n    <tr style=\"text-align: right;\">\n      <th></th>\n      <th>x[1]</th>\n      <th>x[2]</th>\n      <th>x[3]</th>\n      <th>y[0]</th>\n      <th>y[1]</th>\n      <th>y[2]</th>\n    </tr>\n  </thead>\n  <tbody>\n    <tr>\n      <th>x[1]</th>\n      <td>2</td>\n      <td>30</td>\n      <td>20</td>\n      <td>-10</td>\n      <td>-20</td>\n      <td>-10</td>\n    </tr>\n    <tr>\n      <th>x[2]</th>\n      <td>0</td>\n      <td>41</td>\n      <td>60</td>\n      <td>-30</td>\n      <td>-60</td>\n      <td>-30</td>\n    </tr>\n    <tr>\n      <th>x[3]</th>\n      <td>0</td>\n      <td>0</td>\n      <td>18</td>\n      <td>-20</td>\n      <td>-40</td>\n      <td>-20</td>\n    </tr>\n    <tr>\n      <th>y[0]</th>\n      <td>0</td>\n      <td>0</td>\n      <td>0</td>\n      <td>5</td>\n      <td>20</td>\n      <td>10</td>\n    </tr>\n    <tr>\n      <th>y[1]</th>\n      <td>0</td>\n      <td>0</td>\n      <td>0</td>\n      <td>0</td>\n      <td>20</td>\n      <td>20</td>\n    </tr>\n    <tr>\n      <th>y[2]</th>\n      <td>0</td>\n      <td>0</td>\n      <td>0</td>\n      <td>0</td>\n      <td>0</td>\n      <td>5</td>\n    </tr>\n  </tbody>\n</table>\n</div>"
     },
     "execution_count": 15,
     "metadata": {},
     "output_type": "execute_result"
    }
   ],
   "source": [
    "second_Q = pd.DataFrame(0, index=syms, columns=syms)\n",
    "\n",
    "second_p = sp.Poly(second_f)\n",
    "\n",
    "for sym1 in syms:\n",
    "    for sym2 in syms[syms.index(sym1):]:\n",
    "            second_Q.loc[sym1, sym2] = int(second_p.coeff_monomial(sym1 if sym1 == sym2 else sym1*sym2))\n",
    "\n",
    "second_Q"
   ]
  },
  {
   "cell_type": "markdown",
   "metadata": {
    "collapsed": false
   },
   "source": [
    "### Approccio brute force\n",
    "Viene eseguito un metodo di **brute force** nel quale vengono calcolate tutte le soluzioni possibili, che sono poi ordinate in senso non decrescente di valore energetico.\n",
    "Per dataset grossi questo approccio non funziona, in quanto eccede i limiti di memoria utilizzabili.\n",
    "È stato usato per verificare che il modello fosse corretto."
   ]
  },
  {
   "cell_type": "code",
   "execution_count": 16,
   "metadata": {
    "collapsed": false,
    "ExecuteTime": {
     "end_time": "2024-02-28T15:35:03.124267Z",
     "start_time": "2024-02-28T15:35:03.117677Z"
    }
   },
   "outputs": [
    {
     "data": {
      "text/plain": "    0  1  2  3  4  5  energy  num_occurrences\n45  1  1  0  1  1  1    -7.0                1\n22  1  0  1  1  1  0    -5.0                1\n38  1  0  1  0  1  1    -5.0                1\n19  0  1  0  1  1  0    -4.0                1\n35  0  1  0  0  1  1    -4.0                1\n.. .. .. .. .. .. ..     ...              ...\n47  0  0  0  1  1  1    80.0                1\n58  1  1  1  0  0  1   116.0                1\n10  1  1  1  1  0  0   116.0                1\n4   0  1  1  0  0  0   119.0                1\n5   1  1  1  0  0  0   171.0                1\n\n[64 rows x 8 columns]",
      "text/html": "<div>\n<style scoped>\n    .dataframe tbody tr th:only-of-type {\n        vertical-align: middle;\n    }\n\n    .dataframe tbody tr th {\n        vertical-align: top;\n    }\n\n    .dataframe thead th {\n        text-align: right;\n    }\n</style>\n<table border=\"1\" class=\"dataframe\">\n  <thead>\n    <tr style=\"text-align: right;\">\n      <th></th>\n      <th>0</th>\n      <th>1</th>\n      <th>2</th>\n      <th>3</th>\n      <th>4</th>\n      <th>5</th>\n      <th>energy</th>\n      <th>num_occurrences</th>\n    </tr>\n  </thead>\n  <tbody>\n    <tr>\n      <th>45</th>\n      <td>1</td>\n      <td>1</td>\n      <td>0</td>\n      <td>1</td>\n      <td>1</td>\n      <td>1</td>\n      <td>-7.0</td>\n      <td>1</td>\n    </tr>\n    <tr>\n      <th>22</th>\n      <td>1</td>\n      <td>0</td>\n      <td>1</td>\n      <td>1</td>\n      <td>1</td>\n      <td>0</td>\n      <td>-5.0</td>\n      <td>1</td>\n    </tr>\n    <tr>\n      <th>38</th>\n      <td>1</td>\n      <td>0</td>\n      <td>1</td>\n      <td>0</td>\n      <td>1</td>\n      <td>1</td>\n      <td>-5.0</td>\n      <td>1</td>\n    </tr>\n    <tr>\n      <th>19</th>\n      <td>0</td>\n      <td>1</td>\n      <td>0</td>\n      <td>1</td>\n      <td>1</td>\n      <td>0</td>\n      <td>-4.0</td>\n      <td>1</td>\n    </tr>\n    <tr>\n      <th>35</th>\n      <td>0</td>\n      <td>1</td>\n      <td>0</td>\n      <td>0</td>\n      <td>1</td>\n      <td>1</td>\n      <td>-4.0</td>\n      <td>1</td>\n    </tr>\n    <tr>\n      <th>...</th>\n      <td>...</td>\n      <td>...</td>\n      <td>...</td>\n      <td>...</td>\n      <td>...</td>\n      <td>...</td>\n      <td>...</td>\n      <td>...</td>\n    </tr>\n    <tr>\n      <th>47</th>\n      <td>0</td>\n      <td>0</td>\n      <td>0</td>\n      <td>1</td>\n      <td>1</td>\n      <td>1</td>\n      <td>80.0</td>\n      <td>1</td>\n    </tr>\n    <tr>\n      <th>58</th>\n      <td>1</td>\n      <td>1</td>\n      <td>1</td>\n      <td>0</td>\n      <td>0</td>\n      <td>1</td>\n      <td>116.0</td>\n      <td>1</td>\n    </tr>\n    <tr>\n      <th>10</th>\n      <td>1</td>\n      <td>1</td>\n      <td>1</td>\n      <td>1</td>\n      <td>0</td>\n      <td>0</td>\n      <td>116.0</td>\n      <td>1</td>\n    </tr>\n    <tr>\n      <th>4</th>\n      <td>0</td>\n      <td>1</td>\n      <td>1</td>\n      <td>0</td>\n      <td>0</td>\n      <td>0</td>\n      <td>119.0</td>\n      <td>1</td>\n    </tr>\n    <tr>\n      <th>5</th>\n      <td>1</td>\n      <td>1</td>\n      <td>1</td>\n      <td>0</td>\n      <td>0</td>\n      <td>0</td>\n      <td>171.0</td>\n      <td>1</td>\n    </tr>\n  </tbody>\n</table>\n<p>64 rows × 8 columns</p>\n</div>"
     },
     "execution_count": 16,
     "metadata": {},
     "output_type": "execute_result"
    }
   ],
   "source": [
    "dimod.ExactSolver().sample_qubo(second_Q).to_pandas_dataframe().sort_values(by='energy')"
   ]
  },
  {
   "cell_type": "markdown",
   "source": [
    "### Approccio Simulated Annealing\n",
    "Viene eseguito un metodo di **simulated annealing** nel quale si approssima il valore di minimo globale della funzione. Al pari di altre euristiche, è un valido metodo per ottenere buone soluzioni in una quantità ragionevole di tempo."
   ],
   "metadata": {
    "collapsed": false
   }
  },
  {
   "cell_type": "code",
   "execution_count": 17,
   "metadata": {
    "collapsed": false,
    "ExecuteTime": {
     "end_time": "2024-02-28T15:35:03.243647Z",
     "start_time": "2024-02-28T15:35:03.125159Z"
    }
   },
   "outputs": [
    {
     "data": {
      "text/plain": "   0  1  2  3  4  5  energy  num_occurrences\n0  1  1  0  1  1  1    -7.0                1\n1  1  1  0  1  1  1    -7.0                1\n6  1  1  0  1  1  1    -7.0                1\n2  1  0  1  1  1  0    -5.0                1\n7  1  0  1  1  1  0    -5.0                1\n8  1  0  1  0  1  1    -5.0                1\n9  1  0  1  1  1  0    -5.0                1\n5  0  1  0  1  1  0    -4.0                1\n4  1  0  0  1  0  0    -3.0                1\n3  0  0  1  1  0  1    -2.0                1",
      "text/html": "<div>\n<style scoped>\n    .dataframe tbody tr th:only-of-type {\n        vertical-align: middle;\n    }\n\n    .dataframe tbody tr th {\n        vertical-align: top;\n    }\n\n    .dataframe thead th {\n        text-align: right;\n    }\n</style>\n<table border=\"1\" class=\"dataframe\">\n  <thead>\n    <tr style=\"text-align: right;\">\n      <th></th>\n      <th>0</th>\n      <th>1</th>\n      <th>2</th>\n      <th>3</th>\n      <th>4</th>\n      <th>5</th>\n      <th>energy</th>\n      <th>num_occurrences</th>\n    </tr>\n  </thead>\n  <tbody>\n    <tr>\n      <th>0</th>\n      <td>1</td>\n      <td>1</td>\n      <td>0</td>\n      <td>1</td>\n      <td>1</td>\n      <td>1</td>\n      <td>-7.0</td>\n      <td>1</td>\n    </tr>\n    <tr>\n      <th>1</th>\n      <td>1</td>\n      <td>1</td>\n      <td>0</td>\n      <td>1</td>\n      <td>1</td>\n      <td>1</td>\n      <td>-7.0</td>\n      <td>1</td>\n    </tr>\n    <tr>\n      <th>6</th>\n      <td>1</td>\n      <td>1</td>\n      <td>0</td>\n      <td>1</td>\n      <td>1</td>\n      <td>1</td>\n      <td>-7.0</td>\n      <td>1</td>\n    </tr>\n    <tr>\n      <th>2</th>\n      <td>1</td>\n      <td>0</td>\n      <td>1</td>\n      <td>1</td>\n      <td>1</td>\n      <td>0</td>\n      <td>-5.0</td>\n      <td>1</td>\n    </tr>\n    <tr>\n      <th>7</th>\n      <td>1</td>\n      <td>0</td>\n      <td>1</td>\n      <td>1</td>\n      <td>1</td>\n      <td>0</td>\n      <td>-5.0</td>\n      <td>1</td>\n    </tr>\n    <tr>\n      <th>8</th>\n      <td>1</td>\n      <td>0</td>\n      <td>1</td>\n      <td>0</td>\n      <td>1</td>\n      <td>1</td>\n      <td>-5.0</td>\n      <td>1</td>\n    </tr>\n    <tr>\n      <th>9</th>\n      <td>1</td>\n      <td>0</td>\n      <td>1</td>\n      <td>1</td>\n      <td>1</td>\n      <td>0</td>\n      <td>-5.0</td>\n      <td>1</td>\n    </tr>\n    <tr>\n      <th>5</th>\n      <td>0</td>\n      <td>1</td>\n      <td>0</td>\n      <td>1</td>\n      <td>1</td>\n      <td>0</td>\n      <td>-4.0</td>\n      <td>1</td>\n    </tr>\n    <tr>\n      <th>4</th>\n      <td>1</td>\n      <td>0</td>\n      <td>0</td>\n      <td>1</td>\n      <td>0</td>\n      <td>0</td>\n      <td>-3.0</td>\n      <td>1</td>\n    </tr>\n    <tr>\n      <th>3</th>\n      <td>0</td>\n      <td>0</td>\n      <td>1</td>\n      <td>1</td>\n      <td>0</td>\n      <td>1</td>\n      <td>-2.0</td>\n      <td>1</td>\n    </tr>\n  </tbody>\n</table>\n</div>"
     },
     "execution_count": 17,
     "metadata": {},
     "output_type": "execute_result"
    }
   ],
   "source": [
    "dimod.SimulatedAnnealingSampler().sample_qubo(second_Q).to_pandas_dataframe().sort_values(by='energy')"
   ]
  },
  {
   "cell_type": "markdown",
   "source": [
    "### Approccio quantistico\n",
    "Viene eseguito un **approccio quantistico** in cloud con un'architettura fornita gratuitamente da DWave, per questo si ha una capacità di calcolo limitata.\n",
    "Si fa la costruzione del modello QUBO e poi si esegue il procedimento di **minor embedding**, alla fine i dati vengono stampati e ordinati.\n",
    "\n",
    "Anche questo approccio può essere visto come un'euristica che non garantisce sempre il raggiungimento del minimo globale del valore dell'energia."
   ],
   "metadata": {
    "collapsed": false
   }
  },
  {
   "cell_type": "code",
   "execution_count": 18,
   "metadata": {
    "collapsed": false,
    "ExecuteTime": {
     "end_time": "2024-02-28T15:35:08.243260Z",
     "start_time": "2024-02-28T15:35:03.244475Z"
    }
   },
   "outputs": [
    {
     "data": {
      "text/plain": "    0  1  2  3  4  5  chain_break_fraction  energy  num_occurrences\n0   1  1  0  1  1  1              0.000000    -7.0              152\n1   1  0  1  1  1  0              0.000000    -5.0              106\n2   1  0  1  0  1  1              0.000000    -5.0               83\n3   0  1  0  0  1  1              0.000000    -4.0               59\n4   0  1  0  1  1  0              0.000000    -4.0              114\n5   1  0  0  0  0  1              0.000000    -3.0               31\n6   1  0  0  1  0  0              0.000000    -3.0               60\n10  0  0  1  1  0  1              0.000000    -2.0               36\n9   0  0  1  0  1  0              0.000000    -2.0               37\n8   1  1  0  0  1  1              0.000000    -2.0               23\n7   1  1  0  1  1  0              0.000000    -2.0               52\n11  0  1  1  1  1  1              0.000000    -1.0               26\n12  0  0  0  0  0  0              0.000000     0.0               18\n13  1  0  1  1  0  1              0.000000     0.0               22\n14  1  0  1  0  1  0              0.000000     0.0               24\n15  1  0  1  1  1  1              0.000000     0.0               20\n18  0  1  0  0  1  0              0.000000     1.0               22\n17  0  1  0  1  1  1              0.000000     1.0               24\n16  0  1  0  1  0  1              0.000000     1.0               18\n19  1  0  0  1  0  1              0.000000     2.0                5\n20  1  0  0  0  1  0              0.000000     2.0               13\n21  1  0  0  0  0  0              0.000000     2.0               11\n22  0  0  1  0  0  1              0.000000     3.0                7\n23  0  0  1  1  0  0              0.000000     3.0                6\n24  0  0  1  0  1  1              0.000000     3.0                5\n25  0  0  1  1  1  0              0.000000     3.0               12\n27  0  0  0  1  0  0              0.000000     5.0                3\n26  0  0  0  0  0  1              0.000000     5.0                3\n28  1  1  1  1  1  1              0.000000    11.0                1\n29  1  1  0  1  0  1              0.000000    13.0                1\n30  0  1  1  1  1  0              0.000000    14.0                1\n31  0  1  1  0  1  1              0.000000    14.0                1\n33  0  1  1  1  1  0              0.166667    14.0                1\n35  0  1  1  0  1  1              0.166667    14.0                1\n32  1  0  1  0  0  1              0.000000    15.0                1\n34  0  0  0  0  1  1              0.000000    45.0                1",
      "text/html": "<div>\n<style scoped>\n    .dataframe tbody tr th:only-of-type {\n        vertical-align: middle;\n    }\n\n    .dataframe tbody tr th {\n        vertical-align: top;\n    }\n\n    .dataframe thead th {\n        text-align: right;\n    }\n</style>\n<table border=\"1\" class=\"dataframe\">\n  <thead>\n    <tr style=\"text-align: right;\">\n      <th></th>\n      <th>0</th>\n      <th>1</th>\n      <th>2</th>\n      <th>3</th>\n      <th>4</th>\n      <th>5</th>\n      <th>chain_break_fraction</th>\n      <th>energy</th>\n      <th>num_occurrences</th>\n    </tr>\n  </thead>\n  <tbody>\n    <tr>\n      <th>0</th>\n      <td>1</td>\n      <td>1</td>\n      <td>0</td>\n      <td>1</td>\n      <td>1</td>\n      <td>1</td>\n      <td>0.000000</td>\n      <td>-7.0</td>\n      <td>152</td>\n    </tr>\n    <tr>\n      <th>1</th>\n      <td>1</td>\n      <td>0</td>\n      <td>1</td>\n      <td>1</td>\n      <td>1</td>\n      <td>0</td>\n      <td>0.000000</td>\n      <td>-5.0</td>\n      <td>106</td>\n    </tr>\n    <tr>\n      <th>2</th>\n      <td>1</td>\n      <td>0</td>\n      <td>1</td>\n      <td>0</td>\n      <td>1</td>\n      <td>1</td>\n      <td>0.000000</td>\n      <td>-5.0</td>\n      <td>83</td>\n    </tr>\n    <tr>\n      <th>3</th>\n      <td>0</td>\n      <td>1</td>\n      <td>0</td>\n      <td>0</td>\n      <td>1</td>\n      <td>1</td>\n      <td>0.000000</td>\n      <td>-4.0</td>\n      <td>59</td>\n    </tr>\n    <tr>\n      <th>4</th>\n      <td>0</td>\n      <td>1</td>\n      <td>0</td>\n      <td>1</td>\n      <td>1</td>\n      <td>0</td>\n      <td>0.000000</td>\n      <td>-4.0</td>\n      <td>114</td>\n    </tr>\n    <tr>\n      <th>5</th>\n      <td>1</td>\n      <td>0</td>\n      <td>0</td>\n      <td>0</td>\n      <td>0</td>\n      <td>1</td>\n      <td>0.000000</td>\n      <td>-3.0</td>\n      <td>31</td>\n    </tr>\n    <tr>\n      <th>6</th>\n      <td>1</td>\n      <td>0</td>\n      <td>0</td>\n      <td>1</td>\n      <td>0</td>\n      <td>0</td>\n      <td>0.000000</td>\n      <td>-3.0</td>\n      <td>60</td>\n    </tr>\n    <tr>\n      <th>10</th>\n      <td>0</td>\n      <td>0</td>\n      <td>1</td>\n      <td>1</td>\n      <td>0</td>\n      <td>1</td>\n      <td>0.000000</td>\n      <td>-2.0</td>\n      <td>36</td>\n    </tr>\n    <tr>\n      <th>9</th>\n      <td>0</td>\n      <td>0</td>\n      <td>1</td>\n      <td>0</td>\n      <td>1</td>\n      <td>0</td>\n      <td>0.000000</td>\n      <td>-2.0</td>\n      <td>37</td>\n    </tr>\n    <tr>\n      <th>8</th>\n      <td>1</td>\n      <td>1</td>\n      <td>0</td>\n      <td>0</td>\n      <td>1</td>\n      <td>1</td>\n      <td>0.000000</td>\n      <td>-2.0</td>\n      <td>23</td>\n    </tr>\n    <tr>\n      <th>7</th>\n      <td>1</td>\n      <td>1</td>\n      <td>0</td>\n      <td>1</td>\n      <td>1</td>\n      <td>0</td>\n      <td>0.000000</td>\n      <td>-2.0</td>\n      <td>52</td>\n    </tr>\n    <tr>\n      <th>11</th>\n      <td>0</td>\n      <td>1</td>\n      <td>1</td>\n      <td>1</td>\n      <td>1</td>\n      <td>1</td>\n      <td>0.000000</td>\n      <td>-1.0</td>\n      <td>26</td>\n    </tr>\n    <tr>\n      <th>12</th>\n      <td>0</td>\n      <td>0</td>\n      <td>0</td>\n      <td>0</td>\n      <td>0</td>\n      <td>0</td>\n      <td>0.000000</td>\n      <td>0.0</td>\n      <td>18</td>\n    </tr>\n    <tr>\n      <th>13</th>\n      <td>1</td>\n      <td>0</td>\n      <td>1</td>\n      <td>1</td>\n      <td>0</td>\n      <td>1</td>\n      <td>0.000000</td>\n      <td>0.0</td>\n      <td>22</td>\n    </tr>\n    <tr>\n      <th>14</th>\n      <td>1</td>\n      <td>0</td>\n      <td>1</td>\n      <td>0</td>\n      <td>1</td>\n      <td>0</td>\n      <td>0.000000</td>\n      <td>0.0</td>\n      <td>24</td>\n    </tr>\n    <tr>\n      <th>15</th>\n      <td>1</td>\n      <td>0</td>\n      <td>1</td>\n      <td>1</td>\n      <td>1</td>\n      <td>1</td>\n      <td>0.000000</td>\n      <td>0.0</td>\n      <td>20</td>\n    </tr>\n    <tr>\n      <th>18</th>\n      <td>0</td>\n      <td>1</td>\n      <td>0</td>\n      <td>0</td>\n      <td>1</td>\n      <td>0</td>\n      <td>0.000000</td>\n      <td>1.0</td>\n      <td>22</td>\n    </tr>\n    <tr>\n      <th>17</th>\n      <td>0</td>\n      <td>1</td>\n      <td>0</td>\n      <td>1</td>\n      <td>1</td>\n      <td>1</td>\n      <td>0.000000</td>\n      <td>1.0</td>\n      <td>24</td>\n    </tr>\n    <tr>\n      <th>16</th>\n      <td>0</td>\n      <td>1</td>\n      <td>0</td>\n      <td>1</td>\n      <td>0</td>\n      <td>1</td>\n      <td>0.000000</td>\n      <td>1.0</td>\n      <td>18</td>\n    </tr>\n    <tr>\n      <th>19</th>\n      <td>1</td>\n      <td>0</td>\n      <td>0</td>\n      <td>1</td>\n      <td>0</td>\n      <td>1</td>\n      <td>0.000000</td>\n      <td>2.0</td>\n      <td>5</td>\n    </tr>\n    <tr>\n      <th>20</th>\n      <td>1</td>\n      <td>0</td>\n      <td>0</td>\n      <td>0</td>\n      <td>1</td>\n      <td>0</td>\n      <td>0.000000</td>\n      <td>2.0</td>\n      <td>13</td>\n    </tr>\n    <tr>\n      <th>21</th>\n      <td>1</td>\n      <td>0</td>\n      <td>0</td>\n      <td>0</td>\n      <td>0</td>\n      <td>0</td>\n      <td>0.000000</td>\n      <td>2.0</td>\n      <td>11</td>\n    </tr>\n    <tr>\n      <th>22</th>\n      <td>0</td>\n      <td>0</td>\n      <td>1</td>\n      <td>0</td>\n      <td>0</td>\n      <td>1</td>\n      <td>0.000000</td>\n      <td>3.0</td>\n      <td>7</td>\n    </tr>\n    <tr>\n      <th>23</th>\n      <td>0</td>\n      <td>0</td>\n      <td>1</td>\n      <td>1</td>\n      <td>0</td>\n      <td>0</td>\n      <td>0.000000</td>\n      <td>3.0</td>\n      <td>6</td>\n    </tr>\n    <tr>\n      <th>24</th>\n      <td>0</td>\n      <td>0</td>\n      <td>1</td>\n      <td>0</td>\n      <td>1</td>\n      <td>1</td>\n      <td>0.000000</td>\n      <td>3.0</td>\n      <td>5</td>\n    </tr>\n    <tr>\n      <th>25</th>\n      <td>0</td>\n      <td>0</td>\n      <td>1</td>\n      <td>1</td>\n      <td>1</td>\n      <td>0</td>\n      <td>0.000000</td>\n      <td>3.0</td>\n      <td>12</td>\n    </tr>\n    <tr>\n      <th>27</th>\n      <td>0</td>\n      <td>0</td>\n      <td>0</td>\n      <td>1</td>\n      <td>0</td>\n      <td>0</td>\n      <td>0.000000</td>\n      <td>5.0</td>\n      <td>3</td>\n    </tr>\n    <tr>\n      <th>26</th>\n      <td>0</td>\n      <td>0</td>\n      <td>0</td>\n      <td>0</td>\n      <td>0</td>\n      <td>1</td>\n      <td>0.000000</td>\n      <td>5.0</td>\n      <td>3</td>\n    </tr>\n    <tr>\n      <th>28</th>\n      <td>1</td>\n      <td>1</td>\n      <td>1</td>\n      <td>1</td>\n      <td>1</td>\n      <td>1</td>\n      <td>0.000000</td>\n      <td>11.0</td>\n      <td>1</td>\n    </tr>\n    <tr>\n      <th>29</th>\n      <td>1</td>\n      <td>1</td>\n      <td>0</td>\n      <td>1</td>\n      <td>0</td>\n      <td>1</td>\n      <td>0.000000</td>\n      <td>13.0</td>\n      <td>1</td>\n    </tr>\n    <tr>\n      <th>30</th>\n      <td>0</td>\n      <td>1</td>\n      <td>1</td>\n      <td>1</td>\n      <td>1</td>\n      <td>0</td>\n      <td>0.000000</td>\n      <td>14.0</td>\n      <td>1</td>\n    </tr>\n    <tr>\n      <th>31</th>\n      <td>0</td>\n      <td>1</td>\n      <td>1</td>\n      <td>0</td>\n      <td>1</td>\n      <td>1</td>\n      <td>0.000000</td>\n      <td>14.0</td>\n      <td>1</td>\n    </tr>\n    <tr>\n      <th>33</th>\n      <td>0</td>\n      <td>1</td>\n      <td>1</td>\n      <td>1</td>\n      <td>1</td>\n      <td>0</td>\n      <td>0.166667</td>\n      <td>14.0</td>\n      <td>1</td>\n    </tr>\n    <tr>\n      <th>35</th>\n      <td>0</td>\n      <td>1</td>\n      <td>1</td>\n      <td>0</td>\n      <td>1</td>\n      <td>1</td>\n      <td>0.166667</td>\n      <td>14.0</td>\n      <td>1</td>\n    </tr>\n    <tr>\n      <th>32</th>\n      <td>1</td>\n      <td>0</td>\n      <td>1</td>\n      <td>0</td>\n      <td>0</td>\n      <td>1</td>\n      <td>0.000000</td>\n      <td>15.0</td>\n      <td>1</td>\n    </tr>\n    <tr>\n      <th>34</th>\n      <td>0</td>\n      <td>0</td>\n      <td>0</td>\n      <td>0</td>\n      <td>1</td>\n      <td>1</td>\n      <td>0.000000</td>\n      <td>45.0</td>\n      <td>1</td>\n    </tr>\n  </tbody>\n</table>\n</div>"
     },
     "execution_count": 18,
     "metadata": {},
     "output_type": "execute_result"
    }
   ],
   "source": [
    "bqm = dimod.BinaryQuadraticModel.from_qubo(second_Q) \n",
    "qsampler = dw.EmbeddingComposite(dw.DWaveSampler()) \n",
    "qsampler.sample(bqm, num_reads=1000).to_pandas_dataframe().sort_values(by='energy')"
   ]
  }
 ],
 "metadata": {
  "kernelspec": {
   "display_name": "Python 3 (ipykernel)",
   "language": "python",
   "name": "python3"
  },
  "language_info": {
   "codemirror_mode": {
    "name": "ipython",
    "version": 3
   },
   "file_extension": ".py",
   "mimetype": "text/x-python",
   "name": "python",
   "nbconvert_exporter": "python",
   "pygments_lexer": "ipython3",
   "version": "3.9.6"
  }
 },
 "nbformat": 4,
 "nbformat_minor": 4
}
