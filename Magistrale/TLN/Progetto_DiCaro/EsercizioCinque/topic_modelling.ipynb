{
 "cells": [
  {
   "cell_type": "code",
   "execution_count": 1,
   "metadata": {
    "collapsed": true,
    "ExecuteTime": {
     "end_time": "2023-06-09T11:34:46.824940Z",
     "start_time": "2023-06-09T11:34:41.913522Z"
    }
   },
   "outputs": [],
   "source": [
    "import numpy as np\n",
    "import matplotlib.pyplot as plt\n",
    "import pandas as pd\n",
    "from gensim.corpora import Dictionary\n",
    "from topic_modelling_function import extract_documents_csv, pre_processing, find_bigrams, training"
   ]
  },
  {
   "cell_type": "markdown",
   "source": [
    "## Topic modelling\n",
    "Utilizzando la libreria GenSim bisognava scegliere un corpus con almeno 1k documenti e testare un algoritmo per il **topic modelling**.\n",
    "\n",
    "Si è usato un corpus contente articoli sullo spazio ed è stato estratto con il metodo sottostante."
   ],
   "metadata": {
    "collapsed": false
   }
  },
  {
   "cell_type": "code",
   "execution_count": 2,
   "outputs": [
    {
     "data": {
      "text/plain": "18354"
     },
     "execution_count": 2,
     "metadata": {},
     "output_type": "execute_result"
    }
   ],
   "source": [
    "docs = extract_documents_csv()\n",
    "len(docs)"
   ],
   "metadata": {
    "collapsed": false,
    "ExecuteTime": {
     "end_time": "2023-06-09T11:34:48.643316Z",
     "start_time": "2023-06-09T11:34:46.834672Z"
    }
   }
  },
  {
   "cell_type": "markdown",
   "source": [
    "### Preprocessing\n",
    "In questa fase il documento viene tokenizzato e lemmatizzato, vengono inoltre rimossi i numeri e convertite le parole in forma minuscola. Dopo di che si vanno ad aggiungere ai dati i bigrammi, in modo da catturare le parole composte nel testo.\n",
    "Alla fine si va a rimuovere le parole più rare e le parole più comuni e poi fatta una rappresentazione vettoriale bag-of-word del testo."
   ],
   "metadata": {
    "collapsed": false
   }
  },
  {
   "cell_type": "code",
   "execution_count": 3,
   "outputs": [],
   "source": [
    "docs = pre_processing(docs)\n",
    "docs = find_bigrams(docs)"
   ],
   "metadata": {
    "collapsed": false,
    "ExecuteTime": {
     "end_time": "2023-06-09T11:37:06.441035Z",
     "start_time": "2023-06-09T11:34:48.706624Z"
    }
   }
  },
  {
   "cell_type": "code",
   "execution_count": 4,
   "outputs": [
    {
     "name": "stdout",
     "output_type": "stream",
     "text": [
      "Number of unique tokens: 20383\n",
      "Number of documents: 18354\n"
     ]
    }
   ],
   "source": [
    "dictionary = Dictionary(docs)\n",
    "# Vegnono rimosse le parole più rare e le parole più comuni\n",
    "dictionary.filter_extremes(no_below=10, no_above=0.5)\n",
    "\n",
    "# Viene fatta una rappresentazione bag-of-word del testo\n",
    "corpus = [dictionary.doc2bow(doc) for doc in docs]\n",
    "\n",
    "print('Number of unique tokens: %d' % len(dictionary))\n",
    "print('Number of documents: %d' % len(corpus))"
   ],
   "metadata": {
    "collapsed": false,
    "ExecuteTime": {
     "end_time": "2023-06-09T11:37:30.699360Z",
     "start_time": "2023-06-09T11:37:06.489797Z"
    }
   }
  },
  {
   "cell_type": "markdown",
   "source": [
    "### Training\n",
    "A questo punto si arriva alla fase di training del modello LDA. Ci sono diversi parametri da settare per il metodo, vediamoli brevemente.\n",
    "Il primo è il numero di topics che si vuole cogliere, questo valore varia dal bisogno d'interpretazione dei topic che ha l'utilizzatore, il valore di default è 10. $chunksize$ controlla quanti documenti sono processati contemporaneamente dall'algoritmo, $passes$ controlla quanto spesso alleniamo il modello sull'intero corpus. $iterations$ controlla quanto spesso viene ripetuto un ciclo di loop su ogni documento.\n",
    "\n",
    "Il meteodo calcola anche il valore di coerenza di ogni topic e stampa il valore di coerenza media dei topic."
   ],
   "metadata": {
    "collapsed": false
   }
  },
  {
   "cell_type": "code",
   "execution_count": 5,
   "outputs": [
    {
     "name": "stdout",
     "output_type": "stream",
     "text": [
      "Average topic coherence: -1.2404.\n"
     ]
    }
   ],
   "source": [
    "top_topics, avg = training(corpus, dictionary, chunksize=600)"
   ],
   "metadata": {
    "collapsed": false,
    "ExecuteTime": {
     "end_time": "2023-06-09T11:44:40.340629Z",
     "start_time": "2023-06-09T11:37:30.722068Z"
    }
   }
  },
  {
   "cell_type": "markdown",
   "source": [
    "### Grafico\n",
    "Viene riportato un grafico per la visualizzazione dei valori di coerenza rispetto ai topic"
   ],
   "metadata": {
    "collapsed": false
   }
  },
  {
   "cell_type": "code",
   "execution_count": 20,
   "outputs": [
    {
     "data": {
      "text/plain": "<Figure size 640x480 with 1 Axes>",
      "image/png": "[encoded data removed]"
     },
     "metadata": {},
     "output_type": "display_data"
    }
   ],
   "source": [
    "coherence_scores = [topic[1] for topic in top_topics]\n",
    "\n",
    "min_freq = min(coherence_scores)\n",
    "max_freq = max(coherence_scores)\n",
    "norm = plt.Normalize(min_freq, max_freq)\n",
    "colors = plt.cm.viridis(norm(coherence_scores))\n",
    "\n",
    "plt.scatter(range(len(coherence_scores)), coherence_scores, color=colors)\n",
    "plt.axhline(avg, linestyle='dashed', color='ivory', label='Media coerenza')\n",
    "\n",
    "plt.xlabel('Topic')\n",
    "plt.ylabel('Coerenza')\n",
    "plt.title('Confronto delle Coerenze dei Topic')\n",
    "\n",
    "plt.legend(['Coerernza topic','Media coerenza'], bbox_to_anchor=(0.85, -0.2), ncol=4, fontsize=12)\n",
    "\n",
    "plt.show()"
   ],
   "metadata": {
    "collapsed": false,
    "ExecuteTime": {
     "end_time": "2023-06-09T12:02:20.509501Z",
     "start_time": "2023-06-09T12:02:19.613608Z"
    }
   }
  }
 ],
 "metadata": {
  "kernelspec": {
   "display_name": "Python 3",
   "language": "python",
   "name": "python3"
  },
  "language_info": {
   "codemirror_mode": {
    "name": "ipython",
    "version": 2
   },
   "file_extension": ".py",
   "mimetype": "text/x-python",
   "name": "python",
   "nbconvert_exporter": "python",
   "pygments_lexer": "ipython2",
   "version": "2.7.6"
  }
 },
 "nbformat": 4,
 "nbformat_minor": 0
}
