{
 "cells": [
  {
   "cell_type": "code",
   "execution_count": 3,
   "metadata": {
    "collapsed": true,
    "ExecuteTime": {
     "end_time": "2023-05-22T18:58:02.650915Z",
     "start_time": "2023-05-22T18:58:02.637530Z"
    }
   },
   "outputs": [],
   "source": [
    "from disambiguazione import mapping\n",
    "from utilsTre import getFrameSetForStudent"
   ]
  },
  {
   "cell_type": "code",
   "execution_count": 4,
   "outputs": [
    {
     "name": "stdout",
     "output_type": "stream",
     "text": [
      "\n",
      "student: Giulia Frumento\n",
      "\tID: 1010\tframe: Partitive\n",
      "\tID:  966\tframe: Speed_description\n",
      "\tID: 2285\tframe: Mining\n",
      "\tID:  411\tframe: Receiving\n",
      "\tID:  121\tframe: Bail_decision\n",
      "Accuratezza mapping:  0.696969696969697\n"
     ]
    }
   ],
   "source": [
    "getFrameSetForStudent('Giulia Frumento')\n",
    "print(\"Accuratezza mapping: \", mapping())"
   ],
   "metadata": {
    "collapsed": false,
    "ExecuteTime": {
     "end_time": "2023-05-22T18:58:02.709272Z",
     "start_time": "2023-05-22T18:58:02.679951Z"
    }
   }
  },
  {
   "cell_type": "markdown",
   "source": [],
   "metadata": {
    "collapsed": false
   }
  }
 ],
 "metadata": {
  "kernelspec": {
   "display_name": "Python 3",
   "language": "python",
   "name": "python3"
  },
  "language_info": {
   "codemirror_mode": {
    "name": "ipython",
    "version": 2
   },
   "file_extension": ".py",
   "mimetype": "text/x-python",
   "name": "python",
   "nbconvert_exporter": "python",
   "pygments_lexer": "ipython2",
   "version": "2.7.6"
  }
 },
 "nbformat": 4,
 "nbformat_minor": 0
}
