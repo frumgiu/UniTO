{
 "cells": [
  {
   "cell_type": "code",
   "execution_count": 7,
   "metadata": {
    "collapsed": true,
    "ExecuteTime": {
     "start_time": "2023-04-25T16:17:11.559847Z",
     "end_time": "2023-04-25T16:17:11.581233Z"
    }
   },
   "outputs": [],
   "source": [
    "import pandas as pd\n",
    "from UtilsDue import get_random_sentences, matching_synset\n",
    "from LeskAlgorithm import lesk_wrapper as l"
   ]
  },
  {
   "cell_type": "markdown",
   "source": [
    "### Frasi estratte:"
   ],
   "metadata": {
    "collapsed": false
   }
  },
  {
   "cell_type": "code",
   "execution_count": 8,
   "outputs": [
    {
     "name": "stdout",
     "output_type": "stream",
     "text": [
      "State representatives decided Thursday against taking a poll on what kind of taxes Texans would prefer to pay .\n",
      "The bond issue will go to the state courts for a friendly test suit to test the validity of the act , and then the sales will begin and contracts let for repair work on some of Georgia 's most heavily traveled highways .\n",
      "The remainder of the 4 - year college requirement would be in general subjects .\n",
      "Prior to the featured race , the stewards announced that apprentice James P. Verrone is suspended ten days for crowding horses and crossing the field sharply in two races on Wednesday .\n",
      "Paradise lost to the alleged water needs of Texas ' big cities Thursday .\n",
      "It recommended that Fulton legislators act `` to have these laws studied and revised to the end of modernizing and improving them '' .\n",
      "Hartsfield has been mayor of Atlanta , with exception of one brief interlude , since 1937 .\n",
      "Cotten construed this as a veiled effort by Parkhouse to help Dallas and other large cities get money which Cotten felt could better be spent providing water for rural Texas .\n",
      "Then Kerr , a graduate student from Illinois , moved past him on a straightaway and held off Mills 's challenge on the final turn .\n",
      "`` Once you get the feel of it , there 's not much to it .\n",
      "Because of its important game with Arkansas coming up Saturday , Baylor worked out in the rain Monday - mud or no mud .\n",
      "The other bill , by Sen. A. M. Aikin Jr. of Paris , would relieve real estate brokers , who pay their own annual licensing fee , from the $ 12 annual occupation license on brokers in such as stocks and bonds .\n",
      "Buffalo coach Buster Ramsey , who has become one of the game 's greatest collectors of quarterbacks , apparently now has found a productive pair in two ex National Football Leaguers , M. C. Reynolds and Warren Rabb .\n",
      "The campaign leading to the election was not so quiet , however .\n",
      "Then three consecutive pinch hitters failed to produce .\n",
      "Rep. Berry , an ex gambler from San Antonio , got elected on his advocacy of betting on the ponies .\n",
      "Fulton legislators `` work with city officials to pass enabling legislation that will permit the establishment of a fair and equitable '' pension plan for city employes .\n",
      "He got hit from the blind side by the split end coming back on the second play of the game .\n",
      "John Powell , batting for Adair , fanned after fouling off two 2 - and 2 pitches , and Buddy Barker , up for Stepanovich , bounced out sharply to Jerry Lumpe at second to end the 2 - hour and - 27 - minute contest .\n",
      "But questions with which committee members taunted bankers appearing as witnesses left little doubt that they will recommend passage of it .\n",
      "Bobby Waters of Sylvania , Ga. , relief quarterback for the San Francisco 49ers of the National Football League , will undergo a knee operation tomorrow at Franklin Hospital here .\n",
      "We needed it and we got it '' .\n",
      "`` As soon as it started to form , Gannon spotted it '' , Meek said .\n",
      "All Dallas members voted with Roberts , except Rep. Bill Jones , who was absent .\n",
      "The game players saw the Air Force film Monday , ran for 30 minutes , then went in , while the reserves scrimmaged for 45 minutes .\n",
      "`` He just lay back there and waited for it '' , Meek said .\n",
      "Garden Fresh , the result of a mating of Better Self and Rosy Fingered , seems to improve with each start and appeared to win the St. Patrick's Day Purse with some speed in reserve .\n",
      "The grand jury commented on a number of other topics , among them the Atlanta and Fulton County purchasing departments which it said `` are well operated and follow generally accepted practices which inure to the best interest of both governments '' .\n",
      "The Air Force's , and the game 's , final play , was a long pass by quarterback Bob McNaughton which Gannon intercepted on his own 44 and returned 22 yards .\n",
      "The jury said it found the court `` has incorporated into its operating procedures the recommendations '' of two previous grand juries , the Atlanta Bar Association and an interim citizens committee .\n",
      "There is definitely some ligament damage in his knee '' .\n",
      "It was marked by controversy , anonymous midnight phone calls and veiled threats of violence .\n",
      "Moritz does n't even have a nose guard or hip pads but he 's one of the most valuable members of the Longhorn team that will be heavily favored Saturday over Oklahoma in the cotton bowl .\n",
      "`` If you kick too much , your leg gets kinda dead '' , he explained .\n",
      "Time stands still every time Moritz , a 26 - year old Army Signal Corps veteran , goes into the field .\n",
      "Over the first five frames , Jack Fisher , the big righthander who figures to be in the middle of Oriole plans for a drive on the 1961 American League pennant , held the A 's scoreless while yielding three scattered hits .\n",
      "His contention was denied by several bankers , including Scott Hudson of Sherman , Gaynor B. Jones of Houston , J. B. Brady of Harlingen and Howard Cox of Austin .\n",
      "`` In fact our whole defensive unit did a good job '' .\n",
      "Money for its construction will be sought later on but in the meantime the State Hospital board can accept gifts and donations of a site .\n",
      "`` Dallas and Fort Worth can vote bonds .\n",
      "- Held out of Texas Tech 's sweat suits drill Monday at Lubbock was tackle Richard Stafford , who is undergoing treatment for a leg injury suffered in the Raiders ' 38 - 7 loss to Texas A+M .\n",
      "Breeding to Adair to Gentile , setting up Tuttle 's 390 - foot homer over the wall in left center .\n",
      "The Birds got five hits and all three of their runs off Kunkel before Hartman took over in the top of the fourth .\n",
      "He was called upon 26 times - more than all of the other ball carriers combined - and delivered 145 yards .\n",
      "That 's because he already has kicked 14 extra points in 15 tries .\n",
      "He ran his string of successful conversions this season to 13 straight before one went astray last Saturday night in the 41 - 8 slaughter of Washington State .\n",
      "The new school superintendent is Harry Davis , a veteran agriculture teacher , who defeated Felix Bush , a school principal and chairman of the Miller County Democratic Executive Committee .\n",
      "It was the first of two doubles by Robinson , who was in a mood to celebrate .\n",
      "Then Heywood Sullivan , Kansas City catcher , singled up the middle and Throneberry was across with what proved to be the winning run .\n",
      "But he was scholastically ineligible in 1959 and merely present last season .\n"
     ]
    }
   ],
   "source": [
    "sentences, sentences_tag = get_random_sentences(50)\n",
    "for i in range(len(sentences)):\n",
    "    print(sentences[i])"
   ],
   "metadata": {
    "collapsed": false,
    "ExecuteTime": {
     "start_time": "2023-04-25T16:17:11.584538Z",
     "end_time": "2023-04-25T16:17:51.790449Z"
    }
   }
  },
  {
   "cell_type": "markdown",
   "source": [
    "### Synset annotati alle parole in SemCor:"
   ],
   "metadata": {
    "collapsed": false
   }
  },
  {
   "cell_type": "code",
   "execution_count": 13,
   "outputs": [
    {
     "data": {
      "text/plain": "               Words                      Synset\n0              State        Synset('state.n.01')\n1    representatives  Synset('congressman.n.01')\n2            decided       Synset('decide.v.03')\n3           Thursday     Synset('thursday.n.01')\n4               kind         Synset('kind.n.01')\n..               ...                         ...\n456       ineligible   Synset('ineligible.a.01')\n457           merely       Synset('merely.r.01')\n458          present      Synset('present.a.02')\n459             last         Synset('last.s.01')\n460           season       Synset('season.n.01')\n\n[461 rows x 2 columns]",
      "text/html": "<div>\n<style scoped>\n    .dataframe tbody tr th:only-of-type {\n        vertical-align: middle;\n    }\n\n    .dataframe tbody tr th {\n        vertical-align: top;\n    }\n\n    .dataframe thead th {\n        text-align: right;\n    }\n</style>\n<table border=\"1\" class=\"dataframe\">\n  <thead>\n    <tr style=\"text-align: right;\">\n      <th></th>\n      <th>Words</th>\n      <th>Synset</th>\n    </tr>\n  </thead>\n  <tbody>\n    <tr>\n      <th>0</th>\n      <td>State</td>\n      <td>Synset('state.n.01')</td>\n    </tr>\n    <tr>\n      <th>1</th>\n      <td>representatives</td>\n      <td>Synset('congressman.n.01')</td>\n    </tr>\n    <tr>\n      <th>2</th>\n      <td>decided</td>\n      <td>Synset('decide.v.03')</td>\n    </tr>\n    <tr>\n      <th>3</th>\n      <td>Thursday</td>\n      <td>Synset('thursday.n.01')</td>\n    </tr>\n    <tr>\n      <th>4</th>\n      <td>kind</td>\n      <td>Synset('kind.n.01')</td>\n    </tr>\n    <tr>\n      <th>...</th>\n      <td>...</td>\n      <td>...</td>\n    </tr>\n    <tr>\n      <th>456</th>\n      <td>ineligible</td>\n      <td>Synset('ineligible.a.01')</td>\n    </tr>\n    <tr>\n      <th>457</th>\n      <td>merely</td>\n      <td>Synset('merely.r.01')</td>\n    </tr>\n    <tr>\n      <th>458</th>\n      <td>present</td>\n      <td>Synset('present.a.02')</td>\n    </tr>\n    <tr>\n      <th>459</th>\n      <td>last</td>\n      <td>Synset('last.s.01')</td>\n    </tr>\n    <tr>\n      <th>460</th>\n      <td>season</td>\n      <td>Synset('season.n.01')</td>\n    </tr>\n  </tbody>\n</table>\n<p>461 rows × 2 columns</p>\n</div>"
     },
     "metadata": {},
     "output_type": "display_data"
    }
   ],
   "source": [
    "df_one = pd.DataFrame({'Words': sentences_tag[0], 'Synset': sentences_tag[1]})\n",
    "display(df_one)"
   ],
   "metadata": {
    "collapsed": false,
    "ExecuteTime": {
     "start_time": "2023-04-25T16:21:05.556701Z",
     "end_time": "2023-04-25T16:21:05.607815Z"
    }
   }
  },
  {
   "cell_type": "markdown",
   "source": [
    "### Synset annotati dalla mia funzione:"
   ],
   "metadata": {
    "collapsed": false
   }
  },
  {
   "cell_type": "code",
   "execution_count": 12,
   "outputs": [
    {
     "data": {
      "text/plain": "               Words                  Synset\n0              State    Synset('state.n.02')\n1    representatives                    None\n2            decided   Synset('decide.v.02')\n3           Thursday                    None\n4             taking   Synset('accept.v.02')\n..               ...                     ...\n642             1959                    None\n643           merely   Synset('merely.r.01')\n644          present  Synset('present.n.01')\n645             last     Synset('last.a.02')\n646           season   Synset('season.n.01')\n\n[647 rows x 2 columns]",
      "text/html": "<div>\n<style scoped>\n    .dataframe tbody tr th:only-of-type {\n        vertical-align: middle;\n    }\n\n    .dataframe tbody tr th {\n        vertical-align: top;\n    }\n\n    .dataframe thead th {\n        text-align: right;\n    }\n</style>\n<table border=\"1\" class=\"dataframe\">\n  <thead>\n    <tr style=\"text-align: right;\">\n      <th></th>\n      <th>Words</th>\n      <th>Synset</th>\n    </tr>\n  </thead>\n  <tbody>\n    <tr>\n      <th>0</th>\n      <td>State</td>\n      <td>Synset('state.n.02')</td>\n    </tr>\n    <tr>\n      <th>1</th>\n      <td>representatives</td>\n      <td>None</td>\n    </tr>\n    <tr>\n      <th>2</th>\n      <td>decided</td>\n      <td>Synset('decide.v.02')</td>\n    </tr>\n    <tr>\n      <th>3</th>\n      <td>Thursday</td>\n      <td>None</td>\n    </tr>\n    <tr>\n      <th>4</th>\n      <td>taking</td>\n      <td>Synset('accept.v.02')</td>\n    </tr>\n    <tr>\n      <th>...</th>\n      <td>...</td>\n      <td>...</td>\n    </tr>\n    <tr>\n      <th>642</th>\n      <td>1959</td>\n      <td>None</td>\n    </tr>\n    <tr>\n      <th>643</th>\n      <td>merely</td>\n      <td>Synset('merely.r.01')</td>\n    </tr>\n    <tr>\n      <th>644</th>\n      <td>present</td>\n      <td>Synset('present.n.01')</td>\n    </tr>\n    <tr>\n      <th>645</th>\n      <td>last</td>\n      <td>Synset('last.a.02')</td>\n    </tr>\n    <tr>\n      <th>646</th>\n      <td>season</td>\n      <td>Synset('season.n.01')</td>\n    </tr>\n  </tbody>\n</table>\n<p>647 rows × 2 columns</p>\n</div>"
     },
     "metadata": {},
     "output_type": "display_data"
    }
   ],
   "source": [
    "my_sentences_tag = l(sentences)\n",
    "df = pd.DataFrame({'Words': my_sentences_tag[0], 'Synset': my_sentences_tag[1]})\n",
    "display(df)"
   ],
   "metadata": {
    "collapsed": false,
    "ExecuteTime": {
     "start_time": "2023-04-25T16:20:54.050862Z",
     "end_time": "2023-04-25T16:20:54.768484Z"
    }
   }
  },
  {
   "cell_type": "code",
   "execution_count": 11,
   "outputs": [
    {
     "name": "stdout",
     "output_type": "stream",
     "text": [
      "Synset che matchano: 141 \n",
      "Parole analizzate: 417\n",
      "Accuratezza: 0.3381\n"
     ]
    }
   ],
   "source": [
    "num, word_num = matching_synset(sentences_tag, my_sentences_tag)\n",
    "print('Synset che matchano:', num, '\\nParole analizzate:', word_num)\n",
    "print('Accuratezza:', round(num/word_num, 4))"
   ],
   "metadata": {
    "collapsed": false,
    "ExecuteTime": {
     "start_time": "2023-04-25T16:17:53.074138Z",
     "end_time": "2023-04-25T16:17:53.111539Z"
    }
   }
  }
 ],
 "metadata": {
  "kernelspec": {
   "display_name": "Python 3",
   "language": "python",
   "name": "python3"
  },
  "language_info": {
   "codemirror_mode": {
    "name": "ipython",
    "version": 2
   },
   "file_extension": ".py",
   "mimetype": "text/x-python",
   "name": "python",
   "nbconvert_exporter": "python",
   "pygments_lexer": "ipython2",
   "version": "2.7.6"
  }
 },
 "nbformat": 4,
 "nbformat_minor": 0
}
