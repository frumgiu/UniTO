{
 "cells": [
  {
   "cell_type": "code",
   "execution_count": 55,
   "metadata": {
    "collapsed": true,
    "ExecuteTime": {
     "start_time": "2023-04-27T09:16:46.138681Z",
     "end_time": "2023-04-27T09:16:46.145132Z"
    }
   },
   "outputs": [],
   "source": [
    "from UtilsDue import get_random_sentences, get_random_word\n",
    "from LeskAlgorithm import my_lesk as l"
   ]
  },
  {
   "cell_type": "markdown",
   "source": [
    "### Frasi estratte:"
   ],
   "metadata": {
    "collapsed": false
   }
  },
  {
   "cell_type": "code",
   "execution_count": 56,
   "outputs": [
    {
     "ename": "KeyboardInterrupt",
     "evalue": "",
     "output_type": "error",
     "traceback": [
      "\u001B[0;31m---------------------------------------------------------------------------\u001B[0m",
      "\u001B[0;31mKeyboardInterrupt\u001B[0m                         Traceback (most recent call last)",
      "Cell \u001B[0;32mIn[56], line 1\u001B[0m\n\u001B[0;32m----> 1\u001B[0m sentences, sentences_tag \u001B[38;5;241m=\u001B[39m \u001B[43mget_random_sentences\u001B[49m\u001B[43m(\u001B[49m\u001B[38;5;241;43m50\u001B[39;49m\u001B[43m)\u001B[49m\n\u001B[1;32m      2\u001B[0m \u001B[38;5;28mprint\u001B[39m(sentences)\n",
      "File \u001B[0;32m~/PycharmProjects/TLNRadicioni/EsercizioDue/UtilsDue.py:24\u001B[0m, in \u001B[0;36mget_random_sentences\u001B[0;34m(num_sentences)\u001B[0m\n\u001B[1;32m     22\u001B[0m sentence \u001B[38;5;241m=\u001B[39m \u001B[38;5;124m\"\u001B[39m\u001B[38;5;124m \u001B[39m\u001B[38;5;124m\"\u001B[39m\u001B[38;5;241m.\u001B[39mjoin(semcor\u001B[38;5;241m.\u001B[39msents()[selected_id])\n\u001B[1;32m     23\u001B[0m tag_sentence \u001B[38;5;241m=\u001B[39m []\n\u001B[0;32m---> 24\u001B[0m tags \u001B[38;5;241m=\u001B[39m \u001B[43msemcor\u001B[49m\u001B[38;5;241;43m.\u001B[39;49m\u001B[43mtagged_sents\u001B[49m\u001B[43m(\u001B[49m\u001B[43mtag\u001B[49m\u001B[38;5;241;43m=\u001B[39;49m\u001B[38;5;124;43m\"\u001B[39;49m\u001B[38;5;124;43msem\u001B[39;49m\u001B[38;5;124;43m\"\u001B[39;49m\u001B[43m)\u001B[49m\u001B[43m[\u001B[49m\u001B[43mselected_id\u001B[49m\u001B[43m]\u001B[49m\n\u001B[1;32m     25\u001B[0m \u001B[38;5;28;01mfor\u001B[39;00m i \u001B[38;5;129;01min\u001B[39;00m \u001B[38;5;28mrange\u001B[39m(\u001B[38;5;28mlen\u001B[39m(tags) \u001B[38;5;241m-\u001B[39m \u001B[38;5;241m1\u001B[39m):\n\u001B[1;32m     26\u001B[0m     \u001B[38;5;28;01mif\u001B[39;00m \u001B[38;5;28misinstance\u001B[39m(tags[i], Tree) \u001B[38;5;129;01mand\u001B[39;00m \u001B[38;5;28misinstance\u001B[39m(tags[i][\u001B[38;5;241m0\u001B[39m], \u001B[38;5;28mstr\u001B[39m) \u001B[38;5;129;01mand\u001B[39;00m \u001B[38;5;28misinstance\u001B[39m(tags[i]\u001B[38;5;241m.\u001B[39mlabel(), Lemma) \\\n\u001B[1;32m     27\u001B[0m             \u001B[38;5;129;01mand\u001B[39;00m tags[i]\u001B[38;5;241m.\u001B[39mlabel()\u001B[38;5;241m.\u001B[39msynset()\u001B[38;5;241m.\u001B[39mpos() \u001B[38;5;241m==\u001B[39m \u001B[38;5;124m'\u001B[39m\u001B[38;5;124mn\u001B[39m\u001B[38;5;124m'\u001B[39m:\n",
      "File \u001B[0;32m~/PycharmProjects/TLNRadicioni/venv/lib/python3.8/site-packages/nltk/collections.py:172\u001B[0m, in \u001B[0;36mAbstractLazySequence.__getitem__\u001B[0;34m(self, i)\u001B[0m\n\u001B[1;32m    170\u001B[0m \u001B[38;5;66;03m# Use iterate_from to extract it.\u001B[39;00m\n\u001B[1;32m    171\u001B[0m \u001B[38;5;28;01mtry\u001B[39;00m:\n\u001B[0;32m--> 172\u001B[0m     \u001B[38;5;28;01mreturn\u001B[39;00m \u001B[38;5;28;43mnext\u001B[39;49m\u001B[43m(\u001B[49m\u001B[38;5;28;43mself\u001B[39;49m\u001B[38;5;241;43m.\u001B[39;49m\u001B[43miterate_from\u001B[49m\u001B[43m(\u001B[49m\u001B[43mi\u001B[49m\u001B[43m)\u001B[49m\u001B[43m)\u001B[49m\n\u001B[1;32m    173\u001B[0m \u001B[38;5;28;01mexcept\u001B[39;00m \u001B[38;5;167;01mStopIteration\u001B[39;00m \u001B[38;5;28;01mas\u001B[39;00m e:\n\u001B[1;32m    174\u001B[0m     \u001B[38;5;28;01mraise\u001B[39;00m \u001B[38;5;167;01mIndexError\u001B[39;00m(\u001B[38;5;124m\"\u001B[39m\u001B[38;5;124mindex out of range\u001B[39m\u001B[38;5;124m\"\u001B[39m) \u001B[38;5;28;01mfrom\u001B[39;00m \u001B[38;5;21;01me\u001B[39;00m\n",
      "File \u001B[0;32m~/PycharmProjects/TLNRadicioni/venv/lib/python3.8/site-packages/nltk/corpus/reader/util.py:424\u001B[0m, in \u001B[0;36mConcatenatedCorpusView.iterate_from\u001B[0;34m(self, start_tok)\u001B[0m\n\u001B[1;32m    421\u001B[0m     \u001B[38;5;28mself\u001B[39m\u001B[38;5;241m.\u001B[39m_open_piece \u001B[38;5;241m=\u001B[39m piece\n\u001B[1;32m    423\u001B[0m \u001B[38;5;66;03m# Get everything we can from this piece.\u001B[39;00m\n\u001B[0;32m--> 424\u001B[0m \u001B[38;5;28;01myield from\u001B[39;00m piece\u001B[38;5;241m.\u001B[39miterate_from(\u001B[38;5;28mmax\u001B[39m(\u001B[38;5;241m0\u001B[39m, start_tok \u001B[38;5;241m-\u001B[39m offset))\n\u001B[1;32m    426\u001B[0m \u001B[38;5;66;03m# Update the offset table.\u001B[39;00m\n\u001B[1;32m    427\u001B[0m \u001B[38;5;28;01mif\u001B[39;00m piecenum \u001B[38;5;241m+\u001B[39m \u001B[38;5;241m1\u001B[39m \u001B[38;5;241m==\u001B[39m \u001B[38;5;28mlen\u001B[39m(\u001B[38;5;28mself\u001B[39m\u001B[38;5;241m.\u001B[39m_offsets):\n",
      "File \u001B[0;32m~/PycharmProjects/TLNRadicioni/venv/lib/python3.8/site-packages/nltk/corpus/reader/util.py:306\u001B[0m, in \u001B[0;36mStreamBackedCorpusView.iterate_from\u001B[0;34m(self, start_tok)\u001B[0m\n\u001B[1;32m    304\u001B[0m \u001B[38;5;28mself\u001B[39m\u001B[38;5;241m.\u001B[39m_current_toknum \u001B[38;5;241m=\u001B[39m toknum\n\u001B[1;32m    305\u001B[0m \u001B[38;5;28mself\u001B[39m\u001B[38;5;241m.\u001B[39m_current_blocknum \u001B[38;5;241m=\u001B[39m block_index\n\u001B[0;32m--> 306\u001B[0m tokens \u001B[38;5;241m=\u001B[39m \u001B[38;5;28;43mself\u001B[39;49m\u001B[38;5;241;43m.\u001B[39;49m\u001B[43mread_block\u001B[49m\u001B[43m(\u001B[49m\u001B[38;5;28;43mself\u001B[39;49m\u001B[38;5;241;43m.\u001B[39;49m\u001B[43m_stream\u001B[49m\u001B[43m)\u001B[49m\n\u001B[1;32m    307\u001B[0m \u001B[38;5;28;01massert\u001B[39;00m \u001B[38;5;28misinstance\u001B[39m(tokens, (\u001B[38;5;28mtuple\u001B[39m, \u001B[38;5;28mlist\u001B[39m, AbstractLazySequence)), (\n\u001B[1;32m    308\u001B[0m     \u001B[38;5;124m\"\u001B[39m\u001B[38;5;124mblock reader \u001B[39m\u001B[38;5;132;01m%s\u001B[39;00m\u001B[38;5;124m() should return list or tuple.\u001B[39m\u001B[38;5;124m\"\u001B[39m\n\u001B[1;32m    309\u001B[0m     \u001B[38;5;241m%\u001B[39m \u001B[38;5;28mself\u001B[39m\u001B[38;5;241m.\u001B[39mread_block\u001B[38;5;241m.\u001B[39m\u001B[38;5;18m__name__\u001B[39m\n\u001B[1;32m    310\u001B[0m )\n\u001B[1;32m    311\u001B[0m num_toks \u001B[38;5;241m=\u001B[39m \u001B[38;5;28mlen\u001B[39m(tokens)\n",
      "File \u001B[0;32m~/PycharmProjects/TLNRadicioni/venv/lib/python3.8/site-packages/nltk/corpus/reader/xmldocs.py:391\u001B[0m, in \u001B[0;36mXMLCorpusView.read_block\u001B[0;34m(self, stream, tagspec, elt_handler)\u001B[0m\n\u001B[1;32m    388\u001B[0m \u001B[38;5;28;01melse\u001B[39;00m:\n\u001B[1;32m    389\u001B[0m     \u001B[38;5;28mself\u001B[39m\u001B[38;5;241m.\u001B[39m_tag_context[pos] \u001B[38;5;241m=\u001B[39m \u001B[38;5;28mtuple\u001B[39m(context)\n\u001B[0;32m--> 391\u001B[0m \u001B[38;5;28;01mreturn\u001B[39;00m [\n\u001B[1;32m    392\u001B[0m     elt_handler(\n\u001B[1;32m    393\u001B[0m         ElementTree\u001B[38;5;241m.\u001B[39mfromstring(elt\u001B[38;5;241m.\u001B[39mencode(\u001B[38;5;124m\"\u001B[39m\u001B[38;5;124mascii\u001B[39m\u001B[38;5;124m\"\u001B[39m, \u001B[38;5;124m\"\u001B[39m\u001B[38;5;124mxmlcharrefreplace\u001B[39m\u001B[38;5;124m\"\u001B[39m)),\n\u001B[1;32m    394\u001B[0m         context,\n\u001B[1;32m    395\u001B[0m     )\n\u001B[1;32m    396\u001B[0m     \u001B[38;5;28;01mfor\u001B[39;00m (elt, context) \u001B[38;5;129;01min\u001B[39;00m elts\n\u001B[1;32m    397\u001B[0m ]\n",
      "File \u001B[0;32m~/PycharmProjects/TLNRadicioni/venv/lib/python3.8/site-packages/nltk/corpus/reader/xmldocs.py:392\u001B[0m, in \u001B[0;36m<listcomp>\u001B[0;34m(.0)\u001B[0m\n\u001B[1;32m    388\u001B[0m \u001B[38;5;28;01melse\u001B[39;00m:\n\u001B[1;32m    389\u001B[0m     \u001B[38;5;28mself\u001B[39m\u001B[38;5;241m.\u001B[39m_tag_context[pos] \u001B[38;5;241m=\u001B[39m \u001B[38;5;28mtuple\u001B[39m(context)\n\u001B[1;32m    391\u001B[0m \u001B[38;5;28;01mreturn\u001B[39;00m [\n\u001B[0;32m--> 392\u001B[0m     \u001B[43melt_handler\u001B[49m\u001B[43m(\u001B[49m\n\u001B[1;32m    393\u001B[0m \u001B[43m        \u001B[49m\u001B[43mElementTree\u001B[49m\u001B[38;5;241;43m.\u001B[39;49m\u001B[43mfromstring\u001B[49m\u001B[43m(\u001B[49m\u001B[43melt\u001B[49m\u001B[38;5;241;43m.\u001B[39;49m\u001B[43mencode\u001B[49m\u001B[43m(\u001B[49m\u001B[38;5;124;43m\"\u001B[39;49m\u001B[38;5;124;43mascii\u001B[39;49m\u001B[38;5;124;43m\"\u001B[39;49m\u001B[43m,\u001B[49m\u001B[43m \u001B[49m\u001B[38;5;124;43m\"\u001B[39;49m\u001B[38;5;124;43mxmlcharrefreplace\u001B[39;49m\u001B[38;5;124;43m\"\u001B[39;49m\u001B[43m)\u001B[49m\u001B[43m)\u001B[49m\u001B[43m,\u001B[49m\n\u001B[1;32m    394\u001B[0m \u001B[43m        \u001B[49m\u001B[43mcontext\u001B[49m\u001B[43m,\u001B[49m\n\u001B[1;32m    395\u001B[0m \u001B[43m    \u001B[49m\u001B[43m)\u001B[49m\n\u001B[1;32m    396\u001B[0m     \u001B[38;5;28;01mfor\u001B[39;00m (elt, context) \u001B[38;5;129;01min\u001B[39;00m elts\n\u001B[1;32m    397\u001B[0m ]\n",
      "File \u001B[0;32m~/PycharmProjects/TLNRadicioni/venv/lib/python3.8/site-packages/nltk/corpus/reader/semcor.py:276\u001B[0m, in \u001B[0;36mSemcorWordView.handle_elt\u001B[0;34m(self, elt, context)\u001B[0m\n\u001B[1;32m    274\u001B[0m \u001B[38;5;28;01mdef\u001B[39;00m \u001B[38;5;21mhandle_elt\u001B[39m(\u001B[38;5;28mself\u001B[39m, elt, context):\n\u001B[1;32m    275\u001B[0m     \u001B[38;5;28;01mif\u001B[39;00m \u001B[38;5;28mself\u001B[39m\u001B[38;5;241m.\u001B[39m_sent:\n\u001B[0;32m--> 276\u001B[0m         \u001B[38;5;28;01mreturn\u001B[39;00m \u001B[38;5;28;43mself\u001B[39;49m\u001B[38;5;241;43m.\u001B[39;49m\u001B[43mhandle_sent\u001B[49m\u001B[43m(\u001B[49m\u001B[43melt\u001B[49m\u001B[43m)\u001B[49m\n\u001B[1;32m    277\u001B[0m     \u001B[38;5;28;01melse\u001B[39;00m:\n\u001B[1;32m    278\u001B[0m         \u001B[38;5;28;01mreturn\u001B[39;00m \u001B[38;5;28mself\u001B[39m\u001B[38;5;241m.\u001B[39mhandle_word(elt)\n",
      "File \u001B[0;32m~/PycharmProjects/TLNRadicioni/venv/lib/python3.8/site-packages/nltk/corpus/reader/semcor.py:289\u001B[0m, in \u001B[0;36mSemcorWordView.handle_sent\u001B[0;34m(self, elt)\u001B[0m\n\u001B[1;32m    287\u001B[0m \u001B[38;5;28;01mfor\u001B[39;00m child \u001B[38;5;129;01min\u001B[39;00m elt:\n\u001B[1;32m    288\u001B[0m     \u001B[38;5;28;01mif\u001B[39;00m child\u001B[38;5;241m.\u001B[39mtag \u001B[38;5;129;01min\u001B[39;00m (\u001B[38;5;124m\"\u001B[39m\u001B[38;5;124mwf\u001B[39m\u001B[38;5;124m\"\u001B[39m, \u001B[38;5;124m\"\u001B[39m\u001B[38;5;124mpunc\u001B[39m\u001B[38;5;124m\"\u001B[39m):\n\u001B[0;32m--> 289\u001B[0m         itm \u001B[38;5;241m=\u001B[39m \u001B[38;5;28;43mself\u001B[39;49m\u001B[38;5;241;43m.\u001B[39;49m\u001B[43mhandle_word\u001B[49m\u001B[43m(\u001B[49m\u001B[43mchild\u001B[49m\u001B[43m)\u001B[49m\n\u001B[1;32m    290\u001B[0m         \u001B[38;5;28;01mif\u001B[39;00m \u001B[38;5;28mself\u001B[39m\u001B[38;5;241m.\u001B[39m_unit \u001B[38;5;241m==\u001B[39m \u001B[38;5;124m\"\u001B[39m\u001B[38;5;124mword\u001B[39m\u001B[38;5;124m\"\u001B[39m:\n\u001B[1;32m    291\u001B[0m             sent\u001B[38;5;241m.\u001B[39mextend(itm)\n",
      "File \u001B[0;32m~/PycharmProjects/TLNRadicioni/venv/lib/python3.8/site-packages/nltk/corpus/reader/semcor.py:281\u001B[0m, in \u001B[0;36mSemcorWordView.handle_word\u001B[0;34m(self, elt)\u001B[0m\n\u001B[1;32m    280\u001B[0m \u001B[38;5;28;01mdef\u001B[39;00m \u001B[38;5;21mhandle_word\u001B[39m(\u001B[38;5;28mself\u001B[39m, elt):\n\u001B[0;32m--> 281\u001B[0m     \u001B[38;5;28;01mreturn\u001B[39;00m \u001B[43mSemcorCorpusReader\u001B[49m\u001B[38;5;241;43m.\u001B[39;49m\u001B[43m_word\u001B[49m\u001B[43m(\u001B[49m\n\u001B[1;32m    282\u001B[0m \u001B[43m        \u001B[49m\u001B[43melt\u001B[49m\u001B[43m,\u001B[49m\u001B[43m \u001B[49m\u001B[38;5;28;43mself\u001B[39;49m\u001B[38;5;241;43m.\u001B[39;49m\u001B[43m_unit\u001B[49m\u001B[43m,\u001B[49m\u001B[43m \u001B[49m\u001B[38;5;28;43mself\u001B[39;49m\u001B[38;5;241;43m.\u001B[39;49m\u001B[43m_pos_tag\u001B[49m\u001B[43m,\u001B[49m\u001B[43m \u001B[49m\u001B[38;5;28;43mself\u001B[39;49m\u001B[38;5;241;43m.\u001B[39;49m\u001B[43m_sem_tag\u001B[49m\u001B[43m,\u001B[49m\u001B[43m \u001B[49m\u001B[38;5;28;43mself\u001B[39;49m\u001B[38;5;241;43m.\u001B[39;49m\u001B[43m_wordnet\u001B[49m\n\u001B[1;32m    283\u001B[0m \u001B[43m    \u001B[49m\u001B[43m)\u001B[49m\n",
      "File \u001B[0;32m~/PycharmProjects/TLNRadicioni/venv/lib/python3.8/site-packages/nltk/corpus/reader/semcor.py:192\u001B[0m, in \u001B[0;36mSemcorCorpusReader._word\u001B[0;34m(xmlword, unit, pos_tag, sem_tag, wordnet)\u001B[0m\n\u001B[1;32m    190\u001B[0m \u001B[38;5;28;01mif\u001B[39;00m sensenum \u001B[38;5;129;01mis\u001B[39;00m \u001B[38;5;129;01mnot\u001B[39;00m \u001B[38;5;28;01mNone\u001B[39;00m:\n\u001B[1;32m    191\u001B[0m     \u001B[38;5;28;01mtry\u001B[39;00m:\n\u001B[0;32m--> 192\u001B[0m         sense \u001B[38;5;241m=\u001B[39m \u001B[43mwordnet\u001B[49m\u001B[38;5;241;43m.\u001B[39;49m\u001B[43mlemma_from_key\u001B[49m\u001B[43m(\u001B[49m\u001B[43msense_key\u001B[49m\u001B[43m)\u001B[49m  \u001B[38;5;66;03m# Lemma object\u001B[39;00m\n\u001B[1;32m    193\u001B[0m     \u001B[38;5;28;01mexcept\u001B[39;00m \u001B[38;5;167;01mException\u001B[39;00m:\n\u001B[1;32m    194\u001B[0m         \u001B[38;5;66;03m# cannot retrieve the wordnet.Lemma object. possible reasons:\u001B[39;00m\n\u001B[1;32m    195\u001B[0m         \u001B[38;5;66;03m#  (a) the wordnet corpus is not downloaded;\u001B[39;00m\n\u001B[1;32m    196\u001B[0m         \u001B[38;5;66;03m#  (b) a nonexistent sense is annotated: e.g., such.s.00 triggers:\u001B[39;00m\n\u001B[1;32m    197\u001B[0m         \u001B[38;5;66;03m#  nltk.corpus.reader.wordnet.WordNetError: No synset found for key u'such%5:00:01:specified:00'\u001B[39;00m\n\u001B[1;32m    198\u001B[0m         \u001B[38;5;66;03m# solution: just use the lemma name as a string\u001B[39;00m\n\u001B[1;32m    199\u001B[0m         \u001B[38;5;28;01mtry\u001B[39;00m:\n",
      "File \u001B[0;32m~/PycharmProjects/TLNRadicioni/venv/lib/python3.8/site-packages/nltk/corpus/reader/wordnet.py:1477\u001B[0m, in \u001B[0;36mWordNetCorpusReader.lemma_from_key\u001B[0;34m(self, key)\u001B[0m\n\u001B[1;32m   1474\u001B[0m     \u001B[38;5;28mself\u001B[39m\u001B[38;5;241m.\u001B[39m_key_synset_file \u001B[38;5;241m=\u001B[39m \u001B[38;5;28mself\u001B[39m\u001B[38;5;241m.\u001B[39mopen(\u001B[38;5;124m\"\u001B[39m\u001B[38;5;124mindex.sense\u001B[39m\u001B[38;5;124m\"\u001B[39m)\n\u001B[1;32m   1476\u001B[0m \u001B[38;5;66;03m# Find the synset for the lemma.\u001B[39;00m\n\u001B[0;32m-> 1477\u001B[0m synset_line \u001B[38;5;241m=\u001B[39m \u001B[43m_binary_search_file\u001B[49m\u001B[43m(\u001B[49m\u001B[38;5;28;43mself\u001B[39;49m\u001B[38;5;241;43m.\u001B[39;49m\u001B[43m_key_synset_file\u001B[49m\u001B[43m,\u001B[49m\u001B[43m \u001B[49m\u001B[43mkey\u001B[49m\u001B[43m)\u001B[49m\n\u001B[1;32m   1478\u001B[0m \u001B[38;5;28;01mif\u001B[39;00m \u001B[38;5;129;01mnot\u001B[39;00m synset_line:\n\u001B[1;32m   1479\u001B[0m     \u001B[38;5;28;01mraise\u001B[39;00m WordNetError(\u001B[38;5;124m\"\u001B[39m\u001B[38;5;124mNo synset found for key \u001B[39m\u001B[38;5;132;01m%r\u001B[39;00m\u001B[38;5;124m\"\u001B[39m \u001B[38;5;241m%\u001B[39m key)\n",
      "File \u001B[0;32m~/PycharmProjects/TLNRadicioni/venv/lib/python3.8/site-packages/nltk/util.py:1053\u001B[0m, in \u001B[0;36mbinary_search_file\u001B[0;34m(file, key, cache, cacheDepth)\u001B[0m\n\u001B[1;32m   1051\u001B[0m     file\u001B[38;5;241m.\u001B[39mdiscard_line()\n\u001B[1;32m   1052\u001B[0m offset \u001B[38;5;241m=\u001B[39m file\u001B[38;5;241m.\u001B[39mtell()\n\u001B[0;32m-> 1053\u001B[0m line \u001B[38;5;241m=\u001B[39m \u001B[43mfile\u001B[49m\u001B[38;5;241;43m.\u001B[39;49m\u001B[43mreadline\u001B[49m\u001B[43m(\u001B[49m\u001B[43m)\u001B[49m\n\u001B[1;32m   1054\u001B[0m \u001B[38;5;28;01mif\u001B[39;00m line \u001B[38;5;241m!=\u001B[39m \u001B[38;5;124m\"\u001B[39m\u001B[38;5;124m\"\u001B[39m:\n\u001B[1;32m   1055\u001B[0m     \u001B[38;5;28;01mbreak\u001B[39;00m\n",
      "File \u001B[0;32m~/PycharmProjects/TLNRadicioni/venv/lib/python3.8/site-packages/nltk/data.py:1108\u001B[0m, in \u001B[0;36mSeekableUnicodeStreamReader.readline\u001B[0;34m(self, size)\u001B[0m\n\u001B[1;32m   1105\u001B[0m     new_chars \u001B[38;5;241m+\u001B[39m\u001B[38;5;241m=\u001B[39m \u001B[38;5;28mself\u001B[39m\u001B[38;5;241m.\u001B[39m_read(\u001B[38;5;241m1\u001B[39m)\n\u001B[1;32m   1107\u001B[0m chars \u001B[38;5;241m+\u001B[39m\u001B[38;5;241m=\u001B[39m new_chars\n\u001B[0;32m-> 1108\u001B[0m lines \u001B[38;5;241m=\u001B[39m \u001B[43mchars\u001B[49m\u001B[38;5;241;43m.\u001B[39;49m\u001B[43msplitlines\u001B[49m\u001B[43m(\u001B[49m\u001B[38;5;28;43;01mTrue\u001B[39;49;00m\u001B[43m)\u001B[49m\n\u001B[1;32m   1109\u001B[0m \u001B[38;5;28;01mif\u001B[39;00m \u001B[38;5;28mlen\u001B[39m(lines) \u001B[38;5;241m>\u001B[39m \u001B[38;5;241m1\u001B[39m:\n\u001B[1;32m   1110\u001B[0m     line \u001B[38;5;241m=\u001B[39m lines[\u001B[38;5;241m0\u001B[39m]\n",
      "\u001B[0;31mKeyboardInterrupt\u001B[0m: "
     ]
    }
   ],
   "source": [
    "sentences, sentences_tag = get_random_sentences(50)\n",
    "print(sentences)"
   ],
   "metadata": {
    "collapsed": false,
    "ExecuteTime": {
     "start_time": "2023-04-27T00:35:32.976758Z",
     "end_time": "2023-04-27T00:39:44.028291Z"
    }
   }
  },
  {
   "cell_type": "code",
   "execution_count": null,
   "outputs": [],
   "source": [
    "for k in range(0, 4):\n",
    "    for z in range(len(sentences_tag[k])):\n",
    "        print(sentences_tag[k][z])\n",
    "    print('\\n')"
   ],
   "metadata": {
    "collapsed": false,
    "ExecuteTime": {
     "start_time": "2023-04-27T00:44:24.703583Z",
     "end_time": "2023-04-27T00:44:24.720905Z"
    }
   }
  },
  {
   "cell_type": "code",
   "execution_count": null,
   "outputs": [],
   "source": [
    "final_tot = 0\n",
    "final_correct = 0\n",
    "for j in range(0, 9):\n",
    "    tot = 0\n",
    "    correct = 0\n",
    "    for i in range(len(sentences)):\n",
    "        tot += 1\n",
    "        final_tot += 1\n",
    "        a = get_random_word(sentences_tag[i])\n",
    "        r = l(a.word, sentences[i])\n",
    "        if r is not None and r.name().find(a.tag) == 0 :\n",
    "            print(r)\n",
    "            print(a.tag)\n",
    "            correct += 1\n",
    "            final_correct += 1\n",
    "\n",
    "    print('T:', tot, 'C:', correct)\n",
    "print('T final:', final_tot, 'C final:', final_correct, 'Acc:', final_correct/final_tot)"
   ],
   "metadata": {
    "collapsed": false,
    "ExecuteTime": {
     "start_time": "2023-04-27T00:45:00.071003Z",
     "end_time": "2023-04-27T00:45:00.085610Z"
    }
   }
  },
  {
   "cell_type": "code",
   "execution_count": null,
   "outputs": [],
   "source": [],
   "metadata": {
    "collapsed": false
   }
  }
 ],
 "metadata": {
  "kernelspec": {
   "display_name": "Python 3",
   "language": "python",
   "name": "python3"
  },
  "language_info": {
   "codemirror_mode": {
    "name": "ipython",
    "version": 2
   },
   "file_extension": ".py",
   "mimetype": "text/x-python",
   "name": "python",
   "nbconvert_exporter": "python",
   "pygments_lexer": "ipython2",
   "version": "2.7.6"
  }
 },
 "nbformat": 4,
 "nbformat_minor": 0
}
