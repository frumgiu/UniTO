{
 "cells": [
  {
   "cell_type": "code",
   "execution_count": 1,
   "metadata": {
    "collapsed": true,
    "ExecuteTime": {
     "start_time": "2023-04-27T11:20:06.163872Z",
     "end_time": "2023-04-27T11:20:08.260651Z"
    }
   },
   "outputs": [],
   "source": [
    "from UtilsDue import get_random_sentences, get_random_word\n",
    "from LeskAlgorithm import my_lesk as l"
   ]
  },
  {
   "cell_type": "markdown",
   "source": [
    "### Frasi estratte:"
   ],
   "metadata": {
    "collapsed": false
   }
  },
  {
   "cell_type": "code",
   "execution_count": 9,
   "outputs": [
    {
     "name": "stdout",
     "output_type": "stream",
     "text": [
      "The reader should be familiar enough with projections by now so that he sees that * * f and in general that * * f . \n",
      "\n",
      "She studied it for a long time . \n",
      "\n",
      "the personal pronoun has dominant stress because `` he '' has not been mentioned previously . \n",
      "\n",
      "It is a sort of academic ring-around-a rosy and you solve it . \n",
      "\n",
      "While this was being discussed , we saw the militia to the west of us fanning out and breaking into little clusters of two and three men as they approached the road . \n",
      "\n",
      "Wingman , stay clear , he prayed . \n",
      "\n",
      "It is almost certain that some of these , usually a trifle smaller than the honeybees , are andrenas or mining bees . \n",
      "\n",
      "`` One of the things which makes our lives drab and empty and which leaves us , at the end of the day , fatigued and deflated spiritually is the pressure of the taxing , practical , utilitarian concern of common-sense objects . \n",
      "\n",
      "There are few data on the boa constrictor , those for the anaconda are unconvincing , and there is nothing at all on the amethystine python . \n",
      "\n",
      "King Muhammad /5 , was known to be most sympathetic to the formation of local self-government and made the first firm promise of elections on May Day , 1957 . \n",
      "\n",
      "Brannon had no slicker . \n",
      "\n",
      "The horse continued to snort . \n",
      "\n",
      "He felt himself now , as he himself says in his Confessions , at a crucial point of his life . \n",
      "\n",
      "The ratio of the measured antenna temperature change during a drift scan across the moon to the average brightness temperature of the moon over the antenna beam ( assuming that the brightness temperature of the sky is negligible ) was found , by graphical integration of the antenna directivity diagram , to be 0.85 . \n",
      "\n",
      "`` It took me five hours to write it that way '' . \n",
      "\n",
      "If this capacity had not failed them , they would see that their enemy has made a disastrous miscalculation . \n",
      "\n",
      "These would be his hardest years , she knew , and he missed his father desperately . \n",
      "\n",
      "Children whose reading scores were at least one standard deviation below the regression line of each total third grade school population were considered under-achievers for the purposes of sample selection . \n",
      "\n",
      "This is a prosecution for refusal to be inducted into the armed services , in violation of the provisions of the Universal Military Training and Service Act , 62 Stat. 604 , 622 , 50 U. S. C. App. 462 ( a ) . \n",
      "\n",
      "Fourth , the type of vocational training programs should be related to the employment opportunities in the general locality . \n",
      "\n"
     ]
    }
   ],
   "source": [
    "sentences, sentences_tag = get_random_sentences(20)\n",
    "for s in sentences:\n",
    "    print(s, '\\n')"
   ],
   "metadata": {
    "collapsed": false,
    "ExecuteTime": {
     "start_time": "2023-04-27T11:23:03.300478Z",
     "end_time": "2023-04-27T11:23:08.078844Z"
    }
   }
  },
  {
   "cell_type": "code",
   "execution_count": 10,
   "outputs": [
    {
     "name": "stdout",
     "output_type": "stream",
     "text": [
      "reader reader.n.01\n",
      "projections projection.n.01\n",
      "\n",
      "\n",
      "long long_time.n.01\n",
      "\n",
      "\n",
      "personal personal_pronoun.n.01\n",
      "stress stress.n.01\n",
      "\n",
      "\n",
      "ring-around-a ring-around-the-rosy.n.01\n",
      "\n",
      "\n",
      "militia militia.n.01\n",
      "west west.n.02\n",
      "clusters bunch.n.01\n",
      "men man.n.01\n",
      "road road.n.01\n",
      "\n",
      "\n",
      "Wingman wingman.n.01\n",
      "\n",
      "\n",
      "honeybees honeybee.n.01\n",
      "mining andrena.n.01\n",
      "\n",
      "\n",
      "things thing.n.03\n",
      "lives life.n.02\n",
      "end end.n.02\n",
      "day day.n.01\n",
      "pressure pressure.n.02\n",
      "concern concern.n.01\n",
      "objects object.n.01\n",
      "\n",
      "\n",
      "data data.n.01\n",
      "boa boa_constrictor.n.01\n",
      "anaconda anaconda.n.01\n",
      "nothing nothing.n.01\n",
      "amethystine amethystine_python.n.01\n",
      "\n",
      "\n",
      "formation constitution.n.02\n",
      "self-government self-government.n.01\n",
      "promise promise.n.01\n",
      "elections election.n.01\n",
      "May may_day.n.01\n",
      "\n",
      "\n",
      "slicker oilskin.n.01\n",
      "\n",
      "\n",
      "horse horse.n.01\n",
      "\n",
      "\n",
      "point point.n.06\n",
      "life life.n.03\n",
      "\n",
      "\n",
      "ratio ratio.n.01\n",
      "antenna antenna.n.01\n",
      "temperature temperature_change.n.01\n",
      "drift drift.n.01\n",
      "scan scan.n.01\n",
      "moon moon.n.01\n",
      "brightness brightness.n.01\n",
      "temperature temperature.n.01\n",
      "moon moon.n.01\n",
      "antenna antenna.n.01\n",
      "beam radio_beam.n.01\n",
      "brightness brightness.n.01\n",
      "temperature temperature.n.01\n",
      "sky sky.n.01\n",
      "integration integration.n.03\n",
      "antenna antenna.n.01\n",
      "directivity directivity.n.01\n",
      "diagram diagram.n.01\n",
      "\n",
      "\n",
      "hours hour.n.01\n",
      "way manner.n.01\n",
      "\n",
      "\n",
      "capacity capacity.n.01\n",
      "enemy enemy.n.01\n",
      "miscalculation miscalculation.n.01\n",
      "\n",
      "\n",
      "years old_age.n.01\n",
      "father father.n.01\n",
      "\n",
      "\n",
      "Children child.n.01\n",
      "reading reading.n.01\n",
      "scores mark.n.01\n",
      "standard standard_deviation.n.01\n",
      "regression regression_line.n.01\n",
      "grade class.n.02\n",
      "school school.n.01\n",
      "population population.n.01\n",
      "under-achievers underachiever.n.01\n",
      "purposes purpose.n.01\n",
      "sample sample_distribution.n.01\n",
      "selection choice.n.02\n",
      "\n",
      "\n",
      "prosecution prosecution.n.01\n",
      "refusal refusal.n.01\n",
      "armed military_service.n.01\n",
      "violation misdemeanor.n.01\n",
      "provisions provision.n.01\n",
      "\n",
      "\n"
     ]
    }
   ],
   "source": [
    "for k in range(0, 19):\n",
    "    for z in range(len(sentences_tag[k])):\n",
    "        print(sentences_tag[k][z])\n",
    "    print('\\n')"
   ],
   "metadata": {
    "collapsed": false,
    "ExecuteTime": {
     "start_time": "2023-04-27T11:23:30.710621Z",
     "end_time": "2023-04-27T11:23:30.752334Z"
    }
   }
  },
  {
   "cell_type": "code",
   "execution_count": null,
   "outputs": [],
   "source": [
    "final_tot = 0\n",
    "final_correct = 0\n",
    "for j in range(0, 9):\n",
    "    tot = 0\n",
    "    correct = 0\n",
    "    for i in range(len(sentences)):\n",
    "        tot += 1\n",
    "        final_tot += 1\n",
    "        a = get_random_word(sentences_tag[i])\n",
    "        r = l(a.word, sentences[i])\n",
    "        if r is not None and r.name().find(a.tag) == 0 :\n",
    "            correct += 1\n",
    "            final_correct += 1\n",
    "\n",
    "    print('T:', tot, 'C:', correct)\n",
    "print('T final:', final_tot, 'C final:', final_correct, 'Acc:', final_correct/final_tot)"
   ],
   "metadata": {
    "collapsed": false,
    "ExecuteTime": {
     "start_time": "2023-04-27T10:57:07.780609Z",
     "end_time": "2023-04-27T10:57:30.473686Z"
    }
   }
  },
  {
   "cell_type": "code",
   "execution_count": 19,
   "outputs": [
    {
     "name": "stdout",
     "output_type": "stream",
     "text": [
      "None\n"
     ]
    }
   ],
   "source": [
    "word = 'whole-word method'\n",
    "sent = 'While we had expected that compulsive children in the unstructured school setting would have difficulty when compared to those in the structured , we were surprised to find that the achievement of the high compulsives within the schools where the whole-word method is used in beginning reading compares favorably with that of the low compulsives .'\n",
    "r = ''\n",
    "if '-' in word:\n",
    "    r = l(word, sent)\n",
    "    if r is None:\n",
    "        r = l(word.replace('-', ''), sent)\n",
    "        if r is None:\n",
    "            r = l(word.replace('-', ' '), sent)\n",
    "print(r)"
   ],
   "metadata": {
    "collapsed": false,
    "ExecuteTime": {
     "start_time": "2023-04-27T11:30:35.214209Z",
     "end_time": "2023-04-27T11:30:35.274194Z"
    }
   }
  },
  {
   "cell_type": "code",
   "execution_count": 20,
   "outputs": [
    {
     "name": "stdout",
     "output_type": "stream",
     "text": [
      "Synset('ring-around-the-rosy.n.01')\n"
     ]
    }
   ],
   "source": [
    "word = 'ring-around-a-rosy'\n",
    "sent = 'it is sort of academic ring-around-a rosy and you solve it'\n",
    "r = ''\n",
    "if '-' in word:\n",
    "    r = l(word, sent)\n",
    "    if r is None:\n",
    "        r = l(word.replace('-', ''), sent)\n",
    "        if r is None:\n",
    "            r = l(word.replace('-', ' '), sent)\n",
    "print(r)"
   ],
   "metadata": {
    "collapsed": false,
    "ExecuteTime": {
     "start_time": "2023-04-27T11:30:38.424189Z",
     "end_time": "2023-04-27T11:30:38.435439Z"
    }
   }
  },
  {
   "cell_type": "code",
   "execution_count": 14,
   "outputs": [],
   "source": [],
   "metadata": {
    "collapsed": false,
    "ExecuteTime": {
     "start_time": "2023-04-27T11:28:53.521699Z",
     "end_time": "2023-04-27T11:28:53.564480Z"
    }
   }
  }
 ],
 "metadata": {
  "kernelspec": {
   "display_name": "Python 3",
   "language": "python",
   "name": "python3"
  },
  "language_info": {
   "codemirror_mode": {
    "name": "ipython",
    "version": 2
   },
   "file_extension": ".py",
   "mimetype": "text/x-python",
   "name": "python",
   "nbconvert_exporter": "python",
   "pygments_lexer": "ipython2",
   "version": "2.7.6"
  }
 },
 "nbformat": 4,
 "nbformat_minor": 0
}
