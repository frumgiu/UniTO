{
 "cells": [
  {
   "cell_type": "code",
   "execution_count": 1,
   "metadata": {
    "collapsed": true,
    "ExecuteTime": {
     "start_time": "2023-04-27T14:53:27.363496Z",
     "end_time": "2023-04-27T14:53:28.580537Z"
    }
   },
   "outputs": [],
   "source": [
    "from UtilsDue import get_random_sentences\n",
    "from LeskAlgorithm import run_exercise"
   ]
  },
  {
   "cell_type": "markdown",
   "source": [
    "### Frasi estratte:"
   ],
   "metadata": {
    "collapsed": false
   }
  },
  {
   "cell_type": "code",
   "execution_count": 2,
   "outputs": [
    {
     "name": "stdout",
     "output_type": "stream",
     "text": [
      "She soared over the new pastor like an avenging angel lest he stray from the path and not know all the truth and gossip of which she was chief repository . \n",
      "\n",
      "In child care , the opposite extreme prevails ; procedures change rapidly and parental confidence probably exceeds anything warranted by established psychological theory . \n",
      "\n",
      "This , of course , does not eliminate from consideration for this purpose agents that are associated naturally with epidemic disease . \n",
      "\n",
      "The discovery that movies are a form of fiction was made in the early years of this century and it was made chiefly by two men , a French magician , Georges Melies , and an American employee of Edison , Edwin S. Porter . \n",
      "\n",
      "We may then dismiss the time difference between these courses and the usual four year course of the interior design student as not having serious bearing on the subject . \n",
      "\n",
      "The teeth will rain from his mouth like pebbles , his wife will make him cocu with fishmongers , and a trolley car will grow in his stomach . \n",
      "\n",
      "Treat them right and they 'll make a showing every month in the year except the frigid ones . \n",
      "\n",
      "As a nation , we feel an obligation to assist other countries in their development ; but this obligation pertains only to countries which are honestly seeking to become responsible members of a stable and forward-moving world community . \n",
      "\n",
      "- About 30 % of the expenditures for the Department of Defense in 1961 are for military personnel costs , including pay for active , reserve , and retired military personnel . \n",
      "\n",
      "`` Ask Whitey for a job '' . \n",
      "\n",
      "`` He 's there '' , he got out tersely , curbing his rising excitement . \n",
      "\n",
      "Must records always sound like records ? \n",
      "\n",
      "Such payments , and applications for such payments , shall be made in accordance with such regulations as the Secretary of the Treasury may prescribe . \n",
      "\n",
      "`` Or maybe you just do n't feel like a cigar '' ? \n",
      "\n",
      "In Berlin he published his views of the chemical laws of nature in German and this was issued in French translation ( Paris , 1813 ) under the title Recherches sur l ' identite des forces chimiques et electriques , a work held in very high esteem by the new generation of research chemists . \n",
      "\n",
      "The North Koreans threw away their guns and fled across the rice paddies . \n",
      "\n",
      "The jury said it found the court `` has incorporated into its operating procedures the recommendations '' of two previous grand juries , the Atlanta Bar Association and an interim citizens committee . \n",
      "\n",
      "A high frequency starter was used to start the arc . \n",
      "\n",
      "Opponents generally argued that the ballot could n't give enough information about tax proposals for the voters to make an intelligent choice . \n",
      "\n",
      "Grabbing his Winchester from its sheath , Cook prepared to fight from behind the arroyo bank . \n",
      "\n",
      "The temperature rose to 105 ` . \n",
      "\n",
      "American and free-world policies can marginally affect the pace of transition ; but basically that pace depends on changes in the supply of resources and in the human attitudes , political institutions , and social structure which each society must generate . \n",
      "\n",
      "It was nine o ' clock in the morning : the hour which , like a spade turning clods of earth , exposed to the day a myriad of busy creatures that had lain dormant in the quiet night . \n",
      "\n",
      "When the smaller facet-planes of Analytical Cubism were placed upon or juxtaposed with the large , dense shapes formed by the affixed materials of the collage , they had to coalesce - become `` synthesized '' - into larger planar shapes themselves simply in order to maintain the integrity of the picture plane . \n",
      "\n",
      "Mizell has won both of his starts . \n",
      "\n",
      "In the early days of a homogeneous population , the public school was quite satisfactory . \n",
      "\n",
      "Yet for much of the globe , Hollywood is just that - prime , if not sole , source of knowledge . \n",
      "\n",
      "Was it all vain labor ? \n",
      "\n",
      "Donna , his young wife , the girl who was both daughter and wife to him . \n",
      "\n",
      "Most professors in the course must , naturally , again have a higher degree than the course offers . \n",
      "\n",
      "As such , it was beyond politics and had no need of justification by a `` message '' . \n",
      "\n",
      "A friend of Pat 's named Frank Sposato had just muscled into the Portwatchers ' Union . \n",
      "\n",
      "`` When you marry , you want to have things in common '' , a girl said , `` and it 's hard when you do n't marry someone with your own background '' . \n",
      "\n",
      "A+M has the best defense against passes , 34.7 yards per game . \n",
      "\n",
      "Aids in minimizing the occurrence of feed-lot bloat due to high consumption of concentrates . \n",
      "\n",
      "He got a small fire started and put on bacon and coffee . \n",
      "\n",
      "Perhaps Special Projects necessarily thinks along documentary lines . \n",
      "\n",
      "`` No , sir '' . \n",
      "\n",
      "Jen Nelson , as Thea , his first wife , managed to make that short role impressive . \n",
      "\n",
      "The possibilities of selling the property later on for suburban subdivision . \n",
      "\n",
      "Here they built huts and a stockade named Fort Daer after Selkirk's barony in Scotland . \n",
      "\n",
      "I do n't think his diligence mitigates your negligence , Matson '' . \n",
      "\n",
      "Hansen will engage in his first workout at Miami Stadium prior to the opening tomorrow night of a two game weekend series with the New York Yankees . \n",
      "\n",
      "What that spirit and attitude were we can best understand if we see more precisely how it contrasts with the communist tradition with the longest continuous history , the one which reached Christianity by the way of Stoicism through the Church Fathers of Late Antiquity . \n",
      "\n",
      "Where exactly would we go after the movie ? \n",
      "\n",
      "Maude had the cool ruthlessness to do whatever she made up her mind to do . \n",
      "\n",
      "`` Such as ' sending the cat to guard the mice ' , or ' the falcon to protect the dove ' , or most terribly sharp of all , ' the human being to save humanity '' ' . \n",
      "\n",
      "It all seemed - if one could have peeked in at him through one of his windows - as though this broken nosed man with the muscular arms and wrestler 's neck was merely the caretaker trying his hand at the boss 's work . \n",
      "\n",
      "How could he exert authority over them - make them toe the line , as he had to - if he knuckled under to this small-town clown ? \n",
      "\n",
      "Life is further characterized , in antithesis to Piepsam , as animal : the image of a dog , which appears at several places , is first given as the criterion of amiable , irrelevant interest aroused by life considered simply as a spectacle : a dog in a wagon is `` admirable '' , `` a pleasure to contemplate '' ; another wagon has no dog , and therefore is `` devoid of interest '' . \n",
      "\n"
     ]
    }
   ],
   "source": [
    "sentences, sentences_tag = get_random_sentences(50)\n",
    "for s in sentences:\n",
    "    print(s, '\\n')"
   ],
   "metadata": {
    "collapsed": false,
    "ExecuteTime": {
     "start_time": "2023-04-27T14:53:28.586861Z",
     "end_time": "2023-04-27T14:53:41.484878Z"
    }
   }
  },
  {
   "cell_type": "code",
   "execution_count": 4,
   "outputs": [
    {
     "name": "stdout",
     "output_type": "stream",
     "text": [
      "Accuratezza: 0.46\n"
     ]
    }
   ],
   "source": [
    "print('Accuratezza:', run_exercise(100, sentences, sentences_tag))"
   ],
   "metadata": {
    "collapsed": false,
    "ExecuteTime": {
     "start_time": "2023-04-27T14:54:01.697524Z",
     "end_time": "2023-04-27T14:54:02.789620Z"
    }
   }
  },
  {
   "cell_type": "code",
   "execution_count": null,
   "outputs": [],
   "source": [],
   "metadata": {
    "collapsed": false
   }
  }
 ],
 "metadata": {
  "kernelspec": {
   "display_name": "Python 3",
   "language": "python",
   "name": "python3"
  },
  "language_info": {
   "codemirror_mode": {
    "name": "ipython",
    "version": 2
   },
   "file_extension": ".py",
   "mimetype": "text/x-python",
   "name": "python",
   "nbconvert_exporter": "python",
   "pygments_lexer": "ipython2",
   "version": "2.7.6"
  }
 },
 "nbformat": 4,
 "nbformat_minor": 0
}
