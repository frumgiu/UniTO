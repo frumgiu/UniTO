{
 "cells": [
  {
   "cell_type": "code",
   "execution_count": 32,
   "metadata": {
    "collapsed": true,
    "ExecuteTime": {
     "start_time": "2023-04-27T15:10:24.987229Z",
     "end_time": "2023-04-27T15:10:25.017583Z"
    }
   },
   "outputs": [],
   "source": [
    "from UtilsDue import get_random_sentences\n",
    "from LeskAlgorithm import run_exercise"
   ]
  },
  {
   "cell_type": "markdown",
   "source": [
    "### Frasi estratte:"
   ],
   "metadata": {
    "collapsed": false
   }
  },
  {
   "cell_type": "code",
   "execution_count": 33,
   "outputs": [
    {
     "name": "stdout",
     "output_type": "stream",
     "text": [
      "`` Mike , there 's Mars . \n",
      "\n",
      "Greg pushed the radio button on his throttle . \n",
      "\n",
      "So is the time of the novel . \n",
      "\n",
      "His first thought is about the question itself : \n",
      "\n",
      "1 to 1 - 1 2 grams per 100 pounds of body weight . \n",
      "\n",
      "`` This was the coolest , calmest election I ever saw '' , Colquitt Policeman Tom Williams said . \n",
      "\n",
      "The affixed elements of collage were extruded , as it were , and cut off from the literal pictorial surface to form a bas-relief . \n",
      "\n",
      "We blushed and were flustered , and it turned out to be the fleetest brush of lips upon cheek . \n",
      "\n",
      "But he was scholastically ineligible in 1959 and merely present last season . \n",
      "\n",
      "Although they journeyed westerly as far as Germantown , beyond the Erie roundhouse and the machine shop , and along the Delaware and Hudson Canal , and northward to Brooklyn , below Point Peter , he could see the church spire wherever he looked back . \n",
      "\n",
      "For many nights afterward , the idea of her having been so close to me in that imagined bed would return and fill me with obscure and painful desires , would cause me to lie awake in shame , tossing with irresolution , longing to fall into a deep sleep . \n",
      "\n",
      "Then Rector , attired in his best blue serge suit , sat in a chair out on the lawn , in the shade of a tree , smoking a cigarette and waiting . \n",
      "\n",
      "Because of the authentic homogeneity of his early Nationalistic materials , and his flair for orchestrations - his brilliant Petruchka , his savage Sacre du Printemps , his incisive Les Noces - the world kept hoping that he could recapture the historical direction for which his native talents were predisposed . \n",
      "\n",
      "An early film by a competitor of the Wizard of Menlo Park simply showed a long kiss performed by two actors of the contemporary stage . \n",
      "\n",
      "The information is furnished by each of the guests , is sent by oral broadcasting over the air waves , and is received by the ears . \n",
      "\n",
      "Having achieved this end , he was able to buy 116000 square miles in the valleys of the Red and Assiniboine rivers . \n",
      "\n",
      "In his office , Mr. Holden replaced the phone slowly . \n",
      "\n",
      "The virus antigen was concentrated in the pseudophloem tissue . \n",
      "\n",
      "They were pushed gently into the room by Arlene - whose only part appearing were hands that crept quickly back around to the kitchen side of the door . \n",
      "\n",
      "One has to talk confidentially with some of the directors of vocational high schools to realize that a boy cannot just say , `` I want to be a plumber '' , and then , by doing good work , find a job . \n",
      "\n",
      "This selection rejection process takes place as the file is read . \n",
      "\n",
      "The Russians are all trained as dancers before they start to study gymnastics . \n",
      "\n",
      "Also , beware of open end policies , especially in the medical field . \n",
      "\n",
      "But at this the one too-large cat suddenly became two cats , stretching . \n",
      "\n",
      "Abel Poupin , a tall man with sunken cheeks and deep-set eyes , got to his feet . \n",
      "\n",
      "The following amounts of water are needed per day for livestock and domestic uses . \n",
      "\n",
      "A plug and a tube with holes in its cylindrical walls divided the chamber above the porous plug into two parts . \n",
      "\n",
      "An intellectual . \n",
      "\n",
      "The `` diversified occupations '' program is a part-time trade preparatory program conducted over two school years on a cooperative basis between the school and local industrial and business employers . \n",
      "\n",
      "Rector had no idea why Kayabashi wanted to visit the mission . \n",
      "\n",
      "The purpose of this paper is to analyze one possible force which has not been treated in the literature , but which we believe makes a significant contribution to explaining the wage price behavior of a few very important industries . \n",
      "\n",
      "He would remain in the tent , waiting impatiently , occupied by some trivial task . \n",
      "\n",
      "This temperature was taken as environmental temperature to which the anode holder was exposed as far as radiation is concerned . \n",
      "\n",
      "The great absorbency of this tissue and the fact that it is easier to control than a sponge makes it an ideal tool for the watercolorist . \n",
      "\n",
      "The action of the Commission in allowing or denying any claim under this title shall be final and conclusive on all questions of law and fact and not subject to review by the Secretary of State or any other official , department , agency , or establishment of the United States or by any court by mandamus or otherwise . \n",
      "\n",
      "This maybe due to the heavy interlobular connective tissue barriers present . \n",
      "\n",
      "And here again we hear the same refrain mentioned above : `` The paramount goal of the United States , set long ago , was to guard the rights of the individual , ensure his development , enlarge his opportunity '' . \n",
      "\n",
      "`` A real ' nothing ' torso '' , says Henri . \n",
      "\n",
      "`` Your personal guard ? \n",
      "\n",
      "Who will deny that in a vast portion of the South the Federal action is incompatible with the Jeffersonian concept of `` the consent of the governed '' ? \n",
      "\n",
      "He went on to personal bequests , a list of names largely unknown to him . \n",
      "\n",
      "It was a fine broody hen , white , with a maternal eye and a striking abundance of feathers in the under region of the abdomen . \n",
      "\n",
      "This initiates the second step of glossary lookup - connecting the information cell of forms in the text form list to dictionary forms . \n",
      "\n",
      "Wilson stressed the fact that clear as this was , they must have a better church , a more business-like conduct of the church organization , and an effort to get this religious center out of its rut of wild worship into a modern church organization . \n",
      "\n",
      "In some tumor sections small spherical bodies , possibly inclusion bodies ( Littau and Black , 1952 ) stained more intensely than the rest of cytoplasm and probably contained more antigen . \n",
      "\n",
      "On April 1 , 1953 , after some six months of full-time `` pioneering '' , petitioner discontinued devoting 100 hours a month to preaching , but failed to so notify his local board . \n",
      "\n",
      "Likewise , and equally fascinating , is the news that such unlikely synonyms as `` pratakku '' , `` sweathruna '' , and the tongue-twister `` nnuolapertar-it-vuh-karti-biri-pitknoumen '' all originated in the same village in Bathar-on-Walli Province and are all used to express sentiments concerning British `` imperialism '' . \n",
      "\n",
      "He walked toward the center of the city to keep his rendezvous with Styka . \n",
      "\n",
      "In May 1959 , prednisone , 30 mg. daily , replaced the dexamethasone . \n",
      "\n",
      "He came spurring and whooping down the road , his horse kicking up clouds of dust , shouting : \n",
      "\n"
     ]
    }
   ],
   "source": [
    "sentences, sentences_tag = get_random_sentences(50)\n",
    "for s in sentences:\n",
    "    print(s, '\\n')"
   ],
   "metadata": {
    "collapsed": false,
    "ExecuteTime": {
     "start_time": "2023-04-27T15:10:25.002755Z",
     "end_time": "2023-04-27T15:10:34.520785Z"
    }
   }
  },
  {
   "cell_type": "code",
   "execution_count": 34,
   "outputs": [
    {
     "name": "stdout",
     "output_type": "stream",
     "text": [
      "Accuratezza: 0.47\n"
     ]
    }
   ],
   "source": [
    "print('Accuratezza:', run_exercise(100, sentences, sentences_tag))"
   ],
   "metadata": {
    "collapsed": false,
    "ExecuteTime": {
     "start_time": "2023-04-27T15:10:34.583753Z",
     "end_time": "2023-04-27T15:10:35.529872Z"
    }
   }
  },
  {
   "cell_type": "code",
   "execution_count": 34,
   "outputs": [],
   "source": [],
   "metadata": {
    "collapsed": false,
    "ExecuteTime": {
     "start_time": "2023-04-27T15:10:35.532504Z",
     "end_time": "2023-04-27T15:10:35.538158Z"
    }
   }
  }
 ],
 "metadata": {
  "kernelspec": {
   "display_name": "Python 3",
   "language": "python",
   "name": "python3"
  },
  "language_info": {
   "codemirror_mode": {
    "name": "ipython",
    "version": 2
   },
   "file_extension": ".py",
   "mimetype": "text/x-python",
   "name": "python",
   "nbconvert_exporter": "python",
   "pygments_lexer": "ipython2",
   "version": "2.7.6"
  }
 },
 "nbformat": 4,
 "nbformat_minor": 0
}
