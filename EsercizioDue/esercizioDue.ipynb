{
 "cells": [
  {
   "cell_type": "code",
   "execution_count": 43,
   "metadata": {
    "collapsed": true,
    "ExecuteTime": {
     "start_time": "2023-04-24T11:34:31.505040Z",
     "end_time": "2023-04-24T11:34:31.515905Z"
    }
   },
   "outputs": [
    {
     "ename": "ImportError",
     "evalue": "cannot import name 'get_random_sentences' from 'Utils' (/Users/giuliafrumento/PycharmProjects/TLNRadicioni/EsercizioDue/Utils.py)",
     "output_type": "error",
     "traceback": [
      "\u001B[0;31m---------------------------------------------------------------------------\u001B[0m",
      "\u001B[0;31mImportError\u001B[0m                               Traceback (most recent call last)",
      "Cell \u001B[0;32mIn[43], line 2\u001B[0m\n\u001B[1;32m      1\u001B[0m \u001B[38;5;28;01mimport\u001B[39;00m \u001B[38;5;21;01mpandas\u001B[39;00m \u001B[38;5;28;01mas\u001B[39;00m \u001B[38;5;21;01mpd\u001B[39;00m\n\u001B[0;32m----> 2\u001B[0m \u001B[38;5;28;01mfrom\u001B[39;00m \u001B[38;5;21;01mUtils\u001B[39;00m \u001B[38;5;28;01mimport\u001B[39;00m get_random_sentences\n\u001B[1;32m      3\u001B[0m \u001B[38;5;28;01mfrom\u001B[39;00m \u001B[38;5;21;01mLeskAlgorithm\u001B[39;00m \u001B[38;5;28;01mimport\u001B[39;00m my_lesk \u001B[38;5;28;01mas\u001B[39;00m l\n",
      "\u001B[0;31mImportError\u001B[0m: cannot import name 'get_random_sentences' from 'Utils' (/Users/giuliafrumento/PycharmProjects/TLNRadicioni/EsercizioDue/Utils.py)"
     ]
    }
   ],
   "source": [
    "import pandas as pd\n",
    "from Utils import get_random_sentences\n",
    "from LeskAlgorithm import my_lesk as l"
   ]
  },
  {
   "cell_type": "code",
   "execution_count": 44,
   "outputs": [
    {
     "ename": "NameError",
     "evalue": "name 'get_random_sentences' is not defined",
     "output_type": "error",
     "traceback": [
      "\u001B[0;31m---------------------------------------------------------------------------\u001B[0m",
      "\u001B[0;31mNameError\u001B[0m                                 Traceback (most recent call last)",
      "Cell \u001B[0;32mIn[44], line 1\u001B[0m\n\u001B[0;32m----> 1\u001B[0m result, result_tag \u001B[38;5;241m=\u001B[39m \u001B[43mget_random_sentences\u001B[49m()\n\u001B[1;32m      2\u001B[0m \u001B[38;5;28mprint\u001B[39m(result)\n\u001B[1;32m      3\u001B[0m \u001B[38;5;28mprint\u001B[39m(result_tag)\n",
      "\u001B[0;31mNameError\u001B[0m: name 'get_random_sentences' is not defined"
     ]
    }
   ],
   "source": [
    "result, result_tag = get_random_sentences()\n",
    "print(result)\n",
    "print(result_tag)"
   ],
   "metadata": {
    "collapsed": false,
    "ExecuteTime": {
     "start_time": "2023-04-24T10:53:08.128643Z",
     "end_time": "2023-04-24T10:55:33.486985Z"
    }
   }
  },
  {
   "cell_type": "code",
   "execution_count": null,
   "outputs": [],
   "source": [],
   "metadata": {
    "collapsed": false
   }
  }
 ],
 "metadata": {
  "kernelspec": {
   "display_name": "Python 3",
   "language": "python",
   "name": "python3"
  },
  "language_info": {
   "codemirror_mode": {
    "name": "ipython",
    "version": 2
   },
   "file_extension": ".py",
   "mimetype": "text/x-python",
   "name": "python",
   "nbconvert_exporter": "python",
   "pygments_lexer": "ipython2",
   "version": "2.7.6"
  }
 },
 "nbformat": 4,
 "nbformat_minor": 0
}
