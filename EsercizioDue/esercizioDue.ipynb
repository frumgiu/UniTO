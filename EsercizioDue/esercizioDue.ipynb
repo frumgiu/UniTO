{
 "cells": [
  {
   "cell_type": "code",
   "execution_count": 4,
   "metadata": {
    "collapsed": true,
    "ExecuteTime": {
     "end_time": "2023-05-22T18:16:48.392848Z",
     "start_time": "2023-05-22T18:16:48.369207Z"
    }
   },
   "outputs": [],
   "source": [
    "from UtilsDue import get_random_sentences\n",
    "from LeskAlgorithm import run_exercise"
   ]
  },
  {
   "cell_type": "markdown",
   "source": [
    "### Frasi estratte:"
   ],
   "metadata": {
    "collapsed": false
   }
  },
  {
   "cell_type": "code",
   "execution_count": 5,
   "outputs": [
    {
     "name": "stdout",
     "output_type": "stream",
     "text": [
      "On this , she builds an `` egg compartment '' or `` egg cell '' which is filled with that famous pollen and nectar mixture called beebread . \n",
      "\n",
      "That house was ten years off his life . \n",
      "\n",
      "However , this inaugural feast did its sponsors no good whatever . \n",
      "\n",
      "The antenna patterns and the power gain at the peak of the beam were both measured ( Mayer , McCullough , and Sloanaker , 1958 b ) , so that the absolute power sensitivity of the antenna beam over the solid angle of the moon was known . \n",
      "\n",
      "The two little bangs meant that he was getting impatient to have a crowd of customers waited on and that if he had to he would jerk open the door and drag out , by the opposite door handle which she would be clutching , whichever-the-hell clerk it was who thought she could waste so much store time on the pot . \n",
      "\n",
      "In that apparently simple shift Porter opened the way to the sensitive use of the camera as an instrument of art as well as a mechanical recording device . \n",
      "\n",
      "That had happened on the day when two other unusual things had occurred . \n",
      "\n",
      "When it was worn in the breast , or even on the sleeve , we at least knew where it was '' . \n",
      "\n",
      "He was elected to the National Academy of Design as an Associate in the oil class in 1931 ( after receiving his first Ranger Fund Purchase Prize at the Academy in 1930 ) , and elevated to Academicianship in 1940 . \n",
      "\n",
      "Its windows glowed with lamplight . \n",
      "\n",
      "Who will take Stalin 's place beside Lenin ? \n",
      "\n",
      "This shelter could be built in regions where water or rock is close to the surface , making it impractical to build an underground shelter . \n",
      "\n",
      "Notice , however , that the passage of time does not permit the raising of prices per se , without an accompanying wage increase . \n",
      "\n",
      "His captain was thin and haggard and his beautiful boots were worn and shabby . \n",
      "\n",
      "Apart from the honeybee , practically all bees and bumblebees hibernate in a state of torpor . \n",
      "\n",
      "This periodical , including weekly statistical supplements , is available for $ 4 per year from Commerce Field Offices or Superintendent of Documents , U.S. Government Printing Office , Washington 25 , D.C. . \n",
      "\n",
      "He 'd been in an angry mood : Conchita had thought his face almost ugly with the anger in him . \n",
      "\n",
      "Mr. A has recovered , but he is , justifiably , a bitter man . \n",
      "\n",
      "Almost every official who reflects on it thinks this movement of Americans to canvas dwellings opens one of the most promising of all outdoor markets . \n",
      "\n",
      "It is a very interesting fact that these two problems can be handled simultaneously and this is what we shall do in the next chapter . \n",
      "\n",
      "The conclusion upon this record is inescapable that such likelihood was proved as to this acquisition '' . \n",
      "\n",
      "By the age of six young Johnny indicated that he had the call . \n",
      "\n",
      "In the midwest , oxidation ponds are used extensively for the treatment of domestic sewage from suburban areas . \n",
      "\n",
      "The state may decide to encourage local programs by paying half of the cost , or the state may require the local district to bear this half or some part of it . \n",
      "\n",
      "If it is assumed that the formula given by Lodge of * * f , cosec 2lc applies , the pressure difference along the major axes can be calculated from the angle of inclination of the major axis , and from this the interfacial tension can be calculated . \n",
      "\n",
      "Some retailing , of course , always spreads with the population - grocery stores , drugstores , local haberdasheries and dress shops , candy stores and the like . \n",
      "\n",
      "However , the possible absence of a center of symmetry not only moves the hydrogen atom off **f , but also allows the oxygen atoms to become nonequivalent , with **f at **f and **f at **f ( space group **f ) , where **f represents the oxygens on one side of the **f layers and **f those on the other side . \n",
      "\n",
      "Surely this is a reality we all acknowledge . \n",
      "\n",
      "Forty years ago an English writer , W. L. George , dealt with this subject in Eddies of the Day , and said , as an example , that ' Saint George for Merry England ' would not start a spirit half so quickly as ' Strike frog eating Frenchmen dead '' ' ! \n",
      "\n",
      "`` When the husband becomes passive in the face of his wife 's aggressiveness '' , Dr. Linden says , `` the wife , in turn , finds him inadequate . \n",
      "\n",
      "Ex Oriole Clint Courtney , now catching for the A 's is all for the American League 's 1961 expansion to the West Coast . \n",
      "\n",
      "The couple was married Aug. 2 , 1913 . \n",
      "\n",
      "Here was stored $ 1000000 worth of bonded whisky . \n",
      "\n",
      "The 1946 town meeting voted to have the Selectmen appoint a committee to investigate and report on the feasibility of some system of sewage disposal and a disposal plant to serve Manchester Center , Depot , and Way 's Lane . \n",
      "\n",
      "We now generalize these ideas for general binomial experiments . \n",
      "\n",
      "And there is no section of the nation more ardent than the South in the cold war against Communism . \n",
      "\n",
      "These estimates indicated that the quantum yield for the exchange of chlorine with liquid carbon tetrachloride at 65 ` is of the order of magnitude of unity . \n",
      "\n",
      "Thus , the masculine animate infinitive dabhumaksanigalu'ahai , meaning to live , was , in the perfect tense , ksu'u'peli'afo , and , in the future , mai'teipa . \n",
      "\n",
      "Could he honestly believe it would be good for Carla to have those old prophets gripping her imagination now ? \n",
      "\n",
      "The hemoglobin was 11.6 gm. . \n",
      "\n",
      "As I see it , there 's no real difference between being Jewish , Catholic , or Protestant '' . \n",
      "\n",
      "Do not include all your spare time or all your family 's spare time - only what you are willing to use for farm work . \n",
      "\n",
      "During the Dorr trial the Democratic press condemned the proceedings and heralded Dorr as a martyr to the principles of the Declaration of Independence . \n",
      "\n",
      "They stopped expecting her to die the next minute , but only in the next day or two . \n",
      "\n",
      "The dinner will be held at the Hotel Pierre . \n",
      "\n",
      "Like a particle drawn to a magnet he returned to that which was pressing so hard in his mind . \n",
      "\n",
      "He removed his hat to let the trapped sweat cut rivulets through the dust film upon his gaunt face . \n",
      "\n",
      "By an effort of historical sympathy we can cast our minds back into the art of a remote past or an alien present , and enjoy the carvings of cavemen and Japanese colour prints ; but the possibility of this effort is bound up with that development of historical thought which is the greatest achievement of our civilization in the last two centuries , and it is utterly impossible to people in whom this development has not taken place . \n",
      "\n",
      "In addition , the neocortical hypothalamic relations play a great role in primates , as Mirsky 's interesting experiment on the `` communication of affect '' demonstrates . \n",
      "\n",
      "For example , the importance of the Regulus 2 , , a very promising aerodynamic ship to surface missile designed to be launched by surfaced submarines , was greatly diminished by the successful acceleration of the much more advanced Polaris ballistic missile launched by submerged submarines . \n",
      "\n"
     ]
    }
   ],
   "source": [
    "sentences, sentences_tag = get_random_sentences(50)\n",
    "for s in sentences:\n",
    "    print(s, '\\n')"
   ],
   "metadata": {
    "collapsed": false,
    "ExecuteTime": {
     "end_time": "2023-05-22T18:16:57.223129Z",
     "start_time": "2023-05-22T18:16:48.386879Z"
    }
   }
  },
  {
   "cell_type": "code",
   "execution_count": 6,
   "outputs": [
    {
     "name": "stdout",
     "output_type": "stream",
     "text": [
      "Accuratezza: 0.45\n"
     ]
    }
   ],
   "source": [
    "print('Accuratezza:', run_exercise(50, sentences, sentences_tag))"
   ],
   "metadata": {
    "collapsed": false,
    "ExecuteTime": {
     "end_time": "2023-05-22T18:16:57.755297Z",
     "start_time": "2023-05-22T18:16:57.286477Z"
    }
   }
  }
 ],
 "metadata": {
  "kernelspec": {
   "display_name": "Python 3",
   "language": "python",
   "name": "python3"
  },
  "language_info": {
   "codemirror_mode": {
    "name": "ipython",
    "version": 2
   },
   "file_extension": ".py",
   "mimetype": "text/x-python",
   "name": "python",
   "nbconvert_exporter": "python",
   "pygments_lexer": "ipython2",
   "version": "2.7.6"
  }
 },
 "nbformat": 4,
 "nbformat_minor": 0
}
