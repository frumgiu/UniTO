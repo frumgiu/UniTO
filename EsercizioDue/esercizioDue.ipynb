{
 "cells": [
  {
   "cell_type": "code",
   "execution_count": 26,
   "metadata": {
    "collapsed": true,
    "ExecuteTime": {
     "start_time": "2023-04-27T15:07:50.028768Z",
     "end_time": "2023-04-27T15:07:50.039292Z"
    }
   },
   "outputs": [],
   "source": [
    "from UtilsDue import get_random_sentences\n",
    "from LeskAlgorithm import run_exercise"
   ]
  },
  {
   "cell_type": "markdown",
   "source": [
    "### Frasi estratte:"
   ],
   "metadata": {
    "collapsed": false
   }
  },
  {
   "cell_type": "code",
   "execution_count": 27,
   "outputs": [
    {
     "name": "stdout",
     "output_type": "stream",
     "text": [
      "Examples are in public utilities , making military aircraft and accessories , or where the investment and risk for a proprietorship would be too great for a much needed project impossible to achieve by any means other than the corporate form , e. g. constructing major airports or dams . \n",
      "\n",
      "When we come upon the rabbit and make our remark about its suffering being a bad thing , we presumably make it with some feeling ; the positivists are plainly right in saying that such remarks do usually express feeling . \n",
      "\n",
      "Even if that 's all the promise he ever gave or ever will give , the giving of it once was enough and you believed it then and you will always believe it , even when it is finally the only thing in the world you have left to believe , and the whole world is telling you that one was a lie . \n",
      "\n",
      "Ever since the fourth century a controversy had raged over the person of Christ . \n",
      "\n",
      "The solar electromagnetic - and corpuscular-radiation pressure and the associated Poynting-Robertson effect increase in effectiveness as the particle size decreases and modify the distribution and limit sizes to larger than a few microns . \n",
      "\n",
      "He was your constant companion '' . \n",
      "\n",
      "Since the Santo Spirito hospital had taken only men , he had had no experience in the study of female anatomy ; but he had sketched the women of Tuscany in their fields and homes . \n",
      "\n",
      "It appears that an Orthodox girl in the community disrupted plans for an outing sponsored by one of the Jewish service groups because she would not travel on Saturday and , in addition , required kosher food . \n",
      "\n",
      "- In addition to its recreation interests , water is needed for drinking , sanitation , and irrigation . \n",
      "\n",
      "`` Listen '' ! he shouted to the pitcher . \n",
      "\n",
      "Outputs of the two systems are measured by a pulse timing circuit and a resistance bridge , followed by a simple analogue computer which feeds a multichannel recorder . \n",
      "\n",
      "He does not insist on telling all he knows about any given subject ; rather his pictures invite the observer to draw on his memory , his imagination , his nostalgia . \n",
      "\n",
      "The general tone of articles appearing in such important newspapers as the Manchester Guardian and the Sunday Observer implies a kindly recognition that the Catholic Church is now at least of equal stature in England with the Protestant churches . \n",
      "\n",
      "He was also at this time , although not so interwoven in high politics and the rackets as Torrio and Capone , the most powerful and most dangerous mob leader in the Chicago underworld , the roughneck king . \n",
      "\n",
      "In general , religious interest seems to exist in all parts of the metropolis ; congregational membership , however , is another thing . \n",
      "\n",
      "American policy should press constantly the view that until these governments demand efficiency and effectiveness of their bureaucracies there is not the slightest hope that they will either modernize of democratize their societies . \n",
      "\n",
      "Counsel for the Government invited du Pont 's views on this proposal before recommending a specific program , but stated that if the court desired , or if counsel for du Pont thought further discussion would not be profitable , the Government was prepared to submit a plan within thirty days . \n",
      "\n",
      "The Secretary was uneasy about the visit . \n",
      "\n",
      "And he can be on the way to Memphis , your Gratt Shafer can , and you discover you can stay alive and hate him and love him and want him even if it means you want him - really want him - dead . \n",
      "\n",
      "He turned over impatiently and pulled the sheet over his head against the treacherous encroachment of the dawn . \n",
      "\n",
      "On shore `` the freed slaves to despotism '' - the town dwellers - watched the ships and waited . \n",
      "\n",
      "They have little `` esprit de corps '' . \n",
      "\n",
      "A more dangerous formula for national frustration cannot be imagined . \n",
      "\n",
      "A more detailed description of dictionary operations - text lookup and dictionary modification - give a clearer picture . \n",
      "\n",
      "He reasons that as anacondas 30 feet long are often found , some might be 38 , and occasional `` monstrous freaks '' over 50 . \n",
      "\n",
      "On playing some typical situations before a jury of his peers he showed some characteristics rated as unsatisfactory . \n",
      "\n",
      "They had had to work on very simple foundations and had not dared to give rein to impulses . \n",
      "\n",
      "He might not have gone that far if Pa had n't been locked in laughing fit to shake the house . \n",
      "\n",
      "Every taxpayer is well aware of the vast size of our annual defense budget and most of our readers also realize that a large portion of these expenditures go for military electronics . \n",
      "\n",
      "The most active preparations obtained by these two groups of investigators appear to be similar in potency , composition and physical properties . \n",
      "\n",
      "If we wait until children are in junior high or high school , we will never manage it . \n",
      "\n",
      "Another enlarged authority of the Beaumont Navigation District . \n",
      "\n",
      "Now she kept herself protectively ready to laugh again and sure enough he pointed at her with his index finger and said `` Toot '' ! once more and roared off into the fog , his foot evidently surprising him with the suddenness with which it pressed the accelerator , just as his hand did when he worked . \n",
      "\n",
      "Her skin crawled : Lolotte had told Maude that she was in the hall and the door was open . \n",
      "\n",
      "Very recently , observations have been made at 8 - mm wave length with a reflector 22 meters in diameter with a resultant beam width of only about 2 ' ( Amenitskii , Noskova , and Salomonovich , 1960 ) . \n",
      "\n",
      "Thus he may be referring to some concrete thing , or incident , in his immediate environment by some symbolic sounding , hyperbolic reference to transcendental events on the global scene . \n",
      "\n",
      "In many of the syllables , intonation can be safely ignored , and much of the tonal analysis can be done without any study of intonation . \n",
      "\n",
      "Cubism , in its 1911 - 1912 phase ( which the French , with justice , call `` hermetic '' ) was on the verge of abstract art . \n",
      "\n",
      "As an aid in the prevention of bacterial diarrhea ( scours ) , feed 50 grams per ton of complete feed . \n",
      "\n",
      "Let n be a positive integer and let V be the space of all n times continuously differentiable functions f on the real line which satisfy the differential equation * * f where * * f are some fixed constants . \n",
      "\n",
      "The same thing is also evidenced by the extreme `` culture Protestantism '' so often observed to characterize the preaching and teaching of the American churches . \n",
      "\n",
      "The nuclear dipole effects provide some information on the motions of the hydrogen nuclei , but the symmetry of the **f bond in **f remains in doubt . \n",
      "\n",
      "By 3 : 00 A.M. they reached his house and found it vacant . \n",
      "\n",
      "Very little protozoa activity existed below 40 ` F . \n",
      "\n",
      "Their study showed that it was possible to transfer 3 to 4 lb of oxygen / hr / hp . \n",
      "\n",
      "We devote a chapter to the binomial distribution not only because it is a mathematical model for an enormous variety of real life phenomena , but also because it has important properties that recur in many other probability models . \n",
      "\n",
      "Somehow , all the other passengers ( also supposed to have died in this web of elaborate frauds to cover up the disappearance of the personnel of the Gabriel ) had simultaneously `` agreed '' to die . \n",
      "\n",
      "The severe yet harmonious vases of the previous fifty years , the Strong Geometric style of the late ninth century , display as firm a mastery of the principles underlying Geometric pottery ; but artists now were ready to refine and elaborate their inheritance . \n",
      "\n",
      "The forced sale of the General Motors stock owned by or allocable to Christiana , Delaware , and the stockholders of Delaware , and deposited with the trustee , would result in a tax to those parties at the capital gains rate . \n",
      "\n",
      "As one would surmise , the procedure , however , could be repeated with the same object or with the same type of object often enough , so that the corresponding visual blots and the merest beginning of the tracing movement would provide clues as to the actual shape , which the patient then immediately could determine by a kind of inference . \n",
      "\n"
     ]
    }
   ],
   "source": [
    "sentences, sentences_tag = get_random_sentences(50)\n",
    "for s in sentences:\n",
    "    print(s, '\\n')"
   ],
   "metadata": {
    "collapsed": false,
    "ExecuteTime": {
     "start_time": "2023-04-27T15:07:50.041486Z",
     "end_time": "2023-04-27T15:07:59.117007Z"
    }
   }
  },
  {
   "cell_type": "code",
   "execution_count": 28,
   "outputs": [
    {
     "name": "stdout",
     "output_type": "stream",
     "text": [
      "Accuratezza: 0.46\n"
     ]
    }
   ],
   "source": [
    "print('Accuratezza:', run_exercise(100, sentences, sentences_tag))"
   ],
   "metadata": {
    "collapsed": false,
    "ExecuteTime": {
     "start_time": "2023-04-27T15:07:59.173700Z",
     "end_time": "2023-04-27T15:08:00.545346Z"
    }
   }
  },
  {
   "cell_type": "code",
   "execution_count": 28,
   "outputs": [],
   "source": [],
   "metadata": {
    "collapsed": false,
    "ExecuteTime": {
     "start_time": "2023-04-27T15:08:00.570313Z",
     "end_time": "2023-04-27T15:08:00.610143Z"
    }
   }
  }
 ],
 "metadata": {
  "kernelspec": {
   "display_name": "Python 3",
   "language": "python",
   "name": "python3"
  },
  "language_info": {
   "codemirror_mode": {
    "name": "ipython",
    "version": 2
   },
   "file_extension": ".py",
   "mimetype": "text/x-python",
   "name": "python",
   "nbconvert_exporter": "python",
   "pygments_lexer": "ipython2",
   "version": "2.7.6"
  }
 },
 "nbformat": 4,
 "nbformat_minor": 0
}
