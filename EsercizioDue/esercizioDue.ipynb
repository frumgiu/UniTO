{
 "cells": [
  {
   "cell_type": "code",
   "execution_count": 1,
   "metadata": {
    "collapsed": true,
    "ExecuteTime": {
     "end_time": "2023-06-13T12:59:29.968473Z",
     "start_time": "2023-06-13T12:59:27.425357Z"
    }
   },
   "outputs": [],
   "source": [
    "from UtilsDue import get_random_sentences\n",
    "from LeskAlgorithm import run_exercise"
   ]
  },
  {
   "cell_type": "markdown",
   "source": [
    "### Frasi estratte:"
   ],
   "metadata": {
    "collapsed": false
   }
  },
  {
   "cell_type": "code",
   "execution_count": 2,
   "outputs": [
    {
     "name": "stdout",
     "output_type": "stream",
     "text": [
      "It is the spirit which is the source of a community 's drawing power by means of which others are drawn into it from the world outside so that the community grows and prospers . \n",
      "\n",
      "The discovery that movies are a form of fiction was made in the early years of this century and it was made chiefly by two men , a French magician , Georges Melies , and an American employee of Edison , Edwin S. Porter . \n",
      "\n",
      "The already faded pastel charms of the naive music itself vanish entirely in Fistoulari 's melodramatic contrasts between ultra vehement brute power and chilly , if suave , sentimentality . \n",
      "\n",
      "Andy invented a job to keep him busy , sending him ahead to El Dorado to supervise last minute arrangements . \n",
      "\n",
      "Then she looked at the old woman again , her eyes calm . \n",
      "\n",
      "( An unheated greenhouse would have been better , if I had had one . ) \n",
      "\n",
      "The soaking will put life back in the wagon , too '' . \n",
      "\n",
      "Funds are also included in this budget to continue the equipping of the B-52 wings with the Hound Dog air-to-surface missile . \n",
      "\n",
      "At a very shallow place , two Mexicans rushed into the open for a shot . \n",
      "\n",
      "O ' Banion was born in poverty , the son of an immigrant Irish plasterer , in the North Side 's Little Hell , close by the Sicilian quarter and Death Corner . \n",
      "\n",
      "The bill 's defenders were mostly small-town legislators like J. W. Buchanan of Dumas , Eligio ( Kika ) de la Garza of Mission , Sam F. Collins of Newton and Joe Chapman of Sulphur Springs . \n",
      "\n",
      "Of all their worldly belongings , next to the oxen and his gun , the seed grain had been the most treasured . \n",
      "\n",
      "The small amount of insoluble material which precipitated during dialysis was suspended in approximately 5 ml of starting buffer , centrifuged , resuspended in 2.5 ml of isotonic saline and tested for antibody activity . \n",
      "\n",
      "In any inquiry into the way in which great literature affects the emotions , particularly with respect to the sense of harmony , or relief of tension , or sense of `` a transformed inner nature '' which may occur , a most careful exploration of the particular feature of the experience which produces the effect would be required . \n",
      "\n",
      "His formula will have to be weighed , may be altered or improved , and it should be tested on additional bodies of material . \n",
      "\n",
      "This pleural supply is derived both from hilar and interlobular bronchial artery branches . \n",
      "\n",
      "`` Now I lay me down to sleep , The gray-backs o ' er my body creep ; If they should bite before I wake , I pray the Lord their jaws to break '' `` . \n",
      "\n",
      "A major portion of the credit should also go to flautist Haumd for his rendering of the almost impossible `` Indianapolis '' movement in the Baslot . \n",
      "\n",
      "Most of them sincerely believe that the Anglo-Saxon is the best race in the world and that it should remain pure . \n",
      "\n",
      "An analysis of the election falls naturally in four parts . \n",
      "\n",
      "Just do n't tell Ferguson that crazy opinion of yours '' . \n",
      "\n",
      "( D ) Since the shape of the drop conforms to the force field , it does not appreciably affect the distribution of forces in the fluid . \n",
      "\n",
      "This was Madden 's suggestion ; the police chief shook his head over it . \n",
      "\n",
      "`` She says she has to finish a story '' . \n",
      "\n",
      "Kneeling , Cobb planted a sturdy knee in the small of his back , holding him pinned . \n",
      "\n",
      "Hino was elated at the prospect . \n",
      "\n",
      "Based on this phenomenon , a number of investigators have used this method to `` look through '' human organs . \n",
      "\n",
      "Miguel and Arturo Ramirez remained on the veranda to keep Harper from interfering . \n",
      "\n",
      "You may think we did n't need Nancy and Jean , but you always get what you can when you can , and we had no guarantee that a fingerprint record on them could n't be useful before we were through with this case . \n",
      "\n",
      "What he really wants is to find `` a sacred cause '' to which he can honestly devote himself . \n",
      "\n",
      "For example , probably very few people know that the word `` visrhanik '' that is bantered about so much today stems from the verb `` bouanahsha '' : to salivate . \n",
      "\n",
      "He says nothing that compresses experience within a closed pattern . \n",
      "\n",
      "Second , they believed it important to determine the fate of the captain - a man whose name is permanently stamped on our maps , on American towns and counties , on a great American river , and on half a million square miles of Arctic seas . \n",
      "\n",
      "If the farm is rented , the rent must be paid . \n",
      "\n",
      "The second capability is represented by our deployed ground , naval , and air forces in essential forward areas , together with ready reserves capable of effecting early emergency reinforcement . \n",
      "\n",
      "The cells were then washed three times with saline and resuspended to 2 % in saline . \n",
      "\n",
      "One who invites such trials of character is either foolhardy , overconfident or too simple and childlike in faith in mankind to see the danger . \n",
      "\n",
      "Even if there are no livestock , the farmer cannot leave the farm for long periods , particularly during the growing season . \n",
      "\n",
      "If Bultmann 's own definition of myth is strictly adhered to ( and it is interesting that this is almost never done by those who make such pronouncements ) , the evidence is overwhelming that he does not at all exaggerate the extent to which the mythological concepts of traditional theology have become incredible and irrelevant . \n",
      "\n",
      "At the Hotel Dumont there had , at the time in issue , been twenty-three overnighters , counting couples as singular . \n",
      "\n",
      "A naval blockade would be thoroughly in line with the Monroe Doctrine , would be a relatively simple operation to carry out , and would bring an abrupt end to Soviet penetration of our hemisphere `` . \n",
      "\n",
      "At the slope 's base coils of concertina stretched out of eye range like a wild tangle of children 's hoops , stopped simultaneously , weirdly poised as if awaiting the magic of the child 's touch to start them all rolling again . \n",
      "\n",
      "In September 1822 two companies of infantry arrived at the mouth of the St. Peter's River , the head of navigation on the Mississippi , and began construction of Fort St. Anthony which , upon completion , was renamed in honor of its commander , Colonel Josiah Snelling . \n",
      "\n",
      "For both Plato and Aristotle artistic mimesis , in contrast to the power of dialectic , is relatively incapable of expressing the character of fundamental reality . \n",
      "\n",
      "Hartman , purchased by the A 's from the Milwaukee Braves last fall , allowed no hits in his scoreless three inning appearance , and merited the triumph . \n",
      "\n",
      "There were times that he worked with both lyricists simultaneously . \n",
      "\n",
      "The drama itself - and this seems to be lavishly true of Biblical drama - often has hardly any relationship with authenticity at all . \n",
      "\n",
      "They will give suggestions that can be worked up into field procedures . \n",
      "\n",
      "At the University of Washington Medical School , the electronics group has developed the `` Respiratory Gas Analyzer '' shown in Fig. 3 . \n",
      "\n",
      "Radio observations of Venus and Jupiter have already supplied unexpected experimental data on the physical conditions of these planets . \n",
      "\n"
     ]
    }
   ],
   "source": [
    "sentences, sentences_tag = get_random_sentences(50)\n",
    "for s in sentences:\n",
    "    print(s, '\\n')"
   ],
   "metadata": {
    "collapsed": false,
    "ExecuteTime": {
     "end_time": "2023-06-13T12:59:45.116955Z",
     "start_time": "2023-06-13T12:59:29.970223Z"
    }
   }
  },
  {
   "cell_type": "code",
   "execution_count": 3,
   "outputs": [
    {
     "name": "stdout",
     "output_type": "stream",
     "text": [
      "Accuratezza: 0.41\n"
     ]
    }
   ],
   "source": [
    "print('Accuratezza:', run_exercise(50, sentences, sentences_tag))"
   ],
   "metadata": {
    "collapsed": false,
    "ExecuteTime": {
     "end_time": "2023-06-13T12:59:45.921902Z",
     "start_time": "2023-06-13T12:59:45.183620Z"
    }
   }
  }
 ],
 "metadata": {
  "kernelspec": {
   "display_name": "Python 3",
   "language": "python",
   "name": "python3"
  },
  "language_info": {
   "codemirror_mode": {
    "name": "ipython",
    "version": 2
   },
   "file_extension": ".py",
   "mimetype": "text/x-python",
   "name": "python",
   "nbconvert_exporter": "python",
   "pygments_lexer": "ipython2",
   "version": "2.7.6"
  }
 },
 "nbformat": 4,
 "nbformat_minor": 0
}
