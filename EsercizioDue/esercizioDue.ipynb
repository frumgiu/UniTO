{
 "cells": [
  {
   "cell_type": "code",
   "execution_count": 6,
   "metadata": {
    "collapsed": true,
    "ExecuteTime": {
     "start_time": "2023-04-25T16:49:09.012595Z",
     "end_time": "2023-04-25T16:49:09.045039Z"
    }
   },
   "outputs": [],
   "source": [
    "import pandas as pd\n",
    "from UtilsDue import get_random_sentences, matching_synset\n",
    "from LeskAlgorithm import lesk_wrapper as l"
   ]
  },
  {
   "cell_type": "markdown",
   "source": [
    "### Frasi estratte:"
   ],
   "metadata": {
    "collapsed": false
   }
  },
  {
   "cell_type": "code",
   "execution_count": 7,
   "outputs": [
    {
     "name": "stdout",
     "output_type": "stream",
     "text": [
      "Just before game time , Robinson 's pretty wife , Connie informed him that an addition to the family can be expected late next summer .\n",
      "Dr. Clark has served as teacher and principal in Oklahoma high schools , as teacher and athletic director at Raymondville , Texas , High School , as an instructor at the University of Oklahoma , and as an associate professor of education at Fort Hays , Kan. , State College .\n",
      "When he was inducted into the Army at Fort Knox , Ky. , Hansen 's weight had dropped to 180 - `` too light for me to be at my best '' he said .\n",
      "Meanwhile , it was learned the State Highway Department is very near being ready to issue the first $ 30 million worth of highway reconstruction bonds .\n",
      "The resolution , which Barber tossed into the House hopper Friday , will be formally read Monday .\n",
      "The bond issue will go to the state courts for a friendly test suit to test the validity of the act , and then the sales will begin and contracts let for repair work on some of Georgia 's most heavily traveled highways .\n",
      "Hansen , who slugged the 1960 Oriole high of 22 homers and drove in 86 runs on a .255 freshman average , completes the Birds ' spring squad at 49 players .\n",
      "Four additional deputies be employed at the Fulton County Jail and `` a doctor , medical intern or extern be employed for night and weekend duty at the jail '' .\n",
      "Extension of the ADC program to all children in need living with any relatives , including both parents , as a means of preserving family unity .\n",
      "He will be succeeded by Rob Ledford of Gainesville , who has been an assistant more than three years .\n",
      "Then Kerr , a graduate student from Illinois , moved past him on a straightaway and held off Mills 's challenge on the final turn .\n",
      "Natural gas public utility companies would be given the right of eminent domain , under a bill by Sen. Frank Owen /3 , of El Paso , to acquire sites for underground storage reservoirs for gas .\n",
      "A normal year 's work in college is 30 semester hours .\n",
      "One was on a fourth down screen pass from the Mustang 21 after an incomplete pass into Gannon 's territory .\n",
      "Implementation of Georgia 's automobile title law was also recommended by the outgoing jury .\n",
      "`` Then we 'd really have someplace to go '' .\n",
      "A two run homer by Norm Siebern and a solo blast by Bill Tuttle tied the game , and single runs in the eighth and ninth gave the Athletics their fifth victory in eight starts .\n",
      "The grand jury commented on a number of other topics , among them the Atlanta and Fulton County purchasing departments which it said `` are well operated and follow generally accepted practices which inure to the best interest of both governments '' .\n",
      "A Houston teacher , now serving in the Legislature , proposed Thursday a law reducing the time spent learning `` educational methods '' .\n",
      "The Senate quickly whipped through its meager fare of House bills approved by committees , passing the three on the calendar .\n",
      "And he caused the fumble that set up our touchdown .\n",
      "A Texas halfback who does n't even know the team 's plays , Eldon Moritz , ranks fourth in Southwest Conference scoring after three games .\n",
      "Lumpe worked a walk as the first batter to face Hyde and romped around as Siebern blasted Hyde 's next toss 415 feet over the scoreboard in right center .\n",
      "Principals of the 13 schools in the Denton Independent School District have been re-elected for the 1961 - 62 session upon the recommendation of Supt. Chester O. Strickland .\n",
      "`` Nelson played magnificent football '' , Meek praised .\n",
      "Indications as late as the top of the sixth were that the Birds were to end their victory drought as they coasted along with a 3 - to-o advantage .\n",
      "While details are still be to worked out , Ratcliff said he expects to tell home folks in Dallas why he thinks Berry 's proposed constitutional amendment should be rejected .\n",
      "Wingback Jack Collins injured a knee in the Washington State game but insists he 'll be ready for Oklahoma .\n",
      "`` Our interior line and our linebackers played exceptionally well '' , said Stram Monday after he and his staff reviewed movies of the game .\n",
      "Grover also would require junior senior high teachers to have at least 24 semester hours credit in the subject they are teaching .\n",
      "The Orioles got a run in the first inning when Breeding , along with Robinson , the two Birds who got a pair of hits , doubled to right center , moved to third on Russ Snyder 's single to right and crossed on Kunkel 's wild pitch into the dirt in front of the plate .\n",
      "Rep. Berry , an ex gambler from San Antonio , got elected on his advocacy of betting on the ponies .\n",
      "Ordinary Carey Williams , armed with a pistol , stood by at the polls to insure order .\n",
      "Most of the fire was directed by Cotten against Dallas and Sen. Parkhouse .\n",
      "An adverse vote of 81 to 65 kept in the State Affairs Committee a bill which would order the referendum on the April 4 ballot , when Texas votes on a U.S. senator .\n",
      "The monthly cost of ADC to more than 100000 recipients in the county is 4.4 million dollars , said C. Virgil Martin , president of Carson Pirie Scott + Co. , committee chairman .\n",
      "Dr. Clark holds an earned Doctor of Education degree from the University of Oklahoma .\n",
      "The 6 - foot 3 inch Hansen checked in close to 200 pounds , 15 pounds lighter than his reporting weight last spring .\n",
      "`` Take a ride on this one '' , Brooks Robinson greeted Hansen as the Bird third sacker grabbed a bat , headed for the plate and bounced a third inning two run double off the left centerfield wall tonight .\n",
      "`` Being at the polls was just like being at church .\n",
      "The City Purchasing Department , the jury said , `` is lacking in experienced clerical personnel as a result of city personnel policies '' .\n",
      "Committee approval of Gov. Price Daniel 's `` abandoned property '' act seemed certain Thursday despite the adamant protests of Texas bankers .\n",
      "Kerr , who set the world record earlier this month in New York with a clocking of 1.09.3 , wiped out Mills 's early pace and beat the young Big 10 quarter-mile king by 5 yards .\n",
      "Instead , retailers would sign a certificate of correctness , violation of which would carry a penalty of one to five years in prison , plus a $ 1000 fine .\n",
      "`` A person with a master's degree in physics , chemistry , math or English , yet who has not taken Education courses , is not permitted to teach in the public schools '' , said Grover .\n",
      "The third amended the enabling act for creation of the Lamar county Hospital District , for which a special constitutional amendment previously was adopted .\n",
      "We needed it and we got it '' .\n",
      "The grand jury took a swipe at the State Welfare Department 's handling of federal funds granted for child welfare services in foster homes .\n",
      "`` Everything went real smooth '' , the sheriff said .\n",
      "`` He 's looking a lot better , and he 's able to run '' , Meek explained .\n"
     ]
    }
   ],
   "source": [
    "sentences, sentences_tag = get_random_sentences(50)\n",
    "for i in range(len(sentences)):\n",
    "    print(sentences[i])"
   ],
   "metadata": {
    "collapsed": false,
    "ExecuteTime": {
     "start_time": "2023-04-25T16:49:09.038221Z",
     "end_time": "2023-04-25T16:49:43.631815Z"
    }
   }
  },
  {
   "cell_type": "markdown",
   "source": [
    "### Synset annotati alle parole in SemCor:"
   ],
   "metadata": {
    "collapsed": false
   }
  },
  {
   "cell_type": "code",
   "execution_count": 8,
   "outputs": [
    {
     "data": {
      "text/plain": "         Words                  Synset\n0         Just     Synset('just.r.03')\n1         game     Synset('game.n.03')\n2         time     Synset('time.n.01')\n3       pretty   Synset('pretty.s.01')\n4         wife     Synset('wife.n.01')\n..         ...                     ...\n495          a    Synset('a_lot.r.01')\n496     better   Synset('better.a.02')\n497       able     Synset('able.a.01')\n498        run      Synset('run.v.01')\n499  explained  Synset('explain.v.01')\n\n[500 rows x 2 columns]",
      "text/html": "<div>\n<style scoped>\n    .dataframe tbody tr th:only-of-type {\n        vertical-align: middle;\n    }\n\n    .dataframe tbody tr th {\n        vertical-align: top;\n    }\n\n    .dataframe thead th {\n        text-align: right;\n    }\n</style>\n<table border=\"1\" class=\"dataframe\">\n  <thead>\n    <tr style=\"text-align: right;\">\n      <th></th>\n      <th>Words</th>\n      <th>Synset</th>\n    </tr>\n  </thead>\n  <tbody>\n    <tr>\n      <th>0</th>\n      <td>Just</td>\n      <td>Synset('just.r.03')</td>\n    </tr>\n    <tr>\n      <th>1</th>\n      <td>game</td>\n      <td>Synset('game.n.03')</td>\n    </tr>\n    <tr>\n      <th>2</th>\n      <td>time</td>\n      <td>Synset('time.n.01')</td>\n    </tr>\n    <tr>\n      <th>3</th>\n      <td>pretty</td>\n      <td>Synset('pretty.s.01')</td>\n    </tr>\n    <tr>\n      <th>4</th>\n      <td>wife</td>\n      <td>Synset('wife.n.01')</td>\n    </tr>\n    <tr>\n      <th>...</th>\n      <td>...</td>\n      <td>...</td>\n    </tr>\n    <tr>\n      <th>495</th>\n      <td>a</td>\n      <td>Synset('a_lot.r.01')</td>\n    </tr>\n    <tr>\n      <th>496</th>\n      <td>better</td>\n      <td>Synset('better.a.02')</td>\n    </tr>\n    <tr>\n      <th>497</th>\n      <td>able</td>\n      <td>Synset('able.a.01')</td>\n    </tr>\n    <tr>\n      <th>498</th>\n      <td>run</td>\n      <td>Synset('run.v.01')</td>\n    </tr>\n    <tr>\n      <th>499</th>\n      <td>explained</td>\n      <td>Synset('explain.v.01')</td>\n    </tr>\n  </tbody>\n</table>\n<p>500 rows × 2 columns</p>\n</div>"
     },
     "metadata": {},
     "output_type": "display_data"
    }
   ],
   "source": [
    "df_one = pd.DataFrame({'Words': sentences_tag[0], 'Synset': sentences_tag[1]})\n",
    "display(df_one)"
   ],
   "metadata": {
    "collapsed": false,
    "ExecuteTime": {
     "start_time": "2023-04-25T16:49:43.668601Z",
     "end_time": "2023-04-25T16:49:43.711710Z"
    }
   }
  },
  {
   "cell_type": "markdown",
   "source": [
    "### Synset annotati dalla mia funzione:"
   ],
   "metadata": {
    "collapsed": false
   }
  },
  {
   "cell_type": "code",
   "execution_count": 9,
   "outputs": [
    {
     "data": {
      "text/plain": "         Words                  Synset\n0         game     Synset('game.n.03')\n1         time     Synset('time.n.02')\n2     Robinson                    None\n3       pretty   Synset('pretty.s.01')\n4         wife                    None\n..         ...                     ...\n690     better   Synset('better.a.01')\n691       able     Synset('able.a.01')\n692        run      Synset('run.v.14')\n693       Meek                    None\n694  explained  Synset('explain.v.01')\n\n[695 rows x 2 columns]",
      "text/html": "<div>\n<style scoped>\n    .dataframe tbody tr th:only-of-type {\n        vertical-align: middle;\n    }\n\n    .dataframe tbody tr th {\n        vertical-align: top;\n    }\n\n    .dataframe thead th {\n        text-align: right;\n    }\n</style>\n<table border=\"1\" class=\"dataframe\">\n  <thead>\n    <tr style=\"text-align: right;\">\n      <th></th>\n      <th>Words</th>\n      <th>Synset</th>\n    </tr>\n  </thead>\n  <tbody>\n    <tr>\n      <th>0</th>\n      <td>game</td>\n      <td>Synset('game.n.03')</td>\n    </tr>\n    <tr>\n      <th>1</th>\n      <td>time</td>\n      <td>Synset('time.n.02')</td>\n    </tr>\n    <tr>\n      <th>2</th>\n      <td>Robinson</td>\n      <td>None</td>\n    </tr>\n    <tr>\n      <th>3</th>\n      <td>pretty</td>\n      <td>Synset('pretty.s.01')</td>\n    </tr>\n    <tr>\n      <th>4</th>\n      <td>wife</td>\n      <td>None</td>\n    </tr>\n    <tr>\n      <th>...</th>\n      <td>...</td>\n      <td>...</td>\n    </tr>\n    <tr>\n      <th>690</th>\n      <td>better</td>\n      <td>Synset('better.a.01')</td>\n    </tr>\n    <tr>\n      <th>691</th>\n      <td>able</td>\n      <td>Synset('able.a.01')</td>\n    </tr>\n    <tr>\n      <th>692</th>\n      <td>run</td>\n      <td>Synset('run.v.14')</td>\n    </tr>\n    <tr>\n      <th>693</th>\n      <td>Meek</td>\n      <td>None</td>\n    </tr>\n    <tr>\n      <th>694</th>\n      <td>explained</td>\n      <td>Synset('explain.v.01')</td>\n    </tr>\n  </tbody>\n</table>\n<p>695 rows × 2 columns</p>\n</div>"
     },
     "metadata": {},
     "output_type": "display_data"
    }
   ],
   "source": [
    "my_sentences_tag = l(sentences)\n",
    "df = pd.DataFrame({'Words': my_sentences_tag[0], 'Synset': my_sentences_tag[1]})\n",
    "display(df)"
   ],
   "metadata": {
    "collapsed": false,
    "ExecuteTime": {
     "start_time": "2023-04-25T16:49:43.762636Z",
     "end_time": "2023-04-25T16:49:44.265807Z"
    }
   }
  },
  {
   "cell_type": "code",
   "execution_count": 10,
   "outputs": [
    {
     "name": "stdout",
     "output_type": "stream",
     "text": [
      "Synset che matchano: 113 \n",
      "Parole analizzate: 463\n",
      "Accuratezza: 0.2441\n"
     ]
    }
   ],
   "source": [
    "num, word_num = matching_synset(sentences_tag, my_sentences_tag)\n",
    "print('Synset che matchano:', num, '\\nParole analizzate:', word_num)\n",
    "print('Accuratezza:', round(num/word_num, 4))"
   ],
   "metadata": {
    "collapsed": false,
    "ExecuteTime": {
     "start_time": "2023-04-25T16:49:44.267519Z",
     "end_time": "2023-04-25T16:49:44.437484Z"
    }
   }
  }
 ],
 "metadata": {
  "kernelspec": {
   "display_name": "Python 3",
   "language": "python",
   "name": "python3"
  },
  "language_info": {
   "codemirror_mode": {
    "name": "ipython",
    "version": 2
   },
   "file_extension": ".py",
   "mimetype": "text/x-python",
   "name": "python",
   "nbconvert_exporter": "python",
   "pygments_lexer": "ipython2",
   "version": "2.7.6"
  }
 },
 "nbformat": 4,
 "nbformat_minor": 0
}
