{
 "cells": [
  {
   "cell_type": "code",
   "execution_count": 1,
   "metadata": {
    "collapsed": true,
    "ExecuteTime": {
     "start_time": "2023-04-25T11:15:48.480374Z",
     "end_time": "2023-04-25T11:15:50.905076Z"
    }
   },
   "outputs": [],
   "source": [
    "import pandas as pd\n",
    "from UtilsDue import get_random_sentences\n",
    "from LeskAlgorithm import lesk_wrapper as l"
   ]
  },
  {
   "cell_type": "code",
   "execution_count": 2,
   "outputs": [
    {
     "name": "stdout",
     "output_type": "stream",
     "text": [
      "[\"Gannon contributed saving plays on the Falcons ' aerial thrusts in the late stages .\", \"I 've tried to teach some of the other boys to kick and some of them can't seem to get the feel .\"] \n",
      "\n",
      "[['contributed', 'saving', 'thrusts', 'late', 'stages', 'tried', 'teach', 'other', 'boys', 'kick', 'get', 'feel'], [Synset('contribute.v.02'), Synset('redemptive.s.02'), Synset('drive.n.01'), Synset('late.a.01'), Synset('phase.n.01'), Synset('try.v.01'), Synset('teach.v.01'), Synset('other.a.01'), Synset('male_child.n.01'), Synset('kick.v.01'), Synset('experience.v.03'), Synset('feel.n.01')]]\n",
      "          Words                     Synset\n",
      "0   contributed  Synset('contribute.v.02')\n",
      "1        saving  Synset('redemptive.s.02')\n",
      "2       thrusts       Synset('drive.n.01')\n",
      "3          late        Synset('late.a.01')\n",
      "4        stages       Synset('phase.n.01')\n",
      "5         tried         Synset('try.v.01')\n",
      "6         teach       Synset('teach.v.01')\n",
      "7         other       Synset('other.a.01')\n",
      "8          boys  Synset('male_child.n.01')\n",
      "9          kick        Synset('kick.v.01')\n",
      "10          get  Synset('experience.v.03')\n",
      "11         feel        Synset('feel.n.01')\n"
     ]
    }
   ],
   "source": [
    "sentences, sentences_tag = get_random_sentences(2)\n",
    "print(sentences, '\\n')\n",
    "print(sentences_tag)\n",
    "\n",
    "df_one = pd.DataFrame({'Words': sentences_tag[0], 'Synset': sentences_tag[1]})\n",
    "print(df_one.head(30))"
   ],
   "metadata": {
    "collapsed": false,
    "ExecuteTime": {
     "start_time": "2023-04-25T11:15:50.912792Z",
     "end_time": "2023-04-25T11:15:55.594449Z"
    }
   }
  },
  {
   "cell_type": "code",
   "execution_count": 3,
   "outputs": [
    {
     "name": "stdout",
     "output_type": "stream",
     "text": [
      "[['gannon', 'contributed', 'saving', 'plays', 'falcons', 'aerial', 'thrusts', 'late', 'stages', 'tried', 'teach', 'boys', 'kick', 'seem', 'get', 'feel'], [None, None, None, None, None, None, None, None, None, None, None, Synset('boy.n.04'), None, Synset('look.v.02'), Synset('experience.v.03'), Synset('feel.n.01')]]\n",
      "          Words                     Synset\n",
      "0        gannon                       None\n",
      "1   contributed                       None\n",
      "2        saving                       None\n",
      "3         plays                       None\n",
      "4       falcons                       None\n",
      "5        aerial                       None\n",
      "6       thrusts                       None\n",
      "7          late                       None\n",
      "8        stages                       None\n",
      "9         tried                       None\n",
      "10        teach                       None\n",
      "11         boys         Synset('boy.n.04')\n",
      "12         kick                       None\n",
      "13         seem        Synset('look.v.02')\n",
      "14          get  Synset('experience.v.03')\n",
      "15         feel        Synset('feel.n.01')\n"
     ]
    }
   ],
   "source": [
    "a = l(sentences)\n",
    "print(a)\n",
    "df = pd.DataFrame({'Words': a[0], 'Synset': a[1]})\n",
    "print(df.head(30))"
   ],
   "metadata": {
    "collapsed": false,
    "ExecuteTime": {
     "start_time": "2023-04-25T11:15:55.601003Z",
     "end_time": "2023-04-25T11:15:55.685443Z"
    }
   }
  }
 ],
 "metadata": {
  "kernelspec": {
   "display_name": "Python 3",
   "language": "python",
   "name": "python3"
  },
  "language_info": {
   "codemirror_mode": {
    "name": "ipython",
    "version": 2
   },
   "file_extension": ".py",
   "mimetype": "text/x-python",
   "name": "python",
   "nbconvert_exporter": "python",
   "pygments_lexer": "ipython2",
   "version": "2.7.6"
  }
 },
 "nbformat": 4,
 "nbformat_minor": 0
}
