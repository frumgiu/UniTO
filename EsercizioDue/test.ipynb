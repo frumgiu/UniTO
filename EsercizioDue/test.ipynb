{
 "cells": [
  {
   "cell_type": "code",
   "execution_count": null,
   "metadata": {
    "collapsed": true
   },
   "outputs": [],
   "source": [
    "from LeskAlgorithm import my_lesk as l\n",
    "from LeskAlgorithm import run_test"
   ]
  },
  {
   "cell_type": "code",
   "execution_count": null,
   "outputs": [],
   "source": [
    "word = 'skin-perceptiveness'\n",
    "next_word = ''\n",
    "sent = 'my skin-perceptiveness is very and i can feel pressure and pain from light wind'\n",
    "result = ''\n",
    "overlap = 0\n",
    "if '-' in word:\n",
    "    result = run_test(word, next_word, sent)\n",
    "else:\n",
    "    result, o = l(word, sent)\n",
    "\n",
    "print(result)"
   ],
   "metadata": {
    "collapsed": false
   }
  },
  {
   "cell_type": "code",
   "execution_count": null,
   "outputs": [],
   "source": [
    "word = 'triple-crown'\n",
    "next_word = 'season'\n",
    "sent = 'Mantle, the bull-necked blond switch-hitter, had ne sensational triple-crown season, 1959, when he batted  .365 and also led the American League in home runs , 52, and RBIs, 130'\n",
    "\n",
    "result = ''\n",
    "\n",
    "if '-' in word:\n",
    "    result = run_test(word, next_word, sent)\n",
    "else:\n",
    "    result, o = l(word, sent)\n",
    "\n",
    "print(result)"
   ],
   "metadata": {
    "collapsed": false
   }
  },
  {
   "cell_type": "code",
   "execution_count": null,
   "outputs": [],
   "source": [
    "word = 'by-products'\n",
    "next_word = 'of'\n",
    "sent = 'Scientiest and fishermen have occasionally seen strange by-products of the phenomenon'\n",
    "result = ''\n",
    "if '-' in word:\n",
    "    result = run_test(word, next_word, sent)\n",
    "else:\n",
    "    result, o = l(word, sent)\n",
    "\n",
    "print(result)"
   ],
   "metadata": {
    "collapsed": false
   }
  }
 ],
 "metadata": {
  "kernelspec": {
   "display_name": "Python 3",
   "language": "python",
   "name": "python3"
  },
  "language_info": {
   "codemirror_mode": {
    "name": "ipython",
    "version": 2
   },
   "file_extension": ".py",
   "mimetype": "text/x-python",
   "name": "python",
   "nbconvert_exporter": "python",
   "pygments_lexer": "ipython2",
   "version": "2.7.6"
  }
 },
 "nbformat": 4,
 "nbformat_minor": 0
}
