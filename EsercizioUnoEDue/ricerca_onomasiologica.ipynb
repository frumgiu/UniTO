{
 "cells": [
  {
   "cell_type": "code",
   "execution_count": 1,
   "metadata": {
    "collapsed": true,
    "ExecuteTime": {
     "end_time": "2023-06-08T14:38:20.360015Z",
     "start_time": "2023-06-08T14:38:17.868271Z"
    }
   },
   "outputs": [],
   "source": [
    "import pandas as pd\n",
    "from collections import Counter\n",
    "from nltk.tokenize import word_tokenize\n",
    "from ricerca import get_ordered_words, get_ordered_words_2\n",
    "from def_overlap_funcs import filter_words"
   ]
  },
  {
   "cell_type": "markdown",
   "source": [
    "## Ricerca onomasiologica\n",
    "Questo tipo di ricerca va a trovare una parola partendo dalle sue definizioni. Per fare l'esercizio viene usato il file definito in aula, nella tabella sotto sono riportate tutte le definizioni tokenizzate e pulite da stop words e punteggiatura."
   ],
   "metadata": {
    "collapsed": false
   }
  },
  {
   "cell_type": "code",
   "execution_count": 2,
   "outputs": [
    {
     "data": {
      "text/plain": "                                                 door   \n0   {two, passage, used, divide, temporarily, room...  \\\n1                           {opening, closed, opened}   \n2   {room, object, hole, let, two, wall, open, div...   \n3                {another, one, usable, area, access}   \n4         {structure, area, delimits, access, allows}   \n5         {object, passage, moved, used, block, pass}   \n6   {also, object, moving, materials, body, consis...   \n7   {object, closed, wall, used, rooms, go, separa...   \n8   {something, another, order, access, place, ope...   \n9                                      {room, access}   \n10                     {room, object, access, allows}   \n11  {outside, entrance, opening, key, times, well,...   \n12  {object, people, made, outside, inside, mechan...   \n13                             {closed, wall, opened}   \n14   {barrier, room, mechanism, allow, access, block}   \n15              {let, room, exit, enter, way, people}   \n16  {hinge, object, artificial, spaces, opened, bo...   \n17  {object, closes, exit, opens, enter, place, al...   \n18     {room, passage, wall, blocks, element, allows}   \n19            {cross, access, place, object, limited}   \n20  {made, room, house, object, use, usually, acce...   \n21            {entrance, room, exit, space, building}   \n22          {two, object, connection, spaces, allows}   \n23  {another, one, architecture, make, leave, pers...   \n24                         {entrance, room, building}   \n25             {entrance, room, object, opens, close}   \n26                    {entrance, house, object, lock}   \n27  {room, object, blocks, physically, space, acce...   \n28                   {something, opening, go, allows}   \n29  {blank, auxiliary, structure, used, walls, spa...   \n\n                                              ladybug   \n0   {typically, black, spots, six, red, flying, le...  \\\n1   {wings, symbol, dots, good, cultures, black, l...   \n2      {color, black, orange, fly, dots, red, insect}   \n3                          {red, insect, small, back}   \n4                      {flying, small, insect, round}   \n5   {beatle, red, flying, colored, family, tendent...   \n6   {pest, dots, insectivore, natural, black, luck...   \n7   {black, luck, dots, culture, red, brings, smal...   \n8                   {red, black, small, dots, insect}   \n9          {coat, dotted, red, yellow, small, insect}   \n10  {black, dots, red, flying, small, insect, usua...   \n11  {coat, characterised, tiny, considered, good, ...   \n12  {human, planet, spots, good, black, lives, luc...   \n13                  {red, black, small, dots, insect}   \n14                        {red, black, spots, insect}   \n15                 {black, dots, back, small, insect}   \n16  {wings, dots, good, flying, harmless, generall...   \n17  {color, spots, good, flying, black, luck, said...   \n18  {black, luck, round, dots, good, red, linked, ...   \n19  {color, black, dots, red, characterized, small...   \n20  {black, round, dots, red, flowers, flies, inse...   \n21       {black, spot, round, small, red, bug, shape}   \n22  {color, black, dots, red, characterized, small...   \n23                {luck, fly, person, brings, insect}   \n24                  {red, black, small, dots, insect}   \n25                                {red, insect, back}   \n26                   {black, dots, back, red, insect}   \n27    {wings, black, known, dots, red, small, insect}   \n28                               {colored, bug, dots}   \n29  {structured, pattern, red, flying, colored, in...   \n\n                                                 pain   \n0               {feeling, physical, distress, mental}  \\\n1           {emotional, bad, feeling, physical, hurt}   \n2    {suffer, conscious, felling, beings, experience}   \n3             {describes, living, concept, suffering}   \n4                     {physical, discomfort, feeling}   \n5                    {unpleasant, sensation, burning}   \n6   {sensation, damaged, physical, psychological, ...   \n7   {emotional, feeling, physical, injury, sadness...   \n8                      {sentiment, sorrow, expresses}   \n9   {unpleasant, sensation, emotional, exertion, r...   \n10       {unpleasant, sensation, emotional, physical}   \n11  {cries, discomfort, mentally, something, happe...   \n12  {emotional, sensation, soreness, physical, per...   \n13       {emotional, feeling, physical, harm, caused}   \n14                     {unpleasant, feeling, harmful}   \n15    {emotional, sensation, uncomfortable, physical}   \n16  {emotional, uneasiness, feeling, physical, har...   \n17              {tangible, situations, feeling, feel}   \n18  {brain, make, produced, physical, necessary, i...   \n19       {unpleasant, emotion, associated, suffering}   \n20  {right, body, harmed, felt, getting, something...   \n21  {emotional, sensation, something, harmful, res...   \n22          {feeling, discomfort, experience, causes}   \n23  {something, emotionally, physically, hurts, pe...   \n24                             {sensation, sickening}   \n25                {emotional, feeling, bad, physical}   \n26                               {feeling, get, hurt}   \n27                                  {sensation, hurt}   \n28                                     {feeling, bad}   \n29  {sensation, negative, physically, causing, dis...   \n\n                                           blurriness  \n0                                      {sight, focus}  \n1         {definite, shapelessness, borders, absence}  \n2   {sensation, something, see, clearly, ca, borde...  \n3                                   {lack, sharpness}  \n4          {lack, characteristic, precision, clarity}  \n5   {sensation, everything, blurring, see, eyes, b...  \n6   {perceive, certain, whether, goal, inability, ...  \n7   {lack, vision, image, bad, unfocused, memory, ...  \n8   {condition, totally, seeing, thant, clear, mak...  \n9   {exertion, drugs, resulting, use, alcohol, sta...  \n10                                 {sense, confusion}  \n11  {also, object, drug, use, focus, make, photogr...  \n12  {person, way, close, objects, condition, dista...  \n13  {image, clarity, defined, visual, borders, abs...  \n14  {clarity, visual, details, blends, together, l...  \n15  {disrupts, vision, camera, person, partially, ...  \n16  {indefiniteness, defined, metaphorically, clea...  \n17  {focus, condition, something, photographic, of...  \n18  {vision, defined, clearly, eye, natural, devic...  \n19  {undefined, recognize, image, hard, shapes, ch...  \n20  {clear, colours, visual, mix, edges, near, eye...  \n21  {confuses, vision, outlines, effect, hard, see...  \n22  {something, hard, effect, visual, see, clear, ...  \n23  {effect, visual, see, way, clear, objects, all...  \n24            {confuses, perception, visual, looking}  \n25                                {distorted, vision}  \n26           {corrected, eyes, eyeglasses, condition}  \n27  {faulty, object, perception, specific, perceiv...  \n28            {distance, increases, effect, blinding}  \n29  {texture, lack, given, image, quality, focus, ...  ",
      "text/html": "<div>\n<style scoped>\n    .dataframe tbody tr th:only-of-type {\n        vertical-align: middle;\n    }\n\n    .dataframe tbody tr th {\n        vertical-align: top;\n    }\n\n    .dataframe thead th {\n        text-align: right;\n    }\n</style>\n<table border=\"1\" class=\"dataframe\">\n  <thead>\n    <tr style=\"text-align: right;\">\n      <th></th>\n      <th>door</th>\n      <th>ladybug</th>\n      <th>pain</th>\n      <th>blurriness</th>\n    </tr>\n  </thead>\n  <tbody>\n    <tr>\n      <th>0</th>\n      <td>{two, passage, used, divide, temporarily, room...</td>\n      <td>{typically, black, spots, six, red, flying, le...</td>\n      <td>{feeling, physical, distress, mental}</td>\n      <td>{sight, focus}</td>\n    </tr>\n    <tr>\n      <th>1</th>\n      <td>{opening, closed, opened}</td>\n      <td>{wings, symbol, dots, good, cultures, black, l...</td>\n      <td>{emotional, bad, feeling, physical, hurt}</td>\n      <td>{definite, shapelessness, borders, absence}</td>\n    </tr>\n    <tr>\n      <th>2</th>\n      <td>{room, object, hole, let, two, wall, open, div...</td>\n      <td>{color, black, orange, fly, dots, red, insect}</td>\n      <td>{suffer, conscious, felling, beings, experience}</td>\n      <td>{sensation, something, see, clearly, ca, borde...</td>\n    </tr>\n    <tr>\n      <th>3</th>\n      <td>{another, one, usable, area, access}</td>\n      <td>{red, insect, small, back}</td>\n      <td>{describes, living, concept, suffering}</td>\n      <td>{lack, sharpness}</td>\n    </tr>\n    <tr>\n      <th>4</th>\n      <td>{structure, area, delimits, access, allows}</td>\n      <td>{flying, small, insect, round}</td>\n      <td>{physical, discomfort, feeling}</td>\n      <td>{lack, characteristic, precision, clarity}</td>\n    </tr>\n    <tr>\n      <th>5</th>\n      <td>{object, passage, moved, used, block, pass}</td>\n      <td>{beatle, red, flying, colored, family, tendent...</td>\n      <td>{unpleasant, sensation, burning}</td>\n      <td>{sensation, everything, blurring, see, eyes, b...</td>\n    </tr>\n    <tr>\n      <th>6</th>\n      <td>{also, object, moving, materials, body, consis...</td>\n      <td>{pest, dots, insectivore, natural, black, luck...</td>\n      <td>{sensation, damaged, physical, psychological, ...</td>\n      <td>{perceive, certain, whether, goal, inability, ...</td>\n    </tr>\n    <tr>\n      <th>7</th>\n      <td>{object, closed, wall, used, rooms, go, separa...</td>\n      <td>{black, luck, dots, culture, red, brings, smal...</td>\n      <td>{emotional, feeling, physical, injury, sadness...</td>\n      <td>{lack, vision, image, bad, unfocused, memory, ...</td>\n    </tr>\n    <tr>\n      <th>8</th>\n      <td>{something, another, order, access, place, ope...</td>\n      <td>{red, black, small, dots, insect}</td>\n      <td>{sentiment, sorrow, expresses}</td>\n      <td>{condition, totally, seeing, thant, clear, mak...</td>\n    </tr>\n    <tr>\n      <th>9</th>\n      <td>{room, access}</td>\n      <td>{coat, dotted, red, yellow, small, insect}</td>\n      <td>{unpleasant, sensation, emotional, exertion, r...</td>\n      <td>{exertion, drugs, resulting, use, alcohol, sta...</td>\n    </tr>\n    <tr>\n      <th>10</th>\n      <td>{room, object, access, allows}</td>\n      <td>{black, dots, red, flying, small, insect, usua...</td>\n      <td>{unpleasant, sensation, emotional, physical}</td>\n      <td>{sense, confusion}</td>\n    </tr>\n    <tr>\n      <th>11</th>\n      <td>{outside, entrance, opening, key, times, well,...</td>\n      <td>{coat, characterised, tiny, considered, good, ...</td>\n      <td>{cries, discomfort, mentally, something, happe...</td>\n      <td>{also, object, drug, use, focus, make, photogr...</td>\n    </tr>\n    <tr>\n      <th>12</th>\n      <td>{object, people, made, outside, inside, mechan...</td>\n      <td>{human, planet, spots, good, black, lives, luc...</td>\n      <td>{emotional, sensation, soreness, physical, per...</td>\n      <td>{person, way, close, objects, condition, dista...</td>\n    </tr>\n    <tr>\n      <th>13</th>\n      <td>{closed, wall, opened}</td>\n      <td>{red, black, small, dots, insect}</td>\n      <td>{emotional, feeling, physical, harm, caused}</td>\n      <td>{image, clarity, defined, visual, borders, abs...</td>\n    </tr>\n    <tr>\n      <th>14</th>\n      <td>{barrier, room, mechanism, allow, access, block}</td>\n      <td>{red, black, spots, insect}</td>\n      <td>{unpleasant, feeling, harmful}</td>\n      <td>{clarity, visual, details, blends, together, l...</td>\n    </tr>\n    <tr>\n      <th>15</th>\n      <td>{let, room, exit, enter, way, people}</td>\n      <td>{black, dots, back, small, insect}</td>\n      <td>{emotional, sensation, uncomfortable, physical}</td>\n      <td>{disrupts, vision, camera, person, partially, ...</td>\n    </tr>\n    <tr>\n      <th>16</th>\n      <td>{hinge, object, artificial, spaces, opened, bo...</td>\n      <td>{wings, dots, good, flying, harmless, generall...</td>\n      <td>{emotional, uneasiness, feeling, physical, har...</td>\n      <td>{indefiniteness, defined, metaphorically, clea...</td>\n    </tr>\n    <tr>\n      <th>17</th>\n      <td>{object, closes, exit, opens, enter, place, al...</td>\n      <td>{color, spots, good, flying, black, luck, said...</td>\n      <td>{tangible, situations, feeling, feel}</td>\n      <td>{focus, condition, something, photographic, of...</td>\n    </tr>\n    <tr>\n      <th>18</th>\n      <td>{room, passage, wall, blocks, element, allows}</td>\n      <td>{black, luck, round, dots, good, red, linked, ...</td>\n      <td>{brain, make, produced, physical, necessary, i...</td>\n      <td>{vision, defined, clearly, eye, natural, devic...</td>\n    </tr>\n    <tr>\n      <th>19</th>\n      <td>{cross, access, place, object, limited}</td>\n      <td>{color, black, dots, red, characterized, small...</td>\n      <td>{unpleasant, emotion, associated, suffering}</td>\n      <td>{undefined, recognize, image, hard, shapes, ch...</td>\n    </tr>\n    <tr>\n      <th>20</th>\n      <td>{made, room, house, object, use, usually, acce...</td>\n      <td>{black, round, dots, red, flowers, flies, inse...</td>\n      <td>{right, body, harmed, felt, getting, something...</td>\n      <td>{clear, colours, visual, mix, edges, near, eye...</td>\n    </tr>\n    <tr>\n      <th>21</th>\n      <td>{entrance, room, exit, space, building}</td>\n      <td>{black, spot, round, small, red, bug, shape}</td>\n      <td>{emotional, sensation, something, harmful, res...</td>\n      <td>{confuses, vision, outlines, effect, hard, see...</td>\n    </tr>\n    <tr>\n      <th>22</th>\n      <td>{two, object, connection, spaces, allows}</td>\n      <td>{color, black, dots, red, characterized, small...</td>\n      <td>{feeling, discomfort, experience, causes}</td>\n      <td>{something, hard, effect, visual, see, clear, ...</td>\n    </tr>\n    <tr>\n      <th>23</th>\n      <td>{another, one, architecture, make, leave, pers...</td>\n      <td>{luck, fly, person, brings, insect}</td>\n      <td>{something, emotionally, physically, hurts, pe...</td>\n      <td>{effect, visual, see, way, clear, objects, all...</td>\n    </tr>\n    <tr>\n      <th>24</th>\n      <td>{entrance, room, building}</td>\n      <td>{red, black, small, dots, insect}</td>\n      <td>{sensation, sickening}</td>\n      <td>{confuses, perception, visual, looking}</td>\n    </tr>\n    <tr>\n      <th>25</th>\n      <td>{entrance, room, object, opens, close}</td>\n      <td>{red, insect, back}</td>\n      <td>{emotional, feeling, bad, physical}</td>\n      <td>{distorted, vision}</td>\n    </tr>\n    <tr>\n      <th>26</th>\n      <td>{entrance, house, object, lock}</td>\n      <td>{black, dots, back, red, insect}</td>\n      <td>{feeling, get, hurt}</td>\n      <td>{corrected, eyes, eyeglasses, condition}</td>\n    </tr>\n    <tr>\n      <th>27</th>\n      <td>{room, object, blocks, physically, space, acce...</td>\n      <td>{wings, black, known, dots, red, small, insect}</td>\n      <td>{sensation, hurt}</td>\n      <td>{faulty, object, perception, specific, perceiv...</td>\n    </tr>\n    <tr>\n      <th>28</th>\n      <td>{something, opening, go, allows}</td>\n      <td>{colored, bug, dots}</td>\n      <td>{feeling, bad}</td>\n      <td>{distance, increases, effect, blinding}</td>\n    </tr>\n    <tr>\n      <th>29</th>\n      <td>{blank, auxiliary, structure, used, walls, spa...</td>\n      <td>{structured, pattern, red, flying, colored, in...</td>\n      <td>{sensation, negative, physically, causing, dis...</td>\n      <td>{texture, lack, given, image, quality, focus, ...</td>\n    </tr>\n  </tbody>\n</table>\n</div>"
     },
     "execution_count": 2,
     "metadata": {},
     "output_type": "execute_result"
    }
   ],
   "source": [
    "data = pd.read_csv('TLN-definitions-23.csv', sep=';')\n",
    "data = data.applymap(lambda s: filter_words(set(word_tokenize(s))))\n",
    "\n",
    "data"
   ],
   "metadata": {
    "collapsed": false,
    "ExecuteTime": {
     "end_time": "2023-06-08T14:38:20.545053Z",
     "start_time": "2023-06-08T14:38:20.365980Z"
    }
   }
  },
  {
   "cell_type": "markdown",
   "source": [
    "### Lista genus\n",
    "Vado a calcolare una lista di parole comuni per ognuno dei quattro termini. Questo mi permette di adottare la **strategia del genus**, ovvero far partire la ricerca del target da una parola molto usata nella sua definizione.\n",
    "Vengono considerate solo le definizioni che hanno più di 4 parole. In realtà la lista dei genus non viene modificata molto"
   ],
   "metadata": {
    "collapsed": false
   }
  },
  {
   "cell_type": "code",
   "execution_count": 3,
   "outputs": [
    {
     "data": {
      "text/plain": "door          [(object, 12), (room, 8), (access, 8), (allows...\nladybug       [(insect, 24), (red, 23), (black, 20), (small,...\npain          [(physical, 9), (emotional, 7), (feeling, 6), ...\nblurriness    [(see, 7), (something, 5), (image, 5), (visual...\ndtype: object"
     },
     "execution_count": 3,
     "metadata": {},
     "output_type": "execute_result"
    }
   ],
   "source": [
    "r = data.apply(lambda column: Counter(p for i in column for p in i if len(i) > 4).most_common())\n",
    "r"
   ],
   "metadata": {
    "collapsed": false,
    "ExecuteTime": {
     "end_time": "2023-06-08T14:38:20.728611Z",
     "start_time": "2023-06-08T14:38:20.616185Z"
    }
   }
  },
  {
   "cell_type": "markdown",
   "source": [
    "### Estrazione definizioni\n",
    "Creo una lista con tutte le parole delle definizioni per un dato target che voglio trovare. La lista delle parole è già pulita da punteggiatura e stop words e tutte le parole compaiono una sola volta."
   ],
   "metadata": {
    "collapsed": false
   }
  },
  {
   "cell_type": "code",
   "execution_count": 4,
   "outputs": [],
   "source": [
    "words_list_door = list(set().union(*data['door']))\n",
    "words_list_bug = list(set().union(*data['ladybug']))\n",
    "words_list_pain = list(set().union(*data['pain']))\n",
    "words_list_blur = list(set().union(*data['blurriness']))"
   ],
   "metadata": {
    "collapsed": false,
    "ExecuteTime": {
     "end_time": "2023-06-08T14:38:20.729236Z",
     "start_time": "2023-06-08T14:38:20.630710Z"
    }
   }
  },
  {
   "cell_type": "markdown",
   "source": [
    "### Ricerca\n",
    "Il metodo prende la lista di parole e il punteggio di similarità con la lista delle definizioni.\n",
    "Il metodo prende tutti i synset di un genus e cicla su di essi, andando a calcolare la similarità tra il contesto del senso e il contesto delle definizioni. Ripete questa operazione su tutti i genus della lista in input.\n",
    "Alla fine ordina la lista di $(senso,\\ score\\ similarità)$ risultato in modo *non crescente* per valore di similarità.\n",
    "\n",
    "Nel metodo **get_ordered_words_2** l'intuizione è quella di non limitarsi agli iponimi del genus, ma provare a scendere anche lungo i figli. Viene mantenuto un limite per portare l'algoritmo a una terminazione veloce.\n",
    "Per sfoltire si considerano solo i figli che hanno un valore di similarità associato sopra una certa soglia (la metà del valore massimo).\n",
    "Per i **termini concreti** si è notato un miglioramento nella soluzione, in quanto i tra i sensi più alti ci sono gli elementi target delle descrizioni.\n",
    "Per i **termini astratti** non ci sono stati cambiamenti degni di nota.\n",
    "Questo approccio andrebbe rifinito per avere un *criterio d'arresto* più generico.\n",
    "\n",
    "In una prima versione del metodo di base si provavano a prendere anche in considerazione i meronimi."
   ],
   "metadata": {
    "collapsed": false
   }
  },
  {
   "cell_type": "markdown",
   "source": [
    "#### DOOR"
   ],
   "metadata": {
    "collapsed": false
   }
  },
  {
   "cell_type": "code",
   "execution_count": 5,
   "outputs": [
    {
     "data": {
      "text/plain": "[('doorway', 9),\n ('wall', 8),\n ('screen_door', 6),\n ('door', 6),\n ('cabin', 6),\n ('leak', 5),\n ('strap_hinge', 5),\n ('saltbox', 5),\n ('solar_house', 5),\n ('compartment', 4)]"
     },
     "execution_count": 5,
     "metadata": {},
     "output_type": "execute_result"
    }
   ],
   "source": [
    "get_ordered_words(r['door'], words_list_door)[0:10]"
   ],
   "metadata": {
    "collapsed": false,
    "ExecuteTime": {
     "end_time": "2023-06-08T14:38:24.626250Z",
     "start_time": "2023-06-08T14:38:20.653769Z"
    }
   }
  },
  {
   "cell_type": "code",
   "execution_count": 6,
   "outputs": [
    {
     "data": {
      "text/plain": "[('doorway', 9),\n ('screen_door', 6),\n ('cabin', 6),\n ('door', 6),\n ('leak', 5),\n ('strap_hinge', 5),\n ('saltbox', 5),\n ('solar_house', 5),\n ('wedge', 5),\n ('compartment', 4)]"
     },
     "execution_count": 6,
     "metadata": {},
     "output_type": "execute_result"
    }
   ],
   "source": [
    "get_ordered_words_2(r['door'], words_list_door, 4)[0:10]"
   ],
   "metadata": {
    "collapsed": false,
    "ExecuteTime": {
     "end_time": "2023-06-08T14:38:27.897909Z",
     "start_time": "2023-06-08T14:38:24.629175Z"
    }
   }
  },
  {
   "cell_type": "markdown",
   "source": [
    "#### LADYBUG"
   ],
   "metadata": {
    "collapsed": false
   }
  },
  {
   "cell_type": "code",
   "execution_count": 7,
   "outputs": [
    {
     "data": {
      "text/plain": "[('reddish_orange', 4),\n ('calendula', 4),\n ('dipterous_insect', 3),\n ('leaf_miner', 3),\n ('lepidopterous_insect', 3),\n ('psocopterous_insect', 3),\n ('thorax', 3),\n ('scarlet', 3),\n ('horn_fly', 3),\n ('housefly', 3)]"
     },
     "execution_count": 7,
     "metadata": {},
     "output_type": "execute_result"
    }
   ],
   "source": [
    "get_ordered_words(r['ladybug'], words_list_bug)[0:10]"
   ],
   "metadata": {
    "collapsed": false,
    "ExecuteTime": {
     "end_time": "2023-06-08T14:38:28.498199Z",
     "start_time": "2023-06-08T14:38:27.904435Z"
    }
   }
  },
  {
   "cell_type": "code",
   "execution_count": 8,
   "outputs": [
    {
     "data": {
      "text/plain": "[('reddish_orange', 4),\n ('calendula', 4),\n ('ladybug', 4),\n ('wax_begonia', 4),\n ('oncidium', 4),\n ('dipterous_insect', 3),\n ('leaf_miner', 3),\n ('lepidopterous_insect', 3),\n ('psocopterous_insect', 3),\n ('scarlet', 3)]"
     },
     "execution_count": 8,
     "metadata": {},
     "output_type": "execute_result"
    }
   ],
   "source": [
    "get_ordered_words_2(r['ladybug'], words_list_bug, 4)[0:10]"
   ],
   "metadata": {
    "collapsed": false,
    "ExecuteTime": {
     "end_time": "2023-06-08T14:38:29.775437Z",
     "start_time": "2023-06-08T14:38:28.501039Z"
    }
   }
  },
  {
   "cell_type": "markdown",
   "source": [
    "#### PAIN"
   ],
   "metadata": {
    "collapsed": false
   }
  },
  {
   "cell_type": "code",
   "execution_count": 9,
   "outputs": [
    {
     "data": {
      "text/plain": "[('constriction', 5),\n ('pinch', 4),\n ('concussion', 4),\n ('wrong', 4),\n ('photalgia', 4),\n ('referred_pain', 4),\n ('sting', 4),\n ('vision', 3),\n ('brain_damage', 3),\n ('strain', 3)]"
     },
     "execution_count": 9,
     "metadata": {},
     "output_type": "execute_result"
    }
   ],
   "source": [
    "get_ordered_words(r['pain'], words_list_pain)[0:10]"
   ],
   "metadata": {
    "collapsed": false,
    "ExecuteTime": {
     "end_time": "2023-06-08T14:38:30.056036Z",
     "start_time": "2023-06-08T14:38:29.779726Z"
    }
   }
  },
  {
   "cell_type": "code",
   "execution_count": 10,
   "outputs": [
    {
     "data": {
      "text/plain": "[('constriction', 5),\n ('pinch', 4),\n ('concussion', 4),\n ('wrong', 4),\n ('photalgia', 4),\n ('referred_pain', 4),\n ('sting', 4),\n ('vision', 3),\n ('brain_damage', 3),\n ('strain', 3)]"
     },
     "execution_count": 10,
     "metadata": {},
     "output_type": "execute_result"
    }
   ],
   "source": [
    "get_ordered_words_2(r['pain'], words_list_pain, 4)[0:10]"
   ],
   "metadata": {
    "collapsed": false,
    "ExecuteTime": {
     "end_time": "2023-06-08T14:38:30.291987Z",
     "start_time": "2023-06-08T14:38:30.057743Z"
    }
   }
  },
  {
   "cell_type": "markdown",
   "source": [
    "#### BLURRINESS"
   ],
   "metadata": {
    "collapsed": false
   }
  },
  {
   "cell_type": "code",
   "execution_count": 11,
   "outputs": [
    {
     "data": {
      "text/plain": "[('vision', 5),\n ('like', 5),\n ('register', 5),\n ('look', 5),\n ('collage', 4),\n ('acuity', 4),\n ('naked_eye', 4),\n ('quality', 4),\n ('iconography', 3),\n ('likeness', 3)]"
     },
     "execution_count": 11,
     "metadata": {},
     "output_type": "execute_result"
    }
   ],
   "source": [
    "get_ordered_words(r['blurriness'], words_list_blur)[0:10]"
   ],
   "metadata": {
    "collapsed": false,
    "ExecuteTime": {
     "end_time": "2023-06-08T14:38:30.735734Z",
     "start_time": "2023-06-08T14:38:30.295979Z"
    }
   }
  },
  {
   "cell_type": "code",
   "execution_count": 12,
   "outputs": [
    {
     "data": {
      "text/plain": "[('vision', 5),\n ('like', 5),\n ('look', 5),\n ('collage', 4),\n ('acuity', 4),\n ('naked_eye', 4),\n ('quality', 4),\n ('iconography', 3),\n ('likeness', 3),\n ('binocular_vision', 3)]"
     },
     "execution_count": 12,
     "metadata": {},
     "output_type": "execute_result"
    }
   ],
   "source": [
    "get_ordered_words_2(r['blurriness'], words_list_blur, 4)[0:10]"
   ],
   "metadata": {
    "collapsed": false,
    "ExecuteTime": {
     "end_time": "2023-06-08T14:38:31.976784Z",
     "start_time": "2023-06-08T14:38:30.740057Z"
    }
   }
  }
 ],
 "metadata": {
  "kernelspec": {
   "display_name": "Python 3",
   "language": "python",
   "name": "python3"
  },
  "language_info": {
   "codemirror_mode": {
    "name": "ipython",
    "version": 2
   },
   "file_extension": ".py",
   "mimetype": "text/x-python",
   "name": "python",
   "nbconvert_exporter": "python",
   "pygments_lexer": "ipython2",
   "version": "2.7.6"
  }
 },
 "nbformat": 4,
 "nbformat_minor": 0
}
