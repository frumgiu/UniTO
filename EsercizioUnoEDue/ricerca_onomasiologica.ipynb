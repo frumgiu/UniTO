{
 "cells": [
  {
   "cell_type": "code",
   "execution_count": 1,
   "metadata": {
    "collapsed": true,
    "ExecuteTime": {
     "end_time": "2023-06-08T09:53:21.438656Z",
     "start_time": "2023-06-08T09:53:18.687606Z"
    }
   },
   "outputs": [],
   "source": [
    "import pandas as pd\n",
    "from collections import Counter\n",
    "from nltk.tokenize import word_tokenize\n",
    "from ricerca import get_ordered_words\n",
    "from def_overlap_funcs import filter_words"
   ]
  },
  {
   "cell_type": "markdown",
   "source": [
    "## Ricerca onomasiologica\n",
    "Questo tipo di ricerca va a trovare una parola partendo dalle sue definizioni. Per fare l'esercizio viene usato il file definito in aula, nella tabella sotto sono riportate tutte le definizioni tokenizzate e pulite da stop words e punteggiatura."
   ],
   "metadata": {
    "collapsed": false
   }
  },
  {
   "cell_type": "code",
   "execution_count": 2,
   "outputs": [
    {
     "data": {
      "text/plain": "                                                 door   \n0   {temporarily, construction, two, closing, room...  \\\n1                           {closed, opened, opening}   \n2   {two, closing, get, hole, room, enter, let, di...   \n3                {access, usable, one, another, area}   \n4         {access, structure, delimits, allows, area}   \n5         {block, object, moved, pass, used, passage}   \n6   {main, iron, made, rooms, used, pushed, assemb...   \n7   {separate, object, wall, closed, opened, rooms...   \n8   {access, order, something, opened, another, pl...   \n9                                      {access, room}   \n10                     {access, object, room, allows}   \n11  {one, sort, small, enclosing, weather, outside...   \n12  {lock, unlock, chamber, get, made, mechanism, ...   \n13                             {wall, closed, opened}   \n14   {block, access, allow, mechanism, barrier, room}   \n15              {way, exit, room, people, enter, let}   \n16  {main, two, hinge, made, passage, object, usua...   \n17  {object, opens, place, closes, exit, allows, e...   \n18     {wall, element, room, allows, blocks, passage}   \n19            {access, cross, place, object, limited}   \n20  {access, object, usually, lock, rectangular, u...   \n21            {building, space, exit, room, entrance}   \n22          {object, two, connection, spaces, allows}   \n23  {leave, one, person, make, new, space, archite...   \n24                         {building, room, entrance}   \n25             {object, opens, room, close, entrance}   \n26                    {object, lock, house, entrance}   \n27  {access, object, space, point, physically, roo...   \n28                   {something, opening, allows, go}   \n29  {auxiliary, access, building, walls, different...   \n\n                                              ladybug   \n0   {insect, flying, legs, spots, typically, black...  \\\n1   {cultures, symbol, insect, good, luck, wings, ...   \n2      {insect, color, black, red, fly, dots, orange}   \n3                          {insect, back, red, small}   \n4                      {insect, small, flying, round}   \n5   {insect, family, flying, colored, tendentially...   \n6   {insectivore, used, small, control, insect, br...   \n7   {insect, dots, luck, culture, black, red, smal...   \n8                   {insect, black, red, small, dots}   \n9          {insect, dotted, yellow, red, coat, small}   \n10  {insect, flying, usually, black, red, small, d...   \n11  {insect, good, flying, tiny, usually, omen, co...   \n12  {associated, small, lives, insect, good, spots...   \n13                  {insect, black, red, small, dots}   \n14                        {insect, black, spots, red}   \n15                 {insect, back, black, small, dots}   \n16  {associated, generally, harmless, insect, good...   \n17  {said, color, small, insect, good, flying, bri...   \n18  {insect, good, round, usually, luck, black, ge...   \n19  {insect, characterized, color, black, red, sma...   \n20  {insect, flies, round, usually, flowers, black...   \n21       {spot, round, black, red, small, shape, bug}   \n22  {insect, characterized, usually, color, black,...   \n23                {insect, person, luck, fly, brings}   \n24                  {insect, black, red, small, dots}   \n25                                {insect, back, red}   \n26                   {insect, back, black, red, dots}   \n27    {insect, known, wings, black, red, small, dots}   \n28                               {colored, bug, dots}   \n29  {insect, structured, flying, colored, usually,...   \n\n                                                 pain   \n0               {physical, distress, mental, feeling}  \\\n1           {bad, physical, emotional, hurt, feeling}   \n2    {experience, suffer, conscious, beings, felling}   \n3             {living, suffering, describes, concept}   \n4                     {feeling, physical, discomfort}   \n5                    {unpleasant, sensation, burning}   \n6   {creatures, felt, sensation, damaged, psycholo...   \n7   {physical, emotional, feeling, caused, injury,...   \n8                      {sorrow, sentiment, expresses}   \n9   {physical, emotional, resulting, exertion, sen...   \n10       {sensation, physical, emotional, unpleasant}   \n11  {light, cries, something, mentally, happens, r...   \n12  {physical, emotional, bring, person, sensation...   \n13       {physical, emotional, feeling, caused, harm}   \n14                     {harmful, unpleasant, feeling}   \n15    {physical, emotional, sensation, uncomfortable}   \n16  {physical, emotional, feeling, causes, harm, u...   \n17              {situations, tangible, feel, feeling}   \n18  {brain, aware, complex, creature, necessary, i...   \n19       {associated, unpleasant, suffering, emotion}   \n20  {felt, emotion, something, us, want, tell, har...   \n21  {damaging, harmful, physical, emotional, felt,...   \n22          {experience, feeling, discomfort, causes}   \n23  {person, something, emotionally, hurts, physic...   \n24                             {sensation, sickening}   \n25                {bad, physical, emotional, feeling}   \n26                               {get, hurt, feeling}   \n27                                  {sensation, hurt}   \n28                                     {feeling, bad}   \n29  {causing, mentally, negative, sensation, disco...   \n\n                                           blurriness  \n0                                      {focus, sight}  \n1         {borders, definite, shapelessness, absence}  \n2   {see, ca, felt, something, sensation, clearly,...  \n3                                   {sharpness, lack}  \n4          {characteristic, lack, precision, clarity}  \n5   {see, everything, eyes, sensation, blurred, bl...  \n6   {perceive, whether, physical, certain, accurat...  \n7   {eye, bad, unfocused, lack, vision, image, mem...  \n8   {condition, totally, seeing, bright, clear, ma...  \n9   {confusion, physical, resulting, drugs, exerti...  \n10                                 {confusion, sense}  \n11  {also, property, happens, hard, see, object, i...  \n12  {allow, objects, people, condition, see, way, ...  \n13  {borders, image, absence, visual, defined, cla...  \n14  {together, blends, details, visual, condition,...  \n15  {person, disrupts, partially, vision, phenomen...  \n16  {perceived, something, ill, state, indefiniten...  \n17  {something, visible, context, subject, specifi...  \n18  {device, state, vision, clearly, defined, eye,...  \n19  {undefined, lines, characteristic, recognize, ...  \n20  {phenomena, something, edges, near, visual, pr...  \n21  {confuses, vision, hard, outlines, see, making...  \n22  {see, something, effect, visual, hard, clear, ...  \n23  {see, way, objects, effect, visual, allows, cl...  \n24            {looking, confuses, visual, perception}  \n25                                {vision, distorted}  \n26           {corrected, eyeglasses, eyes, condition}  \n27  {perceived, object, faulty, properly, specific...  \n28            {increases, distance, blinding, effect}  \n29  {low, lack, quality, given, image, focus, text...  ",
      "text/html": "<div>\n<style scoped>\n    .dataframe tbody tr th:only-of-type {\n        vertical-align: middle;\n    }\n\n    .dataframe tbody tr th {\n        vertical-align: top;\n    }\n\n    .dataframe thead th {\n        text-align: right;\n    }\n</style>\n<table border=\"1\" class=\"dataframe\">\n  <thead>\n    <tr style=\"text-align: right;\">\n      <th></th>\n      <th>door</th>\n      <th>ladybug</th>\n      <th>pain</th>\n      <th>blurriness</th>\n    </tr>\n  </thead>\n  <tbody>\n    <tr>\n      <th>0</th>\n      <td>{temporarily, construction, two, closing, room...</td>\n      <td>{insect, flying, legs, spots, typically, black...</td>\n      <td>{physical, distress, mental, feeling}</td>\n      <td>{focus, sight}</td>\n    </tr>\n    <tr>\n      <th>1</th>\n      <td>{closed, opened, opening}</td>\n      <td>{cultures, symbol, insect, good, luck, wings, ...</td>\n      <td>{bad, physical, emotional, hurt, feeling}</td>\n      <td>{borders, definite, shapelessness, absence}</td>\n    </tr>\n    <tr>\n      <th>2</th>\n      <td>{two, closing, get, hole, room, enter, let, di...</td>\n      <td>{insect, color, black, red, fly, dots, orange}</td>\n      <td>{experience, suffer, conscious, beings, felling}</td>\n      <td>{see, ca, felt, something, sensation, clearly,...</td>\n    </tr>\n    <tr>\n      <th>3</th>\n      <td>{access, usable, one, another, area}</td>\n      <td>{insect, back, red, small}</td>\n      <td>{living, suffering, describes, concept}</td>\n      <td>{sharpness, lack}</td>\n    </tr>\n    <tr>\n      <th>4</th>\n      <td>{access, structure, delimits, allows, area}</td>\n      <td>{insect, small, flying, round}</td>\n      <td>{feeling, physical, discomfort}</td>\n      <td>{characteristic, lack, precision, clarity}</td>\n    </tr>\n    <tr>\n      <th>5</th>\n      <td>{block, object, moved, pass, used, passage}</td>\n      <td>{insect, family, flying, colored, tendentially...</td>\n      <td>{unpleasant, sensation, burning}</td>\n      <td>{see, everything, eyes, sensation, blurred, bl...</td>\n    </tr>\n    <tr>\n      <th>6</th>\n      <td>{main, iron, made, rooms, used, pushed, assemb...</td>\n      <td>{insectivore, used, small, control, insect, br...</td>\n      <td>{creatures, felt, sensation, damaged, psycholo...</td>\n      <td>{perceive, whether, physical, certain, accurat...</td>\n    </tr>\n    <tr>\n      <th>7</th>\n      <td>{separate, object, wall, closed, opened, rooms...</td>\n      <td>{insect, dots, luck, culture, black, red, smal...</td>\n      <td>{physical, emotional, feeling, caused, injury,...</td>\n      <td>{eye, bad, unfocused, lack, vision, image, mem...</td>\n    </tr>\n    <tr>\n      <th>8</th>\n      <td>{access, order, something, opened, another, pl...</td>\n      <td>{insect, black, red, small, dots}</td>\n      <td>{sorrow, sentiment, expresses}</td>\n      <td>{condition, totally, seeing, bright, clear, ma...</td>\n    </tr>\n    <tr>\n      <th>9</th>\n      <td>{access, room}</td>\n      <td>{insect, dotted, yellow, red, coat, small}</td>\n      <td>{physical, emotional, resulting, exertion, sen...</td>\n      <td>{confusion, physical, resulting, drugs, exerti...</td>\n    </tr>\n    <tr>\n      <th>10</th>\n      <td>{access, object, room, allows}</td>\n      <td>{insect, flying, usually, black, red, small, d...</td>\n      <td>{sensation, physical, emotional, unpleasant}</td>\n      <td>{confusion, sense}</td>\n    </tr>\n    <tr>\n      <th>11</th>\n      <td>{one, sort, small, enclosing, weather, outside...</td>\n      <td>{insect, good, flying, tiny, usually, omen, co...</td>\n      <td>{light, cries, something, mentally, happens, r...</td>\n      <td>{also, property, happens, hard, see, object, i...</td>\n    </tr>\n    <tr>\n      <th>12</th>\n      <td>{lock, unlock, chamber, get, made, mechanism, ...</td>\n      <td>{associated, small, lives, insect, good, spots...</td>\n      <td>{physical, emotional, bring, person, sensation...</td>\n      <td>{allow, objects, people, condition, see, way, ...</td>\n    </tr>\n    <tr>\n      <th>13</th>\n      <td>{wall, closed, opened}</td>\n      <td>{insect, black, red, small, dots}</td>\n      <td>{physical, emotional, feeling, caused, harm}</td>\n      <td>{borders, image, absence, visual, defined, cla...</td>\n    </tr>\n    <tr>\n      <th>14</th>\n      <td>{block, access, allow, mechanism, barrier, room}</td>\n      <td>{insect, black, spots, red}</td>\n      <td>{harmful, unpleasant, feeling}</td>\n      <td>{together, blends, details, visual, condition,...</td>\n    </tr>\n    <tr>\n      <th>15</th>\n      <td>{way, exit, room, people, enter, let}</td>\n      <td>{insect, back, black, small, dots}</td>\n      <td>{physical, emotional, sensation, uncomfortable}</td>\n      <td>{person, disrupts, partially, vision, phenomen...</td>\n    </tr>\n    <tr>\n      <th>16</th>\n      <td>{main, two, hinge, made, passage, object, usua...</td>\n      <td>{associated, generally, harmless, insect, good...</td>\n      <td>{physical, emotional, feeling, causes, harm, u...</td>\n      <td>{perceived, something, ill, state, indefiniten...</td>\n    </tr>\n    <tr>\n      <th>17</th>\n      <td>{object, opens, place, closes, exit, allows, e...</td>\n      <td>{said, color, small, insect, good, flying, bri...</td>\n      <td>{situations, tangible, feel, feeling}</td>\n      <td>{something, visible, context, subject, specifi...</td>\n    </tr>\n    <tr>\n      <th>18</th>\n      <td>{wall, element, room, allows, blocks, passage}</td>\n      <td>{insect, good, round, usually, luck, black, ge...</td>\n      <td>{brain, aware, complex, creature, necessary, i...</td>\n      <td>{device, state, vision, clearly, defined, eye,...</td>\n    </tr>\n    <tr>\n      <th>19</th>\n      <td>{access, cross, place, object, limited}</td>\n      <td>{insect, characterized, color, black, red, sma...</td>\n      <td>{associated, unpleasant, suffering, emotion}</td>\n      <td>{undefined, lines, characteristic, recognize, ...</td>\n    </tr>\n    <tr>\n      <th>20</th>\n      <td>{access, object, usually, lock, rectangular, u...</td>\n      <td>{insect, flies, round, usually, flowers, black...</td>\n      <td>{felt, emotion, something, us, want, tell, har...</td>\n      <td>{phenomena, something, edges, near, visual, pr...</td>\n    </tr>\n    <tr>\n      <th>21</th>\n      <td>{building, space, exit, room, entrance}</td>\n      <td>{spot, round, black, red, small, shape, bug}</td>\n      <td>{damaging, harmful, physical, emotional, felt,...</td>\n      <td>{confuses, vision, hard, outlines, see, making...</td>\n    </tr>\n    <tr>\n      <th>22</th>\n      <td>{object, two, connection, spaces, allows}</td>\n      <td>{insect, characterized, usually, color, black,...</td>\n      <td>{experience, feeling, discomfort, causes}</td>\n      <td>{see, something, effect, visual, hard, clear, ...</td>\n    </tr>\n    <tr>\n      <th>23</th>\n      <td>{leave, one, person, make, new, space, archite...</td>\n      <td>{insect, person, luck, fly, brings}</td>\n      <td>{person, something, emotionally, hurts, physic...</td>\n      <td>{see, way, objects, effect, visual, allows, cl...</td>\n    </tr>\n    <tr>\n      <th>24</th>\n      <td>{building, room, entrance}</td>\n      <td>{insect, black, red, small, dots}</td>\n      <td>{sensation, sickening}</td>\n      <td>{looking, confuses, visual, perception}</td>\n    </tr>\n    <tr>\n      <th>25</th>\n      <td>{object, opens, room, close, entrance}</td>\n      <td>{insect, back, red}</td>\n      <td>{bad, physical, emotional, feeling}</td>\n      <td>{vision, distorted}</td>\n    </tr>\n    <tr>\n      <th>26</th>\n      <td>{object, lock, house, entrance}</td>\n      <td>{insect, back, black, red, dots}</td>\n      <td>{get, hurt, feeling}</td>\n      <td>{corrected, eyeglasses, eyes, condition}</td>\n    </tr>\n    <tr>\n      <th>27</th>\n      <td>{access, object, space, point, physically, roo...</td>\n      <td>{insect, known, wings, black, red, small, dots}</td>\n      <td>{sensation, hurt}</td>\n      <td>{perceived, object, faulty, properly, specific...</td>\n    </tr>\n    <tr>\n      <th>28</th>\n      <td>{something, opening, allows, go}</td>\n      <td>{colored, bug, dots}</td>\n      <td>{feeling, bad}</td>\n      <td>{increases, distance, blinding, effect}</td>\n    </tr>\n    <tr>\n      <th>29</th>\n      <td>{auxiliary, access, building, walls, different...</td>\n      <td>{insect, structured, flying, colored, usually,...</td>\n      <td>{causing, mentally, negative, sensation, disco...</td>\n      <td>{low, lack, quality, given, image, focus, text...</td>\n    </tr>\n  </tbody>\n</table>\n</div>"
     },
     "execution_count": 2,
     "metadata": {},
     "output_type": "execute_result"
    }
   ],
   "source": [
    "data = pd.read_csv('TLN-definitions-23.csv', sep=';')\n",
    "data = data.applymap(lambda s: filter_words(set(word_tokenize(s))))\n",
    "\n",
    "data"
   ],
   "metadata": {
    "collapsed": false,
    "ExecuteTime": {
     "end_time": "2023-06-08T09:53:21.618791Z",
     "start_time": "2023-06-08T09:53:21.443667Z"
    }
   }
  },
  {
   "cell_type": "markdown",
   "source": [
    "### Lista genus\n",
    "Vado a calcolare una lista di parole comuni per ognuno dei quattro termini. Questo mi permette di adottare la **strategia del genus**, ovvero far partire la ricerca del target da una parola molto usata nella sua definizione."
   ],
   "metadata": {
    "collapsed": false
   }
  },
  {
   "cell_type": "code",
   "execution_count": 3,
   "outputs": [],
   "source": [
    "r = data.apply(lambda column: Counter(p for i in column for p in i).most_common())"
   ],
   "metadata": {
    "collapsed": false,
    "ExecuteTime": {
     "end_time": "2023-06-08T09:53:21.631847Z",
     "start_time": "2023-06-08T09:53:21.623773Z"
    }
   }
  },
  {
   "cell_type": "markdown",
   "source": [
    "### Estrazione definizioni\n",
    "Creo una lista con tutte le parole delle definizioni per un dato target che voglio trovare. La lista delle parole è già pulita da punteggiatura e stop words e tutte le parole compaiono una sola volta."
   ],
   "metadata": {
    "collapsed": false
   }
  },
  {
   "cell_type": "code",
   "execution_count": 4,
   "outputs": [],
   "source": [
    "words_list_door = list(set().union(*data['door']))\n",
    "words_list_bug = list(set().union(*data['ladybug']))\n",
    "words_list_pain = list(set().union(*data['pain']))\n",
    "words_list_blur = list(set().union(*data['blurriness']))"
   ],
   "metadata": {
    "collapsed": false,
    "ExecuteTime": {
     "end_time": "2023-06-08T09:53:21.650734Z",
     "start_time": "2023-06-08T09:53:21.639051Z"
    }
   }
  },
  {
   "cell_type": "markdown",
   "source": [
    "### Ricerca\n",
    "Il metodo prende la lista di parole e il punteggio di similarità con la lista delle definizioni.\n",
    "Il metodo prende tutti i synset di un genus e cicla su di essi, andando a calcolare e salvare la similarità tra il contesto del senso e il contesto delle definizioni. Ripete questa operazione su tutti i genus della lista in input.\n",
    "Alla fine ordina la lista risultato in modo *non crescente* per valore di similarità"
   ],
   "metadata": {
    "collapsed": false
   }
  },
  {
   "cell_type": "code",
   "execution_count": 5,
   "outputs": [
    {
     "data": {
      "text/plain": "[('doorway', 9),\n ('wall', 8),\n ('cabin', 6),\n ('screen_door', 6),\n ('door', 6),\n ('saltbox', 5),\n ('solar_house', 5),\n ('leak', 5),\n ('strap_hinge', 5),\n ('compartment', 4)]"
     },
     "execution_count": 5,
     "metadata": {},
     "output_type": "execute_result"
    }
   ],
   "source": [
    "get_ordered_words(r['door'], words_list_door)[0:10]"
   ],
   "metadata": {
    "collapsed": false,
    "ExecuteTime": {
     "end_time": "2023-06-08T09:53:25.933947Z",
     "start_time": "2023-06-08T09:53:21.656870Z"
    }
   }
  },
  {
   "cell_type": "code",
   "execution_count": 6,
   "outputs": [
    {
     "data": {
      "text/plain": "[('reddish_orange', 4),\n ('calendula', 4),\n ('dipterous_insect', 3),\n ('leaf_miner', 3),\n ('lepidopterous_insect', 3),\n ('psocopterous_insect', 3),\n ('thorax', 3),\n ('scarlet', 3),\n ('horn_fly', 3),\n ('housefly', 3)]"
     },
     "execution_count": 6,
     "metadata": {},
     "output_type": "execute_result"
    }
   ],
   "source": [
    "get_ordered_words(r['ladybug'], words_list_bug)[0:10]"
   ],
   "metadata": {
    "collapsed": false,
    "ExecuteTime": {
     "end_time": "2023-06-08T09:53:26.529889Z",
     "start_time": "2023-06-08T09:53:25.943055Z"
    }
   }
  },
  {
   "cell_type": "code",
   "execution_count": 7,
   "outputs": [
    {
     "data": {
      "text/plain": "[('constriction', 5),\n ('pinch', 4),\n ('concussion', 4),\n ('wrong', 4),\n ('photalgia', 4),\n ('referred_pain', 4),\n ('sting', 4),\n ('vision', 3),\n ('brain_damage', 3),\n ('strain', 3)]"
     },
     "execution_count": 7,
     "metadata": {},
     "output_type": "execute_result"
    }
   ],
   "source": [
    "get_ordered_words(r['pain'], words_list_pain)[0:10]"
   ],
   "metadata": {
    "collapsed": false,
    "ExecuteTime": {
     "end_time": "2023-06-08T09:53:26.892929Z",
     "start_time": "2023-06-08T09:53:26.534201Z"
    }
   }
  },
  {
   "cell_type": "code",
   "execution_count": 8,
   "outputs": [
    {
     "data": {
      "text/plain": "[('vision', 5),\n ('look', 5),\n ('like', 5),\n ('register', 5),\n ('acuity', 4),\n ('collage', 4),\n ('naked_eye', 4),\n ('quality', 4),\n ('bifocals', 4),\n ('binocular_vision', 3)]"
     },
     "execution_count": 8,
     "metadata": {},
     "output_type": "execute_result"
    }
   ],
   "source": [
    "get_ordered_words(r['blurriness'], words_list_blur)[0:10]"
   ],
   "metadata": {
    "collapsed": false,
    "ExecuteTime": {
     "end_time": "2023-06-08T09:53:27.371657Z",
     "start_time": "2023-06-08T09:53:26.898799Z"
    }
   }
  }
 ],
 "metadata": {
  "kernelspec": {
   "display_name": "Python 3",
   "language": "python",
   "name": "python3"
  },
  "language_info": {
   "codemirror_mode": {
    "name": "ipython",
    "version": 2
   },
   "file_extension": ".py",
   "mimetype": "text/x-python",
   "name": "python",
   "nbconvert_exporter": "python",
   "pygments_lexer": "ipython2",
   "version": "2.7.6"
  }
 },
 "nbformat": 4,
 "nbformat_minor": 0
}
