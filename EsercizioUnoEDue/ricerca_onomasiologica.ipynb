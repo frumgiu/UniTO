{
 "cells": [
  {
   "cell_type": "code",
   "execution_count": 1,
   "metadata": {
    "collapsed": true,
    "ExecuteTime": {
     "end_time": "2023-06-08T13:58:22.388443Z",
     "start_time": "2023-06-08T13:58:20.304753Z"
    }
   },
   "outputs": [],
   "source": [
    "import pandas as pd\n",
    "from nltk.corpus import wordnet\n",
    "from collections import Counter\n",
    "from nltk.tokenize import word_tokenize\n",
    "from ricerca import get_ordered_words, get_ordered_words_2\n",
    "from def_overlap_funcs import filter_words"
   ]
  },
  {
   "cell_type": "markdown",
   "source": [
    "## Ricerca onomasiologica\n",
    "Questo tipo di ricerca va a trovare una parola partendo dalle sue definizioni. Per fare l'esercizio viene usato il file definito in aula, nella tabella sotto sono riportate tutte le definizioni tokenizzate e pulite da stop words e punteggiatura."
   ],
   "metadata": {
    "collapsed": false
   }
  },
  {
   "cell_type": "code",
   "execution_count": 2,
   "outputs": [
    {
     "data": {
      "text/plain": "                                                 door   \n0   {rooms, closing, construction, used, divide, p...  \\\n1                           {opening, opened, closed}   \n2   {hole, closing, get, door, wall, enter, room, ...   \n3                {one, usable, access, another, area}   \n4         {access, allows, delimits, area, structure}   \n5         {block, used, moved, pass, object, passage}   \n6   {handle, requires, materials, sometimes, iron,...   \n7   {rooms, opened, used, closed, go, object, sepa...   \n8   {opened, order, access, place, something, anot...   \n9                                      {room, access}   \n10                     {room, access, allows, object}   \n11  {one, usually, entrance, locked, sort, intrude...   \n12  {usually, mechanism, unlock, enables, allows, ...   \n13                             {opened, closed, wall}   \n14   {room, access, block, mechanism, barrier, allow}   \n15              {room, let, way, exit, people, enter}   \n16  {handle, usually, opened, allows, main, made, ...   \n17  {allows, closes, place, opens, object, exit, e...   \n18     {element, room, allows, passage, blocks, wall}   \n19            {place, object, limited, access, cross}   \n20  {room, usually, access, made, rectangular, woo...   \n21            {entrance, room, building, space, exit}   \n22          {allows, two, spaces, object, connection}   \n23  {one, another, make, leave, pass, space, archi...   \n24                         {entrance, room, building}   \n25             {entrance, room, opens, object, close}   \n26                    {entrance, house, lock, object}   \n27  {room, access, physically, point, space, objec...   \n28                   {opening, allows, something, go}   \n29  {auxiliary, built, blank, access, used, differ...   \n\n                                              ladybug   \n0   {flying, spots, red, typically, legs, insect, ...  \\\n1   {insect, black, good, luck, symbol, red, many,...   \n2      {fly, red, orange, color, insect, black, dots}   \n3                          {back, insect, red, small}   \n4                      {flying, small, insect, round}   \n5   {beatle, colored, flying, tendentially, family...   \n6   {pest, back, insect, black, considered, small,...   \n7   {luck, black, insect, red, brings, culture, sm...   \n8                   {insect, black, red, small, dots}   \n9          {dotted, yellow, insect, red, coat, small}   \n10  {usually, flying, red, insect, black, small, d...   \n11  {tiny, usually, good, flying, insect, coat, re...   \n12  {usually, human, insect, black, falls, lives, ...   \n13                  {insect, black, red, small, dots}   \n14                        {black, insect, red, spots}   \n15                 {back, insect, black, small, dots}   \n16  {insect, black, characterized, good, luck, fly...   \n17  {said, color, insect, black, characterized, go...   \n18  {good, usually, round, luck, red, linked, inse...   \n19  {characterized, red, color, insect, black, sma...   \n20  {flowers, usually, round, flies, red, insect, ...   \n21       {bug, round, black, spot, shape, red, small}   \n22  {characterized, usually, red, color, insect, b...   \n23                {luck, fly, insect, brings, person}   \n24                  {insect, black, red, small, dots}   \n25                                {back, insect, red}   \n26                   {back, black, insect, red, dots}   \n27    {known, red, insect, black, small, dots, wings}   \n28                               {bug, colored, dots}   \n29  {usually, colored, flying, insect, red, struct...   \n\n                                                 pain   \n0               {feeling, distress, physical, mental}  \\\n1           {feeling, hurt, emotional, physical, bad}   \n2    {experience, conscious, felling, suffer, beings}   \n3             {suffering, describes, concept, living}   \n4                     {feeling, physical, discomfort}   \n5                    {unpleasant, sensation, burning}   \n6   {felt, damaged, physical, sensation, creatures...   \n7   {feeling, sadness, emotional, physical, pain, ...   \n8                      {expresses, sentiment, sorrow}   \n9   {emotional, physical, resulting, exertion, sen...   \n10       {emotional, physical, sensation, unpleasant}   \n11  {cries, occurs, mentally, either, could, somet...   \n12  {soreness, discomfort, emotional, physical, br...   \n13       {feeling, emotional, physical, harm, caused}   \n14                     {feeling, harmful, unpleasant}   \n15    {emotional, physical, uncomfortable, sensation}   \n16  {feeling, causes, emotional, physical, uneasin...   \n17              {feeling, situations, feel, tangible}   \n18  {brain, physical, aware, creature, necessary, ...   \n19       {suffering, associated, emotion, unpleasant}   \n20  {us, felt, want, something, tell, right, emoti...   \n21  {felt, kind, emotional, physical, response, ha...   \n22          {feeling, experience, discomfort, causes}   \n23  {physically, hurts, something, emotionally, pe...   \n24                             {sickening, sensation}   \n25                {feeling, bad, emotional, physical}   \n26                               {feeling, hurt, get}   \n27                                  {hurt, sensation}   \n28                                     {feeling, bad}   \n29  {discomfort, physically, negative, mentally, c...   \n\n                                           blurriness  \n0                                      {focus, sight}  \n1         {shapelessness, absence, definite, borders}  \n2   {ca, felt, clearly, see, something, border, se...  \n3                                   {sharpness, lack}  \n4          {clarity, precision, characteristic, lack}  \n5   {blurring, eyes, see, everything, sensation, b...  \n6   {conceptual, inability, accurately, certain, k...  \n7   {memory, unfocused, eye, bad, image, vision, l...  \n8   {seeing, bright, totally, makes, condition, th...  \n9   {drugs, alcohol, state, physical, confusion, r...  \n10                                 {sense, confusion}  \n11  {usually, drug, also, photograph, use, hard, s...  \n12  {condition, close, far, detailed, allow, perso...  \n13  {visual, defined, absence, borders, clarity, i...  \n14  {visual, together, condition, blends, losing, ...  \n15  {camera, partially, phenomenon, disrupts, visi...  \n16  {clearly, metaphorically, defined, something, ...  \n17  {condition, specific, context, often, somethin...  \n18  {clearly, attributed, defined, eye, vision, st...  \n19  {undefined, characteristic, recognize, lines, ...  \n20  {visually, colours, eye, phenomena, something,...  \n21  {confuses, outlines, hard, effect, affect, see...  \n22  {visual, effect, see, makes, clear, something,...  \n23  {visual, effect, see, allows, objects, way, cl...  \n24            {visual, confuses, looking, perception}  \n25                                {vision, distorted}  \n26           {eyes, condition, eyeglasses, corrected}  \n27  {perceived, defined, perception, specific, obj...  \n28            {increases, effect, blinding, distance}  \n29  {low, focus, given, texture, quality, image, l...  ",
      "text/html": "<div>\n<style scoped>\n    .dataframe tbody tr th:only-of-type {\n        vertical-align: middle;\n    }\n\n    .dataframe tbody tr th {\n        vertical-align: top;\n    }\n\n    .dataframe thead th {\n        text-align: right;\n    }\n</style>\n<table border=\"1\" class=\"dataframe\">\n  <thead>\n    <tr style=\"text-align: right;\">\n      <th></th>\n      <th>door</th>\n      <th>ladybug</th>\n      <th>pain</th>\n      <th>blurriness</th>\n    </tr>\n  </thead>\n  <tbody>\n    <tr>\n      <th>0</th>\n      <td>{rooms, closing, construction, used, divide, p...</td>\n      <td>{flying, spots, red, typically, legs, insect, ...</td>\n      <td>{feeling, distress, physical, mental}</td>\n      <td>{focus, sight}</td>\n    </tr>\n    <tr>\n      <th>1</th>\n      <td>{opening, opened, closed}</td>\n      <td>{insect, black, good, luck, symbol, red, many,...</td>\n      <td>{feeling, hurt, emotional, physical, bad}</td>\n      <td>{shapelessness, absence, definite, borders}</td>\n    </tr>\n    <tr>\n      <th>2</th>\n      <td>{hole, closing, get, door, wall, enter, room, ...</td>\n      <td>{fly, red, orange, color, insect, black, dots}</td>\n      <td>{experience, conscious, felling, suffer, beings}</td>\n      <td>{ca, felt, clearly, see, something, border, se...</td>\n    </tr>\n    <tr>\n      <th>3</th>\n      <td>{one, usable, access, another, area}</td>\n      <td>{back, insect, red, small}</td>\n      <td>{suffering, describes, concept, living}</td>\n      <td>{sharpness, lack}</td>\n    </tr>\n    <tr>\n      <th>4</th>\n      <td>{access, allows, delimits, area, structure}</td>\n      <td>{flying, small, insect, round}</td>\n      <td>{feeling, physical, discomfort}</td>\n      <td>{clarity, precision, characteristic, lack}</td>\n    </tr>\n    <tr>\n      <th>5</th>\n      <td>{block, used, moved, pass, object, passage}</td>\n      <td>{beatle, colored, flying, tendentially, family...</td>\n      <td>{unpleasant, sensation, burning}</td>\n      <td>{blurring, eyes, see, everything, sensation, b...</td>\n    </tr>\n    <tr>\n      <th>6</th>\n      <td>{handle, requires, materials, sometimes, iron,...</td>\n      <td>{pest, back, insect, black, considered, small,...</td>\n      <td>{felt, damaged, physical, sensation, creatures...</td>\n      <td>{conceptual, inability, accurately, certain, k...</td>\n    </tr>\n    <tr>\n      <th>7</th>\n      <td>{rooms, opened, used, closed, go, object, sepa...</td>\n      <td>{luck, black, insect, red, brings, culture, sm...</td>\n      <td>{feeling, sadness, emotional, physical, pain, ...</td>\n      <td>{memory, unfocused, eye, bad, image, vision, l...</td>\n    </tr>\n    <tr>\n      <th>8</th>\n      <td>{opened, order, access, place, something, anot...</td>\n      <td>{insect, black, red, small, dots}</td>\n      <td>{expresses, sentiment, sorrow}</td>\n      <td>{seeing, bright, totally, makes, condition, th...</td>\n    </tr>\n    <tr>\n      <th>9</th>\n      <td>{room, access}</td>\n      <td>{dotted, yellow, insect, red, coat, small}</td>\n      <td>{emotional, physical, resulting, exertion, sen...</td>\n      <td>{drugs, alcohol, state, physical, confusion, r...</td>\n    </tr>\n    <tr>\n      <th>10</th>\n      <td>{room, access, allows, object}</td>\n      <td>{usually, flying, red, insect, black, small, d...</td>\n      <td>{emotional, physical, sensation, unpleasant}</td>\n      <td>{sense, confusion}</td>\n    </tr>\n    <tr>\n      <th>11</th>\n      <td>{one, usually, entrance, locked, sort, intrude...</td>\n      <td>{tiny, usually, good, flying, insect, coat, re...</td>\n      <td>{cries, occurs, mentally, either, could, somet...</td>\n      <td>{usually, drug, also, photograph, use, hard, s...</td>\n    </tr>\n    <tr>\n      <th>12</th>\n      <td>{usually, mechanism, unlock, enables, allows, ...</td>\n      <td>{usually, human, insect, black, falls, lives, ...</td>\n      <td>{soreness, discomfort, emotional, physical, br...</td>\n      <td>{condition, close, far, detailed, allow, perso...</td>\n    </tr>\n    <tr>\n      <th>13</th>\n      <td>{opened, closed, wall}</td>\n      <td>{insect, black, red, small, dots}</td>\n      <td>{feeling, emotional, physical, harm, caused}</td>\n      <td>{visual, defined, absence, borders, clarity, i...</td>\n    </tr>\n    <tr>\n      <th>14</th>\n      <td>{room, access, block, mechanism, barrier, allow}</td>\n      <td>{black, insect, red, spots}</td>\n      <td>{feeling, harmful, unpleasant}</td>\n      <td>{visual, together, condition, blends, losing, ...</td>\n    </tr>\n    <tr>\n      <th>15</th>\n      <td>{room, let, way, exit, people, enter}</td>\n      <td>{back, insect, black, small, dots}</td>\n      <td>{emotional, physical, uncomfortable, sensation}</td>\n      <td>{camera, partially, phenomenon, disrupts, visi...</td>\n    </tr>\n    <tr>\n      <th>16</th>\n      <td>{handle, usually, opened, allows, main, made, ...</td>\n      <td>{insect, black, characterized, good, luck, fly...</td>\n      <td>{feeling, causes, emotional, physical, uneasin...</td>\n      <td>{clearly, metaphorically, defined, something, ...</td>\n    </tr>\n    <tr>\n      <th>17</th>\n      <td>{allows, closes, place, opens, object, exit, e...</td>\n      <td>{said, color, insect, black, characterized, go...</td>\n      <td>{feeling, situations, feel, tangible}</td>\n      <td>{condition, specific, context, often, somethin...</td>\n    </tr>\n    <tr>\n      <th>18</th>\n      <td>{element, room, allows, passage, blocks, wall}</td>\n      <td>{good, usually, round, luck, red, linked, inse...</td>\n      <td>{brain, physical, aware, creature, necessary, ...</td>\n      <td>{clearly, attributed, defined, eye, vision, st...</td>\n    </tr>\n    <tr>\n      <th>19</th>\n      <td>{place, object, limited, access, cross}</td>\n      <td>{characterized, red, color, insect, black, sma...</td>\n      <td>{suffering, associated, emotion, unpleasant}</td>\n      <td>{undefined, characteristic, recognize, lines, ...</td>\n    </tr>\n    <tr>\n      <th>20</th>\n      <td>{room, usually, access, made, rectangular, woo...</td>\n      <td>{flowers, usually, round, flies, red, insect, ...</td>\n      <td>{us, felt, want, something, tell, right, emoti...</td>\n      <td>{visually, colours, eye, phenomena, something,...</td>\n    </tr>\n    <tr>\n      <th>21</th>\n      <td>{entrance, room, building, space, exit}</td>\n      <td>{bug, round, black, spot, shape, red, small}</td>\n      <td>{felt, kind, emotional, physical, response, ha...</td>\n      <td>{confuses, outlines, hard, effect, affect, see...</td>\n    </tr>\n    <tr>\n      <th>22</th>\n      <td>{allows, two, spaces, object, connection}</td>\n      <td>{characterized, usually, red, color, insect, b...</td>\n      <td>{feeling, experience, discomfort, causes}</td>\n      <td>{visual, effect, see, makes, clear, something,...</td>\n    </tr>\n    <tr>\n      <th>23</th>\n      <td>{one, another, make, leave, pass, space, archi...</td>\n      <td>{luck, fly, insect, brings, person}</td>\n      <td>{physically, hurts, something, emotionally, pe...</td>\n      <td>{visual, effect, see, allows, objects, way, cl...</td>\n    </tr>\n    <tr>\n      <th>24</th>\n      <td>{entrance, room, building}</td>\n      <td>{insect, black, red, small, dots}</td>\n      <td>{sickening, sensation}</td>\n      <td>{visual, confuses, looking, perception}</td>\n    </tr>\n    <tr>\n      <th>25</th>\n      <td>{entrance, room, opens, object, close}</td>\n      <td>{back, insect, red}</td>\n      <td>{feeling, bad, emotional, physical}</td>\n      <td>{vision, distorted}</td>\n    </tr>\n    <tr>\n      <th>26</th>\n      <td>{entrance, house, lock, object}</td>\n      <td>{back, black, insect, red, dots}</td>\n      <td>{feeling, hurt, get}</td>\n      <td>{eyes, condition, eyeglasses, corrected}</td>\n    </tr>\n    <tr>\n      <th>27</th>\n      <td>{room, access, physically, point, space, objec...</td>\n      <td>{known, red, insect, black, small, dots, wings}</td>\n      <td>{hurt, sensation}</td>\n      <td>{perceived, defined, perception, specific, obj...</td>\n    </tr>\n    <tr>\n      <th>28</th>\n      <td>{opening, allows, something, go}</td>\n      <td>{bug, colored, dots}</td>\n      <td>{feeling, bad}</td>\n      <td>{increases, effect, blinding, distance}</td>\n    </tr>\n    <tr>\n      <th>29</th>\n      <td>{auxiliary, built, blank, access, used, differ...</td>\n      <td>{usually, colored, flying, insect, red, struct...</td>\n      <td>{discomfort, physically, negative, mentally, c...</td>\n      <td>{low, focus, given, texture, quality, image, l...</td>\n    </tr>\n  </tbody>\n</table>\n</div>"
     },
     "execution_count": 2,
     "metadata": {},
     "output_type": "execute_result"
    }
   ],
   "source": [
    "data = pd.read_csv('TLN-definitions-23.csv', sep=';')\n",
    "data = data.applymap(lambda s: filter_words(set(word_tokenize(s))))\n",
    "\n",
    "data"
   ],
   "metadata": {
    "collapsed": false,
    "ExecuteTime": {
     "end_time": "2023-06-08T13:58:22.557686Z",
     "start_time": "2023-06-08T13:58:22.394773Z"
    }
   }
  },
  {
   "cell_type": "markdown",
   "source": [
    "### Lista genus\n",
    "Vado a calcolare una lista di parole comuni per ognuno dei quattro termini. Questo mi permette di adottare la **strategia del genus**, ovvero far partire la ricerca del target da una parola molto usata nella sua definizione.\n",
    "Vengono considerate solo le definizioni che hanno più di 4 parole. In realtà la lista dei genus non viene modificata molto"
   ],
   "metadata": {
    "collapsed": false
   }
  },
  {
   "cell_type": "code",
   "execution_count": 3,
   "outputs": [
    {
     "data": {
      "text/plain": "door          [(object, 12), (room, 8), (access, 8), (allows...\nladybug       [(insect, 24), (red, 23), (black, 20), (small,...\npain          [(physical, 9), (emotional, 7), (feeling, 6), ...\nblurriness    [(see, 7), (something, 5), (image, 5), (visual...\ndtype: object"
     },
     "execution_count": 3,
     "metadata": {},
     "output_type": "execute_result"
    }
   ],
   "source": [
    "r = data.apply(lambda column: Counter(p for i in column for p in i if len(i) > 4).most_common())\n",
    "r"
   ],
   "metadata": {
    "collapsed": false,
    "ExecuteTime": {
     "end_time": "2023-06-08T13:58:22.741227Z",
     "start_time": "2023-06-08T13:58:22.562728Z"
    }
   }
  },
  {
   "cell_type": "markdown",
   "source": [
    "### Estrazione definizioni\n",
    "Creo una lista con tutte le parole delle definizioni per un dato target che voglio trovare. La lista delle parole è già pulita da punteggiatura e stop words e tutte le parole compaiono una sola volta."
   ],
   "metadata": {
    "collapsed": false
   }
  },
  {
   "cell_type": "code",
   "execution_count": 4,
   "outputs": [],
   "source": [
    "words_list_door = list(set().union(*data['door']))\n",
    "words_list_bug = list(set().union(*data['ladybug']))\n",
    "words_list_pain = list(set().union(*data['pain']))\n",
    "words_list_blur = list(set().union(*data['blurriness']))"
   ],
   "metadata": {
    "collapsed": false,
    "ExecuteTime": {
     "end_time": "2023-06-08T13:58:22.741758Z",
     "start_time": "2023-06-08T13:58:22.654426Z"
    }
   }
  },
  {
   "cell_type": "markdown",
   "source": [
    "### Ricerca\n",
    "Il metodo prende la lista di parole e il punteggio di similarità con la lista delle definizioni.\n",
    "Il metodo prende tutti i synset di un genus e cicla su di essi, andando a calcolare e salvare la similarità tra il contesto del senso e il contesto delle definizioni. Ripete questa operazione su tutti i genus della lista in input.\n",
    "Alla fine ordina la lista risultato in modo *non crescente* per valore di similarità"
   ],
   "metadata": {
    "collapsed": false
   }
  },
  {
   "cell_type": "code",
   "execution_count": 5,
   "outputs": [
    {
     "data": {
      "text/plain": "[('doorway', 9),\n ('screen_door', 6),\n ('cabin', 6),\n ('door', 6),\n ('leak', 5),\n ('strap_hinge', 5),\n ('saltbox', 5),\n ('solar_house', 5),\n ('wedge', 5),\n ('compartment', 4)]"
     },
     "execution_count": 5,
     "metadata": {},
     "output_type": "execute_result"
    }
   ],
   "source": [
    "get_ordered_words(r['door'], words_list_door)[0:10]"
   ],
   "metadata": {
    "collapsed": false,
    "ExecuteTime": {
     "end_time": "2023-06-08T13:58:27.859266Z",
     "start_time": "2023-06-08T13:58:22.671089Z"
    }
   }
  },
  {
   "cell_type": "code",
   "execution_count": 6,
   "outputs": [],
   "source": [
    "# get_ordered_words(r['ladybug'], words_list_bug)[0:10]\n",
    "# get_ordered_words_2(r['door'], words_list_door)[0:10]"
   ],
   "metadata": {
    "collapsed": false,
    "ExecuteTime": {
     "end_time": "2023-06-08T13:58:27.902215Z",
     "start_time": "2023-06-08T13:58:27.861769Z"
    }
   }
  },
  {
   "cell_type": "code",
   "execution_count": 7,
   "outputs": [],
   "source": [
    "# get_ordered_words(r['pain'], words_list_pain)[0:10]"
   ],
   "metadata": {
    "collapsed": false,
    "ExecuteTime": {
     "end_time": "2023-06-08T13:58:27.918364Z",
     "start_time": "2023-06-08T13:58:27.875187Z"
    }
   }
  },
  {
   "cell_type": "code",
   "execution_count": 8,
   "outputs": [],
   "source": [
    "# get_ordered_words(r['blurriness'], words_list_blur)[0:10]"
   ],
   "metadata": {
    "collapsed": false,
    "ExecuteTime": {
     "end_time": "2023-06-08T13:58:27.919081Z",
     "start_time": "2023-06-08T13:58:27.886082Z"
    }
   }
  }
 ],
 "metadata": {
  "kernelspec": {
   "display_name": "Python 3",
   "language": "python",
   "name": "python3"
  },
  "language_info": {
   "codemirror_mode": {
    "name": "ipython",
    "version": 2
   },
   "file_extension": ".py",
   "mimetype": "text/x-python",
   "name": "python",
   "nbconvert_exporter": "python",
   "pygments_lexer": "ipython2",
   "version": "2.7.6"
  }
 },
 "nbformat": 4,
 "nbformat_minor": 0
}
