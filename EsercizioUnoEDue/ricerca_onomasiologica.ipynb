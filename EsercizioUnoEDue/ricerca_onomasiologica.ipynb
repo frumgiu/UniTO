{
 "cells": [
  {
   "cell_type": "code",
   "execution_count": 6,
   "metadata": {
    "collapsed": true,
    "ExecuteTime": {
     "end_time": "2023-06-05T13:58:38.565467Z",
     "start_time": "2023-06-05T13:58:38.514564Z"
    }
   },
   "outputs": [],
   "source": [
    "import pandas as pd\n",
    "from collections import Counter\n",
    "from def_overlap_funcs import filter_words\n",
    "from nltk.tokenize import word_tokenize\n",
    "from ricerca import get_ordered_hyponyms"
   ]
  },
  {
   "cell_type": "code",
   "execution_count": 7,
   "outputs": [
    {
     "data": {
      "text/plain": "                                                 door   \n0   {rooms, divide, temporarily, used, constructio...  \\\n1                           {closed, opening, opened}   \n2   {room, people, open, divide, enter, door, let,...   \n3                {access, usable, area, one, another}   \n4         {structure, access, delimits, area, allows}   \n5         {pass, used, object, block, passage, moved}   \n6   {made, sometimes, hinges, requires, consists, ...   \n7   {rooms, closed, wall, used, object, go, opened...   \n8   {access, opened, order, something, place, anot...   \n9                                      {room, access}   \n10                     {room, access, object, allows}   \n11  {outside, blocks, presents, sort, enclosing, l...   \n12  {made, outside, people, object, get, lock, key...   \n13                             {closed, wall, opened}   \n14   {mechanism, room, access, barrier, allow, block}   \n15              {room, people, enter, let, way, exit}   \n16  {made, artificial, object, two, allows, passag...   \n17  {enter, opens, closes, object, exit, allows, p...   \n18     {element, room, blocks, wall, allows, passage}   \n19            {limited, place, object, access, cross}   \n20  {made, room, access, rectangular, house, objec...   \n21            {space, room, building, entrance, exit}   \n22          {spaces, connection, object, two, allows}   \n23  {new, leave, pass, another, make, space, one, ...   \n24                         {room, entrance, building}   \n25             {room, close, opens, object, entrance}   \n26                    {house, object, entrance, lock}   \n27  {space, room, blocks, point, access, physicall...   \n28                   {opening, go, allows, something}   \n29  {different, structure, spaces, walls, auxiliar...   \n\n                                              ladybug   \n0   {spots, black, red, legs, flying, insect, six,...  \\\n1   {black, red, many, cultures, wings, good, luck...   \n2      {black, fly, red, color, dots, orange, insect}   \n3                          {small, back, red, insect}   \n4                      {flying, small, round, insect}   \n5   {tendentially, colored, red, flying, beatle, f...   \n6   {control, black, head, back, red, used, consid...   \n7   {black, luck, red, culture, insect, brings, sm...   \n8                   {black, small, dots, red, insect}   \n9          {coat, red, dotted, insect, yellow, small}   \n10  {black, red, flying, insect, dots, usually, sm...   \n11  {good, characterised, red, coat, flying, insec...   \n12  {black, red, associated, usually, spots, falls...   \n13                  {black, small, dots, red, insect}   \n14                        {spots, black, red, insect}   \n15                 {black, dots, back, insect, small}   \n16  {black, red, wings, associated, harmless, good...   \n17  {black, red, color, bring, spots, good, luck, ...   \n18  {black, linked, good, luck, red, round, insect...   \n19  {black, red, color, insect, characterized, dot...   \n20  {black, red, round, flowers, flies, insect, do...   \n21       {black, shape, bug, red, round, small, spot}   \n22  {black, red, color, insect, characterized, dot...   \n23                {fly, luck, insect, brings, person}   \n24                  {black, small, dots, red, insect}   \n25                                {insect, back, red}   \n26                   {black, back, red, dots, insect}   \n27    {black, red, wings, small, dots, known, insect}   \n28                               {colored, bug, dots}   \n29  {colored, red, flying, pattern, structured, us...   \n\n                                                 pain   \n0               {mental, distress, feeling, physical}  \\\n1           {bad, emotional, physical, hurt, feeling}   \n2    {suffer, beings, conscious, felling, experience}   \n3             {concept, living, describes, suffering}   \n4                     {feeling, discomfort, physical}   \n5                    {unpleasant, sensation, burning}   \n6   {creatures, felt, sensation, psychological, ph...   \n7   {pain, injury, physical, emotional, feeling, s...   \n8                      {sorrow, sentiment, expresses}   \n9   {unpleasant, sensation, physical, emotional, e...   \n10       {unpleasant, sensation, physical, emotional}   \n11  {bad, loud, could, something, occurs, either, ...   \n12  {sensation, bring, physical, emotional, discom...   \n13       {harm, physical, emotional, feeling, caused}   \n14                     {unpleasant, feeling, harmful}   \n15    {uncomfortable, sensation, physical, emotional}   \n16  {uneasiness, harm, causes, physical, emotional...   \n17              {feel, situations, feeling, tangible}   \n18  {complex, brain, physical, aware, produced, ne...   \n19       {unpleasant, associated, emotion, suffering}   \n20  {want, emotion, felt, getting, right, tell, so...   \n21  {kind, felt, sensation, damaging, physical, em...   \n22          {causes, feeling, discomfort, experience}   \n23  {emotionally, hurts, physically, something, pe...   \n24                             {sensation, sickening}   \n25                {bad, feeling, physical, emotional}   \n26                               {hurt, get, feeling}   \n27                                  {hurt, sensation}   \n28                                     {feeling, bad}   \n29  {negative, mentally, causing, sensation, physi...   \n\n                                           blurriness  \n0                                      {focus, sight}  \n1         {borders, definite, shapelessness, absence}  \n2   {clearly, felt, sensation, something, see, ca,...  \n3                                   {lack, sharpness}  \n4          {clarity, precision, lack, characteristic}  \n5   {eyes, sensation, blurred, see, blurring, ever...  \n6   {kind, inability, perceive, certain, whether, ...  \n7   {vision, bad, lack, memory, eye, image, unfocu...  \n8   {bright, condition, makes, thant, totally, see...  \n9   {physical, confusion, drugs, alcohol, state, u...  \n10                                 {sense, confusion}  \n11  {property, illness, object, see, drug, photogr...  \n12  {objects, condition, people, close, allow, way...  \n13  {image, clarity, borders, defined, absence, vi...  \n14  {condition, details, clarity, losing, blends, ...  \n15  {partially, camera, vision, phenomenon, disrup...  \n16  {clearly, concept, defined, metaphorically, il...  \n17  {visible, condition, subject, context, used, p...  \n18  {clearly, attributed, defined, state, device, ...  \n19  {lines, shapes, undefined, recognize, whose, c...  \n20  {phenomena, problems, something, happen, visua...  \n21  {details, affect, images, outlines, see, hard,...  \n22  {visual, effect, hard, makes, see, clear, some...  \n23  {objects, effect, allows, way, see, clear, vis...  \n24            {looking, confuses, perception, visual}  \n25                                {vision, distorted}  \n26           {corrected, condition, eyes, eyeglasses}  \n27  {defined, faulty, specific, perception, object...  \n28            {distance, effect, increases, blinding}  \n29  {given, focus, lack, low, texture, quality, im...  ",
      "text/html": "<div>\n<style scoped>\n    .dataframe tbody tr th:only-of-type {\n        vertical-align: middle;\n    }\n\n    .dataframe tbody tr th {\n        vertical-align: top;\n    }\n\n    .dataframe thead th {\n        text-align: right;\n    }\n</style>\n<table border=\"1\" class=\"dataframe\">\n  <thead>\n    <tr style=\"text-align: right;\">\n      <th></th>\n      <th>door</th>\n      <th>ladybug</th>\n      <th>pain</th>\n      <th>blurriness</th>\n    </tr>\n  </thead>\n  <tbody>\n    <tr>\n      <th>0</th>\n      <td>{rooms, divide, temporarily, used, constructio...</td>\n      <td>{spots, black, red, legs, flying, insect, six,...</td>\n      <td>{mental, distress, feeling, physical}</td>\n      <td>{focus, sight}</td>\n    </tr>\n    <tr>\n      <th>1</th>\n      <td>{closed, opening, opened}</td>\n      <td>{black, red, many, cultures, wings, good, luck...</td>\n      <td>{bad, emotional, physical, hurt, feeling}</td>\n      <td>{borders, definite, shapelessness, absence}</td>\n    </tr>\n    <tr>\n      <th>2</th>\n      <td>{room, people, open, divide, enter, door, let,...</td>\n      <td>{black, fly, red, color, dots, orange, insect}</td>\n      <td>{suffer, beings, conscious, felling, experience}</td>\n      <td>{clearly, felt, sensation, something, see, ca,...</td>\n    </tr>\n    <tr>\n      <th>3</th>\n      <td>{access, usable, area, one, another}</td>\n      <td>{small, back, red, insect}</td>\n      <td>{concept, living, describes, suffering}</td>\n      <td>{lack, sharpness}</td>\n    </tr>\n    <tr>\n      <th>4</th>\n      <td>{structure, access, delimits, area, allows}</td>\n      <td>{flying, small, round, insect}</td>\n      <td>{feeling, discomfort, physical}</td>\n      <td>{clarity, precision, lack, characteristic}</td>\n    </tr>\n    <tr>\n      <th>5</th>\n      <td>{pass, used, object, block, passage, moved}</td>\n      <td>{tendentially, colored, red, flying, beatle, f...</td>\n      <td>{unpleasant, sensation, burning}</td>\n      <td>{eyes, sensation, blurred, see, blurring, ever...</td>\n    </tr>\n    <tr>\n      <th>6</th>\n      <td>{made, sometimes, hinges, requires, consists, ...</td>\n      <td>{control, black, head, back, red, used, consid...</td>\n      <td>{creatures, felt, sensation, psychological, ph...</td>\n      <td>{kind, inability, perceive, certain, whether, ...</td>\n    </tr>\n    <tr>\n      <th>7</th>\n      <td>{rooms, closed, wall, used, object, go, opened...</td>\n      <td>{black, luck, red, culture, insect, brings, sm...</td>\n      <td>{pain, injury, physical, emotional, feeling, s...</td>\n      <td>{vision, bad, lack, memory, eye, image, unfocu...</td>\n    </tr>\n    <tr>\n      <th>8</th>\n      <td>{access, opened, order, something, place, anot...</td>\n      <td>{black, small, dots, red, insect}</td>\n      <td>{sorrow, sentiment, expresses}</td>\n      <td>{bright, condition, makes, thant, totally, see...</td>\n    </tr>\n    <tr>\n      <th>9</th>\n      <td>{room, access}</td>\n      <td>{coat, red, dotted, insect, yellow, small}</td>\n      <td>{unpleasant, sensation, physical, emotional, e...</td>\n      <td>{physical, confusion, drugs, alcohol, state, u...</td>\n    </tr>\n    <tr>\n      <th>10</th>\n      <td>{room, access, object, allows}</td>\n      <td>{black, red, flying, insect, dots, usually, sm...</td>\n      <td>{unpleasant, sensation, physical, emotional}</td>\n      <td>{sense, confusion}</td>\n    </tr>\n    <tr>\n      <th>11</th>\n      <td>{outside, blocks, presents, sort, enclosing, l...</td>\n      <td>{good, characterised, red, coat, flying, insec...</td>\n      <td>{bad, loud, could, something, occurs, either, ...</td>\n      <td>{property, illness, object, see, drug, photogr...</td>\n    </tr>\n    <tr>\n      <th>12</th>\n      <td>{made, outside, people, object, get, lock, key...</td>\n      <td>{black, red, associated, usually, spots, falls...</td>\n      <td>{sensation, bring, physical, emotional, discom...</td>\n      <td>{objects, condition, people, close, allow, way...</td>\n    </tr>\n    <tr>\n      <th>13</th>\n      <td>{closed, wall, opened}</td>\n      <td>{black, small, dots, red, insect}</td>\n      <td>{harm, physical, emotional, feeling, caused}</td>\n      <td>{image, clarity, borders, defined, absence, vi...</td>\n    </tr>\n    <tr>\n      <th>14</th>\n      <td>{mechanism, room, access, barrier, allow, block}</td>\n      <td>{spots, black, red, insect}</td>\n      <td>{unpleasant, feeling, harmful}</td>\n      <td>{condition, details, clarity, losing, blends, ...</td>\n    </tr>\n    <tr>\n      <th>15</th>\n      <td>{room, people, enter, let, way, exit}</td>\n      <td>{black, dots, back, insect, small}</td>\n      <td>{uncomfortable, sensation, physical, emotional}</td>\n      <td>{partially, camera, vision, phenomenon, disrup...</td>\n    </tr>\n    <tr>\n      <th>16</th>\n      <td>{made, artificial, object, two, allows, passag...</td>\n      <td>{black, red, wings, associated, harmless, good...</td>\n      <td>{uneasiness, harm, causes, physical, emotional...</td>\n      <td>{clearly, concept, defined, metaphorically, il...</td>\n    </tr>\n    <tr>\n      <th>17</th>\n      <td>{enter, opens, closes, object, exit, allows, p...</td>\n      <td>{black, red, color, bring, spots, good, luck, ...</td>\n      <td>{feel, situations, feeling, tangible}</td>\n      <td>{visible, condition, subject, context, used, p...</td>\n    </tr>\n    <tr>\n      <th>18</th>\n      <td>{element, room, blocks, wall, allows, passage}</td>\n      <td>{black, linked, good, luck, red, round, insect...</td>\n      <td>{complex, brain, physical, aware, produced, ne...</td>\n      <td>{clearly, attributed, defined, state, device, ...</td>\n    </tr>\n    <tr>\n      <th>19</th>\n      <td>{limited, place, object, access, cross}</td>\n      <td>{black, red, color, insect, characterized, dot...</td>\n      <td>{unpleasant, associated, emotion, suffering}</td>\n      <td>{lines, shapes, undefined, recognize, whose, c...</td>\n    </tr>\n    <tr>\n      <th>20</th>\n      <td>{made, room, access, rectangular, house, objec...</td>\n      <td>{black, red, round, flowers, flies, insect, do...</td>\n      <td>{want, emotion, felt, getting, right, tell, so...</td>\n      <td>{phenomena, problems, something, happen, visua...</td>\n    </tr>\n    <tr>\n      <th>21</th>\n      <td>{space, room, building, entrance, exit}</td>\n      <td>{black, shape, bug, red, round, small, spot}</td>\n      <td>{kind, felt, sensation, damaging, physical, em...</td>\n      <td>{details, affect, images, outlines, see, hard,...</td>\n    </tr>\n    <tr>\n      <th>22</th>\n      <td>{spaces, connection, object, two, allows}</td>\n      <td>{black, red, color, insect, characterized, dot...</td>\n      <td>{causes, feeling, discomfort, experience}</td>\n      <td>{visual, effect, hard, makes, see, clear, some...</td>\n    </tr>\n    <tr>\n      <th>23</th>\n      <td>{new, leave, pass, another, make, space, one, ...</td>\n      <td>{fly, luck, insect, brings, person}</td>\n      <td>{emotionally, hurts, physically, something, pe...</td>\n      <td>{objects, effect, allows, way, see, clear, vis...</td>\n    </tr>\n    <tr>\n      <th>24</th>\n      <td>{room, entrance, building}</td>\n      <td>{black, small, dots, red, insect}</td>\n      <td>{sensation, sickening}</td>\n      <td>{looking, confuses, perception, visual}</td>\n    </tr>\n    <tr>\n      <th>25</th>\n      <td>{room, close, opens, object, entrance}</td>\n      <td>{insect, back, red}</td>\n      <td>{bad, feeling, physical, emotional}</td>\n      <td>{vision, distorted}</td>\n    </tr>\n    <tr>\n      <th>26</th>\n      <td>{house, object, entrance, lock}</td>\n      <td>{black, back, red, dots, insect}</td>\n      <td>{hurt, get, feeling}</td>\n      <td>{corrected, condition, eyes, eyeglasses}</td>\n    </tr>\n    <tr>\n      <th>27</th>\n      <td>{space, room, blocks, point, access, physicall...</td>\n      <td>{black, red, wings, small, dots, known, insect}</td>\n      <td>{hurt, sensation}</td>\n      <td>{defined, faulty, specific, perception, object...</td>\n    </tr>\n    <tr>\n      <th>28</th>\n      <td>{opening, go, allows, something}</td>\n      <td>{colored, bug, dots}</td>\n      <td>{feeling, bad}</td>\n      <td>{distance, effect, increases, blinding}</td>\n    </tr>\n    <tr>\n      <th>29</th>\n      <td>{different, structure, spaces, walls, auxiliar...</td>\n      <td>{colored, red, flying, pattern, structured, us...</td>\n      <td>{negative, mentally, causing, sensation, physi...</td>\n      <td>{given, focus, lack, low, texture, quality, im...</td>\n    </tr>\n  </tbody>\n</table>\n</div>"
     },
     "execution_count": 7,
     "metadata": {},
     "output_type": "execute_result"
    }
   ],
   "source": [
    "data = pd.read_csv('TLN-definitions-23.csv', sep=';')\n",
    "data = data.applymap(lambda s: filter_words(set(word_tokenize(s))))\n",
    "\n",
    "data"
   ],
   "metadata": {
    "collapsed": false,
    "ExecuteTime": {
     "end_time": "2023-06-05T13:58:38.714895Z",
     "start_time": "2023-06-05T13:58:38.546989Z"
    }
   }
  },
  {
   "cell_type": "code",
   "execution_count": 8,
   "outputs": [
    {
     "data": {
      "text/plain": "door           object\nladybug        insect\npain          feeling\nblurriness        see\ndtype: object"
     },
     "execution_count": 8,
     "metadata": {},
     "output_type": "execute_result"
    }
   ],
   "source": [
    "r = data.apply(lambda column: Counter(p for i in column for p in i).most_common(1)[0][0])\n",
    "r"
   ],
   "metadata": {
    "collapsed": false,
    "ExecuteTime": {
     "end_time": "2023-06-05T13:58:38.754031Z",
     "start_time": "2023-06-05T13:58:38.723021Z"
    }
   }
  },
  {
   "cell_type": "code",
   "execution_count": 9,
   "outputs": [],
   "source": [
    "flat_list = list(set().union(*data['ladybug']))"
   ],
   "metadata": {
    "collapsed": false,
    "ExecuteTime": {
     "end_time": "2023-06-05T13:58:38.823930Z",
     "start_time": "2023-06-05T13:58:38.738552Z"
    }
   }
  },
  {
   "cell_type": "code",
   "execution_count": 10,
   "outputs": [
    {
     "data": {
      "text/plain": "[Synset('dipterous_insect.n.01'),\n Synset('leaf_miner.n.01'),\n Synset('lepidopterous_insect.n.01'),\n Synset('psocopterous_insect.n.01'),\n Synset('beetle.n.01'),\n Synset('ephemeron.n.01'),\n Synset('louse.n.01'),\n Synset('neuropteron.n.01'),\n Synset('odonate.n.01'),\n Synset('social_insect.n.01')]"
     },
     "execution_count": 10,
     "metadata": {},
     "output_type": "execute_result"
    }
   ],
   "source": [
    "get_ordered_hyponyms(r['ladybug'], flat_list)[0:10]"
   ],
   "metadata": {
    "collapsed": false,
    "ExecuteTime": {
     "end_time": "2023-06-05T13:58:39.219679Z",
     "start_time": "2023-06-05T13:58:38.783503Z"
    }
   }
  }
 ],
 "metadata": {
  "kernelspec": {
   "display_name": "Python 3",
   "language": "python",
   "name": "python3"
  },
  "language_info": {
   "codemirror_mode": {
    "name": "ipython",
    "version": 2
   },
   "file_extension": ".py",
   "mimetype": "text/x-python",
   "name": "python",
   "nbconvert_exporter": "python",
   "pygments_lexer": "ipython2",
   "version": "2.7.6"
  }
 },
 "nbformat": 4,
 "nbformat_minor": 0
}
