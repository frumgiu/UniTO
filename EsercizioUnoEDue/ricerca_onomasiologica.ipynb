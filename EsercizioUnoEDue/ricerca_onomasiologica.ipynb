{
 "cells": [
  {
   "cell_type": "code",
   "execution_count": 1,
   "metadata": {
    "collapsed": true,
    "ExecuteTime": {
     "end_time": "2023-06-09T12:42:44.989239Z",
     "start_time": "2023-06-09T12:42:41.403936Z"
    }
   },
   "outputs": [],
   "source": [
    "import pandas as pd\n",
    "from collections import Counter\n",
    "from nltk.tokenize import word_tokenize\n",
    "from ricerca import get_ordered_words, get_ordered_words_2\n",
    "from def_overlap_funcs import filter_words"
   ]
  },
  {
   "cell_type": "markdown",
   "source": [
    "## Ricerca onomasiologica\n",
    "Questo tipo di ricerca va a trovare una parola partendo dalle sue definizioni. Per fare l'esercizio viene usato il file definito in aula, nella tabella sotto sono riportate tutte le definizioni tokenizzate e pulite da stop words e punteggiatura."
   ],
   "metadata": {
    "collapsed": false
   }
  },
  {
   "cell_type": "code",
   "execution_count": 2,
   "outputs": [
    {
     "data": {
      "text/plain": "                                                 door   \n0   {used, closing, two, construction, rooms, pass...  \\\n1                           {closed, opened, opening}   \n2   {door, room, two, let, get, object, wall, open...   \n3                {one, usable, another, area, access}   \n4         {allows, area, access, delimits, structure}   \n5         {pass, used, block, passage, object, moved}   \n6   {consists, made, rotates, historically, used, ...   \n7   {separate, wall, used, go, rooms, opened, clos...   \n8   {another, opened, place, access, something, or...   \n9                                      {access, room}   \n10                     {allows, room, access, object}   \n11  {outside, small, sort, opening, usually, locke...   \n12  {made, enables, outside, inside, get, chamber,...   \n13                             {wall, opened, closed}   \n14   {allow, room, barrier, block, access, mechanism}   \n15              {room, let, enter, exit, way, people}   \n16  {hinge, made, two, usually, passage, object, m...   \n17  {allows, object, closes, place, opens, enter, ...   \n18     {allows, wall, element, room, blocks, passage}   \n19            {place, cross, access, limited, object}   \n20  {made, object, room, usually, lock, access, ho...   \n21            {space, entrance, room, exit, building}   \n22          {allows, spaces, two, connection, object}   \n23  {pass, space, new, one, another, architecture,...   \n24                         {building, entrance, room}   \n25             {entrance, room, close, opens, object}   \n26                    {entrance, lock, house, object}   \n27  {space, point, blocks, room, access, physicall...   \n28                   {something, allows, go, opening}   \n29  {structure, walls, used, spaces, built, blank,...   \n\n                                              ladybug   \n0   {spots, red, flying, black, small, insect, typ...  \\\n1   {red, dots, black, luck, insect, good, many, c...   \n2      {red, dots, black, orange, insect, color, fly}   \n3                          {red, insect, back, small}   \n4                      {insect, flying, small, round}   \n5   {tendentially, flying, red, small, beatle, ins...   \n6   {red, dots, black, used, small, luck, bring, i...   \n7   {red, dots, black, culture, small, luck, insec...   \n8                   {red, dots, black, insect, small}   \n9          {red, small, dotted, coat, insect, yellow}   \n10  {red, flying, dots, black, small, usually, ins...   \n11  {red, flying, good, considered, omen, usually,...   \n12  {associated, spots, red, falls, black, small, ...   \n13                  {red, dots, black, insect, small}   \n14                        {spots, red, black, insect}   \n15                 {dots, black, insect, back, small}   \n16  {associated, red, dots, black, luck, insect, h...   \n17  {spots, red, black, small, luck, bring, insect...   \n18  {good, red, dots, black, linked, generally, sm...   \n19  {red, dots, black, small, color, characterized...   \n20  {flowers, red, dots, black, insect, small, usu...   \n21       {red, shape, black, bug, small, spot, round}   \n22  {red, dots, black, small, color, usually, char...   \n23                {fly, luck, insect, person, brings}   \n24                  {red, dots, black, insect, small}   \n25                                {red, insect, back}   \n26                   {red, dots, black, back, insect}   \n27    {red, dots, black, insect, known, small, wings}   \n28                               {dots, colored, bug}   \n29  {flying, red, structured, usually, pattern, in...   \n\n                                                 pain   \n0               {physical, feeling, mental, distress}  \\\n1           {physical, bad, feeling, emotional, hurt}   \n2    {felling, beings, experience, conscious, suffer}   \n3             {concept, living, suffering, describes}   \n4                     {physical, feeling, discomfort}   \n5                    {sensation, unpleasant, burning}   \n6   {physical, felt, creatures, sensation, damaged...   \n7   {physical, injury, caused, pain, feeling, emot...   \n8                      {sentiment, sorrow, expresses}   \n9   {physical, exertion, resulting, sensation, emo...   \n10       {physical, emotional, unpleasant, sensation}   \n11  {mentally, loud, could, cries, physically, occ...   \n12  {physical, soreness, sensation, emotional, bri...   \n13       {physical, caused, feeling, emotional, harm}   \n14                     {harmful, feeling, unpleasant}   \n15    {physical, sensation, emotional, uncomfortable}   \n16  {physical, uneasiness, causes, feeling, emotio...   \n17              {situations, feel, tangible, feeling}   \n18  {physical, creature, complex, aware, natural, ...   \n19       {associated, unpleasant, emotion, suffering}   \n20  {felt, right, us, harmed, something, want, bod...   \n21  {physical, felt, harmful, emotionally, respons...   \n22          {causes, feeling, experience, discomfort}   \n23  {person, emotionally, physically, hurts, somet...   \n24                             {sickening, sensation}   \n25                {physical, emotional, feeling, bad}   \n26                               {feeling, hurt, get}   \n27                                  {hurt, sensation}   \n28                                     {feeling, bad}   \n29  {mentally, causing, sensation, physically, dis...   \n\n                                           blurriness  \n0                                      {focus, sight}  \n1         {absence, shapelessness, borders, definite}  \n2   {felt, sensation, see, ca, border, something, ...  \n3                                   {lack, sharpness}  \n4          {clarity, lack, characteristic, precision}  \n5   {eyes, blurred, blurring, sensation, see, ever...  \n6   {physical, accurately, whether, certain, kind,...  \n7   {memory, image, lack, bad, vision, unfocused, ...  \n8   {condition, seeing, totally, makes, bright, cl...  \n9   {confusion, physical, exertion, state, resulti...  \n10                                 {confusion, sense}  \n11  {property, photograph, usually, see, drug, use...  \n12  {person, objects, see, detailed, condition, al...  \n13  {visual, clarity, absence, defined, image, bor...  \n14  {visual, condition, clarity, details, losing, ...  \n15  {partially, camera, phenomenon, vision, disrup...  \n16  {defined, concept, indefiniteness, ill, percei...  \n17  {specific, used, visible, makes, photographic,...  \n18  {defined, image, clearly, attributed, device, ...  \n19  {hard, image, lines, recognize, undefined, sha...  \n20  {visual, phenomena, colours, edges, something,...  \n21  {images, see, vision, effect, making, outlines...  \n22  {visual, hard, makes, clear, see, something, e...  \n23  {visual, allows, effect, objects, clear, see, ...  \n24            {visual, looking, perception, confuses}  \n25                                {distorted, vision}  \n26           {condition, eyes, corrected, eyeglasses}  \n27  {defined, specific, properly, perception, faul...  \n28            {increases, blinding, distance, effect}  \n29  {image, texture, given, low, focus, quality, l...  ",
      "text/html": "<div>\n<style scoped>\n    .dataframe tbody tr th:only-of-type {\n        vertical-align: middle;\n    }\n\n    .dataframe tbody tr th {\n        vertical-align: top;\n    }\n\n    .dataframe thead th {\n        text-align: right;\n    }\n</style>\n<table border=\"1\" class=\"dataframe\">\n  <thead>\n    <tr style=\"text-align: right;\">\n      <th></th>\n      <th>door</th>\n      <th>ladybug</th>\n      <th>pain</th>\n      <th>blurriness</th>\n    </tr>\n  </thead>\n  <tbody>\n    <tr>\n      <th>0</th>\n      <td>{used, closing, two, construction, rooms, pass...</td>\n      <td>{spots, red, flying, black, small, insect, typ...</td>\n      <td>{physical, feeling, mental, distress}</td>\n      <td>{focus, sight}</td>\n    </tr>\n    <tr>\n      <th>1</th>\n      <td>{closed, opened, opening}</td>\n      <td>{red, dots, black, luck, insect, good, many, c...</td>\n      <td>{physical, bad, feeling, emotional, hurt}</td>\n      <td>{absence, shapelessness, borders, definite}</td>\n    </tr>\n    <tr>\n      <th>2</th>\n      <td>{door, room, two, let, get, object, wall, open...</td>\n      <td>{red, dots, black, orange, insect, color, fly}</td>\n      <td>{felling, beings, experience, conscious, suffer}</td>\n      <td>{felt, sensation, see, ca, border, something, ...</td>\n    </tr>\n    <tr>\n      <th>3</th>\n      <td>{one, usable, another, area, access}</td>\n      <td>{red, insect, back, small}</td>\n      <td>{concept, living, suffering, describes}</td>\n      <td>{lack, sharpness}</td>\n    </tr>\n    <tr>\n      <th>4</th>\n      <td>{allows, area, access, delimits, structure}</td>\n      <td>{insect, flying, small, round}</td>\n      <td>{physical, feeling, discomfort}</td>\n      <td>{clarity, lack, characteristic, precision}</td>\n    </tr>\n    <tr>\n      <th>5</th>\n      <td>{pass, used, block, passage, object, moved}</td>\n      <td>{tendentially, flying, red, small, beatle, ins...</td>\n      <td>{sensation, unpleasant, burning}</td>\n      <td>{eyes, blurred, blurring, sensation, see, ever...</td>\n    </tr>\n    <tr>\n      <th>6</th>\n      <td>{consists, made, rotates, historically, used, ...</td>\n      <td>{red, dots, black, used, small, luck, bring, i...</td>\n      <td>{physical, felt, creatures, sensation, damaged...</td>\n      <td>{physical, accurately, whether, certain, kind,...</td>\n    </tr>\n    <tr>\n      <th>7</th>\n      <td>{separate, wall, used, go, rooms, opened, clos...</td>\n      <td>{red, dots, black, culture, small, luck, insec...</td>\n      <td>{physical, injury, caused, pain, feeling, emot...</td>\n      <td>{memory, image, lack, bad, vision, unfocused, ...</td>\n    </tr>\n    <tr>\n      <th>8</th>\n      <td>{another, opened, place, access, something, or...</td>\n      <td>{red, dots, black, insect, small}</td>\n      <td>{sentiment, sorrow, expresses}</td>\n      <td>{condition, seeing, totally, makes, bright, cl...</td>\n    </tr>\n    <tr>\n      <th>9</th>\n      <td>{access, room}</td>\n      <td>{red, small, dotted, coat, insect, yellow}</td>\n      <td>{physical, exertion, resulting, sensation, emo...</td>\n      <td>{confusion, physical, exertion, state, resulti...</td>\n    </tr>\n    <tr>\n      <th>10</th>\n      <td>{allows, room, access, object}</td>\n      <td>{red, flying, dots, black, small, usually, ins...</td>\n      <td>{physical, emotional, unpleasant, sensation}</td>\n      <td>{confusion, sense}</td>\n    </tr>\n    <tr>\n      <th>11</th>\n      <td>{outside, small, sort, opening, usually, locke...</td>\n      <td>{red, flying, good, considered, omen, usually,...</td>\n      <td>{mentally, loud, could, cries, physically, occ...</td>\n      <td>{property, photograph, usually, see, drug, use...</td>\n    </tr>\n    <tr>\n      <th>12</th>\n      <td>{made, enables, outside, inside, get, chamber,...</td>\n      <td>{associated, spots, red, falls, black, small, ...</td>\n      <td>{physical, soreness, sensation, emotional, bri...</td>\n      <td>{person, objects, see, detailed, condition, al...</td>\n    </tr>\n    <tr>\n      <th>13</th>\n      <td>{wall, opened, closed}</td>\n      <td>{red, dots, black, insect, small}</td>\n      <td>{physical, caused, feeling, emotional, harm}</td>\n      <td>{visual, clarity, absence, defined, image, bor...</td>\n    </tr>\n    <tr>\n      <th>14</th>\n      <td>{allow, room, barrier, block, access, mechanism}</td>\n      <td>{spots, red, black, insect}</td>\n      <td>{harmful, feeling, unpleasant}</td>\n      <td>{visual, condition, clarity, details, losing, ...</td>\n    </tr>\n    <tr>\n      <th>15</th>\n      <td>{room, let, enter, exit, way, people}</td>\n      <td>{dots, black, insect, back, small}</td>\n      <td>{physical, sensation, emotional, uncomfortable}</td>\n      <td>{partially, camera, phenomenon, vision, disrup...</td>\n    </tr>\n    <tr>\n      <th>16</th>\n      <td>{hinge, made, two, usually, passage, object, m...</td>\n      <td>{associated, red, dots, black, luck, insect, h...</td>\n      <td>{physical, uneasiness, causes, feeling, emotio...</td>\n      <td>{defined, concept, indefiniteness, ill, percei...</td>\n    </tr>\n    <tr>\n      <th>17</th>\n      <td>{allows, object, closes, place, opens, enter, ...</td>\n      <td>{spots, red, black, small, luck, bring, insect...</td>\n      <td>{situations, feel, tangible, feeling}</td>\n      <td>{specific, used, visible, makes, photographic,...</td>\n    </tr>\n    <tr>\n      <th>18</th>\n      <td>{allows, wall, element, room, blocks, passage}</td>\n      <td>{good, red, dots, black, linked, generally, sm...</td>\n      <td>{physical, creature, complex, aware, natural, ...</td>\n      <td>{defined, image, clearly, attributed, device, ...</td>\n    </tr>\n    <tr>\n      <th>19</th>\n      <td>{place, cross, access, limited, object}</td>\n      <td>{red, dots, black, small, color, characterized...</td>\n      <td>{associated, unpleasant, emotion, suffering}</td>\n      <td>{hard, image, lines, recognize, undefined, sha...</td>\n    </tr>\n    <tr>\n      <th>20</th>\n      <td>{made, object, room, usually, lock, access, ho...</td>\n      <td>{flowers, red, dots, black, insect, small, usu...</td>\n      <td>{felt, right, us, harmed, something, want, bod...</td>\n      <td>{visual, phenomena, colours, edges, something,...</td>\n    </tr>\n    <tr>\n      <th>21</th>\n      <td>{space, entrance, room, exit, building}</td>\n      <td>{red, shape, black, bug, small, spot, round}</td>\n      <td>{physical, felt, harmful, emotionally, respons...</td>\n      <td>{images, see, vision, effect, making, outlines...</td>\n    </tr>\n    <tr>\n      <th>22</th>\n      <td>{allows, spaces, two, connection, object}</td>\n      <td>{red, dots, black, small, color, usually, char...</td>\n      <td>{causes, feeling, experience, discomfort}</td>\n      <td>{visual, hard, makes, clear, see, something, e...</td>\n    </tr>\n    <tr>\n      <th>23</th>\n      <td>{pass, space, new, one, another, architecture,...</td>\n      <td>{fly, luck, insect, person, brings}</td>\n      <td>{person, emotionally, physically, hurts, somet...</td>\n      <td>{visual, allows, effect, objects, clear, see, ...</td>\n    </tr>\n    <tr>\n      <th>24</th>\n      <td>{building, entrance, room}</td>\n      <td>{red, dots, black, insect, small}</td>\n      <td>{sickening, sensation}</td>\n      <td>{visual, looking, perception, confuses}</td>\n    </tr>\n    <tr>\n      <th>25</th>\n      <td>{entrance, room, close, opens, object}</td>\n      <td>{red, insect, back}</td>\n      <td>{physical, emotional, feeling, bad}</td>\n      <td>{distorted, vision}</td>\n    </tr>\n    <tr>\n      <th>26</th>\n      <td>{entrance, lock, house, object}</td>\n      <td>{red, dots, black, back, insect}</td>\n      <td>{feeling, hurt, get}</td>\n      <td>{condition, eyes, corrected, eyeglasses}</td>\n    </tr>\n    <tr>\n      <th>27</th>\n      <td>{space, point, blocks, room, access, physicall...</td>\n      <td>{red, dots, black, insect, known, small, wings}</td>\n      <td>{hurt, sensation}</td>\n      <td>{defined, specific, properly, perception, faul...</td>\n    </tr>\n    <tr>\n      <th>28</th>\n      <td>{something, allows, go, opening}</td>\n      <td>{dots, colored, bug}</td>\n      <td>{feeling, bad}</td>\n      <td>{increases, blinding, distance, effect}</td>\n    </tr>\n    <tr>\n      <th>29</th>\n      <td>{structure, walls, used, spaces, built, blank,...</td>\n      <td>{flying, red, structured, usually, pattern, in...</td>\n      <td>{mentally, causing, sensation, physically, dis...</td>\n      <td>{image, texture, given, low, focus, quality, l...</td>\n    </tr>\n  </tbody>\n</table>\n</div>"
     },
     "execution_count": 2,
     "metadata": {},
     "output_type": "execute_result"
    }
   ],
   "source": [
    "data = pd.read_csv('TLN-definitions-23.csv', sep=';')\n",
    "data = data.applymap(lambda s: filter_words(set(word_tokenize(s))))\n",
    "\n",
    "data"
   ],
   "metadata": {
    "collapsed": false,
    "ExecuteTime": {
     "end_time": "2023-06-09T12:42:45.162403Z",
     "start_time": "2023-06-09T12:42:44.997770Z"
    }
   }
  },
  {
   "cell_type": "markdown",
   "source": [
    "### Lista genus\n",
    "Vado a calcolare una lista di parole comuni per ognuno dei quattro termini. Questo mi permette di adottare la **strategia del genus**, ovvero far partire la ricerca del target da una parola molto usata nella sua definizione.\n",
    "Vengono considerate solo le definizioni che hanno più di 4 parole. In realtà la lista dei genus non viene modificata molto"
   ],
   "metadata": {
    "collapsed": false
   }
  },
  {
   "cell_type": "code",
   "execution_count": 3,
   "outputs": [
    {
     "data": {
      "text/plain": "door          [(object, 12), (room, 8), (access, 8), (allows...\nladybug       [(insect, 24), (red, 23), (black, 20), (small,...\npain          [(physical, 9), (emotional, 7), (feeling, 6), ...\nblurriness    [(see, 7), (something, 5), (image, 5), (visual...\ndtype: object"
     },
     "execution_count": 3,
     "metadata": {},
     "output_type": "execute_result"
    }
   ],
   "source": [
    "r = data.apply(lambda column: Counter(p for i in column for p in i if len(i) > 4).most_common())\n",
    "r"
   ],
   "metadata": {
    "collapsed": false,
    "ExecuteTime": {
     "end_time": "2023-06-09T12:42:45.488732Z",
     "start_time": "2023-06-09T12:42:45.212615Z"
    }
   }
  },
  {
   "cell_type": "markdown",
   "source": [
    "### Estrazione definizioni\n",
    "Creo una lista con tutte le parole delle definizioni per un dato target che voglio trovare. La lista delle parole è già pulita da punteggiatura e stop words e tutte le parole compaiono una sola volta."
   ],
   "metadata": {
    "collapsed": false
   }
  },
  {
   "cell_type": "code",
   "execution_count": 4,
   "outputs": [],
   "source": [
    "words_list_door = list(set().union(*data['door']))\n",
    "words_list_bug = list(set().union(*data['ladybug']))\n",
    "words_list_pain = list(set().union(*data['pain']))\n",
    "words_list_blur = list(set().union(*data['blurriness']))"
   ],
   "metadata": {
    "collapsed": false,
    "ExecuteTime": {
     "end_time": "2023-06-09T12:42:45.489151Z",
     "start_time": "2023-06-09T12:42:45.273755Z"
    }
   }
  },
  {
   "cell_type": "markdown",
   "source": [
    "### Ricerca\n",
    "Il metodo prende la lista di parole e il punteggio di similarità con la lista delle definizioni.\n",
    "Il metodo prende tutti i synset di un genus e cicla su di essi, andando a calcolare la similarità tra il contesto del senso e il contesto delle definizioni. Ripete questa operazione su tutti i genus della lista in input.\n",
    "Alla fine ordina la lista di $(senso,\\ score\\ similarità)$ risultato in modo *non crescente* per valore di similarità.\n",
    "\n",
    "Nel metodo **get_ordered_words_2** l'intuizione è quella di non limitarsi agli iponimi del genus, ma provare a scendere anche lungo i figli. Viene mantenuto un limite per portare l'algoritmo a una terminazione veloce.\n",
    "Per sfoltire si considerano solo i figli che hanno un valore di similarità associato sopra una certa soglia (la metà del valore massimo).\n",
    "Per i **termini concreti** si è notato un miglioramento nella soluzione, in quanto i tra i sensi più alti ci sono gli elementi target delle descrizioni.\n",
    "Per i **termini astratti** non ci sono stati cambiamenti degni di nota.\n",
    "Questo approccio andrebbe rifinito per avere un *criterio d'arresto* più generico.\n",
    "\n",
    "In una prima versione del metodo di base si provavano a prendere anche in considerazione i meronimi."
   ],
   "metadata": {
    "collapsed": false
   }
  },
  {
   "cell_type": "markdown",
   "source": [
    "#### DOOR"
   ],
   "metadata": {
    "collapsed": false
   }
  },
  {
   "cell_type": "code",
   "execution_count": 5,
   "outputs": [
    {
     "data": {
      "text/plain": "[('doorway', 9),\n ('screen_door', 6),\n ('cabin', 6),\n ('leak', 5),\n ('strap_hinge', 5),\n ('saltbox', 5),\n ('solar_house', 5),\n ('compartment', 4),\n ('study', 4),\n ('door', 4)]"
     },
     "execution_count": 5,
     "metadata": {},
     "output_type": "execute_result"
    }
   ],
   "source": [
    "get_ordered_words(r['door'], words_list_door)[0:10]"
   ],
   "metadata": {
    "collapsed": false,
    "ExecuteTime": {
     "end_time": "2023-06-09T12:42:49.728159Z",
     "start_time": "2023-06-09T12:42:45.275006Z"
    }
   }
  },
  {
   "cell_type": "code",
   "execution_count": 6,
   "outputs": [
    {
     "data": {
      "text/plain": "[('doorway', 9),\n ('screen_door', 6),\n ('cabin', 6),\n ('door', 6),\n ('leak', 5),\n ('strap_hinge', 5),\n ('saltbox', 5),\n ('solar_house', 5),\n ('wedge', 5),\n ('compartment', 4)]"
     },
     "execution_count": 6,
     "metadata": {},
     "output_type": "execute_result"
    }
   ],
   "source": [
    "get_ordered_words_2(r['door'], words_list_door, 4)[0:10]"
   ],
   "metadata": {
    "collapsed": false,
    "ExecuteTime": {
     "end_time": "2023-06-09T12:42:51.870648Z",
     "start_time": "2023-06-09T12:42:49.733446Z"
    }
   }
  },
  {
   "cell_type": "markdown",
   "source": [
    "#### LADYBUG"
   ],
   "metadata": {
    "collapsed": false
   }
  },
  {
   "cell_type": "code",
   "execution_count": 7,
   "outputs": [
    {
     "data": {
      "text/plain": "[('reddish_orange', 4),\n ('calendula', 4),\n ('dipterous_insect', 3),\n ('leaf_miner', 3),\n ('lepidopterous_insect', 3),\n ('psocopterous_insect', 3),\n ('scarlet', 3),\n ('horn_fly', 3),\n ('housefly', 3),\n ('streamer_fly', 3)]"
     },
     "execution_count": 7,
     "metadata": {},
     "output_type": "execute_result"
    }
   ],
   "source": [
    "get_ordered_words(r['ladybug'], words_list_bug)[0:10]"
   ],
   "metadata": {
    "collapsed": false,
    "ExecuteTime": {
     "end_time": "2023-06-09T12:42:52.290791Z",
     "start_time": "2023-06-09T12:42:51.878364Z"
    }
   }
  },
  {
   "cell_type": "code",
   "execution_count": 8,
   "outputs": [
    {
     "data": {
      "text/plain": "[('reddish_orange', 4),\n ('calendula', 4),\n ('ladybug', 4),\n ('wax_begonia', 4),\n ('oncidium', 4),\n ('dipterous_insect', 3),\n ('leaf_miner', 3),\n ('lepidopterous_insect', 3),\n ('psocopterous_insect', 3),\n ('scarlet', 3)]"
     },
     "execution_count": 8,
     "metadata": {},
     "output_type": "execute_result"
    }
   ],
   "source": [
    "get_ordered_words_2(r['ladybug'], words_list_bug, 4)[0:10]"
   ],
   "metadata": {
    "collapsed": false,
    "ExecuteTime": {
     "end_time": "2023-06-09T12:42:53.513464Z",
     "start_time": "2023-06-09T12:42:52.295618Z"
    }
   }
  },
  {
   "cell_type": "markdown",
   "source": [
    "#### PAIN"
   ],
   "metadata": {
    "collapsed": false
   }
  },
  {
   "cell_type": "code",
   "execution_count": 9,
   "outputs": [
    {
     "data": {
      "text/plain": "[('constriction', 5),\n ('pinch', 4),\n ('concussion', 4),\n ('wrong', 4),\n ('photalgia', 4),\n ('referred_pain', 4),\n ('sting', 4),\n ('vision', 3),\n ('brain_damage', 3),\n ('strain', 3)]"
     },
     "execution_count": 9,
     "metadata": {},
     "output_type": "execute_result"
    }
   ],
   "source": [
    "get_ordered_words(r['pain'], words_list_pain)[0:10]"
   ],
   "metadata": {
    "collapsed": false,
    "ExecuteTime": {
     "end_time": "2023-06-09T12:42:53.882500Z",
     "start_time": "2023-06-09T12:42:53.519081Z"
    }
   }
  },
  {
   "cell_type": "code",
   "execution_count": 10,
   "outputs": [
    {
     "data": {
      "text/plain": "[('constriction', 5),\n ('pinch', 4),\n ('concussion', 4),\n ('wrong', 4),\n ('photalgia', 4),\n ('referred_pain', 4),\n ('sting', 4),\n ('vision', 3),\n ('brain_damage', 3),\n ('strain', 3)]"
     },
     "execution_count": 10,
     "metadata": {},
     "output_type": "execute_result"
    }
   ],
   "source": [
    "get_ordered_words_2(r['pain'], words_list_pain, 4)[0:10]"
   ],
   "metadata": {
    "collapsed": false,
    "ExecuteTime": {
     "end_time": "2023-06-09T12:42:54.258770Z",
     "start_time": "2023-06-09T12:42:53.895049Z"
    }
   }
  },
  {
   "cell_type": "markdown",
   "source": [
    "#### BLURRINESS"
   ],
   "metadata": {
    "collapsed": false
   }
  },
  {
   "cell_type": "code",
   "execution_count": 11,
   "outputs": [
    {
     "data": {
      "text/plain": "[('vision', 5),\n ('like', 5),\n ('look', 5),\n ('collage', 4),\n ('acuity', 4),\n ('naked_eye', 4),\n ('quality', 4),\n ('iconography', 3),\n ('likeness', 3),\n ('binocular_vision', 3)]"
     },
     "execution_count": 11,
     "metadata": {},
     "output_type": "execute_result"
    }
   ],
   "source": [
    "get_ordered_words(r['blurriness'], words_list_blur)[0:10]"
   ],
   "metadata": {
    "collapsed": false,
    "ExecuteTime": {
     "end_time": "2023-06-09T12:42:54.653358Z",
     "start_time": "2023-06-09T12:42:54.265570Z"
    }
   }
  },
  {
   "cell_type": "code",
   "execution_count": 12,
   "outputs": [
    {
     "data": {
      "text/plain": "[('vision', 5),\n ('like', 5),\n ('look', 5),\n ('collage', 4),\n ('acuity', 4),\n ('naked_eye', 4),\n ('quality', 4),\n ('iconography', 3),\n ('likeness', 3),\n ('binocular_vision', 3)]"
     },
     "execution_count": 12,
     "metadata": {},
     "output_type": "execute_result"
    }
   ],
   "source": [
    "get_ordered_words_2(r['blurriness'], words_list_blur, 4)[0:10]"
   ],
   "metadata": {
    "collapsed": false,
    "ExecuteTime": {
     "end_time": "2023-06-09T12:42:55.861676Z",
     "start_time": "2023-06-09T12:42:54.658597Z"
    }
   }
  }
 ],
 "metadata": {
  "kernelspec": {
   "display_name": "Python 3",
   "language": "python",
   "name": "python3"
  },
  "language_info": {
   "codemirror_mode": {
    "name": "ipython",
    "version": 2
   },
   "file_extension": ".py",
   "mimetype": "text/x-python",
   "name": "python",
   "nbconvert_exporter": "python",
   "pygments_lexer": "ipython2",
   "version": "2.7.6"
  }
 },
 "nbformat": 4,
 "nbformat_minor": 0
}
