{
 "cells": [
  {
   "cell_type": "code",
   "execution_count": 1,
   "metadata": {
    "collapsed": true,
    "ExecuteTime": {
     "end_time": "2023-06-12T15:02:30.967726Z",
     "start_time": "2023-06-12T15:02:26.588027Z"
    }
   },
   "outputs": [],
   "source": [
    "import pandas as pd\n",
    "from collections import Counter\n",
    "from nltk.tokenize import word_tokenize\n",
    "from ricerca import get_ordered_words, get_ordered_words_2\n",
    "from def_overlap_funcs import filter_words"
   ]
  },
  {
   "cell_type": "markdown",
   "source": [
    "## Ricerca onomasiologica\n",
    "Questo tipo di ricerca va a trovare una parola partendo dalle sue definizioni. Per fare l'esercizio viene usato il file definito in aula, nella tabella sotto sono riportate tutte le definizioni tokenizzate e pulite da stop words e punteggiatura."
   ],
   "metadata": {
    "collapsed": false
   }
  },
  {
   "cell_type": "code",
   "execution_count": 2,
   "outputs": [
    {
     "data": {
      "text/plain": "                                                 door   \n0   {closing, passage, two, divide, rooms, constru...  \\\n1                           {opening, closed, opened}   \n2   {open, enter, let, door, wall, hole, room, clo...   \n3                {access, one, usable, another, area}   \n4         {access, allows, area, delimits, structure}   \n5         {block, passage, object, pass, used, moved}   \n6   {sometimes, handle, lock, requires, wood, sepa...   \n7   {separate, object, wall, closed, opened, go, u...   \n8   {access, another, something, place, opened, or...   \n9                                      {access, room}   \n10                     {access, room, object, allows}   \n11  {times, presents, small, conditions, enclosing...   \n12  {lock, enables, inside, chamber, allows, mecha...   \n13                             {wall, closed, opened}   \n14   {access, room, block, mechanism, barrier, allow}   \n15              {enter, room, let, people, exit, way}   \n16  {handle, body, main, opened, allows, spaces, h...   \n17  {opens, enter, closes, object, place, allows, ...   \n18     {room, element, passage, blocks, wall, allows}   \n19            {place, access, cross, limited, object}   \n20  {lock, access, room, rectangular, wood, use, o...   \n21            {room, building, entrance, space, exit}   \n22          {spaces, connection, object, two, allows}   \n23  {one, another, architecture, pass, leave, pers...   \n24                         {room, building, entrance}   \n25             {opens, room, entrance, object, close}   \n26                    {lock, entrance, object, house}   \n27  {access, room, object, blocks, physically, spa...   \n28                   {something, opening, go, allows}   \n29  {access, spaces, blank, walls, building, diffe...   \n\n                                              ladybug   \n0   {red, small, flying, legs, six, typically, spo...  \\\n1   {luck, wings, many, black, insect, cultures, r...   \n2      {color, red, orange, dots, fly, insect, black}   \n3                          {red, small, back, insect}   \n4                      {small, round, flying, insect}   \n5   {colored, red, small, beatle, tendentially, fl...   \n6   {small, back, control, luck, pest, used, black...   \n7   {culture, red, small, dots, luck, brings, blac...   \n8                   {red, small, dots, insect, black}   \n9          {red, small, coat, yellow, insect, dotted}   \n10  {red, small, dots, flying, usually, black, ins...   \n11  {red, good, flying, coat, considered, characte...   \n12  {small, falls, associated, luck, planet, spots...   \n13                  {red, small, dots, insect, black}   \n14                        {red, spots, insect, black}   \n15                 {black, back, small, dots, insect}   \n16  {associated, generally, flying, luck, wings, c...   \n17  {small, flying, luck, spots, characterized, bl...   \n18  {red, round, good, dots, generally, small, lin...   \n19  {color, red, small, dots, characterized, black...   \n20  {red, round, small, dots, usually, flowers, in...   \n21       {red, round, small, shape, bug, spot, black}   \n22  {color, red, small, dots, usually, characteriz...   \n23                {fly, luck, brings, person, insect}   \n24                  {red, small, dots, insect, black}   \n25                                {red, back, insect}   \n26                   {red, back, dots, black, insect}   \n27    {red, small, dots, known, wings, black, insect}   \n28                               {colored, dots, bug}   \n29  {colored, red, usually, structured, flying, pa...   \n\n                                                 pain   \n0               {distress, physical, feeling, mental}  \\\n1           {hurt, physical, emotional, feeling, bad}   \n2    {conscious, felling, experience, beings, suffer}   \n3             {describes, concept, suffering, living}   \n4                     {physical, discomfort, feeling}   \n5                    {sensation, burning, unpleasant}   \n6   {felt, negative, body, sensation, damaged, cre...   \n7   {pain, injury, caused, physical, emotional, sa...   \n8                      {sentiment, sorrow, expresses}   \n9   {exertion, sensation, physical, emotional, res...   \n10       {sensation, physical, emotional, unpleasant}   \n11  {either, something, light, happens, bad, resul...   \n12  {discomfort, sensation, physical, emotional, b...   \n13       {caused, physical, emotional, harm, feeling}   \n14                     {harmful, feeling, unpleasant}   \n15    {sensation, physical, emotional, uncomfortable}   \n16  {uneasiness, causes, physical, emotional, harm...   \n17              {feel, feeling, tangible, situations}   \n18  {necessary, complex, aware, brain, issues, cre...   \n19       {suffering, associated, emotion, unpleasant}   \n20  {harmed, felt, something, right, getting, body...   \n21  {emotionally, kind, felt, something, damaging,...   \n22          {causes, discomfort, experience, feeling}   \n23  {emotionally, something, physically, person, h...   \n24                             {sensation, sickening}   \n25                {physical, emotional, feeling, bad}   \n26                               {hurt, feeling, get}   \n27                                  {sensation, hurt}   \n28                                     {feeling, bad}   \n29  {negative, discomfort, sensation, mentally, ph...   \n\n                                           blurriness  \n0                                      {sight, focus}  \n1         {borders, absence, definite, shapelessness}  \n2   {felt, something, clearly, sensation, see, ca,...  \n3                                   {lack, sharpness}  \n4          {lack, characteristic, clarity, precision}  \n5   {eyes, blurring, sensation, see, everything, b...  \n6   {kind, goal, conceptual, certain, accurately, ...  \n7   {lack, image, eye, memory, vision, unfocused, ...  \n8   {makes, clear, seeing, totally, bright, condit...  \n9   {state, confusion, exertion, use, physical, al...  \n10                                 {sense, confusion}  \n11  {illness, drug, hard, see, photograph, focus, ...  \n12  {see, person, condition, allow, distance, peop...  \n13  {visual, image, clarity, borders, absence, def...  \n14  {clarity, visual, together, losing, details, c...  \n15  {disrupts, camera, partially, vision, phenomen...  \n16  {metaphorically, ill, something, clearly, inde...  \n17  {specific, makes, something, photographic, sub...  \n18  {eye, device, clearly, vision, defined, state,...  \n19  {whose, characteristic, shapes, image, undefin...  \n20  {edges, near, something, eye, problems, visual...  \n21  {effect, hard, affect, vision, see, confuses, ...  \n22  {makes, visual, something, effect, hard, clear...  \n23  {visual, effect, clear, see, way, objects, all...  \n24            {looking, visual, confuses, perception}  \n25                                {vision, distorted}  \n26           {eyeglasses, eyes, condition, corrected}  \n27  {faulty, specific, object, perception, properl...  \n28            {distance, effect, blinding, increases}  \n29  {lack, image, quality, texture, low, given, fo...  ",
      "text/html": "<div>\n<style scoped>\n    .dataframe tbody tr th:only-of-type {\n        vertical-align: middle;\n    }\n\n    .dataframe tbody tr th {\n        vertical-align: top;\n    }\n\n    .dataframe thead th {\n        text-align: right;\n    }\n</style>\n<table border=\"1\" class=\"dataframe\">\n  <thead>\n    <tr style=\"text-align: right;\">\n      <th></th>\n      <th>door</th>\n      <th>ladybug</th>\n      <th>pain</th>\n      <th>blurriness</th>\n    </tr>\n  </thead>\n  <tbody>\n    <tr>\n      <th>0</th>\n      <td>{closing, passage, two, divide, rooms, constru...</td>\n      <td>{red, small, flying, legs, six, typically, spo...</td>\n      <td>{distress, physical, feeling, mental}</td>\n      <td>{sight, focus}</td>\n    </tr>\n    <tr>\n      <th>1</th>\n      <td>{opening, closed, opened}</td>\n      <td>{luck, wings, many, black, insect, cultures, r...</td>\n      <td>{hurt, physical, emotional, feeling, bad}</td>\n      <td>{borders, absence, definite, shapelessness}</td>\n    </tr>\n    <tr>\n      <th>2</th>\n      <td>{open, enter, let, door, wall, hole, room, clo...</td>\n      <td>{color, red, orange, dots, fly, insect, black}</td>\n      <td>{conscious, felling, experience, beings, suffer}</td>\n      <td>{felt, something, clearly, sensation, see, ca,...</td>\n    </tr>\n    <tr>\n      <th>3</th>\n      <td>{access, one, usable, another, area}</td>\n      <td>{red, small, back, insect}</td>\n      <td>{describes, concept, suffering, living}</td>\n      <td>{lack, sharpness}</td>\n    </tr>\n    <tr>\n      <th>4</th>\n      <td>{access, allows, area, delimits, structure}</td>\n      <td>{small, round, flying, insect}</td>\n      <td>{physical, discomfort, feeling}</td>\n      <td>{lack, characteristic, clarity, precision}</td>\n    </tr>\n    <tr>\n      <th>5</th>\n      <td>{block, passage, object, pass, used, moved}</td>\n      <td>{colored, red, small, beatle, tendentially, fl...</td>\n      <td>{sensation, burning, unpleasant}</td>\n      <td>{eyes, blurring, sensation, see, everything, b...</td>\n    </tr>\n    <tr>\n      <th>6</th>\n      <td>{sometimes, handle, lock, requires, wood, sepa...</td>\n      <td>{small, back, control, luck, pest, used, black...</td>\n      <td>{felt, negative, body, sensation, damaged, cre...</td>\n      <td>{kind, goal, conceptual, certain, accurately, ...</td>\n    </tr>\n    <tr>\n      <th>7</th>\n      <td>{separate, object, wall, closed, opened, go, u...</td>\n      <td>{culture, red, small, dots, luck, brings, blac...</td>\n      <td>{pain, injury, caused, physical, emotional, sa...</td>\n      <td>{lack, image, eye, memory, vision, unfocused, ...</td>\n    </tr>\n    <tr>\n      <th>8</th>\n      <td>{access, another, something, place, opened, or...</td>\n      <td>{red, small, dots, insect, black}</td>\n      <td>{sentiment, sorrow, expresses}</td>\n      <td>{makes, clear, seeing, totally, bright, condit...</td>\n    </tr>\n    <tr>\n      <th>9</th>\n      <td>{access, room}</td>\n      <td>{red, small, coat, yellow, insect, dotted}</td>\n      <td>{exertion, sensation, physical, emotional, res...</td>\n      <td>{state, confusion, exertion, use, physical, al...</td>\n    </tr>\n    <tr>\n      <th>10</th>\n      <td>{access, room, object, allows}</td>\n      <td>{red, small, dots, flying, usually, black, ins...</td>\n      <td>{sensation, physical, emotional, unpleasant}</td>\n      <td>{sense, confusion}</td>\n    </tr>\n    <tr>\n      <th>11</th>\n      <td>{times, presents, small, conditions, enclosing...</td>\n      <td>{red, good, flying, coat, considered, characte...</td>\n      <td>{either, something, light, happens, bad, resul...</td>\n      <td>{illness, drug, hard, see, photograph, focus, ...</td>\n    </tr>\n    <tr>\n      <th>12</th>\n      <td>{lock, enables, inside, chamber, allows, mecha...</td>\n      <td>{small, falls, associated, luck, planet, spots...</td>\n      <td>{discomfort, sensation, physical, emotional, b...</td>\n      <td>{see, person, condition, allow, distance, peop...</td>\n    </tr>\n    <tr>\n      <th>13</th>\n      <td>{wall, closed, opened}</td>\n      <td>{red, small, dots, insect, black}</td>\n      <td>{caused, physical, emotional, harm, feeling}</td>\n      <td>{visual, image, clarity, borders, absence, def...</td>\n    </tr>\n    <tr>\n      <th>14</th>\n      <td>{access, room, block, mechanism, barrier, allow}</td>\n      <td>{red, spots, insect, black}</td>\n      <td>{harmful, feeling, unpleasant}</td>\n      <td>{clarity, visual, together, losing, details, c...</td>\n    </tr>\n    <tr>\n      <th>15</th>\n      <td>{enter, room, let, people, exit, way}</td>\n      <td>{black, back, small, dots, insect}</td>\n      <td>{sensation, physical, emotional, uncomfortable}</td>\n      <td>{disrupts, camera, partially, vision, phenomen...</td>\n    </tr>\n    <tr>\n      <th>16</th>\n      <td>{handle, body, main, opened, allows, spaces, h...</td>\n      <td>{associated, generally, flying, luck, wings, c...</td>\n      <td>{uneasiness, causes, physical, emotional, harm...</td>\n      <td>{metaphorically, ill, something, clearly, inde...</td>\n    </tr>\n    <tr>\n      <th>17</th>\n      <td>{opens, enter, closes, object, place, allows, ...</td>\n      <td>{small, flying, luck, spots, characterized, bl...</td>\n      <td>{feel, feeling, tangible, situations}</td>\n      <td>{specific, makes, something, photographic, sub...</td>\n    </tr>\n    <tr>\n      <th>18</th>\n      <td>{room, element, passage, blocks, wall, allows}</td>\n      <td>{red, round, good, dots, generally, small, lin...</td>\n      <td>{necessary, complex, aware, brain, issues, cre...</td>\n      <td>{eye, device, clearly, vision, defined, state,...</td>\n    </tr>\n    <tr>\n      <th>19</th>\n      <td>{place, access, cross, limited, object}</td>\n      <td>{color, red, small, dots, characterized, black...</td>\n      <td>{suffering, associated, emotion, unpleasant}</td>\n      <td>{whose, characteristic, shapes, image, undefin...</td>\n    </tr>\n    <tr>\n      <th>20</th>\n      <td>{lock, access, room, rectangular, wood, use, o...</td>\n      <td>{red, round, small, dots, usually, flowers, in...</td>\n      <td>{harmed, felt, something, right, getting, body...</td>\n      <td>{edges, near, something, eye, problems, visual...</td>\n    </tr>\n    <tr>\n      <th>21</th>\n      <td>{room, building, entrance, space, exit}</td>\n      <td>{red, round, small, shape, bug, spot, black}</td>\n      <td>{emotionally, kind, felt, something, damaging,...</td>\n      <td>{effect, hard, affect, vision, see, confuses, ...</td>\n    </tr>\n    <tr>\n      <th>22</th>\n      <td>{spaces, connection, object, two, allows}</td>\n      <td>{color, red, small, dots, usually, characteriz...</td>\n      <td>{causes, discomfort, experience, feeling}</td>\n      <td>{makes, visual, something, effect, hard, clear...</td>\n    </tr>\n    <tr>\n      <th>23</th>\n      <td>{one, another, architecture, pass, leave, pers...</td>\n      <td>{fly, luck, brings, person, insect}</td>\n      <td>{emotionally, something, physically, person, h...</td>\n      <td>{visual, effect, clear, see, way, objects, all...</td>\n    </tr>\n    <tr>\n      <th>24</th>\n      <td>{room, building, entrance}</td>\n      <td>{red, small, dots, insect, black}</td>\n      <td>{sensation, sickening}</td>\n      <td>{looking, visual, confuses, perception}</td>\n    </tr>\n    <tr>\n      <th>25</th>\n      <td>{opens, room, entrance, object, close}</td>\n      <td>{red, back, insect}</td>\n      <td>{physical, emotional, feeling, bad}</td>\n      <td>{vision, distorted}</td>\n    </tr>\n    <tr>\n      <th>26</th>\n      <td>{lock, entrance, object, house}</td>\n      <td>{red, back, dots, black, insect}</td>\n      <td>{hurt, feeling, get}</td>\n      <td>{eyeglasses, eyes, condition, corrected}</td>\n    </tr>\n    <tr>\n      <th>27</th>\n      <td>{access, room, object, blocks, physically, spa...</td>\n      <td>{red, small, dots, known, wings, black, insect}</td>\n      <td>{sensation, hurt}</td>\n      <td>{faulty, specific, object, perception, properl...</td>\n    </tr>\n    <tr>\n      <th>28</th>\n      <td>{something, opening, go, allows}</td>\n      <td>{colored, dots, bug}</td>\n      <td>{feeling, bad}</td>\n      <td>{distance, effect, blinding, increases}</td>\n    </tr>\n    <tr>\n      <th>29</th>\n      <td>{access, spaces, blank, walls, building, diffe...</td>\n      <td>{colored, red, usually, structured, flying, pa...</td>\n      <td>{negative, discomfort, sensation, mentally, ph...</td>\n      <td>{lack, image, quality, texture, low, given, fo...</td>\n    </tr>\n  </tbody>\n</table>\n</div>"
     },
     "execution_count": 2,
     "metadata": {},
     "output_type": "execute_result"
    }
   ],
   "source": [
    "data = pd.read_csv('TLN-definitions-23.csv', sep=';')\n",
    "data = data.applymap(lambda s: filter_words(set(word_tokenize(s))))\n",
    "\n",
    "data"
   ],
   "metadata": {
    "collapsed": false,
    "ExecuteTime": {
     "end_time": "2023-06-12T15:02:31.125443Z",
     "start_time": "2023-06-12T15:02:30.972927Z"
    }
   }
  },
  {
   "cell_type": "markdown",
   "source": [
    "### Lista genus\n",
    "Vado a calcolare una lista di parole comuni per ognuno dei quattro termini. Questo mi permette di adottare la **strategia del genus**, ovvero far partire la ricerca del target da una parola molto usata nella sua definizione.\n",
    "Vengono considerate solo le definizioni che hanno più di 4 parole. In realtà la lista dei genus non viene modificata molto"
   ],
   "metadata": {
    "collapsed": false
   }
  },
  {
   "cell_type": "code",
   "execution_count": 3,
   "outputs": [
    {
     "data": {
      "text/plain": "door          [(object, 12), (room, 8), (access, 8), (allows...\nladybug       [(insect, 24), (red, 23), (black, 20), (small,...\npain          [(physical, 9), (emotional, 7), (feeling, 6), ...\nblurriness    [(see, 7), (something, 5), (image, 5), (visual...\ndtype: object"
     },
     "execution_count": 3,
     "metadata": {},
     "output_type": "execute_result"
    }
   ],
   "source": [
    "r = data.apply(lambda column: Counter(p for i in column for p in i if len(i) > 4).most_common())\n",
    "r"
   ],
   "metadata": {
    "collapsed": false,
    "ExecuteTime": {
     "end_time": "2023-06-12T15:02:31.328999Z",
     "start_time": "2023-06-12T15:02:31.203071Z"
    }
   }
  },
  {
   "cell_type": "markdown",
   "source": [
    "### Estrazione definizioni\n",
    "Creo una lista con tutte le parole delle definizioni per un dato target che voglio trovare. La lista delle parole è già pulita da punteggiatura e stop words e tutte le parole compaiono una sola volta."
   ],
   "metadata": {
    "collapsed": false
   }
  },
  {
   "cell_type": "code",
   "execution_count": 4,
   "outputs": [],
   "source": [
    "words_list_door = list(set().union(*data['door']))\n",
    "words_list_bug = list(set().union(*data['ladybug']))\n",
    "words_list_pain = list(set().union(*data['pain']))\n",
    "words_list_blur = list(set().union(*data['blurriness']))"
   ],
   "metadata": {
    "collapsed": false,
    "ExecuteTime": {
     "end_time": "2023-06-12T15:02:31.329907Z",
     "start_time": "2023-06-12T15:02:31.260471Z"
    }
   }
  },
  {
   "cell_type": "markdown",
   "source": [
    "### Ricerca\n",
    "Il metodo prende la lista di parole e il punteggio di similarità con la lista delle definizioni.\n",
    "Il metodo prende tutti i synset di un genus e cicla su di essi, andando a calcolare la similarità tra il contesto del senso e il contesto delle definizioni. Ripete questa operazione su tutti i genus della lista in input.\n",
    "Alla fine ordina la lista di $(senso,\\ score\\ similarità)$ risultato in modo *non crescente* per valore di similarità.\n",
    "\n",
    "Nel metodo **get_ordered_words_2** l'intuizione è quella di non limitarsi agli iponimi del genus, ma provare a scendere anche lungo i figli. Viene mantenuto un limite per portare l'algoritmo a una terminazione veloce.\n",
    "Per sfoltire si considerano solo i figli che hanno un valore di similarità associato sopra una certa soglia (la metà del valore massimo).\n",
    "Per i **termini concreti** si è notato un miglioramento nella soluzione, in quanto i tra i sensi più alti ci sono gli elementi target delle descrizioni.\n",
    "Per i **termini astratti** non ci sono stati cambiamenti degni di nota.\n",
    "Questo approccio andrebbe rifinito per avere un *criterio d'arresto* più generico.\n",
    "\n",
    "In una prima versione del metodo di base si provavano a prendere anche in considerazione i meronimi."
   ],
   "metadata": {
    "collapsed": false
   }
  },
  {
   "cell_type": "markdown",
   "source": [
    "#### DOOR"
   ],
   "metadata": {
    "collapsed": false
   }
  },
  {
   "cell_type": "code",
   "execution_count": 5,
   "outputs": [
    {
     "data": {
      "text/plain": "[('doorway', 9),\n ('domino', 6),\n ('opening', 6),\n ('screen_door', 6),\n ('pass-through', 6),\n ('cabin', 6),\n ('entrance', 5),\n ('transition', 5),\n ('room', 5),\n ('building', 5)]"
     },
     "execution_count": 5,
     "metadata": {},
     "output_type": "execute_result"
    }
   ],
   "source": [
    "get_ordered_words(r['door'], words_list_door)[0:10]"
   ],
   "metadata": {
    "collapsed": false,
    "ExecuteTime": {
     "end_time": "2023-06-12T15:02:36.457349Z",
     "start_time": "2023-06-12T15:02:31.261682Z"
    }
   }
  },
  {
   "cell_type": "code",
   "execution_count": 6,
   "outputs": [
    {
     "data": {
      "text/plain": "[('doorway', 9),\n ('wall', 8),\n ('domino', 6),\n ('opening', 6),\n ('screen_door', 6),\n ('pass-through', 6),\n ('cabin', 6),\n ('door', 6),\n ('entrance', 5),\n ('transition', 5)]"
     },
     "execution_count": 6,
     "metadata": {},
     "output_type": "execute_result"
    }
   ],
   "source": [
    "get_ordered_words_2(r['door'], words_list_door, 4)[0:10]"
   ],
   "metadata": {
    "collapsed": false,
    "ExecuteTime": {
     "end_time": "2023-06-12T15:04:02.854933Z",
     "start_time": "2023-06-12T15:02:36.461588Z"
    }
   }
  },
  {
   "cell_type": "markdown",
   "source": [
    "#### LADYBUG"
   ],
   "metadata": {
    "collapsed": false
   }
  },
  {
   "cell_type": "code",
   "execution_count": 7,
   "outputs": [
    {
     "data": {
      "text/plain": "[('nonsolid_color', 4),\n ('reddish_orange', 4),\n ('calendula', 4),\n ('dipterous_insect', 3),\n ('leaf_miner', 3),\n ('lepidopterous_insect', 3),\n ('psocopterous_insect', 3),\n ('scarlet', 3),\n ('worldly_possession', 3),\n ('horn_fly', 3)]"
     },
     "execution_count": 7,
     "metadata": {},
     "output_type": "execute_result"
    }
   ],
   "source": [
    "get_ordered_words(r['ladybug'], words_list_bug)[0:10]"
   ],
   "metadata": {
    "collapsed": false,
    "ExecuteTime": {
     "end_time": "2023-06-12T15:04:03.777082Z",
     "start_time": "2023-06-12T15:04:02.863229Z"
    }
   }
  },
  {
   "cell_type": "code",
   "execution_count": 8,
   "outputs": [
    {
     "data": {
      "text/plain": "[('nonsolid_color', 4),\n ('reddish_orange', 4),\n ('calendula', 4),\n ('ladybug', 4),\n ('wax_begonia', 4),\n ('oncidium', 4),\n ('dipterous_insect', 3),\n ('leaf_miner', 3),\n ('lepidopterous_insect', 3),\n ('psocopterous_insect', 3)]"
     },
     "execution_count": 8,
     "metadata": {},
     "output_type": "execute_result"
    }
   ],
   "source": [
    "get_ordered_words_2(r['ladybug'], words_list_bug, 4)[0:10]"
   ],
   "metadata": {
    "collapsed": false,
    "ExecuteTime": {
     "end_time": "2023-06-12T15:04:09.226587Z",
     "start_time": "2023-06-12T15:04:03.781214Z"
    }
   }
  },
  {
   "cell_type": "markdown",
   "source": [
    "#### PAIN"
   ],
   "metadata": {
    "collapsed": false
   }
  },
  {
   "cell_type": "code",
   "execution_count": 9,
   "outputs": [
    {
     "data": {
      "text/plain": "[('affection', 5),\n ('constriction', 5),\n ('pain', 4),\n ('actor', 4),\n ('toucher', 4),\n ('pinch', 4),\n ('wound', 4),\n ('agony', 4),\n ('discomfort', 4),\n ('photalgia', 4)]"
     },
     "execution_count": 9,
     "metadata": {},
     "output_type": "execute_result"
    }
   ],
   "source": [
    "get_ordered_words(r['pain'], words_list_pain)[0:10]"
   ],
   "metadata": {
    "collapsed": false,
    "ExecuteTime": {
     "end_time": "2023-06-12T15:04:10.732533Z",
     "start_time": "2023-06-12T15:04:09.234449Z"
    }
   }
  },
  {
   "cell_type": "code",
   "execution_count": 10,
   "outputs": [
    {
     "data": {
      "text/plain": "[('affection', 5),\n ('constriction', 5),\n ('pain', 4),\n ('actor', 4),\n ('toucher', 4),\n ('pinch', 4),\n ('wound', 4),\n ('agony', 4),\n ('discomfort', 4),\n ('photalgia', 4)]"
     },
     "execution_count": 10,
     "metadata": {},
     "output_type": "execute_result"
    }
   ],
   "source": [
    "get_ordered_words_2(r['pain'], words_list_pain, 4)[0:10]"
   ],
   "metadata": {
    "collapsed": false,
    "ExecuteTime": {
     "end_time": "2023-06-12T15:04:12.724190Z",
     "start_time": "2023-06-12T15:04:10.741311Z"
    }
   }
  },
  {
   "cell_type": "markdown",
   "source": [
    "#### BLURRINESS"
   ],
   "metadata": {
    "collapsed": false
   }
  },
  {
   "cell_type": "code",
   "execution_count": 11,
   "outputs": [
    {
     "data": {
      "text/plain": "[('placebo_effect', 5),\n ('vision', 5),\n ('like', 5),\n ('adapter', 5),\n ('look', 5),\n ('collage', 4),\n ('acuity', 4),\n ('naked_eye', 4),\n ('sounding_board', 4),\n ('user', 4)]"
     },
     "execution_count": 11,
     "metadata": {},
     "output_type": "execute_result"
    }
   ],
   "source": [
    "get_ordered_words(r['blurriness'], words_list_blur)[0:10]"
   ],
   "metadata": {
    "collapsed": false,
    "ExecuteTime": {
     "end_time": "2023-06-12T15:04:14.025383Z",
     "start_time": "2023-06-12T15:04:12.729324Z"
    }
   }
  },
  {
   "cell_type": "code",
   "execution_count": 12,
   "outputs": [
    {
     "data": {
      "text/plain": "[('placebo_effect', 5),\n ('vision', 5),\n ('like', 5),\n ('adapter', 5),\n ('look', 5),\n ('collage', 4),\n ('acuity', 4),\n ('naked_eye', 4),\n ('sounding_board', 4),\n ('user', 4)]"
     },
     "execution_count": 12,
     "metadata": {},
     "output_type": "execute_result"
    }
   ],
   "source": [
    "get_ordered_words_2(r['blurriness'], words_list_blur, 4)[0:10]"
   ],
   "metadata": {
    "collapsed": false,
    "ExecuteTime": {
     "end_time": "2023-06-12T15:04:22.805695Z",
     "start_time": "2023-06-12T15:04:14.031129Z"
    }
   }
  }
 ],
 "metadata": {
  "kernelspec": {
   "display_name": "Python 3",
   "language": "python",
   "name": "python3"
  },
  "language_info": {
   "codemirror_mode": {
    "name": "ipython",
    "version": 2
   },
   "file_extension": ".py",
   "mimetype": "text/x-python",
   "name": "python",
   "nbconvert_exporter": "python",
   "pygments_lexer": "ipython2",
   "version": "2.7.6"
  }
 },
 "nbformat": 4,
 "nbformat_minor": 0
}
