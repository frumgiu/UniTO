{
 "cells": [
  {
   "cell_type": "code",
   "execution_count": 1,
   "metadata": {
    "collapsed": true,
    "ExecuteTime": {
     "end_time": "2023-05-30T09:22:38.175131Z",
     "start_time": "2023-05-30T09:22:37.275258Z"
    }
   },
   "outputs": [],
   "source": [
    "import pandas as pd\n",
    "from collections import Counter\n",
    "from def_overlap_funcs import filter_words\n",
    "from nltk.tokenize import word_tokenize\n",
    "from ricerca import get_ordered_hyponyms"
   ]
  },
  {
   "cell_type": "code",
   "execution_count": 2,
   "outputs": [
    {
     "data": {
      "text/plain": "                                                 door   \n0   {two, closing, construction, used, temporarily...  \\\n1                           {opened, closed, opening}   \n2   {two, wall, open, hole, closing, let, enter, r...   \n3                {area, another, access, usable, one}   \n4         {area, structure, allows, access, delimits}   \n5         {used, block, pass, object, passage, moved}   \n6   {historically, hinges, used, main, body, consi...   \n7   {opened, used, closed, object, wall, rooms, se...   \n8   {opened, something, order, another, access, pl...   \n9                                      {room, access}   \n10                     {allows, room, access, object}   \n11  {blocks, usually, entrance, conditions, well, ...   \n12  {lock, mechanism, usually, inside, enables, ma...   \n13                             {opened, closed, wall}   \n14   {allow, mechanism, barrier, block, room, access}   \n15              {let, enter, room, people, way, exit}   \n16  {hinge, two, usually, main, spaces, made, body...   \n17  {allows, closes, enter, opens, place, object, ...   \n18     {blocks, allows, room, wall, passage, element}   \n19            {object, cross, limited, place, access}   \n20  {lock, usually, use, made, room, access, objec...   \n21            {space, building, room, entrance, exit}   \n22          {two, allows, spaces, object, connection}   \n23  {space, leave, new, architecture, pass, anothe...   \n24                         {building, entrance, room}   \n25             {close, room, object, entrance, opens}   \n26                    {lock, object, house, entrance}   \n27  {space, blocks, physically, room, access, obje...   \n28                   {something, allows, opening, go}   \n29  {built, areas, structure, building, walls, spa...   \n\n                                              ladybug   \n0   {black, legs, spots, small, red, typically, fl...  \\\n1   {luck, many, red, cultures, wings, black, symb...   \n2      {black, fly, red, color, orange, dots, insect}   \n3                          {small, red, back, insect}   \n4                      {small, insect, round, flying}   \n5   {beatle, family, tendentially, colored, small,...   \n6   {natural, used, back, head, luck, small, red, ...   \n7   {black, luck, brings, small, red, dots, insect...   \n8                   {black, small, red, dots, insect}   \n9          {coat, small, yellow, red, dotted, insect}   \n10  {black, usually, small, red, flying, dots, ins...   \n11  {tiny, usually, coat, considered, omen, charac...   \n12  {associated, usually, luck, spots, small, fall...   \n13                  {black, small, red, dots, insect}   \n14                        {black, spots, red, insect}   \n15                 {black, back, small, dots, insect}   \n16  {associated, luck, harmless, red, wings, black...   \n17  {luck, spots, small, color, red, said, bring, ...   \n18  {black, linked, usually, luck, generally, roun...   \n19  {black, small, color, red, dots, insect, chara...   \n20  {black, usually, round, small, red, flowers, f...   \n21       {black, round, small, shape, red, bug, spot}   \n22  {black, usually, small, red, color, dots, inse...   \n23                {fly, brings, luck, person, insect}   \n24                  {black, small, red, dots, insect}   \n25                                {red, back, insect}   \n26                   {black, back, red, dots, insect}   \n27    {black, known, small, red, dots, insect, wings}   \n28                               {bug, dots, colored}   \n29  {usually, colored, red, flying, insect, patter...   \n\n                                                 pain   \n0               {distress, feeling, mental, physical}  \\\n1           {hurt, emotional, physical, feeling, bad}   \n2    {beings, suffer, experience, conscious, felling}   \n3             {living, concept, suffering, describes}   \n4                     {feeling, physical, discomfort}   \n5                    {burning, unpleasant, sensation}   \n6   {creatures, body, physical, negative, psycholo...   \n7   {emotional, sadness, physical, caused, injury,...   \n8                      {expresses, sentiment, sorrow}   \n9   {resulting, sensation, emotional, exertion, un...   \n10       {sensation, emotional, unpleasant, physical}   \n11  {result, something, light, discomfort, feeling...   \n12  {sensation, emotional, physical, soreness, dis...   \n13       {emotional, harm, physical, caused, feeling}   \n14                     {feeling, harmful, unpleasant}   \n15    {sensation, emotional, physical, uncomfortable}   \n16  {emotional, harm, physical, feeling, causes, u...   \n17              {feel, tangible, feeling, situations}   \n18  {issues, natural, complex, physical, feeling, ...   \n19       {associated, emotion, unpleasant, suffering}   \n20  {tell, something, us, body, emotion, getting, ...   \n21  {sensation, emotional, kind, felt, something, ...   \n22          {causes, discomfort, experience, feeling}   \n23  {something, emotionally, physically, person, h...   \n24                             {sensation, sickening}   \n25                {feeling, emotional, bad, physical}   \n26                               {hurt, feeling, get}   \n27                                  {hurt, sensation}   \n28                                     {feeling, bad}   \n29  {sensation, physically, causing, negative, dis...   \n\n                                           blurriness  \n0                                      {sight, focus}  \n1         {borders, definite, shapelessness, absence}  \n2   {sensation, something, clearly, see, felt, bor...  \n3                                   {sharpness, lack}  \n4          {clarity, lack, precision, characteristic}  \n5   {sensation, see, eyes, blurred, everything, bl...  \n6   {accurately, goal, inability, kind, conceptual...  \n7   {lack, image, unfocused, vision, memory, eye, ...  \n8   {bright, thant, totally, seeing, clear, makes,...  \n9   {resulting, alcohol, use, exertion, physical, ...  \n10                                 {sense, confusion}  \n11  {usually, see, illness, focus, drug, hard, use...  \n12  {see, objects, distance, condition, allow, far...  \n13  {visual, clarity, borders, image, defined, abs...  \n14  {visual, clarity, losing, details, together, c...  \n15  {disrupts, phenomenon, vision, person, partial...  \n16  {metaphorically, something, concept, perceived...  \n17  {something, photographic, used, condition, les...  \n18  {natural, borders, vision, device, eye, clearl...  \n19  {hard, lines, characteristic, image, recognize...  \n20  {something, near, clear, edges, visually, eye,...  \n21  {see, making, details, affect, vision, outline...  \n22  {visual, something, hard, see, clear, makes, e...  \n23  {visual, see, objects, allows, clear, way, eff...  \n24            {visual, looking, perception, confuses}  \n25                                {distorted, vision}  \n26           {corrected, eyeglasses, eyes, condition}  \n27  {specific, faulty, perception, perceived, obje...  \n28            {distance, increases, blinding, effect}  \n29  {low, quality, lack, image, texture, given, fo...  ",
      "text/html": "<div>\n<style scoped>\n    .dataframe tbody tr th:only-of-type {\n        vertical-align: middle;\n    }\n\n    .dataframe tbody tr th {\n        vertical-align: top;\n    }\n\n    .dataframe thead th {\n        text-align: right;\n    }\n</style>\n<table border=\"1\" class=\"dataframe\">\n  <thead>\n    <tr style=\"text-align: right;\">\n      <th></th>\n      <th>door</th>\n      <th>ladybug</th>\n      <th>pain</th>\n      <th>blurriness</th>\n    </tr>\n  </thead>\n  <tbody>\n    <tr>\n      <th>0</th>\n      <td>{two, closing, construction, used, temporarily...</td>\n      <td>{black, legs, spots, small, red, typically, fl...</td>\n      <td>{distress, feeling, mental, physical}</td>\n      <td>{sight, focus}</td>\n    </tr>\n    <tr>\n      <th>1</th>\n      <td>{opened, closed, opening}</td>\n      <td>{luck, many, red, cultures, wings, black, symb...</td>\n      <td>{hurt, emotional, physical, feeling, bad}</td>\n      <td>{borders, definite, shapelessness, absence}</td>\n    </tr>\n    <tr>\n      <th>2</th>\n      <td>{two, wall, open, hole, closing, let, enter, r...</td>\n      <td>{black, fly, red, color, orange, dots, insect}</td>\n      <td>{beings, suffer, experience, conscious, felling}</td>\n      <td>{sensation, something, clearly, see, felt, bor...</td>\n    </tr>\n    <tr>\n      <th>3</th>\n      <td>{area, another, access, usable, one}</td>\n      <td>{small, red, back, insect}</td>\n      <td>{living, concept, suffering, describes}</td>\n      <td>{sharpness, lack}</td>\n    </tr>\n    <tr>\n      <th>4</th>\n      <td>{area, structure, allows, access, delimits}</td>\n      <td>{small, insect, round, flying}</td>\n      <td>{feeling, physical, discomfort}</td>\n      <td>{clarity, lack, precision, characteristic}</td>\n    </tr>\n    <tr>\n      <th>5</th>\n      <td>{used, block, pass, object, passage, moved}</td>\n      <td>{beatle, family, tendentially, colored, small,...</td>\n      <td>{burning, unpleasant, sensation}</td>\n      <td>{sensation, see, eyes, blurred, everything, bl...</td>\n    </tr>\n    <tr>\n      <th>6</th>\n      <td>{historically, hinges, used, main, body, consi...</td>\n      <td>{natural, used, back, head, luck, small, red, ...</td>\n      <td>{creatures, body, physical, negative, psycholo...</td>\n      <td>{accurately, goal, inability, kind, conceptual...</td>\n    </tr>\n    <tr>\n      <th>7</th>\n      <td>{opened, used, closed, object, wall, rooms, se...</td>\n      <td>{black, luck, brings, small, red, dots, insect...</td>\n      <td>{emotional, sadness, physical, caused, injury,...</td>\n      <td>{lack, image, unfocused, vision, memory, eye, ...</td>\n    </tr>\n    <tr>\n      <th>8</th>\n      <td>{opened, something, order, another, access, pl...</td>\n      <td>{black, small, red, dots, insect}</td>\n      <td>{expresses, sentiment, sorrow}</td>\n      <td>{bright, thant, totally, seeing, clear, makes,...</td>\n    </tr>\n    <tr>\n      <th>9</th>\n      <td>{room, access}</td>\n      <td>{coat, small, yellow, red, dotted, insect}</td>\n      <td>{resulting, sensation, emotional, exertion, un...</td>\n      <td>{resulting, alcohol, use, exertion, physical, ...</td>\n    </tr>\n    <tr>\n      <th>10</th>\n      <td>{allows, room, access, object}</td>\n      <td>{black, usually, small, red, flying, dots, ins...</td>\n      <td>{sensation, emotional, unpleasant, physical}</td>\n      <td>{sense, confusion}</td>\n    </tr>\n    <tr>\n      <th>11</th>\n      <td>{blocks, usually, entrance, conditions, well, ...</td>\n      <td>{tiny, usually, coat, considered, omen, charac...</td>\n      <td>{result, something, light, discomfort, feeling...</td>\n      <td>{usually, see, illness, focus, drug, hard, use...</td>\n    </tr>\n    <tr>\n      <th>12</th>\n      <td>{lock, mechanism, usually, inside, enables, ma...</td>\n      <td>{associated, usually, luck, spots, small, fall...</td>\n      <td>{sensation, emotional, physical, soreness, dis...</td>\n      <td>{see, objects, distance, condition, allow, far...</td>\n    </tr>\n    <tr>\n      <th>13</th>\n      <td>{opened, closed, wall}</td>\n      <td>{black, small, red, dots, insect}</td>\n      <td>{emotional, harm, physical, caused, feeling}</td>\n      <td>{visual, clarity, borders, image, defined, abs...</td>\n    </tr>\n    <tr>\n      <th>14</th>\n      <td>{allow, mechanism, barrier, block, room, access}</td>\n      <td>{black, spots, red, insect}</td>\n      <td>{feeling, harmful, unpleasant}</td>\n      <td>{visual, clarity, losing, details, together, c...</td>\n    </tr>\n    <tr>\n      <th>15</th>\n      <td>{let, enter, room, people, way, exit}</td>\n      <td>{black, back, small, dots, insect}</td>\n      <td>{sensation, emotional, physical, uncomfortable}</td>\n      <td>{disrupts, phenomenon, vision, person, partial...</td>\n    </tr>\n    <tr>\n      <th>16</th>\n      <td>{hinge, two, usually, main, spaces, made, body...</td>\n      <td>{associated, luck, harmless, red, wings, black...</td>\n      <td>{emotional, harm, physical, feeling, causes, u...</td>\n      <td>{metaphorically, something, concept, perceived...</td>\n    </tr>\n    <tr>\n      <th>17</th>\n      <td>{allows, closes, enter, opens, place, object, ...</td>\n      <td>{luck, spots, small, color, red, said, bring, ...</td>\n      <td>{feel, tangible, feeling, situations}</td>\n      <td>{something, photographic, used, condition, les...</td>\n    </tr>\n    <tr>\n      <th>18</th>\n      <td>{blocks, allows, room, wall, passage, element}</td>\n      <td>{black, linked, usually, luck, generally, roun...</td>\n      <td>{issues, natural, complex, physical, feeling, ...</td>\n      <td>{natural, borders, vision, device, eye, clearl...</td>\n    </tr>\n    <tr>\n      <th>19</th>\n      <td>{object, cross, limited, place, access}</td>\n      <td>{black, small, color, red, dots, insect, chara...</td>\n      <td>{associated, emotion, unpleasant, suffering}</td>\n      <td>{hard, lines, characteristic, image, recognize...</td>\n    </tr>\n    <tr>\n      <th>20</th>\n      <td>{lock, usually, use, made, room, access, objec...</td>\n      <td>{black, usually, round, small, red, flowers, f...</td>\n      <td>{tell, something, us, body, emotion, getting, ...</td>\n      <td>{something, near, clear, edges, visually, eye,...</td>\n    </tr>\n    <tr>\n      <th>21</th>\n      <td>{space, building, room, entrance, exit}</td>\n      <td>{black, round, small, shape, red, bug, spot}</td>\n      <td>{sensation, emotional, kind, felt, something, ...</td>\n      <td>{see, making, details, affect, vision, outline...</td>\n    </tr>\n    <tr>\n      <th>22</th>\n      <td>{two, allows, spaces, object, connection}</td>\n      <td>{black, usually, small, red, color, dots, inse...</td>\n      <td>{causes, discomfort, experience, feeling}</td>\n      <td>{visual, something, hard, see, clear, makes, e...</td>\n    </tr>\n    <tr>\n      <th>23</th>\n      <td>{space, leave, new, architecture, pass, anothe...</td>\n      <td>{fly, brings, luck, person, insect}</td>\n      <td>{something, emotionally, physically, person, h...</td>\n      <td>{visual, see, objects, allows, clear, way, eff...</td>\n    </tr>\n    <tr>\n      <th>24</th>\n      <td>{building, entrance, room}</td>\n      <td>{black, small, red, dots, insect}</td>\n      <td>{sensation, sickening}</td>\n      <td>{visual, looking, perception, confuses}</td>\n    </tr>\n    <tr>\n      <th>25</th>\n      <td>{close, room, object, entrance, opens}</td>\n      <td>{red, back, insect}</td>\n      <td>{feeling, emotional, bad, physical}</td>\n      <td>{distorted, vision}</td>\n    </tr>\n    <tr>\n      <th>26</th>\n      <td>{lock, object, house, entrance}</td>\n      <td>{black, back, red, dots, insect}</td>\n      <td>{hurt, feeling, get}</td>\n      <td>{corrected, eyeglasses, eyes, condition}</td>\n    </tr>\n    <tr>\n      <th>27</th>\n      <td>{space, blocks, physically, room, access, obje...</td>\n      <td>{black, known, small, red, dots, insect, wings}</td>\n      <td>{hurt, sensation}</td>\n      <td>{specific, faulty, perception, perceived, obje...</td>\n    </tr>\n    <tr>\n      <th>28</th>\n      <td>{something, allows, opening, go}</td>\n      <td>{bug, dots, colored}</td>\n      <td>{feeling, bad}</td>\n      <td>{distance, increases, blinding, effect}</td>\n    </tr>\n    <tr>\n      <th>29</th>\n      <td>{built, areas, structure, building, walls, spa...</td>\n      <td>{usually, colored, red, flying, insect, patter...</td>\n      <td>{sensation, physically, causing, negative, dis...</td>\n      <td>{low, quality, lack, image, texture, given, fo...</td>\n    </tr>\n  </tbody>\n</table>\n</div>"
     },
     "execution_count": 2,
     "metadata": {},
     "output_type": "execute_result"
    }
   ],
   "source": [
    "data = pd.read_csv('TLN-definitions-23.csv', sep=';')\n",
    "data = data.applymap(lambda s: filter_words(set(word_tokenize(s))))\n",
    "\n",
    "data"
   ],
   "metadata": {
    "collapsed": false,
    "ExecuteTime": {
     "end_time": "2023-05-30T09:22:38.329075Z",
     "start_time": "2023-05-30T09:22:38.180594Z"
    }
   }
  },
  {
   "cell_type": "code",
   "execution_count": 3,
   "outputs": [
    {
     "data": {
      "text/plain": "door           object\nladybug        insect\npain          feeling\nblurriness        see\ndtype: object"
     },
     "execution_count": 3,
     "metadata": {},
     "output_type": "execute_result"
    }
   ],
   "source": [
    "r = data.apply(lambda column: Counter(p for i in column for p in i).most_common(1)[0][0])\n",
    "r"
   ],
   "metadata": {
    "collapsed": false,
    "ExecuteTime": {
     "end_time": "2023-05-30T09:22:38.343159Z",
     "start_time": "2023-05-30T09:22:38.319059Z"
    }
   }
  },
  {
   "cell_type": "code",
   "execution_count": 4,
   "outputs": [],
   "source": [
    "flat_list = list(set().union(*data['door']))"
   ],
   "metadata": {
    "collapsed": false,
    "ExecuteTime": {
     "end_time": "2023-05-30T09:22:38.343660Z",
     "start_time": "2023-05-30T09:22:38.337959Z"
    }
   }
  },
  {
   "cell_type": "code",
   "execution_count": 5,
   "outputs": [
    {
     "data": {
      "text/plain": "[Synset('retained_object.n.01'),\n Synset('direct_object.n.01'),\n Synset('indirect_object.n.01'),\n Synset('prepositional_object.n.01')]"
     },
     "execution_count": 5,
     "metadata": {},
     "output_type": "execute_result"
    }
   ],
   "source": [
    "get_ordered_hyponyms(r['door'], flat_list)[0:10]"
   ],
   "metadata": {
    "collapsed": false,
    "ExecuteTime": {
     "end_time": "2023-05-30T09:22:40.699288Z",
     "start_time": "2023-05-30T09:22:38.349503Z"
    }
   }
  }
 ],
 "metadata": {
  "kernelspec": {
   "display_name": "Python 3",
   "language": "python",
   "name": "python3"
  },
  "language_info": {
   "codemirror_mode": {
    "name": "ipython",
    "version": 2
   },
   "file_extension": ".py",
   "mimetype": "text/x-python",
   "name": "python",
   "nbconvert_exporter": "python",
   "pygments_lexer": "ipython2",
   "version": "2.7.6"
  }
 },
 "nbformat": 4,
 "nbformat_minor": 0
}
