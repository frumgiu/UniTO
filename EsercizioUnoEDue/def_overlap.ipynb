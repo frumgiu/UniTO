{
 "cells": [
  {
   "cell_type": "code",
   "execution_count": 31,
   "metadata": {
    "collapsed": true,
    "ExecuteTime": {
     "end_time": "2023-06-08T15:05:09.542459Z",
     "start_time": "2023-06-08T15:05:09.480699Z"
    }
   },
   "outputs": [],
   "source": [
    "import pandas as pd\n",
    "from prettytable import PrettyTable\n",
    "from nltk.tokenize import word_tokenize\n",
    "import nltk.stem.porter as porter\n",
    "from def_overlap_funcs import filter_words, similarity_score"
   ]
  },
  {
   "cell_type": "markdown",
   "source": [
    "## Similarità definizioni\n",
    "Si sono create, per ogni studente, quattro definizioni. Il task successivo richiedeva di valutare la similarità tra le definizioni, per ognuno dei concetti scelti.\n",
    "Il primo output visibile nel notebook rappresenta la tabella con un concetto per colonna e nelle righe le definizioni pulite da stop words e punteggiatura e stemmatizzate (ovvero ridotte alla loro *radice*)."
   ],
   "metadata": {
    "collapsed": false
   }
  },
  {
   "cell_type": "code",
   "execution_count": 32,
   "outputs": [],
   "source": [
    "stemmer = porter.PorterStemmer()"
   ],
   "metadata": {
    "collapsed": false,
    "ExecuteTime": {
     "end_time": "2023-06-08T15:05:09.547195Z",
     "start_time": "2023-06-08T15:05:09.502017Z"
    }
   }
  },
  {
   "cell_type": "code",
   "execution_count": 33,
   "outputs": [
    {
     "data": {
      "text/plain": "                                                 door   \n0   {passag, room, construct, two, use, temporaril...  \\\n1                                       {close, open}   \n2   {peopl, room, wall, object, get, let, two, hol...   \n3                   {one, usabl, anoth, area, access}   \n4            {structur, allow, delimit, area, access}   \n5            {passag, object, move, block, pass, use}   \n6   {separ, main, histor, also, wood, build, iron,...   \n7   {room, object, separ, close, use, wall, go, open}   \n8         {order, someth, anoth, access, place, open}   \n9                                      {room, access}   \n10                      {allow, room, access, object}   \n11  {key, one, present, entranc, usual, enclos, lo...   \n12  {peopl, key, insid, object, unlock, get, allow...   \n13                                {wall, close, open}   \n14      {room, allow, block, barrier, mechan, access}   \n15               {peopl, room, let, way, enter, exit}   \n16  {passag, space, object, main, two, allow, usua...   \n17   {exit, object, allow, close, place, enter, open}   \n18        {passag, room, element, allow, block, wall}   \n19              {object, cross, access, place, limit}   \n20  {room, object, hous, rectangular, usual, lock,...   \n21                {space, room, entranc, build, exit}   \n22               {space, object, two, allow, connect}   \n23  {space, one, leav, person, anoth, pass, archit...   \n24                             {room, entranc, build}   \n25               {room, object, entranc, close, open}   \n26                      {lock, entranc, object, hous}   \n27  {space, room, object, point, block, access, ph...   \n28                          {allow, go, someth, open}   \n29  {space, structur, blank, differ, area, built, ...   \n\n                                              ladybug   \n0   {insect, black, leg, six, typic, red, spot, sm...  \\\n1   {insect, luck, black, symbol, red, dot, good, ...   \n2        {insect, black, red, color, orang, dot, fli}   \n3                          {back, small, insect, red}   \n4                         {round, fli, small, insect}   \n5   {beatl, insect, famili, red, small, color, ten...   \n6   {natur, insect, luck, insectivor, black, consi...   \n7   {insect, luck, black, red, bring, small, dot, ...   \n8                    {insect, black, red, small, dot}   \n9             {coat, insect, yellow, red, small, dot}   \n10       {insect, black, usual, red, small, dot, fli}   \n11  {coat, characteris, omen, insect, consid, usua...   \n12  {live, insect, luck, fall, black, usual, assoc...   \n13                   {insect, black, red, small, dot}   \n14                         {black, spot, insect, red}   \n15                  {insect, black, back, small, dot}   \n16  {insect, luck, character, black, gener, associ...   \n17  {insect, luck, character, black, said, red, fl...   \n18  {link, insect, luck, black, usual, gener, red,...   \n19  {insect, character, black, red, small, color, ...   \n20  {insect, black, usual, flower, red, small, rou...   \n21       {black, red, spot, small, shape, round, bug}   \n22  {insect, character, black, usual, red, small, ...   \n23                 {insect, luck, person, bring, fli}   \n24                   {insect, black, red, small, dot}   \n25                                {back, insect, red}   \n26                    {insect, black, back, red, dot}   \n27      {insect, black, dot, red, small, known, wing}   \n28                                  {bug, dot, color}   \n29  {structur, pattern, insect, usual, red, color,...   \n\n                                                 pain   \n0                    {distress, mental, physic, feel}  \\\n1                     {feel, bad, hurt, emot, physic}   \n2                {experi, suffer, consciou, fell, be}   \n3                    {live, concept, describ, suffer}   \n4                          {discomfort, physic, feel}   \n5                             {sensat, burn, unpleas}   \n6   {felt, creatur, natur, sensat, damag, bodi, ps...   \n7       {pain, feel, caus, injuri, sad, emot, physic}   \n8                        {sorrow, express, sentiment}   \n9      {sensat, exert, unpleas, result, emot, physic}   \n10                    {sensat, emot, physic, unpleas}   \n11  {occur, mental, feel, someth, bad, cri, discom...   \n12  {sensat, person, sore, bring, discomfort, emot...   \n13                   {feel, caus, harm, emot, physic}   \n14                              {harm, unpleas, feel}   \n15                  {sensat, emot, uncomfort, physic}   \n16           {feel, caus, harm, emot, uneasi, physic}   \n17                            {situat, tangibl, feel}   \n18  {creatur, natur, brain, feel, awar, complex, n...   \n19                    {emot, associ, unpleas, suffer}   \n20  {felt, us, get, tell, someth, harm, want, bodi...   \n21  {felt, sensat, damag, someth, harm, kind, emot...   \n22                   {caus, experi, discomfort, feel}   \n23               {someth, person, hurt, emot, physic}   \n24                                   {sensat, sicken}   \n25                          {bad, emot, physic, feel}   \n26                                  {get, hurt, feel}   \n27                                     {sensat, hurt}   \n28                                        {bad, feel}   \n29    {mental, sensat, caus, discomfort, physic, neg}   \n\n                                           blurriness  \n0                                       {focu, sight}  \n1                {absenc, definit, shapeless, border}  \n2    {felt, sensat, someth, clearli, see, border, ca}  \n3                                       {lack, sharp}  \n4               {lack, characterist, clariti, precis}  \n5                   {blur, sensat, eye, see, everyth}  \n6   {perceiv, whether, goal, conceptu, kind, inabl...  \n7     {lack, eye, vision, imag, bad, unfocus, memori}  \n8    {clear, total, thant, see, make, condit, bright}  \n9   {exert, state, use, result, confus, alcohol, p...  \n10                                     {sens, confus}  \n11  {hard, object, focu, usual, properti, also, il...  \n12  {peopl, object, distanc, allow, person, see, w...  \n13     {clariti, visual, absenc, imag, defin, border}  \n14  {clariti, visual, lose, blend, togeth, condit,...  \n15  {partial, phenomenon, vision, person, camera, ...  \n16  {perceiv, someth, ill, state, concept, clearli...  \n17  {make, condit, focu, context, someth, specif, ...  \n18  {natur, attribut, devic, eye, vision, clearli,...  \n19  {hard, whose, imag, shape, undefin, recogn, ch...  \n20  {near, clear, phenomena, visual, mix, someth, ...  \n21  {detail, hard, affect, outlin, vision, effect,...  \n22   {clear, hard, visual, someth, effect, see, make}  \n23   {clear, object, allow, visual, effect, see, way}  \n24                    {percept, visual, confus, look}  \n25                                  {distort, vision}  \n26                   {condit, eye, correct, eyeglass}  \n27  {faulti, object, perceiv, percept, specif, pro...  \n28                  {blind, increas, distanc, effect}  \n29    {low, focu, lack, imag, textur, given, qualiti}  ",
      "text/html": "<div>\n<style scoped>\n    .dataframe tbody tr th:only-of-type {\n        vertical-align: middle;\n    }\n\n    .dataframe tbody tr th {\n        vertical-align: top;\n    }\n\n    .dataframe thead th {\n        text-align: right;\n    }\n</style>\n<table border=\"1\" class=\"dataframe\">\n  <thead>\n    <tr style=\"text-align: right;\">\n      <th></th>\n      <th>door</th>\n      <th>ladybug</th>\n      <th>pain</th>\n      <th>blurriness</th>\n    </tr>\n  </thead>\n  <tbody>\n    <tr>\n      <th>0</th>\n      <td>{passag, room, construct, two, use, temporaril...</td>\n      <td>{insect, black, leg, six, typic, red, spot, sm...</td>\n      <td>{distress, mental, physic, feel}</td>\n      <td>{focu, sight}</td>\n    </tr>\n    <tr>\n      <th>1</th>\n      <td>{close, open}</td>\n      <td>{insect, luck, black, symbol, red, dot, good, ...</td>\n      <td>{feel, bad, hurt, emot, physic}</td>\n      <td>{absenc, definit, shapeless, border}</td>\n    </tr>\n    <tr>\n      <th>2</th>\n      <td>{peopl, room, wall, object, get, let, two, hol...</td>\n      <td>{insect, black, red, color, orang, dot, fli}</td>\n      <td>{experi, suffer, consciou, fell, be}</td>\n      <td>{felt, sensat, someth, clearli, see, border, ca}</td>\n    </tr>\n    <tr>\n      <th>3</th>\n      <td>{one, usabl, anoth, area, access}</td>\n      <td>{back, small, insect, red}</td>\n      <td>{live, concept, describ, suffer}</td>\n      <td>{lack, sharp}</td>\n    </tr>\n    <tr>\n      <th>4</th>\n      <td>{structur, allow, delimit, area, access}</td>\n      <td>{round, fli, small, insect}</td>\n      <td>{discomfort, physic, feel}</td>\n      <td>{lack, characterist, clariti, precis}</td>\n    </tr>\n    <tr>\n      <th>5</th>\n      <td>{passag, object, move, block, pass, use}</td>\n      <td>{beatl, insect, famili, red, small, color, ten...</td>\n      <td>{sensat, burn, unpleas}</td>\n      <td>{blur, sensat, eye, see, everyth}</td>\n    </tr>\n    <tr>\n      <th>6</th>\n      <td>{separ, main, histor, also, wood, build, iron,...</td>\n      <td>{natur, insect, luck, insectivor, black, consi...</td>\n      <td>{felt, creatur, natur, sensat, damag, bodi, ps...</td>\n      <td>{perceiv, whether, goal, conceptu, kind, inabl...</td>\n    </tr>\n    <tr>\n      <th>7</th>\n      <td>{room, object, separ, close, use, wall, go, open}</td>\n      <td>{insect, luck, black, red, bring, small, dot, ...</td>\n      <td>{pain, feel, caus, injuri, sad, emot, physic}</td>\n      <td>{lack, eye, vision, imag, bad, unfocus, memori}</td>\n    </tr>\n    <tr>\n      <th>8</th>\n      <td>{order, someth, anoth, access, place, open}</td>\n      <td>{insect, black, red, small, dot}</td>\n      <td>{sorrow, express, sentiment}</td>\n      <td>{clear, total, thant, see, make, condit, bright}</td>\n    </tr>\n    <tr>\n      <th>9</th>\n      <td>{room, access}</td>\n      <td>{coat, insect, yellow, red, small, dot}</td>\n      <td>{sensat, exert, unpleas, result, emot, physic}</td>\n      <td>{exert, state, use, result, confus, alcohol, p...</td>\n    </tr>\n    <tr>\n      <th>10</th>\n      <td>{allow, room, access, object}</td>\n      <td>{insect, black, usual, red, small, dot, fli}</td>\n      <td>{sensat, emot, physic, unpleas}</td>\n      <td>{sens, confus}</td>\n    </tr>\n    <tr>\n      <th>11</th>\n      <td>{key, one, present, entranc, usual, enclos, lo...</td>\n      <td>{coat, characteris, omen, insect, consid, usua...</td>\n      <td>{occur, mental, feel, someth, bad, cri, discom...</td>\n      <td>{hard, object, focu, usual, properti, also, il...</td>\n    </tr>\n    <tr>\n      <th>12</th>\n      <td>{peopl, key, insid, object, unlock, get, allow...</td>\n      <td>{live, insect, luck, fall, black, usual, assoc...</td>\n      <td>{sensat, person, sore, bring, discomfort, emot...</td>\n      <td>{peopl, object, distanc, allow, person, see, w...</td>\n    </tr>\n    <tr>\n      <th>13</th>\n      <td>{wall, close, open}</td>\n      <td>{insect, black, red, small, dot}</td>\n      <td>{feel, caus, harm, emot, physic}</td>\n      <td>{clariti, visual, absenc, imag, defin, border}</td>\n    </tr>\n    <tr>\n      <th>14</th>\n      <td>{room, allow, block, barrier, mechan, access}</td>\n      <td>{black, spot, insect, red}</td>\n      <td>{harm, unpleas, feel}</td>\n      <td>{clariti, visual, lose, blend, togeth, condit,...</td>\n    </tr>\n    <tr>\n      <th>15</th>\n      <td>{peopl, room, let, way, enter, exit}</td>\n      <td>{insect, black, back, small, dot}</td>\n      <td>{sensat, emot, uncomfort, physic}</td>\n      <td>{partial, phenomenon, vision, person, camera, ...</td>\n    </tr>\n    <tr>\n      <th>16</th>\n      <td>{passag, space, object, main, two, allow, usua...</td>\n      <td>{insect, luck, character, black, gener, associ...</td>\n      <td>{feel, caus, harm, emot, uneasi, physic}</td>\n      <td>{perceiv, someth, ill, state, concept, clearli...</td>\n    </tr>\n    <tr>\n      <th>17</th>\n      <td>{exit, object, allow, close, place, enter, open}</td>\n      <td>{insect, luck, character, black, said, red, fl...</td>\n      <td>{situat, tangibl, feel}</td>\n      <td>{make, condit, focu, context, someth, specif, ...</td>\n    </tr>\n    <tr>\n      <th>18</th>\n      <td>{passag, room, element, allow, block, wall}</td>\n      <td>{link, insect, luck, black, usual, gener, red,...</td>\n      <td>{creatur, natur, brain, feel, awar, complex, n...</td>\n      <td>{natur, attribut, devic, eye, vision, clearli,...</td>\n    </tr>\n    <tr>\n      <th>19</th>\n      <td>{object, cross, access, place, limit}</td>\n      <td>{insect, character, black, red, small, color, ...</td>\n      <td>{emot, associ, unpleas, suffer}</td>\n      <td>{hard, whose, imag, shape, undefin, recogn, ch...</td>\n    </tr>\n    <tr>\n      <th>20</th>\n      <td>{room, object, hous, rectangular, usual, lock,...</td>\n      <td>{insect, black, usual, flower, red, small, rou...</td>\n      <td>{felt, us, get, tell, someth, harm, want, bodi...</td>\n      <td>{near, clear, phenomena, visual, mix, someth, ...</td>\n    </tr>\n    <tr>\n      <th>21</th>\n      <td>{space, room, entranc, build, exit}</td>\n      <td>{black, red, spot, small, shape, round, bug}</td>\n      <td>{felt, sensat, damag, someth, harm, kind, emot...</td>\n      <td>{detail, hard, affect, outlin, vision, effect,...</td>\n    </tr>\n    <tr>\n      <th>22</th>\n      <td>{space, object, two, allow, connect}</td>\n      <td>{insect, character, black, usual, red, small, ...</td>\n      <td>{caus, experi, discomfort, feel}</td>\n      <td>{clear, hard, visual, someth, effect, see, make}</td>\n    </tr>\n    <tr>\n      <th>23</th>\n      <td>{space, one, leav, person, anoth, pass, archit...</td>\n      <td>{insect, luck, person, bring, fli}</td>\n      <td>{someth, person, hurt, emot, physic}</td>\n      <td>{clear, object, allow, visual, effect, see, way}</td>\n    </tr>\n    <tr>\n      <th>24</th>\n      <td>{room, entranc, build}</td>\n      <td>{insect, black, red, small, dot}</td>\n      <td>{sensat, sicken}</td>\n      <td>{percept, visual, confus, look}</td>\n    </tr>\n    <tr>\n      <th>25</th>\n      <td>{room, object, entranc, close, open}</td>\n      <td>{back, insect, red}</td>\n      <td>{bad, emot, physic, feel}</td>\n      <td>{distort, vision}</td>\n    </tr>\n    <tr>\n      <th>26</th>\n      <td>{lock, entranc, object, hous}</td>\n      <td>{insect, black, back, red, dot}</td>\n      <td>{get, hurt, feel}</td>\n      <td>{condit, eye, correct, eyeglass}</td>\n    </tr>\n    <tr>\n      <th>27</th>\n      <td>{space, room, object, point, block, access, ph...</td>\n      <td>{insect, black, dot, red, small, known, wing}</td>\n      <td>{sensat, hurt}</td>\n      <td>{faulti, object, perceiv, percept, specif, pro...</td>\n    </tr>\n    <tr>\n      <th>28</th>\n      <td>{allow, go, someth, open}</td>\n      <td>{bug, dot, color}</td>\n      <td>{bad, feel}</td>\n      <td>{blind, increas, distanc, effect}</td>\n    </tr>\n    <tr>\n      <th>29</th>\n      <td>{space, structur, blank, differ, area, built, ...</td>\n      <td>{structur, pattern, insect, usual, red, color,...</td>\n      <td>{mental, sensat, caus, discomfort, physic, neg}</td>\n      <td>{low, focu, lack, imag, textur, given, qualiti}</td>\n    </tr>\n  </tbody>\n</table>\n</div>"
     },
     "execution_count": 33,
     "metadata": {},
     "output_type": "execute_result"
    }
   ],
   "source": [
    "data = pd.read_csv('TLN-definitions-23.csv', sep=';')\n",
    "data = data.applymap(lambda s: filter_words(set(word_tokenize(s))))\n",
    "data = data.applymap(lambda tokens: {stemmer.stem(t) for t in tokens})\n",
    "\n",
    "data"
   ],
   "metadata": {
    "collapsed": false,
    "ExecuteTime": {
     "end_time": "2023-06-08T15:05:09.724656Z",
     "start_time": "2023-06-08T15:05:09.525850Z"
    }
   }
  },
  {
   "cell_type": "markdown",
   "source": [
    "### Calcolo punteggi similarità tra definizioni\n",
    "In questa cella vengono calcolate le similarità tra le definizioni di una colonna. Il processo viene eseguito per ogni colonna e i per ognuna i valori sono salvati in una lista"
   ],
   "metadata": {
    "collapsed": false
   }
  },
  {
   "cell_type": "code",
   "execution_count": 34,
   "outputs": [],
   "source": [
    "scores = []\n",
    "words = list(data.columns.values)\n",
    "for word in words:\n",
    "    word_scores = [similarity_score(len(def1.intersection(def2)), len(def1), len(def2))\n",
    "                   for def1 in data[word] for def2 in data[word] if def1 != def2]\n",
    "    scores.append(word_scores)"
   ],
   "metadata": {
    "collapsed": false,
    "ExecuteTime": {
     "end_time": "2023-06-08T15:05:09.751659Z",
     "start_time": "2023-06-08T15:05:09.738936Z"
    }
   }
  },
  {
   "cell_type": "markdown",
   "source": [
    "### Valore medio\n",
    "Per sapere il valore medio di similarità tra le definizioni di una colonna si fa il rapporto tra la somma dei valori e il numero di valori. I risultati sono mostrati nell'output sottostante .\n",
    "Il punteggio di similarità più alta lo si trova per la parola **'ladybug'** con un valore di 0.5967. Per i concetti generici, *'door'* e *'pain'*, i punteggi sono molto simili e sono poco sopra allo 0.20. Il punteggio più basso lo si trova per il concetto *'blurriness'* con uno score di 0.081."
   ],
   "metadata": {
    "collapsed": false
   }
  },
  {
   "cell_type": "code",
   "execution_count": 41,
   "outputs": [
    {
     "name": "stdout",
     "output_type": "stream",
     "text": [
      "            Astratto    Concreto\n",
      "Generico     0.2524     0.2345\n",
      "Specifico    0.081      0.5967\n"
     ]
    }
   ],
   "source": [
    "results = [round(sum(word_scores) / len(word_scores), 4) for word_scores in scores]\n",
    "\n",
    "print('            Astratto    Concreto')\n",
    "print('Generico    ', results[2], '   ',results[0])\n",
    "print('Specifico   ', results[3], '    ', results[1])"
   ],
   "metadata": {
    "collapsed": false,
    "ExecuteTime": {
     "end_time": "2023-06-08T15:06:27.544444Z",
     "start_time": "2023-06-08T15:06:27.524560Z"
    }
   }
  }
 ],
 "metadata": {
  "kernelspec": {
   "display_name": "Python 3",
   "language": "python",
   "name": "python3"
  },
  "language_info": {
   "codemirror_mode": {
    "name": "ipython",
    "version": 2
   },
   "file_extension": ".py",
   "mimetype": "text/x-python",
   "name": "python",
   "nbconvert_exporter": "python",
   "pygments_lexer": "ipython2",
   "version": "2.7.6"
  }
 },
 "nbformat": 4,
 "nbformat_minor": 0
}
