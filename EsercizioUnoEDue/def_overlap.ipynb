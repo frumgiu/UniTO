{
 "cells": [
  {
   "cell_type": "code",
   "execution_count": 1,
   "metadata": {
    "collapsed": true,
    "ExecuteTime": {
     "end_time": "2023-05-29T10:44:07.849009Z",
     "start_time": "2023-05-29T10:44:04.781915Z"
    }
   },
   "outputs": [],
   "source": [
    "import pandas as pd\n",
    "from nltk.tokenize import word_tokenize\n",
    "import nltk.stem.porter as porter\n",
    "from def_overlap_funcs import filter_words, similarity_score"
   ]
  },
  {
   "cell_type": "code",
   "execution_count": 2,
   "outputs": [],
   "source": [
    "stemmer = porter.PorterStemmer()"
   ],
   "metadata": {
    "collapsed": false,
    "ExecuteTime": {
     "end_time": "2023-05-29T10:44:07.895877Z",
     "start_time": "2023-05-29T10:44:07.853068Z"
    }
   }
  },
  {
   "cell_type": "code",
   "execution_count": 3,
   "outputs": [
    {
     "data": {
      "text/plain": "                                                 door   \n0   {two, room, passag, use, construct, close, tem...  \\\n1                                       {open, close}   \n2   {door, object, let, hole, peopl, wall, two, en...   \n3                   {one, anoth, area, access, usabl}   \n4            {delimit, area, structur, access, allow}   \n5            {object, use, block, passag, pass, move}   \n6   {rotat, materi, push, made, wood, lock, handl,...   \n7   {separ, object, wall, close, go, room, use, open}   \n8         {place, anoth, someth, open, access, order}   \n9                                      {access, room}   \n10                      {object, access, room, allow}   \n11  {one, weather, present, well, enclos, small, l...   \n12  {insid, made, object, mechan, lock, unlock, pe...   \n13                                {open, wall, close}   \n14      {barrier, mechan, room, block, access, allow}   \n15               {let, peopl, enter, room, exit, way}   \n16  {made, object, space, main, two, handl, usual,...   \n17   {place, object, enter, close, exit, open, allow}   \n18        {element, wall, room, block, passag, allow}   \n19              {cross, place, object, limit, access}   \n20  {hous, made, wood, lock, object, rectangular, ...   \n21                {room, entranc, build, exit, space}   \n22               {object, two, connect, allow, space}   \n23  {one, architectur, anoth, make, person, new, l...   \n24                             {build, room, entranc}   \n25               {object, close, room, entranc, open}   \n26                      {lock, hous, entranc, object}   \n27  {point, object, physic, room, block, access, s...   \n28                          {someth, go, open, allow}   \n29  {built, blank, wall, area, structur, differ, u...   \n\n                                              ladybug   \n0   {insect, small, typic, spot, black, red, six, ...  \\\n1   {insect, cultur, mani, luck, wing, black, red,...   \n2        {insect, color, orang, black, red, dot, fli}   \n3                          {insect, small, red, back}   \n4                         {round, insect, fli, small}   \n5   {insect, color, small, beatl, famili, tendenti...   \n6   {insect, bring, small, luck, insectivor, pest,...   \n7   {insect, cultur, bring, small, luck, black, re...   \n8                    {insect, small, black, red, dot}   \n9             {insect, small, yellow, red, coat, dot}   \n10       {insect, small, black, red, dot, fli, usual}   \n11  {insect, tini, consid, omen, red, coat, good, ...   \n12  {insect, fall, small, live, luck, human, plane...   \n13                   {insect, small, black, red, dot}   \n14                         {insect, black, red, spot}   \n15                  {insect, small, black, dot, back}   \n16  {insect, dot, harmless, luck, wing, character,...   \n17  {insect, color, bring, said, small, luck, char...   \n18  {insect, small, luck, link, round, black, red,...   \n19  {insect, color, small, character, black, red, ...   \n20  {insect, small, round, black, red, dot, fli, f...   \n21       {small, bug, round, black, red, shape, spot}   \n22  {insect, color, small, character, black, red, ...   \n23                 {insect, bring, luck, person, fli}   \n24                   {insect, small, black, red, dot}   \n25                                {insect, red, back}   \n26                    {insect, black, red, dot, back}   \n27      {insect, small, wing, known, black, red, dot}   \n28                                  {color, dot, bug}   \n29  {insect, pattern, color, structur, red, fli, u...   \n\n                                                 pain   \n0                    {feel, mental, distress, physic}  \\\n1                     {hurt, physic, feel, bad, emot}   \n2                {fell, consciou, be, experi, suffer}   \n3                    {live, describ, concept, suffer}   \n4                          {discomfort, feel, physic}   \n5                             {unpleas, sensat, burn}   \n6   {felt, psycholog, sensat, creatur, natur, phys...   \n7       {caus, sad, injuri, pain, physic, feel, emot}   \n8                        {sorrow, express, sentiment}   \n9      {unpleas, sensat, result, exert, physic, emot}   \n10                    {sensat, unpleas, emot, physic}   \n11  {could, happen, either, light, cri, result, ph...   \n12  {bring, sensat, physic, person, sore, emot, di...   \n13                   {caus, physic, feel, harm, emot}   \n14                              {feel, unpleas, harm}   \n15                  {sensat, uncomfort, emot, physic}   \n16           {caus, uneasi, physic, feel, harm, emot}   \n17                            {feel, situat, tangibl}   \n18  {complex, brain, issu, physic, make, natur, fe...   \n19                    {associ, unpleas, emot, suffer}   \n20  {want, tell, felt, right, someth, harm, get, u...   \n21  {felt, sensat, physic, damag, someth, harm, re...   \n22                   {feel, experi, caus, discomfort}   \n23               {hurt, physic, someth, person, emot}   \n24                                   {sicken, sensat}   \n25                          {feel, bad, emot, physic}   \n26                                  {get, feel, hurt}   \n27                                     {sensat, hurt}   \n28                                        {feel, bad}   \n29    {caus, sensat, physic, neg, mental, discomfort}   \n\n                                           blurriness  \n0                                       {focu, sight}  \n1                {absenc, shapeless, border, definit}  \n2    {ca, felt, border, clearli, sensat, someth, see}  \n3                                       {sharp, lack}  \n4               {clariti, characterist, precis, lack}  \n5                   {everyth, eye, sensat, blur, see}  \n6   {inabl, whether, goal, conceptu, perceiv, phys...  \n7     {vision, imag, eye, unfocus, memori, lack, bad}  \n8    {clear, total, make, thant, see, bright, condit}  \n9   {result, exert, physic, state, use, drug, conf...  \n10                                     {confus, sens}  \n11  {happen, object, hard, ill, focu, photograph, ...  \n12  {distanc, object, peopl, person, far, see, way...  \n13     {imag, clariti, visual, border, defin, absenc}  \n14  {blend, clariti, visual, lose, condit, detail,...  \n15  {vision, camera, disrupt, phenomenon, person, ...  \n16  {clearli, defin, ill, concept, metaphor, perce...  \n17  {subject, often, specif, make, photograph, som...  \n18  {vision, imag, eye, devic, border, attribut, c...  \n19  {imag, characterist, hard, undefin, recogn, sh...  \n20  {eye, colour, visual, happen, clear, mix, near...  \n21  {vision, imag, effect, make, affect, see, outl...  \n22   {visual, clear, effect, make, someth, see, hard}  \n23   {visual, clear, object, effect, see, way, allow}  \n24                    {confus, percept, visual, look}  \n25                                  {vision, distort}  \n26                   {condit, eye, correct, eyeglass}  \n27  {specif, object, defin, perceiv, percept, prop...  \n28                  {increas, effect, blind, distanc}  \n29    {given, imag, textur, lack, low, focu, qualiti}  ",
      "text/html": "<div>\n<style scoped>\n    .dataframe tbody tr th:only-of-type {\n        vertical-align: middle;\n    }\n\n    .dataframe tbody tr th {\n        vertical-align: top;\n    }\n\n    .dataframe thead th {\n        text-align: right;\n    }\n</style>\n<table border=\"1\" class=\"dataframe\">\n  <thead>\n    <tr style=\"text-align: right;\">\n      <th></th>\n      <th>door</th>\n      <th>ladybug</th>\n      <th>pain</th>\n      <th>blurriness</th>\n    </tr>\n  </thead>\n  <tbody>\n    <tr>\n      <th>0</th>\n      <td>{two, room, passag, use, construct, close, tem...</td>\n      <td>{insect, small, typic, spot, black, red, six, ...</td>\n      <td>{feel, mental, distress, physic}</td>\n      <td>{focu, sight}</td>\n    </tr>\n    <tr>\n      <th>1</th>\n      <td>{open, close}</td>\n      <td>{insect, cultur, mani, luck, wing, black, red,...</td>\n      <td>{hurt, physic, feel, bad, emot}</td>\n      <td>{absenc, shapeless, border, definit}</td>\n    </tr>\n    <tr>\n      <th>2</th>\n      <td>{door, object, let, hole, peopl, wall, two, en...</td>\n      <td>{insect, color, orang, black, red, dot, fli}</td>\n      <td>{fell, consciou, be, experi, suffer}</td>\n      <td>{ca, felt, border, clearli, sensat, someth, see}</td>\n    </tr>\n    <tr>\n      <th>3</th>\n      <td>{one, anoth, area, access, usabl}</td>\n      <td>{insect, small, red, back}</td>\n      <td>{live, describ, concept, suffer}</td>\n      <td>{sharp, lack}</td>\n    </tr>\n    <tr>\n      <th>4</th>\n      <td>{delimit, area, structur, access, allow}</td>\n      <td>{round, insect, fli, small}</td>\n      <td>{discomfort, feel, physic}</td>\n      <td>{clariti, characterist, precis, lack}</td>\n    </tr>\n    <tr>\n      <th>5</th>\n      <td>{object, use, block, passag, pass, move}</td>\n      <td>{insect, color, small, beatl, famili, tendenti...</td>\n      <td>{unpleas, sensat, burn}</td>\n      <td>{everyth, eye, sensat, blur, see}</td>\n    </tr>\n    <tr>\n      <th>6</th>\n      <td>{rotat, materi, push, made, wood, lock, handl,...</td>\n      <td>{insect, bring, small, luck, insectivor, pest,...</td>\n      <td>{felt, psycholog, sensat, creatur, natur, phys...</td>\n      <td>{inabl, whether, goal, conceptu, perceiv, phys...</td>\n    </tr>\n    <tr>\n      <th>7</th>\n      <td>{separ, object, wall, close, go, room, use, open}</td>\n      <td>{insect, cultur, bring, small, luck, black, re...</td>\n      <td>{caus, sad, injuri, pain, physic, feel, emot}</td>\n      <td>{vision, imag, eye, unfocus, memori, lack, bad}</td>\n    </tr>\n    <tr>\n      <th>8</th>\n      <td>{place, anoth, someth, open, access, order}</td>\n      <td>{insect, small, black, red, dot}</td>\n      <td>{sorrow, express, sentiment}</td>\n      <td>{clear, total, make, thant, see, bright, condit}</td>\n    </tr>\n    <tr>\n      <th>9</th>\n      <td>{access, room}</td>\n      <td>{insect, small, yellow, red, coat, dot}</td>\n      <td>{unpleas, sensat, result, exert, physic, emot}</td>\n      <td>{result, exert, physic, state, use, drug, conf...</td>\n    </tr>\n    <tr>\n      <th>10</th>\n      <td>{object, access, room, allow}</td>\n      <td>{insect, small, black, red, dot, fli, usual}</td>\n      <td>{sensat, unpleas, emot, physic}</td>\n      <td>{confus, sens}</td>\n    </tr>\n    <tr>\n      <th>11</th>\n      <td>{one, weather, present, well, enclos, small, l...</td>\n      <td>{insect, tini, consid, omen, red, coat, good, ...</td>\n      <td>{could, happen, either, light, cri, result, ph...</td>\n      <td>{happen, object, hard, ill, focu, photograph, ...</td>\n    </tr>\n    <tr>\n      <th>12</th>\n      <td>{insid, made, object, mechan, lock, unlock, pe...</td>\n      <td>{insect, fall, small, live, luck, human, plane...</td>\n      <td>{bring, sensat, physic, person, sore, emot, di...</td>\n      <td>{distanc, object, peopl, person, far, see, way...</td>\n    </tr>\n    <tr>\n      <th>13</th>\n      <td>{open, wall, close}</td>\n      <td>{insect, small, black, red, dot}</td>\n      <td>{caus, physic, feel, harm, emot}</td>\n      <td>{imag, clariti, visual, border, defin, absenc}</td>\n    </tr>\n    <tr>\n      <th>14</th>\n      <td>{barrier, mechan, room, block, access, allow}</td>\n      <td>{insect, black, red, spot}</td>\n      <td>{feel, unpleas, harm}</td>\n      <td>{blend, clariti, visual, lose, condit, detail,...</td>\n    </tr>\n    <tr>\n      <th>15</th>\n      <td>{let, peopl, enter, room, exit, way}</td>\n      <td>{insect, small, black, dot, back}</td>\n      <td>{sensat, uncomfort, emot, physic}</td>\n      <td>{vision, camera, disrupt, phenomenon, person, ...</td>\n    </tr>\n    <tr>\n      <th>16</th>\n      <td>{made, object, space, main, two, handl, usual,...</td>\n      <td>{insect, dot, harmless, luck, wing, character,...</td>\n      <td>{caus, uneasi, physic, feel, harm, emot}</td>\n      <td>{clearli, defin, ill, concept, metaphor, perce...</td>\n    </tr>\n    <tr>\n      <th>17</th>\n      <td>{place, object, enter, close, exit, open, allow}</td>\n      <td>{insect, color, bring, said, small, luck, char...</td>\n      <td>{feel, situat, tangibl}</td>\n      <td>{subject, often, specif, make, photograph, som...</td>\n    </tr>\n    <tr>\n      <th>18</th>\n      <td>{element, wall, room, block, passag, allow}</td>\n      <td>{insect, small, luck, link, round, black, red,...</td>\n      <td>{complex, brain, issu, physic, make, natur, fe...</td>\n      <td>{vision, imag, eye, devic, border, attribut, c...</td>\n    </tr>\n    <tr>\n      <th>19</th>\n      <td>{cross, place, object, limit, access}</td>\n      <td>{insect, color, small, character, black, red, ...</td>\n      <td>{associ, unpleas, emot, suffer}</td>\n      <td>{imag, characterist, hard, undefin, recogn, sh...</td>\n    </tr>\n    <tr>\n      <th>20</th>\n      <td>{hous, made, wood, lock, object, rectangular, ...</td>\n      <td>{insect, small, round, black, red, dot, fli, f...</td>\n      <td>{want, tell, felt, right, someth, harm, get, u...</td>\n      <td>{eye, colour, visual, happen, clear, mix, near...</td>\n    </tr>\n    <tr>\n      <th>21</th>\n      <td>{room, entranc, build, exit, space}</td>\n      <td>{small, bug, round, black, red, shape, spot}</td>\n      <td>{felt, sensat, physic, damag, someth, harm, re...</td>\n      <td>{vision, imag, effect, make, affect, see, outl...</td>\n    </tr>\n    <tr>\n      <th>22</th>\n      <td>{object, two, connect, allow, space}</td>\n      <td>{insect, color, small, character, black, red, ...</td>\n      <td>{feel, experi, caus, discomfort}</td>\n      <td>{visual, clear, effect, make, someth, see, hard}</td>\n    </tr>\n    <tr>\n      <th>23</th>\n      <td>{one, architectur, anoth, make, person, new, l...</td>\n      <td>{insect, bring, luck, person, fli}</td>\n      <td>{hurt, physic, someth, person, emot}</td>\n      <td>{visual, clear, object, effect, see, way, allow}</td>\n    </tr>\n    <tr>\n      <th>24</th>\n      <td>{build, room, entranc}</td>\n      <td>{insect, small, black, red, dot}</td>\n      <td>{sicken, sensat}</td>\n      <td>{confus, percept, visual, look}</td>\n    </tr>\n    <tr>\n      <th>25</th>\n      <td>{object, close, room, entranc, open}</td>\n      <td>{insect, red, back}</td>\n      <td>{feel, bad, emot, physic}</td>\n      <td>{vision, distort}</td>\n    </tr>\n    <tr>\n      <th>26</th>\n      <td>{lock, hous, entranc, object}</td>\n      <td>{insect, black, red, dot, back}</td>\n      <td>{get, feel, hurt}</td>\n      <td>{condit, eye, correct, eyeglass}</td>\n    </tr>\n    <tr>\n      <th>27</th>\n      <td>{point, object, physic, room, block, access, s...</td>\n      <td>{insect, small, wing, known, black, red, dot}</td>\n      <td>{sensat, hurt}</td>\n      <td>{specif, object, defin, perceiv, percept, prop...</td>\n    </tr>\n    <tr>\n      <th>28</th>\n      <td>{someth, go, open, allow}</td>\n      <td>{color, dot, bug}</td>\n      <td>{feel, bad}</td>\n      <td>{increas, effect, blind, distanc}</td>\n    </tr>\n    <tr>\n      <th>29</th>\n      <td>{built, blank, wall, area, structur, differ, u...</td>\n      <td>{insect, pattern, color, structur, red, fli, u...</td>\n      <td>{caus, sensat, physic, neg, mental, discomfort}</td>\n      <td>{given, imag, textur, lack, low, focu, qualiti}</td>\n    </tr>\n  </tbody>\n</table>\n</div>"
     },
     "execution_count": 3,
     "metadata": {},
     "output_type": "execute_result"
    }
   ],
   "source": [
    "data = pd.read_csv('TLN-definitions-23.csv', sep=';')\n",
    "data = data.applymap(lambda s: filter_words(set(word_tokenize(s))))\n",
    "data = data.applymap(lambda tokens: {stemmer.stem(t) for t in tokens})\n",
    "\n",
    "data"
   ],
   "metadata": {
    "collapsed": false,
    "ExecuteTime": {
     "end_time": "2023-05-29T10:44:08.411198Z",
     "start_time": "2023-05-29T10:44:07.905388Z"
    }
   }
  },
  {
   "cell_type": "code",
   "execution_count": 4,
   "outputs": [],
   "source": [
    "scores = []\n",
    "words = list(data.columns.values)\n",
    "for word in words:\n",
    "    word_scores = [similarity_score(len(def1.intersection(def2)), len(def1), len(def2))\n",
    "                   for def1 in data[word] for def2 in data[word] if def1 != def2]\n",
    "    scores.append(word_scores)"
   ],
   "metadata": {
    "collapsed": false,
    "ExecuteTime": {
     "end_time": "2023-05-29T10:44:08.450723Z",
     "start_time": "2023-05-29T10:44:08.393672Z"
    }
   }
  },
  {
   "cell_type": "code",
   "execution_count": 5,
   "outputs": [
    {
     "data": {
      "text/plain": "[0.23453733367526428,\n 0.5967102020921473,\n 0.2523792937586046,\n 0.08098364598364605]"
     },
     "execution_count": 5,
     "metadata": {},
     "output_type": "execute_result"
    }
   ],
   "source": [
    "[sum(word_scores) / len(word_scores) for word_scores in scores]"
   ],
   "metadata": {
    "collapsed": false,
    "ExecuteTime": {
     "end_time": "2023-05-29T10:44:08.493053Z",
     "start_time": "2023-05-29T10:44:08.460242Z"
    }
   }
  }
 ],
 "metadata": {
  "kernelspec": {
   "display_name": "Python 3",
   "language": "python",
   "name": "python3"
  },
  "language_info": {
   "codemirror_mode": {
    "name": "ipython",
    "version": 2
   },
   "file_extension": ".py",
   "mimetype": "text/x-python",
   "name": "python",
   "nbconvert_exporter": "python",
   "pygments_lexer": "ipython2",
   "version": "2.7.6"
  }
 },
 "nbformat": 4,
 "nbformat_minor": 0
}
