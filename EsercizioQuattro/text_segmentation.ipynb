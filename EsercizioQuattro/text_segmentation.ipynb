{
 "cells": [
  {
   "cell_type": "code",
   "execution_count": 1,
   "metadata": {
    "collapsed": true,
    "ExecuteTime": {
     "end_time": "2023-06-05T16:52:44.179651Z",
     "start_time": "2023-06-05T16:52:42.634007Z"
    }
   },
   "outputs": [],
   "source": [
    "from fz_text_seg import tokenization, lexical_score"
   ]
  },
  {
   "cell_type": "code",
   "execution_count": 12,
   "outputs": [
    {
     "data": {
      "text/plain": "18"
     },
     "execution_count": 12,
     "metadata": {},
     "output_type": "execute_result"
    }
   ],
   "source": [
    "text_tokens, unique_tokens, paragraphs = tokenization('corpus.txt', 13)\n",
    "len(text_tokens)"
   ],
   "metadata": {
    "collapsed": false,
    "ExecuteTime": {
     "end_time": "2023-06-05T16:54:54.510237Z",
     "start_time": "2023-06-05T16:54:54.328713Z"
    }
   }
  },
  {
   "cell_type": "code",
   "execution_count": 14,
   "outputs": [
    {
     "name": "stdout",
     "output_type": "stream",
     "text": [
      "[0. 0. 0. 0. 0.]\n",
      "[0.         0.03333333 0.03333333 0.03333333 0.03333333]\n",
      "[0.03333333 0.06814886 0.06814886 0.06814886 0.06814886]\n",
      "[0.03333333 0.06814886 0.06814886 0.06814886 0.06814886]\n",
      "[0.06814886 0.06814886 0.09701638 0.09701638 0.06368304]\n",
      "[0.06814886 0.06814886 0.09701638 0.09701638 0.06368304 0.02886751]\n",
      "[0.06814886 0.06814886 0.09701638 0.09701638 0.13034971 0.09553418\n",
      " 0.09553418]\n",
      "[0.06814886 0.06814886 0.09701638 0.09701638 0.13034971 0.12639485\n",
      " 0.12639485 0.09752734]\n",
      "[0.06814886 0.06814886 0.09701638 0.09701638 0.13034971 0.12639485\n",
      " 0.13834714 0.10947962 0.10947962]\n",
      "[0.04166667 0.08518608 0.08518608 0.12127047 0.07960381 0.11941773\n",
      " 0.15799356 0.13684953 0.19275123 0.10941789]\n",
      "[0.05555556 0.11358144 0.11358144 0.10613841 0.04811252 0.15922363\n",
      " 0.16254556 0.18246604 0.14589053 0.1590058  0.13908532]\n",
      "[0.         0.08333333 0.17037216 0.08703883 0.07216878 0.07216878\n",
      " 0.16666667 0.24381834 0.10703239 0.14168411 0.20862798 0.12909944]\n",
      "[0.         0.16666667 0.17407766 0.         0.14433757 0.\n",
      " 0.33333333 0.15430335 0.05976143 0.2236068  0.19364917 0.06454972\n",
      " 0.05976143]\n"
     ]
    },
    {
     "data": {
      "text/plain": "[0.0,\n 0.16666666666666666,\n 0.17407765595569785,\n 0.0,\n 0.14433756729740646,\n 0.0,\n 0.3333333333333333,\n 0.1543033499620919,\n 0.05976143046671968,\n 0.22360679774997896,\n 0.19364916731037085,\n 0.06454972243679027,\n 0.05976143046671968]"
     },
     "execution_count": 14,
     "metadata": {},
     "output_type": "execute_result"
    }
   ],
   "source": [
    "lex_score = lexical_score(text_tokens, unique_tokens, 5)\n",
    "lex_score"
   ],
   "metadata": {
    "collapsed": false,
    "ExecuteTime": {
     "end_time": "2023-06-05T16:55:11.434107Z",
     "start_time": "2023-06-05T16:55:11.421293Z"
    }
   }
  }
 ],
 "metadata": {
  "kernelspec": {
   "display_name": "Python 3",
   "language": "python",
   "name": "python3"
  },
  "language_info": {
   "codemirror_mode": {
    "name": "ipython",
    "version": 2
   },
   "file_extension": ".py",
   "mimetype": "text/x-python",
   "name": "python",
   "nbconvert_exporter": "python",
   "pygments_lexer": "ipython2",
   "version": "2.7.6"
  }
 },
 "nbformat": 4,
 "nbformat_minor": 0
}
