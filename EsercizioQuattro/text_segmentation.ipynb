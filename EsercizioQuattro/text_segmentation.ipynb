{
 "cells": [
  {
   "cell_type": "code",
   "execution_count": 23,
   "metadata": {
    "collapsed": true,
    "ExecuteTime": {
     "end_time": "2023-06-04T14:40:41.676875Z",
     "start_time": "2023-06-04T14:40:41.644617Z"
    }
   },
   "outputs": [],
   "source": [
    "from fz_text_seg import tokenization, lexical_score, getBoundaries"
   ]
  },
  {
   "cell_type": "code",
   "execution_count": 29,
   "outputs": [
    {
     "data": {
      "text/plain": "[55, 115]"
     },
     "execution_count": 29,
     "metadata": {},
     "output_type": "execute_result"
    }
   ],
   "source": [
    "text_tokens, unique_tokens, paragraphs = tokenization('corpus.txt', 6)\n",
    "paragraphs"
   ],
   "metadata": {
    "collapsed": false,
    "ExecuteTime": {
     "end_time": "2023-06-04T14:41:08.361377Z",
     "start_time": "2023-06-04T14:41:08.302575Z"
    }
   }
  },
  {
   "cell_type": "code",
   "execution_count": 30,
   "outputs": [
    {
     "data": {
      "text/plain": "[1.0,\n 0.944911182523068,\n 0.944911182523068,\n 0.9285714285714286,\n 0.7559289460184544,\n 0.5976143046671968,\n 0.9285714285714286,\n 0.944911182523068,\n 0.8366600265340756,\n 0.9285714285714286,\n 0.9258200997725514,\n 0.9258200997725514,\n 0.9258200997725514,\n 1.0,\n 0.9258200997725514,\n 0.816496580927726,\n 0.816496580927726,\n 0.944911182523068,\n 0.9486832980505138,\n 0.9486832980505138,\n 0.9486832980505138]"
     },
     "execution_count": 30,
     "metadata": {},
     "output_type": "execute_result"
    }
   ],
   "source": [
    "lex_score = lexical_score(text_tokens, unique_tokens, 3)\n",
    "lex_score"
   ],
   "metadata": {
    "collapsed": false,
    "ExecuteTime": {
     "end_time": "2023-06-04T14:41:10.139569Z",
     "start_time": "2023-06-04T14:41:10.131662Z"
    }
   }
  },
  {
   "cell_type": "code",
   "execution_count": 31,
   "outputs": [
    {
     "data": {
      "text/plain": "[]"
     },
     "execution_count": 31,
     "metadata": {},
     "output_type": "execute_result"
    }
   ],
   "source": [
    "getBoundaries(lex_score, paragraphs, 3)"
   ],
   "metadata": {
    "collapsed": false,
    "ExecuteTime": {
     "end_time": "2023-06-04T14:41:12.104825Z",
     "start_time": "2023-06-04T14:41:12.099482Z"
    }
   }
  }
 ],
 "metadata": {
  "kernelspec": {
   "display_name": "Python 3",
   "language": "python",
   "name": "python3"
  },
  "language_info": {
   "codemirror_mode": {
    "name": "ipython",
    "version": 2
   },
   "file_extension": ".py",
   "mimetype": "text/x-python",
   "name": "python",
   "nbconvert_exporter": "python",
   "pygments_lexer": "ipython2",
   "version": "2.7.6"
  }
 },
 "nbformat": 4,
 "nbformat_minor": 0
}
