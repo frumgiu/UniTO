{
 "cells": [
  {
   "cell_type": "code",
   "execution_count": 18,
   "metadata": {
    "collapsed": true,
    "ExecuteTime": {
     "end_time": "2023-06-04T14:36:45.515923Z",
     "start_time": "2023-06-04T14:36:45.482832Z"
    }
   },
   "outputs": [],
   "source": [
    "from fz_text_seg import tokenization, lexical_score, getBoundaries"
   ]
  },
  {
   "cell_type": "code",
   "execution_count": 19,
   "outputs": [
    {
     "data": {
      "text/plain": "[['cat', 'dog', 'appl', 'cat', 'dog', 'dog'],\n ['dog', 'appl', 'cat', 'dog', 'dog', 'cat'],\n ['appl', 'cat', 'dog', 'dog', 'cat'],\n ['cat', 'dog', 'dog', 'cat', 'lot'],\n ['dog', 'dog', 'cat', 'lot'],\n ['dog', 'cat', 'lot', 'cat'],\n ['cat', 'lot', 'cat', 'appl'],\n ['lot', 'cat', 'appl', 'anim'],\n ['lot', 'cat', 'appl', 'anim', 'bird'],\n ['cat', 'appl', 'anim', 'bird', 'anim'],\n ['cat', 'appl', 'anim', 'bird', 'anim', 'appl'],\n ['appl', 'anim', 'bird', 'anim', 'appl', 'banana'],\n ['anim', 'bird', 'anim', 'appl', 'banana', 'kiwi'],\n ['bird', 'anim', 'appl', 'banana', 'kiwi', 'appl'],\n ['anim', 'appl', 'banana', 'kiwi', 'appl', 'cat'],\n ['appl', 'banana', 'kiwi', 'appl', 'cat', 'banana'],\n ['banana', 'kiwi', 'appl', 'cat', 'banana', 'dog'],\n ['kiwi', 'appl', 'cat', 'banana', 'dog', 'bunch'],\n ['appl', 'cat', 'banana', 'dog', 'bunch'],\n ['cat', 'banana', 'dog', 'bunch', 'appl'],\n ['banana', 'dog', 'bunch', 'appl', 'fruit'],\n ['dog', 'bunch', 'appl', 'fruit', 'kiwi'],\n ['bunch', 'appl', 'fruit', 'kiwi', 'kiwi'],\n ['appl', 'fruit', 'kiwi', 'kiwi', 'ball'],\n ['appl', 'fruit', 'kiwi', 'kiwi', 'ball', 'ball'],\n ['fruit', 'kiwi', 'kiwi', 'ball', 'ball', 'hello'],\n ['kiwi', 'kiwi', 'ball', 'ball', 'hello'],\n ['kiwi', 'ball', 'ball', 'hello'],\n ['ball', 'ball', 'hello', 'giulia'],\n ['ball', 'hello', 'giulia', ','],\n ['hello', 'giulia', ',', 'dog']]"
     },
     "execution_count": 19,
     "metadata": {},
     "output_type": "execute_result"
    }
   ],
   "source": [
    "text_tokens, unique_tokens, paragraphs = tokenization('corpus.txt', 6)\n",
    "text_tokens"
   ],
   "metadata": {
    "collapsed": false,
    "ExecuteTime": {
     "end_time": "2023-06-04T14:36:45.614103Z",
     "start_time": "2023-06-04T14:36:45.503986Z"
    }
   }
  },
  {
   "cell_type": "code",
   "execution_count": 20,
   "outputs": [
    {
     "data": {
      "text/plain": "[69, 142]"
     },
     "execution_count": 20,
     "metadata": {},
     "output_type": "execute_result"
    }
   ],
   "source": [
    "paragraphs"
   ],
   "metadata": {
    "collapsed": false,
    "ExecuteTime": {
     "end_time": "2023-06-04T14:36:45.656856Z",
     "start_time": "2023-06-04T14:36:45.606672Z"
    }
   }
  },
  {
   "cell_type": "code",
   "execution_count": 21,
   "outputs": [
    {
     "data": {
      "text/plain": "[1.0,\n 0.8908708063747479,\n 0.816496580927726,\n 0.6804138174397717,\n 0.4082482904638631,\n 0.5477225575051661,\n 0.4629100498862757,\n 0.7905694150420948,\n 0.7071067811865475,\n 0.8017837257372732,\n 0.7826237921249264,\n 0.7826237921249264,\n 0.5590169943749475,\n 0.625,\n 0.7216878364870323,\n 0.7071067811865475,\n 0.7905694150420948,\n 0.7302967433402214,\n 0.6,\n 0.3380617018914066,\n 0.3380617018914066,\n 0.565685424949238,\n 0.5976143046671968,\n 0.7559289460184544,\n 0.7745966692414834,\n 0.6454972243679028,\n 0.5,\n 0.20412414523193154,\n 0.4082482904638631,\n 0.75]"
     },
     "execution_count": 21,
     "metadata": {},
     "output_type": "execute_result"
    }
   ],
   "source": [
    "lex_score = lexical_score(text_tokens, unique_tokens, 3)\n",
    "lex_score"
   ],
   "metadata": {
    "collapsed": false,
    "ExecuteTime": {
     "end_time": "2023-06-04T14:36:45.657666Z",
     "start_time": "2023-06-04T14:36:45.624118Z"
    }
   }
  },
  {
   "cell_type": "code",
   "execution_count": 22,
   "outputs": [
    {
     "data": {
      "text/plain": "[69]"
     },
     "execution_count": 22,
     "metadata": {},
     "output_type": "execute_result"
    }
   ],
   "source": [
    "getBoundaries(lex_score, paragraphs, 3)"
   ],
   "metadata": {
    "collapsed": false,
    "ExecuteTime": {
     "end_time": "2023-06-04T14:36:45.668869Z",
     "start_time": "2023-06-04T14:36:45.635791Z"
    }
   }
  }
 ],
 "metadata": {
  "kernelspec": {
   "display_name": "Python 3",
   "language": "python",
   "name": "python3"
  },
  "language_info": {
   "codemirror_mode": {
    "name": "ipython",
    "version": 2
   },
   "file_extension": ".py",
   "mimetype": "text/x-python",
   "name": "python",
   "nbconvert_exporter": "python",
   "pygments_lexer": "ipython2",
   "version": "2.7.6"
  }
 },
 "nbformat": 4,
 "nbformat_minor": 0
}
