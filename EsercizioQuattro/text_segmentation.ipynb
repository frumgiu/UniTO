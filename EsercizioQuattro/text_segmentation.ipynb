{
 "cells": [
  {
   "cell_type": "code",
   "execution_count": null,
   "metadata": {
    "collapsed": true
   },
   "outputs": [],
   "source": [
    "import nltk"
   ]
  },
  {
   "cell_type": "markdown",
   "source": [
    "# Algoritmo di TextTiling formato da tre parti\n",
    "## 1. Tokenization\n",
    "Divide il testo in **unità lessicali**. I token sono tutti trasformati in caratteri minuscoli e altrimenti, ridotti alla loro radice (se non sono stop-words e vengono rimosse). Il testo viene suddiviso in pseudo-sequenze di dimensione *w*, dette **sequenze token**.\n",
    "Le stop-words contribuiscono a comparare la dimensione della sequenza di token, ma non alla similarità tra blocchi.\n",
    "\n",
    "## 2. Calcolo Lexical Score\n",
    "Posso comparare la similarità di due blocchi guardando quante parole hanno in comune. Oppure posso usare un altro metodo dove assegno uno score di token-sequence gap in base a quante nuove parole trovo nell'intervallo a metà\n",
    "### 2a. Blocchi\n",
    "Raggruppo *k* token-sequences in un blocco, questo valore dovrebbe rappresentare la lunghezza media di un paragrafo.\n",
    "\n",
    "## 3. Identificazione confini\n",
    "Pre fare questo task assegno un depth score a ogni  gap di sequenze di token. Lo score corrisponde a quanto forte è il cambiamento dei blocchi di un gap, misurando la distanza da entrambe le punte al punto di minimo. E.g. depth score $a_1 = (y_{a1} - y_{a2}) + (y_{a3} - y_{a2})$"
   ],
   "metadata": {
    "collapsed": false
   }
  },
  {
   "cell_type": "code",
   "execution_count": null,
   "outputs": [],
   "source": [],
   "metadata": {
    "collapsed": false
   }
  }
 ],
 "metadata": {
  "kernelspec": {
   "display_name": "Python 3",
   "language": "python",
   "name": "python3"
  },
  "language_info": {
   "codemirror_mode": {
    "name": "ipython",
    "version": 2
   },
   "file_extension": ".py",
   "mimetype": "text/x-python",
   "name": "python",
   "nbconvert_exporter": "python",
   "pygments_lexer": "ipython2",
   "version": "2.7.6"
  }
 },
 "nbformat": 4,
 "nbformat_minor": 0
}
