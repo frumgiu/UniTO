{
 "cells": [
  {
   "cell_type": "code",
   "execution_count": 13,
   "metadata": {
    "collapsed": true,
    "ExecuteTime": {
     "end_time": "2023-06-09T13:27:13.330941Z",
     "start_time": "2023-06-09T13:27:12.902635Z"
    }
   },
   "outputs": [],
   "source": [
    "import json\n",
    "import re\n",
    "import pandas as pd\n",
    "from ranking import get_lemmas_len, get_hyponyms, get_frequencies, get_lemmas_len_avg\n",
    "from sklearn.tree import DecisionTreeClassifier"
   ]
  },
  {
   "cell_type": "markdown",
   "source": [
    "## Classificatore di basicness\n",
    "L'esercizio richiedeva di costruire un classificatore automatico binario per determinare se una parola è basic o avanzata.\n",
    "Il data set fornito è stato usato per allenare il classificatore binario. Nella cella seguente si trova l'apertura e la lettura di uno dei file, in particolare vengono estratti i synset e i valori assegnati dall'utente sulla basicness."
   ],
   "metadata": {
    "collapsed": false
   }
  },
  {
   "cell_type": "code",
   "execution_count": 14,
   "outputs": [],
   "source": [
    "with open('dataset_basic_advanced_TLN2023/1.json', 'r') as file:\n",
    "    contenuto_json = json.load(file)\n",
    "\n",
    "synset_target = [0 if answer == 'basic' else 1 for answer in contenuto_json['answers']]\n",
    "\n",
    "synset_values = re.findall(r\"Synset\\(.*?\\)\", str(contenuto_json['dataset']))\n",
    "synset_names = [synset_values[i].replace(\"Synset('\", \"\").replace(\"')\", \"\").split(\".\")[0] for i in range(0, len(synset_values))]"
   ],
   "metadata": {
    "collapsed": false,
    "ExecuteTime": {
     "end_time": "2023-06-09T13:27:13.334566Z",
     "start_time": "2023-06-09T13:27:12.916491Z"
    }
   }
  },
  {
   "cell_type": "markdown",
   "source": [
    "### Dati per il test\n",
    "Di seguito viene creata una lista di parole su cui testare il classificatore\n",
    "Come features per la classificazione sono stati usati:\n",
    "- La lunghezza del primo lemma del senso più frequente\n",
    "- La lunghezza media dei lemmi dei sensi\n",
    "- Il numero di iponimi dei sensi\n",
    "- La frequenza del primo lemma del senso più frequente\n",
    "\n",
    "Questi dati sono tutti prelevati da Wordnet.\n",
    "\n",
    "È stato fornito anche un vettore con lo score aspettato. Di seguito è stampato il DataFrame con i tre valori per ogni termine."
   ],
   "metadata": {
    "collapsed": false
   }
  },
  {
   "cell_type": "code",
   "execution_count": 15,
   "outputs": [
    {
     "data": {
      "text/plain": "          Synset  Lunghezza lemma  Lunghezza media lemmi  Numero iponimi   \n0            cat                3                 7.0435              12  \\\n1           rose                4                 5.6806              39   \n2          hello                5                 6.0000               0   \n3    serendipity               11                11.0000               0   \n4     positivity               10                12.7059               2   \n5            bye                3                 7.0588               0   \n6           girl                4                 7.1333              33   \n7      eccentric                9                 7.7143               2   \n8  sophisticated               12                10.2143               0   \n9          house                5                 6.7586              69   \n\n   Frequenza  \n0         18  \n1          5  \n2          1  \n3          0  \n4          0  \n5          0  \n6         80  \n7          3  \n8          0  \n9        157  ",
      "text/html": "<div>\n<style scoped>\n    .dataframe tbody tr th:only-of-type {\n        vertical-align: middle;\n    }\n\n    .dataframe tbody tr th {\n        vertical-align: top;\n    }\n\n    .dataframe thead th {\n        text-align: right;\n    }\n</style>\n<table border=\"1\" class=\"dataframe\">\n  <thead>\n    <tr style=\"text-align: right;\">\n      <th></th>\n      <th>Synset</th>\n      <th>Lunghezza lemma</th>\n      <th>Lunghezza media lemmi</th>\n      <th>Numero iponimi</th>\n      <th>Frequenza</th>\n    </tr>\n  </thead>\n  <tbody>\n    <tr>\n      <th>0</th>\n      <td>cat</td>\n      <td>3</td>\n      <td>7.0435</td>\n      <td>12</td>\n      <td>18</td>\n    </tr>\n    <tr>\n      <th>1</th>\n      <td>rose</td>\n      <td>4</td>\n      <td>5.6806</td>\n      <td>39</td>\n      <td>5</td>\n    </tr>\n    <tr>\n      <th>2</th>\n      <td>hello</td>\n      <td>5</td>\n      <td>6.0000</td>\n      <td>0</td>\n      <td>1</td>\n    </tr>\n    <tr>\n      <th>3</th>\n      <td>serendipity</td>\n      <td>11</td>\n      <td>11.0000</td>\n      <td>0</td>\n      <td>0</td>\n    </tr>\n    <tr>\n      <th>4</th>\n      <td>positivity</td>\n      <td>10</td>\n      <td>12.7059</td>\n      <td>2</td>\n      <td>0</td>\n    </tr>\n    <tr>\n      <th>5</th>\n      <td>bye</td>\n      <td>3</td>\n      <td>7.0588</td>\n      <td>0</td>\n      <td>0</td>\n    </tr>\n    <tr>\n      <th>6</th>\n      <td>girl</td>\n      <td>4</td>\n      <td>7.1333</td>\n      <td>33</td>\n      <td>80</td>\n    </tr>\n    <tr>\n      <th>7</th>\n      <td>eccentric</td>\n      <td>9</td>\n      <td>7.7143</td>\n      <td>2</td>\n      <td>3</td>\n    </tr>\n    <tr>\n      <th>8</th>\n      <td>sophisticated</td>\n      <td>12</td>\n      <td>10.2143</td>\n      <td>0</td>\n      <td>0</td>\n    </tr>\n    <tr>\n      <th>9</th>\n      <td>house</td>\n      <td>5</td>\n      <td>6.7586</td>\n      <td>69</td>\n      <td>157</td>\n    </tr>\n  </tbody>\n</table>\n</div>"
     },
     "execution_count": 15,
     "metadata": {},
     "output_type": "execute_result"
    }
   ],
   "source": [
    "name_test = ['cat', 'rose', 'hello', 'serendipity', 'positivity', 'bye', 'girl', 'eccentric', 'sophisticated', 'house']\n",
    "lemma_test = get_lemmas_len(name_test)\n",
    "lemmi_avg_test = get_lemmas_len_avg(name_test)\n",
    "hyp_test = get_hyponyms(name_test)\n",
    "freq_test = get_frequencies(name_test)\n",
    "y_test = [0, 0, 0, 1, 1, 0, 0, 1, 1,0]\n",
    "\n",
    "df_test = pd.DataFrame({'Synset':name_test, 'Lunghezza lemma': lemma_test, 'Lunghezza media lemmi': lemmi_avg_test, 'Numero iponimi': hyp_test, 'Frequenza': freq_test})\n",
    "\n",
    "df_test"
   ],
   "metadata": {
    "collapsed": false,
    "ExecuteTime": {
     "end_time": "2023-06-09T13:27:13.335839Z",
     "start_time": "2023-06-09T13:27:13.019937Z"
    }
   }
  },
  {
   "cell_type": "markdown",
   "source": [
    "### Training\n",
    "Di seguito vengono calcolate le tre liste di valori per le parole estratte dal file e mostrati in tabella. Dopo diche viene creato il classificatore da quei dati."
   ],
   "metadata": {
    "collapsed": false
   }
  },
  {
   "cell_type": "code",
   "execution_count": 16,
   "outputs": [
    {
     "data": {
      "text/plain": "                         Synset  Lunghezza lemma  Lunghezza media lemmi   \n0                           war                3                 5.1250  \\\n1                       fiefdom                7                 7.0000   \n2                           bed                3                 6.7143   \n3    return_on_invested_capital               26                16.3333   \n4                       texture                7                 6.6667   \n..                          ...              ...                    ...   \n499                     reading                7                 6.6923   \n500           sanctimoniousness               17                13.5000   \n501                  chalcedony               10                 9.5000   \n502                    stopcock                8                 6.6667   \n503                  backpacker               10                 8.0000   \n\n     Numero iponimi  Frequenza  \n0                14         78  \n1                 0          0  \n2                47         51  \n3                 0          0  \n4                 5         13  \n..              ...        ...  \n499              28         22  \n500               0          0  \n501               7          0  \n502               0          0  \n503               0          0  \n\n[504 rows x 5 columns]",
      "text/html": "<div>\n<style scoped>\n    .dataframe tbody tr th:only-of-type {\n        vertical-align: middle;\n    }\n\n    .dataframe tbody tr th {\n        vertical-align: top;\n    }\n\n    .dataframe thead th {\n        text-align: right;\n    }\n</style>\n<table border=\"1\" class=\"dataframe\">\n  <thead>\n    <tr style=\"text-align: right;\">\n      <th></th>\n      <th>Synset</th>\n      <th>Lunghezza lemma</th>\n      <th>Lunghezza media lemmi</th>\n      <th>Numero iponimi</th>\n      <th>Frequenza</th>\n    </tr>\n  </thead>\n  <tbody>\n    <tr>\n      <th>0</th>\n      <td>war</td>\n      <td>3</td>\n      <td>5.1250</td>\n      <td>14</td>\n      <td>78</td>\n    </tr>\n    <tr>\n      <th>1</th>\n      <td>fiefdom</td>\n      <td>7</td>\n      <td>7.0000</td>\n      <td>0</td>\n      <td>0</td>\n    </tr>\n    <tr>\n      <th>2</th>\n      <td>bed</td>\n      <td>3</td>\n      <td>6.7143</td>\n      <td>47</td>\n      <td>51</td>\n    </tr>\n    <tr>\n      <th>3</th>\n      <td>return_on_invested_capital</td>\n      <td>26</td>\n      <td>16.3333</td>\n      <td>0</td>\n      <td>0</td>\n    </tr>\n    <tr>\n      <th>4</th>\n      <td>texture</td>\n      <td>7</td>\n      <td>6.6667</td>\n      <td>5</td>\n      <td>13</td>\n    </tr>\n    <tr>\n      <th>...</th>\n      <td>...</td>\n      <td>...</td>\n      <td>...</td>\n      <td>...</td>\n      <td>...</td>\n    </tr>\n    <tr>\n      <th>499</th>\n      <td>reading</td>\n      <td>7</td>\n      <td>6.6923</td>\n      <td>28</td>\n      <td>22</td>\n    </tr>\n    <tr>\n      <th>500</th>\n      <td>sanctimoniousness</td>\n      <td>17</td>\n      <td>13.5000</td>\n      <td>0</td>\n      <td>0</td>\n    </tr>\n    <tr>\n      <th>501</th>\n      <td>chalcedony</td>\n      <td>10</td>\n      <td>9.5000</td>\n      <td>7</td>\n      <td>0</td>\n    </tr>\n    <tr>\n      <th>502</th>\n      <td>stopcock</td>\n      <td>8</td>\n      <td>6.6667</td>\n      <td>0</td>\n      <td>0</td>\n    </tr>\n    <tr>\n      <th>503</th>\n      <td>backpacker</td>\n      <td>10</td>\n      <td>8.0000</td>\n      <td>0</td>\n      <td>0</td>\n    </tr>\n  </tbody>\n</table>\n<p>504 rows × 5 columns</p>\n</div>"
     },
     "execution_count": 16,
     "metadata": {},
     "output_type": "execute_result"
    }
   ],
   "source": [
    "lemma_train = get_lemmas_len(synset_names)\n",
    "lemmi_avg_train = get_lemmas_len_avg(synset_names)\n",
    "hyp_train = get_hyponyms(synset_names)\n",
    "freq_train = get_frequencies(synset_names)\n",
    "\n",
    "df = pd.DataFrame({'Synset':synset_names, 'Lunghezza lemma': lemma_train, 'Lunghezza media lemmi': lemmi_avg_train,'Numero iponimi': hyp_train, 'Frequenza': freq_train})\n",
    "\n",
    "df"
   ],
   "metadata": {
    "collapsed": false,
    "ExecuteTime": {
     "end_time": "2023-06-09T13:27:13.779658Z",
     "start_time": "2023-06-09T13:27:13.123959Z"
    }
   }
  },
  {
   "cell_type": "code",
   "execution_count": 17,
   "outputs": [
    {
     "data": {
      "text/plain": "DecisionTreeClassifier(random_state=0)",
      "text/html": "<style>#sk-container-id-3 {color: black;background-color: white;}#sk-container-id-3 pre{padding: 0;}#sk-container-id-3 div.sk-toggleable {background-color: white;}#sk-container-id-3 label.sk-toggleable__label {cursor: pointer;display: block;width: 100%;margin-bottom: 0;padding: 0.3em;box-sizing: border-box;text-align: center;}#sk-container-id-3 label.sk-toggleable__label-arrow:before {content: \"▸\";float: left;margin-right: 0.25em;color: #696969;}#sk-container-id-3 label.sk-toggleable__label-arrow:hover:before {color: black;}#sk-container-id-3 div.sk-estimator:hover label.sk-toggleable__label-arrow:before {color: black;}#sk-container-id-3 div.sk-toggleable__content {max-height: 0;max-width: 0;overflow: hidden;text-align: left;background-color: #f0f8ff;}#sk-container-id-3 div.sk-toggleable__content pre {margin: 0.2em;color: black;border-radius: 0.25em;background-color: #f0f8ff;}#sk-container-id-3 input.sk-toggleable__control:checked~div.sk-toggleable__content {max-height: 200px;max-width: 100%;overflow: auto;}#sk-container-id-3 input.sk-toggleable__control:checked~label.sk-toggleable__label-arrow:before {content: \"▾\";}#sk-container-id-3 div.sk-estimator input.sk-toggleable__control:checked~label.sk-toggleable__label {background-color: #d4ebff;}#sk-container-id-3 div.sk-label input.sk-toggleable__control:checked~label.sk-toggleable__label {background-color: #d4ebff;}#sk-container-id-3 input.sk-hidden--visually {border: 0;clip: rect(1px 1px 1px 1px);clip: rect(1px, 1px, 1px, 1px);height: 1px;margin: -1px;overflow: hidden;padding: 0;position: absolute;width: 1px;}#sk-container-id-3 div.sk-estimator {font-family: monospace;background-color: #f0f8ff;border: 1px dotted black;border-radius: 0.25em;box-sizing: border-box;margin-bottom: 0.5em;}#sk-container-id-3 div.sk-estimator:hover {background-color: #d4ebff;}#sk-container-id-3 div.sk-parallel-item::after {content: \"\";width: 100%;border-bottom: 1px solid gray;flex-grow: 1;}#sk-container-id-3 div.sk-label:hover label.sk-toggleable__label {background-color: #d4ebff;}#sk-container-id-3 div.sk-serial::before {content: \"\";position: absolute;border-left: 1px solid gray;box-sizing: border-box;top: 0;bottom: 0;left: 50%;z-index: 0;}#sk-container-id-3 div.sk-serial {display: flex;flex-direction: column;align-items: center;background-color: white;padding-right: 0.2em;padding-left: 0.2em;position: relative;}#sk-container-id-3 div.sk-item {position: relative;z-index: 1;}#sk-container-id-3 div.sk-parallel {display: flex;align-items: stretch;justify-content: center;background-color: white;position: relative;}#sk-container-id-3 div.sk-item::before, #sk-container-id-3 div.sk-parallel-item::before {content: \"\";position: absolute;border-left: 1px solid gray;box-sizing: border-box;top: 0;bottom: 0;left: 50%;z-index: -1;}#sk-container-id-3 div.sk-parallel-item {display: flex;flex-direction: column;z-index: 1;position: relative;background-color: white;}#sk-container-id-3 div.sk-parallel-item:first-child::after {align-self: flex-end;width: 50%;}#sk-container-id-3 div.sk-parallel-item:last-child::after {align-self: flex-start;width: 50%;}#sk-container-id-3 div.sk-parallel-item:only-child::after {width: 0;}#sk-container-id-3 div.sk-dashed-wrapped {border: 1px dashed gray;margin: 0 0.4em 0.5em 0.4em;box-sizing: border-box;padding-bottom: 0.4em;background-color: white;}#sk-container-id-3 div.sk-label label {font-family: monospace;font-weight: bold;display: inline-block;line-height: 1.2em;}#sk-container-id-3 div.sk-label-container {text-align: center;}#sk-container-id-3 div.sk-container {/* jupyter's `normalize.less` sets `[hidden] { display: none; }` but bootstrap.min.css set `[hidden] { display: none !important; }` so we also need the `!important` here to be able to override the default hidden behavior on the sphinx rendered scikit-learn.org. See: https://github.com/scikit-learn/scikit-learn/issues/21755 */display: inline-block !important;position: relative;}#sk-container-id-3 div.sk-text-repr-fallback {display: none;}</style><div id=\"sk-container-id-3\" class=\"sk-top-container\"><div class=\"sk-text-repr-fallback\"><pre>DecisionTreeClassifier(random_state=0)</pre><b>In a Jupyter environment, please rerun this cell to show the HTML representation or trust the notebook. <br />On GitHub, the HTML representation is unable to render, please try loading this page with nbviewer.org.</b></div><div class=\"sk-container\" hidden><div class=\"sk-item\"><div class=\"sk-estimator sk-toggleable\"><input class=\"sk-toggleable__control sk-hidden--visually\" id=\"sk-estimator-id-3\" type=\"checkbox\" checked><label for=\"sk-estimator-id-3\" class=\"sk-toggleable__label sk-toggleable__label-arrow\">DecisionTreeClassifier</label><div class=\"sk-toggleable__content\"><pre>DecisionTreeClassifier(random_state=0)</pre></div></div></div></div></div>"
     },
     "execution_count": 17,
     "metadata": {},
     "output_type": "execute_result"
    }
   ],
   "source": [
    "classifier = DecisionTreeClassifier(random_state=0)\n",
    "classifier.fit(df[['Lunghezza media lemmi', 'Numero iponimi', 'Frequenza']], synset_target)"
   ],
   "metadata": {
    "collapsed": false,
    "ExecuteTime": {
     "end_time": "2023-06-09T13:27:13.987040Z",
     "start_time": "2023-06-09T13:27:13.781241Z"
    }
   }
  },
  {
   "cell_type": "code",
   "execution_count": 18,
   "outputs": [
    {
     "data": {
      "text/plain": "DecisionTreeClassifier(random_state=0)",
      "text/html": "<style>#sk-container-id-4 {color: black;background-color: white;}#sk-container-id-4 pre{padding: 0;}#sk-container-id-4 div.sk-toggleable {background-color: white;}#sk-container-id-4 label.sk-toggleable__label {cursor: pointer;display: block;width: 100%;margin-bottom: 0;padding: 0.3em;box-sizing: border-box;text-align: center;}#sk-container-id-4 label.sk-toggleable__label-arrow:before {content: \"▸\";float: left;margin-right: 0.25em;color: #696969;}#sk-container-id-4 label.sk-toggleable__label-arrow:hover:before {color: black;}#sk-container-id-4 div.sk-estimator:hover label.sk-toggleable__label-arrow:before {color: black;}#sk-container-id-4 div.sk-toggleable__content {max-height: 0;max-width: 0;overflow: hidden;text-align: left;background-color: #f0f8ff;}#sk-container-id-4 div.sk-toggleable__content pre {margin: 0.2em;color: black;border-radius: 0.25em;background-color: #f0f8ff;}#sk-container-id-4 input.sk-toggleable__control:checked~div.sk-toggleable__content {max-height: 200px;max-width: 100%;overflow: auto;}#sk-container-id-4 input.sk-toggleable__control:checked~label.sk-toggleable__label-arrow:before {content: \"▾\";}#sk-container-id-4 div.sk-estimator input.sk-toggleable__control:checked~label.sk-toggleable__label {background-color: #d4ebff;}#sk-container-id-4 div.sk-label input.sk-toggleable__control:checked~label.sk-toggleable__label {background-color: #d4ebff;}#sk-container-id-4 input.sk-hidden--visually {border: 0;clip: rect(1px 1px 1px 1px);clip: rect(1px, 1px, 1px, 1px);height: 1px;margin: -1px;overflow: hidden;padding: 0;position: absolute;width: 1px;}#sk-container-id-4 div.sk-estimator {font-family: monospace;background-color: #f0f8ff;border: 1px dotted black;border-radius: 0.25em;box-sizing: border-box;margin-bottom: 0.5em;}#sk-container-id-4 div.sk-estimator:hover {background-color: #d4ebff;}#sk-container-id-4 div.sk-parallel-item::after {content: \"\";width: 100%;border-bottom: 1px solid gray;flex-grow: 1;}#sk-container-id-4 div.sk-label:hover label.sk-toggleable__label {background-color: #d4ebff;}#sk-container-id-4 div.sk-serial::before {content: \"\";position: absolute;border-left: 1px solid gray;box-sizing: border-box;top: 0;bottom: 0;left: 50%;z-index: 0;}#sk-container-id-4 div.sk-serial {display: flex;flex-direction: column;align-items: center;background-color: white;padding-right: 0.2em;padding-left: 0.2em;position: relative;}#sk-container-id-4 div.sk-item {position: relative;z-index: 1;}#sk-container-id-4 div.sk-parallel {display: flex;align-items: stretch;justify-content: center;background-color: white;position: relative;}#sk-container-id-4 div.sk-item::before, #sk-container-id-4 div.sk-parallel-item::before {content: \"\";position: absolute;border-left: 1px solid gray;box-sizing: border-box;top: 0;bottom: 0;left: 50%;z-index: -1;}#sk-container-id-4 div.sk-parallel-item {display: flex;flex-direction: column;z-index: 1;position: relative;background-color: white;}#sk-container-id-4 div.sk-parallel-item:first-child::after {align-self: flex-end;width: 50%;}#sk-container-id-4 div.sk-parallel-item:last-child::after {align-self: flex-start;width: 50%;}#sk-container-id-4 div.sk-parallel-item:only-child::after {width: 0;}#sk-container-id-4 div.sk-dashed-wrapped {border: 1px dashed gray;margin: 0 0.4em 0.5em 0.4em;box-sizing: border-box;padding-bottom: 0.4em;background-color: white;}#sk-container-id-4 div.sk-label label {font-family: monospace;font-weight: bold;display: inline-block;line-height: 1.2em;}#sk-container-id-4 div.sk-label-container {text-align: center;}#sk-container-id-4 div.sk-container {/* jupyter's `normalize.less` sets `[hidden] { display: none; }` but bootstrap.min.css set `[hidden] { display: none !important; }` so we also need the `!important` here to be able to override the default hidden behavior on the sphinx rendered scikit-learn.org. See: https://github.com/scikit-learn/scikit-learn/issues/21755 */display: inline-block !important;position: relative;}#sk-container-id-4 div.sk-text-repr-fallback {display: none;}</style><div id=\"sk-container-id-4\" class=\"sk-top-container\"><div class=\"sk-text-repr-fallback\"><pre>DecisionTreeClassifier(random_state=0)</pre><b>In a Jupyter environment, please rerun this cell to show the HTML representation or trust the notebook. <br />On GitHub, the HTML representation is unable to render, please try loading this page with nbviewer.org.</b></div><div class=\"sk-container\" hidden><div class=\"sk-item\"><div class=\"sk-estimator sk-toggleable\"><input class=\"sk-toggleable__control sk-hidden--visually\" id=\"sk-estimator-id-4\" type=\"checkbox\" checked><label for=\"sk-estimator-id-4\" class=\"sk-toggleable__label sk-toggleable__label-arrow\">DecisionTreeClassifier</label><div class=\"sk-toggleable__content\"><pre>DecisionTreeClassifier(random_state=0)</pre></div></div></div></div></div>"
     },
     "execution_count": 18,
     "metadata": {},
     "output_type": "execute_result"
    }
   ],
   "source": [
    "classifier_due = DecisionTreeClassifier(random_state=0)\n",
    "classifier_due.fit(df[['Lunghezza lemma', 'Numero iponimi', 'Frequenza']], synset_target)"
   ],
   "metadata": {
    "collapsed": false,
    "ExecuteTime": {
     "end_time": "2023-06-09T13:27:13.987823Z",
     "start_time": "2023-06-09T13:27:13.829555Z"
    }
   }
  },
  {
   "cell_type": "code",
   "execution_count": 19,
   "outputs": [
    {
     "name": "stdout",
     "output_type": "stream",
     "text": [
      "Valore di accuratezza del risultato: 0.9762\n"
     ]
    }
   ],
   "source": [
    "v = classifier.score(df[['Lunghezza media lemmi', 'Numero iponimi', 'Frequenza']], synset_target)\n",
    "print('Valore di accuratezza del risultato:', round(v, 4))"
   ],
   "metadata": {
    "collapsed": false,
    "ExecuteTime": {
     "end_time": "2023-06-09T13:27:13.988566Z",
     "start_time": "2023-06-09T13:27:13.871409Z"
    }
   }
  },
  {
   "cell_type": "code",
   "execution_count": 20,
   "outputs": [
    {
     "name": "stdout",
     "output_type": "stream",
     "text": [
      "Valore di accuratezza del risultato: 0.9583\n"
     ]
    }
   ],
   "source": [
    "v_due = classifier_due.score(df[['Lunghezza lemma', 'Numero iponimi', 'Frequenza']], synset_target)\n",
    "print('Valore di accuratezza del risultato:', round(v_due, 4))"
   ],
   "metadata": {
    "collapsed": false,
    "ExecuteTime": {
     "end_time": "2023-06-09T13:27:14.102182Z",
     "start_time": "2023-06-09T13:27:13.906920Z"
    }
   }
  },
  {
   "cell_type": "markdown",
   "source": [
    "### Test\n",
    "Il classificatore viene usato per fare predizione sul valore di basicness dei termini di test.\n",
    "Il risultato viene stampato sotto in un array di 0 e 1, inoltre nell'ultima cella viene anche calcolato lo score di accuratezza del risultato ottenuto."
   ],
   "metadata": {
    "collapsed": false
   }
  },
  {
   "cell_type": "code",
   "execution_count": 21,
   "outputs": [
    {
     "data": {
      "text/plain": "array([0, 0, 1, 1, 1, 1, 0, 0, 1, 0])"
     },
     "execution_count": 21,
     "metadata": {},
     "output_type": "execute_result"
    }
   ],
   "source": [
    "y = classifier.predict(df_test[['Lunghezza media lemmi', 'Numero iponimi', 'Frequenza']])\n",
    "y"
   ],
   "metadata": {
    "collapsed": false,
    "ExecuteTime": {
     "end_time": "2023-06-09T13:27:14.104228Z",
     "start_time": "2023-06-09T13:27:13.940486Z"
    }
   }
  },
  {
   "cell_type": "code",
   "execution_count": 22,
   "outputs": [
    {
     "name": "stdout",
     "output_type": "stream",
     "text": [
      "Valore di accuratezza del risultato: 0.7\n"
     ]
    }
   ],
   "source": [
    "v = classifier.score(df_test[['Lunghezza media lemmi', 'Numero iponimi', 'Frequenza']], y_test)\n",
    "print('Valore di accuratezza del risultato:', round(v, 4))"
   ],
   "metadata": {
    "collapsed": false,
    "ExecuteTime": {
     "end_time": "2023-06-09T13:27:14.290906Z",
     "start_time": "2023-06-09T13:27:14.000785Z"
    }
   }
  },
  {
   "cell_type": "code",
   "execution_count": 23,
   "outputs": [
    {
     "data": {
      "text/plain": "array([0, 0, 1, 1, 1, 1, 0, 0, 1, 0])"
     },
     "execution_count": 23,
     "metadata": {},
     "output_type": "execute_result"
    }
   ],
   "source": [
    "y_due = classifier_due.predict(df_test[['Lunghezza lemma', 'Numero iponimi', 'Frequenza']])\n",
    "y"
   ],
   "metadata": {
    "collapsed": false,
    "ExecuteTime": {
     "end_time": "2023-06-09T13:27:14.341470Z",
     "start_time": "2023-06-09T13:27:14.024369Z"
    }
   }
  },
  {
   "cell_type": "code",
   "execution_count": 24,
   "outputs": [
    {
     "name": "stdout",
     "output_type": "stream",
     "text": [
      "Valore di accuratezza del risultato: 0.8\n"
     ]
    }
   ],
   "source": [
    "v = classifier_due.score(df_test[['Lunghezza lemma', 'Numero iponimi', 'Frequenza']], y_test)\n",
    "print('Valore di accuratezza del risultato:', round(v, 4))"
   ],
   "metadata": {
    "collapsed": false,
    "ExecuteTime": {
     "end_time": "2023-06-09T13:27:14.343116Z",
     "start_time": "2023-06-09T13:27:14.057110Z"
    }
   }
  }
 ],
 "metadata": {
  "kernelspec": {
   "display_name": "Python 3",
   "language": "python",
   "name": "python3"
  },
  "language_info": {
   "codemirror_mode": {
    "name": "ipython",
    "version": 2
   },
   "file_extension": ".py",
   "mimetype": "text/x-python",
   "name": "python",
   "nbconvert_exporter": "python",
   "pygments_lexer": "ipython2",
   "version": "2.7.6"
  }
 },
 "nbformat": 4,
 "nbformat_minor": 0
}
