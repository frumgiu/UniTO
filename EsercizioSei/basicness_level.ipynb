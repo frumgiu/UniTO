{
 "cells": [
  {
   "cell_type": "code",
   "execution_count": 1,
   "metadata": {
    "collapsed": true,
    "ExecuteTime": {
     "end_time": "2023-06-06T21:59:28.419550Z",
     "start_time": "2023-06-06T21:59:25.517231Z"
    }
   },
   "outputs": [],
   "source": [
    "import json\n",
    "import re\n",
    "import pandas as pd\n",
    "from nltk.corpus import wordnet as wn"
   ]
  },
  {
   "cell_type": "code",
   "execution_count": 2,
   "outputs": [],
   "source": [
    "with open('dataset_basic_advanced_TLN2023/1.json', 'r') as file:\n",
    "    contenuto_json = json.load(file)\n",
    "\n",
    "synset_values = re.findall(r\"Synset\\('.*?'\\)\", str(contenuto_json['dataset']))\n",
    "synset_names = [synset_values[i].replace(\"Synset('\", \"\").replace(\"')\", \"\") for i in range(0, len(synset_values))]"
   ],
   "metadata": {
    "collapsed": false,
    "ExecuteTime": {
     "end_time": "2023-06-06T21:59:28.439273Z",
     "start_time": "2023-06-06T21:59:28.428051Z"
    }
   }
  },
  {
   "cell_type": "code",
   "execution_count": 13,
   "outputs": [],
   "source": [
    "def num_hyponyms(s):\n",
    "    return len(s.hyponyms())\n",
    "\n",
    "def distance_from_root(s):\n",
    "    return s.max_depth()\n",
    "\n",
    "def lemma_len(s):\n",
    "    lemma_list = s.lemmas()\n",
    "    return len(lemma_list[0].name())\n",
    "\n",
    "def basicness_score(s):\n",
    "    return (num_hyponyms(s) + 1) / (lemma_len(s))"
   ],
   "metadata": {
    "collapsed": false,
    "ExecuteTime": {
     "end_time": "2023-06-06T22:18:49.484938Z",
     "start_time": "2023-06-06T22:18:49.450321Z"
    }
   }
  },
  {
   "cell_type": "code",
   "execution_count": 14,
   "outputs": [],
   "source": [
    "scores = []\n",
    "for i in range(0, len(synset_names)):\n",
    "    synset = wn.synset(synset_names[i])\n",
    "    scores.append(round(basicness_score(synset), 6))"
   ],
   "metadata": {
    "collapsed": false,
    "ExecuteTime": {
     "end_time": "2023-06-06T22:18:50.603456Z",
     "start_time": "2023-06-06T22:18:50.579406Z"
    }
   }
  },
  {
   "cell_type": "code",
   "execution_count": 10,
   "outputs": [],
   "source": [
    "df = pd.DataFrame({'Synset':synset_names, 'Basicness score': scores})"
   ],
   "metadata": {
    "collapsed": false,
    "ExecuteTime": {
     "end_time": "2023-06-06T22:17:41.193139Z",
     "start_time": "2023-06-06T22:17:41.176958Z"
    }
   }
  },
  {
   "cell_type": "code",
   "execution_count": 11,
   "outputs": [
    {
     "data": {
      "text/plain": "                              Synset  Basicness score\n0                           war.n.01         0.083333\n1                       fiefdom.n.01         0.142857\n2                           bed.n.03         0.142857\n3    return_on_invested_capital.n.01         0.038462\n4                       texture.n.02         0.142857\n..                               ...              ...\n499                     reading.n.03         0.111111\n500           sanctimoniousness.n.01         0.058824\n501                  chalcedony.n.01         0.058824\n502                    stopcock.n.01         0.125000\n503                  backpacker.n.01         0.100000\n\n[504 rows x 2 columns]",
      "text/html": "<div>\n<style scoped>\n    .dataframe tbody tr th:only-of-type {\n        vertical-align: middle;\n    }\n\n    .dataframe tbody tr th {\n        vertical-align: top;\n    }\n\n    .dataframe thead th {\n        text-align: right;\n    }\n</style>\n<table border=\"1\" class=\"dataframe\">\n  <thead>\n    <tr style=\"text-align: right;\">\n      <th></th>\n      <th>Synset</th>\n      <th>Basicness score</th>\n    </tr>\n  </thead>\n  <tbody>\n    <tr>\n      <th>0</th>\n      <td>war.n.01</td>\n      <td>0.083333</td>\n    </tr>\n    <tr>\n      <th>1</th>\n      <td>fiefdom.n.01</td>\n      <td>0.142857</td>\n    </tr>\n    <tr>\n      <th>2</th>\n      <td>bed.n.03</td>\n      <td>0.142857</td>\n    </tr>\n    <tr>\n      <th>3</th>\n      <td>return_on_invested_capital.n.01</td>\n      <td>0.038462</td>\n    </tr>\n    <tr>\n      <th>4</th>\n      <td>texture.n.02</td>\n      <td>0.142857</td>\n    </tr>\n    <tr>\n      <th>...</th>\n      <td>...</td>\n      <td>...</td>\n    </tr>\n    <tr>\n      <th>499</th>\n      <td>reading.n.03</td>\n      <td>0.111111</td>\n    </tr>\n    <tr>\n      <th>500</th>\n      <td>sanctimoniousness.n.01</td>\n      <td>0.058824</td>\n    </tr>\n    <tr>\n      <th>501</th>\n      <td>chalcedony.n.01</td>\n      <td>0.058824</td>\n    </tr>\n    <tr>\n      <th>502</th>\n      <td>stopcock.n.01</td>\n      <td>0.125000</td>\n    </tr>\n    <tr>\n      <th>503</th>\n      <td>backpacker.n.01</td>\n      <td>0.100000</td>\n    </tr>\n  </tbody>\n</table>\n<p>504 rows × 2 columns</p>\n</div>"
     },
     "execution_count": 11,
     "metadata": {},
     "output_type": "execute_result"
    }
   ],
   "source": [
    "df"
   ],
   "metadata": {
    "collapsed": false,
    "ExecuteTime": {
     "end_time": "2023-06-06T22:17:42.724302Z",
     "start_time": "2023-06-06T22:17:42.703699Z"
    }
   }
  },
  {
   "cell_type": "code",
   "execution_count": 15,
   "outputs": [
    {
     "data": {
      "text/plain": "[3.333333,\n 0.142857,\n 1.666667,\n 0.038462,\n 0.142857,\n 1.0,\n 3.0,\n 0.2,\n 0.166667,\n 0.166667,\n 0.25,\n 0.285714,\n 0.222222,\n 0.666667,\n 0.166667,\n 0.055556,\n 0.25,\n 0.666667,\n 0.1,\n 0.142857,\n 0.090909,\n 0.166667,\n 0.1,\n 2.307692,\n 0.0625,\n 0.285714,\n 13.625,\n 4.857143,\n 0.5,\n 0.7,\n 1.333333,\n 0.111111,\n 0.8,\n 0.5,\n 0.142857,\n 0.090909,\n 0.444444,\n 4.25,\n 3.0,\n 1.833333,\n 0.083333,\n 0.176471,\n 1.666667,\n 0.4,\n 0.8,\n 0.083333,\n 0.666667,\n 1.5,\n 0.05,\n 0.066667,\n 0.083333,\n 0.076923,\n 0.8,\n 0.2,\n 0.125,\n 1.75,\n 0.25,\n 0.904762,\n 0.142857,\n 5.285714,\n 0.1,\n 2.5,\n 0.2,\n 0.125,\n 0.75,\n 1.2,\n 1.444444,\n 0.5,\n 2.8,\n 3.8,\n 0.111111,\n 1.625,\n 0.125,\n 0.333333,\n 0.0625,\n 0.1,\n 7.75,\n 2.5,\n 3.0,\n 0.166667,\n 2.8,\n 9.0,\n 0.428571,\n 1.75,\n 2.75,\n 0.1,\n 4.8,\n 0.230769,\n 0.5,\n 0.142857,\n 0.034483,\n 0.2,\n 0.75,\n 0.333333,\n 1.4,\n 0.6,\n 0.166667,\n 0.076923,\n 2.0,\n 0.333333,\n 0.142857,\n 1.5,\n 2.0,\n 0.125,\n 1.875,\n 0.666667,\n 1.714286,\n 0.076923,\n 0.076923,\n 0.125,\n 2.25,\n 0.142857,\n 13.75,\n 0.1,\n 10.666667,\n 0.5,\n 0.454545,\n 1.0,\n 0.166667,\n 0.1,\n 2.857143,\n 2.0,\n 4.333333,\n 0.25,\n 4.666667,\n 0.833333,\n 3.25,\n 6.571429,\n 1.0,\n 0.5,\n 1.25,\n 2.0,\n 0.4,\n 0.428571,\n 0.111111,\n 0.090909,\n 0.083333,\n 1.875,\n 0.166667,\n 0.047619,\n 0.083333,\n 0.25,\n 0.1,\n 0.111111,\n 11.8,\n 3.8,\n 0.538462,\n 0.111111,\n 0.25,\n 0.2,\n 0.090909,\n 0.333333,\n 0.166667,\n 0.25,\n 1.0,\n 0.733333,\n 0.076923,\n 2.333333,\n 0.666667,\n 0.142857,\n 0.285714,\n 0.25,\n 0.142857,\n 0.1,\n 0.083333,\n 0.1,\n 1.0,\n 0.166667,\n 0.181818,\n 0.166667,\n 0.142857,\n 1.142857,\n 0.125,\n 0.75,\n 0.75,\n 19.75,\n 0.5,\n 5.0,\n 0.25,\n 0.166667,\n 0.5,\n 0.0625,\n 0.666667,\n 2.125,\n 0.2,\n 3.6,\n 0.071429,\n 0.2,\n 0.125,\n 0.2,\n 0.142857,\n 0.428571,\n 2.4,\n 0.818182,\n 0.058824,\n 4.5,\n 0.090909,\n 0.058824,\n 0.1,\n 0.05,\n 0.4,\n 0.5,\n 0.125,\n 0.058824,\n 0.2,\n 2.777778,\n 0.166667,\n 0.222222,\n 0.4,\n 0.1,\n 0.285714,\n 0.2,\n 0.1,\n 0.8,\n 0.1,\n 0.875,\n 1.333333,\n 1.333333,\n 0.1,\n 0.9,\n 0.25,\n 1.333333,\n 7.0,\n 0.142857,\n 1.25,\n 2.0,\n 0.777778,\n 0.055556,\n 1.5,\n 0.285714,\n 0.181818,\n 2.0,\n 0.166667,\n 0.071429,\n 0.076923,\n 0.055556,\n 0.125,\n 0.076923,\n 0.555556,\n 0.166667,\n 0.166667,\n 0.166667,\n 0.142857,\n 0.083333,\n 0.571429,\n 0.285714,\n 0.066667,\n 0.25,\n 0.25,\n 0.166667,\n 3.0,\n 0.2,\n 1.833333,\n 0.090909,\n 1.666667,\n 0.083333,\n 0.666667,\n 0.125,\n 2.0,\n 1.5,\n 0.857143,\n 0.083333,\n 0.8,\n 1.25,\n 2.222222,\n 0.571429,\n 0.090909,\n 0.083333,\n 0.090909,\n 29.0,\n 0.055556,\n 0.4,\n 2.75,\n 0.125,\n 0.058824,\n 0.090909,\n 0.4,\n 0.076923,\n 0.5,\n 0.142857,\n 0.5,\n 0.333333,\n 0.333333,\n 1.4,\n 0.615385,\n 0.142857,\n 1.888889,\n 0.166667,\n 0.25,\n 1.2,\n 0.1,\n 2.0,\n 0.1,\n 0.1,\n 0.090909,\n 0.272727,\n 1.222222,\n 0.4,\n 0.1,\n 6.6,\n 1.0,\n 0.076923,\n 0.166667,\n 0.125,\n 5.0,\n 2.625,\n 0.333333,\n 0.333333,\n 0.181818,\n 0.263158,\n 0.714286,\n 0.25,\n 7.0,\n 1.4,\n 0.166667,\n 0.111111,\n 0.1,\n 0.5,\n 0.2,\n 0.625,\n 0.111111,\n 0.571429,\n 0.142857,\n 0.1,\n 0.25,\n 0.7,\n 0.076923,\n 0.125,\n 1.0,\n 1.5,\n 1.142857,\n 1.0,\n 0.111111,\n 0.285714,\n 0.5,\n 0.166667,\n 0.1,\n 0.125,\n 12.444444,\n 3.2,\n 0.4,\n 2.5,\n 0.6,\n 1.714286,\n 0.125,\n 0.285714,\n 0.285714,\n 1.5,\n 0.111111,\n 0.2,\n 1.5,\n 0.8,\n 1.4,\n 1.0,\n 2.333333,\n 1.4,\n 1.090909,\n 0.111111,\n 1.5,\n 0.8,\n 9.625,\n 0.25,\n 0.083333,\n 2.333333,\n 0.714286,\n 2.75,\n 0.111111,\n 4.25,\n 0.076923,\n 0.055556,\n 0.25,\n 0.090909,\n 5.0,\n 0.125,\n 0.230769,\n 0.75,\n 0.5,\n 0.1,\n 0.3,\n 0.307692,\n 0.058824,\n 4.466667,\n 0.25,\n 0.222222,\n 1.692308,\n 0.25,\n 0.111111,\n 0.1,\n 0.4,\n 0.4,\n 0.125,\n 0.75,\n 3.0,\n 0.5,\n 0.076923,\n 0.1,\n 0.083333,\n 0.1875,\n 0.5,\n 0.125,\n 4.75,\n 1.6,\n 2.5,\n 0.777778,\n 0.4,\n 5.666667,\n 0.428571,\n 2.666667,\n 0.2,\n 0.6,\n 2.6,\n 0.8,\n 0.166667,\n 0.142857,\n 0.1,\n 0.5,\n 0.5,\n 0.125,\n 0.125,\n 0.111111,\n 0.2,\n 0.058824,\n 0.058824,\n 1.166667,\n 1.0,\n 1.0,\n 3.666667,\n 0.307692,\n 1.0,\n 0.2,\n 0.25,\n 0.111111,\n 0.142857,\n 1.181818,\n 0.076923,\n 1.5,\n 0.1,\n 0.833333,\n 0.071429,\n 0.4,\n 6.0,\n 0.1,\n 2.5,\n 0.4,\n 5.25,\n 0.636364,\n 0.058824,\n 0.888889,\n 0.285714,\n 0.75,\n 0.25,\n 0.0625,\n 0.166667,\n 0.125,\n 0.111111,\n 0.444444,\n 0.6,\n 1.5,\n 0.5,\n 0.111111,\n 0.25,\n 1.4,\n 0.25,\n 0.142857,\n 0.555556,\n 1.5,\n 0.142857,\n 3.0,\n 0.333333,\n 0.25,\n 0.066667,\n 0.111111,\n 7.25,\n 0.166667,\n 1.333333,\n 0.1,\n 0.142857,\n 0.555556,\n 0.076923,\n 0.111111,\n 0.0625,\n 0.25,\n 2.0,\n 2.666667,\n 0.090909,\n 0.333333,\n 0.111111,\n 0.08,\n 0.076923,\n 0.083333,\n 0.166667,\n 1.333333,\n 2.0,\n 0.1,\n 0.555556,\n 0.25,\n 2.6,\n 0.3,\n 1.857143,\n 0.428571,\n 0.058824,\n 0.8,\n 0.125,\n 0.1]"
     },
     "execution_count": 15,
     "metadata": {},
     "output_type": "execute_result"
    }
   ],
   "source": [
    "scores"
   ],
   "metadata": {
    "collapsed": false,
    "ExecuteTime": {
     "end_time": "2023-06-06T22:18:52.785580Z",
     "start_time": "2023-06-06T22:18:52.764017Z"
    }
   }
  }
 ],
 "metadata": {
  "kernelspec": {
   "display_name": "Python 3",
   "language": "python",
   "name": "python3"
  },
  "language_info": {
   "codemirror_mode": {
    "name": "ipython",
    "version": 2
   },
   "file_extension": ".py",
   "mimetype": "text/x-python",
   "name": "python",
   "nbconvert_exporter": "python",
   "pygments_lexer": "ipython2",
   "version": "2.7.6"
  }
 },
 "nbformat": 4,
 "nbformat_minor": 0
}
