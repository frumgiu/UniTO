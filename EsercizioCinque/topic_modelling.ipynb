{
 "cells": [
  {
   "cell_type": "code",
   "execution_count": 8,
   "metadata": {
    "collapsed": true,
    "ExecuteTime": {
     "end_time": "2023-06-01T10:13:48.184129Z",
     "start_time": "2023-06-01T10:13:47.191331Z"
    }
   },
   "outputs": [],
   "source": [
    "import matplotlib.pyplot as plt\n",
    "# Remove rare and common tokens.\n",
    "from gensim.corpora import Dictionary\n",
    "from topic_modelling_function import extract_documents, pre_processing, find_bigrams, training"
   ]
  },
  {
   "cell_type": "code",
   "execution_count": 2,
   "outputs": [
    {
     "data": {
      "text/plain": "1740"
     },
     "execution_count": 2,
     "metadata": {},
     "output_type": "execute_result"
    }
   ],
   "source": [
    "docs = list(extract_documents())\n",
    "len(docs)"
   ],
   "metadata": {
    "collapsed": false,
    "ExecuteTime": {
     "end_time": "2023-06-01T09:32:35.706831Z",
     "start_time": "2023-06-01T09:32:32.376840Z"
    }
   }
  },
  {
   "cell_type": "code",
   "execution_count": 3,
   "outputs": [
    {
     "data": {
      "text/plain": "3354"
     },
     "execution_count": 3,
     "metadata": {},
     "output_type": "execute_result"
    }
   ],
   "source": [
    "docs = pre_processing(docs)\n",
    "docs = find_bigrams(docs)"
   ],
   "metadata": {
    "collapsed": false,
    "ExecuteTime": {
     "end_time": "2023-06-01T09:33:13.193223Z",
     "start_time": "2023-06-01T09:32:35.733876Z"
    }
   }
  },
  {
   "cell_type": "code",
   "execution_count": 5,
   "outputs": [
    {
     "name": "stdout",
     "output_type": "stream",
     "text": [
      "Number of unique tokens: 8644\n",
      "Number of documents: 1740\n"
     ]
    }
   ],
   "source": [
    "# Create a dictionary representation of the documents.\n",
    "dictionary = Dictionary(docs)\n",
    "# Filter out words that occur less than 20 documents, or more than 50% of the documents.\n",
    "dictionary.filter_extremes(no_below=20, no_above=0.5)\n",
    "\n",
    "# Bag-of-words representation of the documents.\n",
    "corpus = [dictionary.doc2bow(doc) for doc in docs]\n",
    "\n",
    "print('Number of unique tokens: %d' % len(dictionary))\n",
    "print('Number of documents: %d' % len(corpus))"
   ],
   "metadata": {
    "collapsed": false,
    "ExecuteTime": {
     "end_time": "2023-06-01T09:33:49.679221Z",
     "start_time": "2023-06-01T09:33:40.628992Z"
    }
   }
  },
  {
   "cell_type": "code",
   "execution_count": 6,
   "outputs": [
    {
     "name": "stdout",
     "output_type": "stream",
     "text": [
      "Average topic coherence: -1.1744.\n",
      "[([(0.0077886423, 'noise'),\n",
      "   (0.007627792, 'matrix'),\n",
      "   (0.005807951, 'component'),\n",
      "   (0.0055613667, 'gaussian'),\n",
      "   (0.0050113453, 'kernel'),\n",
      "   (0.004703597, 'variance'),\n",
      "   (0.0046837, 'gradient'),\n",
      "   (0.0043503875, 'prediction'),\n",
      "   (0.004197604, 'estimate'),\n",
      "   (0.003976035, 'hidden'),\n",
      "   (0.0039613624, 'regression'),\n",
      "   (0.0036042153, 'nonlinear'),\n",
      "   (0.003576229, 'training_set'),\n",
      "   (0.0035030742, 'basis'),\n",
      "   (0.0033668308, 'dimensional'),\n",
      "   (0.0032747244, 'independent'),\n",
      "   (0.0032237666, 'approximation'),\n",
      "   (0.0032053606, 'source'),\n",
      "   (0.0031023822, 'generalization'),\n",
      "   (0.0026721354, 'factor')],\n",
      "  -0.9341742340558141),\n",
      " ([(0.02561188, 'cell'),\n",
      "   (0.021829147, 'neuron'),\n",
      "   (0.013313527, 'stimulus'),\n",
      "   (0.013113054, 'response'),\n",
      "   (0.011572962, 'spike'),\n",
      "   (0.009339207, 'frequency'),\n",
      "   (0.00841388, 'synaptic'),\n",
      "   (0.007922249, 'activity'),\n",
      "   (0.0076671736, 'signal'),\n",
      "   (0.007126032, 'firing'),\n",
      "   (0.0063778018, 'cortex'),\n",
      "   (0.006056712, 'visual'),\n",
      "   (0.0057374877, 'channel'),\n",
      "   (0.0054117786, 'cortical'),\n",
      "   (0.00519461, 'temporal'),\n",
      "   (0.004850182, 'noise'),\n",
      "   (0.004494913, 'potential'),\n",
      "   (0.004182977, 'ii'),\n",
      "   (0.0041404157, 'synapsis'),\n",
      "   (0.0039833635, 'neuronal')],\n",
      "  -0.976212986144557),\n",
      " ([(0.010496389, 'bound'),\n",
      "   (0.008978077, 'let'),\n",
      "   (0.0065741194, 'theorem'),\n",
      "   (0.0060382835, 'approximation'),\n",
      "   (0.005753132, 'optimal'),\n",
      "   (0.0057105487, 'xi'),\n",
      "   (0.0052477946, 'class'),\n",
      "   (0.005155077, 'convergence'),\n",
      "   (0.005120986, 'solution'),\n",
      "   (0.0046095485, 'machine'),\n",
      "   (0.004520021, 'loss'),\n",
      "   (0.003989836, 'condition'),\n",
      "   (0.0039873035, 'finite'),\n",
      "   (0.003918873, 'dimension'),\n",
      "   (0.003829099, 'proof'),\n",
      "   (0.0036459663, 'stochastic'),\n",
      "   (0.003483196, 'assume'),\n",
      "   (0.0034146684, 'hypothesis'),\n",
      "   (0.0034003928, 'positive'),\n",
      "   (0.003369524, 'threshold')],\n",
      "  -0.9949948142375628),\n",
      " ([(0.04240422, 'image'),\n",
      "   (0.017064, 'object'),\n",
      "   (0.011363516, 'visual'),\n",
      "   (0.00921683, 'face'),\n",
      "   (0.008714972, 'pixel'),\n",
      "   (0.007778648, 'recognition'),\n",
      "   (0.0074204775, 'distance'),\n",
      "   (0.006906998, 'motion'),\n",
      "   (0.0065968577, 'field'),\n",
      "   (0.006214058, 'map'),\n",
      "   (0.0058676694, 'location'),\n",
      "   (0.005807668, 'view'),\n",
      "   (0.0054817963, 'filter'),\n",
      "   (0.005376844, 'spatial'),\n",
      "   (0.00536818, 'vision'),\n",
      "   (0.005231366, 'edge'),\n",
      "   (0.005204428, 'region'),\n",
      "   (0.0049918857, 'human'),\n",
      "   (0.0048944717, 'scene'),\n",
      "   (0.0048737847, 'position')],\n",
      "  -1.0543079991337891),\n",
      " ([(0.016181454, 'class'),\n",
      "   (0.01516338, 'mixture'),\n",
      "   (0.012880648, 'likelihood'),\n",
      "   (0.012291474, 'tree'),\n",
      "   (0.0107791545, 'bayesian'),\n",
      "   (0.0102589615, 'classifier'),\n",
      "   (0.0102264965, 'prior'),\n",
      "   (0.0093236035, 'classification'),\n",
      "   (0.009285346, 'posterior'),\n",
      "   (0.009045575, 'em'),\n",
      "   (0.008784808, 'sample'),\n",
      "   (0.00866761, 'density'),\n",
      "   (0.007932873, 'log'),\n",
      "   (0.0076363394, 'markov'),\n",
      "   (0.007614273, 'node'),\n",
      "   (0.0072642094, 'decision'),\n",
      "   (0.0068237633, 'gaussian'),\n",
      "   (0.006485816, 'estimate'),\n",
      "   (0.006478615, 'conditional'),\n",
      "   (0.0060668276, 'expert')],\n",
      "  -1.0899518887712074),\n",
      " ([(0.026168961, 'circuit'),\n",
      "   (0.018731121, 'analog'),\n",
      "   (0.017890636, 'chip'),\n",
      "   (0.013387964, 'neuron'),\n",
      "   (0.013047431, 'voltage'),\n",
      "   (0.010321336, 'signal'),\n",
      "   (0.009879047, 'bit'),\n",
      "   (0.008947546, 'gate'),\n",
      "   (0.008748353, 'vlsi'),\n",
      "   (0.008613778, 'channel'),\n",
      "   (0.0078532025, 'implementation'),\n",
      "   (0.006267641, 'design'),\n",
      "   (0.005920807, 'threshold'),\n",
      "   (0.0057942085, 'pulse'),\n",
      "   (0.005168906, 'processor'),\n",
      "   (0.005104544, 'hardware'),\n",
      "   (0.0050950507, 'digital'),\n",
      "   (0.004938233, 'power'),\n",
      "   (0.004900426, 'transistor'),\n",
      "   (0.0048881834, 'block')],\n",
      "  -1.2028885017055198),\n",
      " ([(0.030617686, 'recognition'),\n",
      "   (0.03036345, 'hidden'),\n",
      "   (0.028409496, 'speech'),\n",
      "   (0.027713854, 'word'),\n",
      "   (0.026450098, 'layer'),\n",
      "   (0.014084676, 'net'),\n",
      "   (0.013393411, 'context'),\n",
      "   (0.013166144, 'sequence'),\n",
      "   (0.012420209, 'character'),\n",
      "   (0.011445814, 'hmm'),\n",
      "   (0.010808058, 'trained'),\n",
      "   (0.010280467, 'classification'),\n",
      "   (0.009238344, 'speaker'),\n",
      "   (0.008835177, 'architecture'),\n",
      "   (0.008434946, 'class'),\n",
      "   (0.0081606535, 'mlp'),\n",
      "   (0.008145991, 'signal'),\n",
      "   (0.00814183, 'hidden_layer'),\n",
      "   (0.0080574555, 'acoustic'),\n",
      "   (0.007864564, 'hidden_unit')],\n",
      "  -1.2091713042742227),\n",
      " ([(0.014441334, 'field'),\n",
      "   (0.011813011, 'dynamic'),\n",
      "   (0.011659343, 'neuron'),\n",
      "   (0.009162729, 'memory'),\n",
      "   (0.008447091, 'connection'),\n",
      "   (0.0073761186, 'rule'),\n",
      "   (0.0067098946, 'attractor'),\n",
      "   (0.0064107715, 'map'),\n",
      "   (0.0061211274, 'energy'),\n",
      "   (0.006087724, 'layer'),\n",
      "   (0.005847521, 'phase'),\n",
      "   (0.005818104, 'fig'),\n",
      "   (0.0056748954, 'activity'),\n",
      "   (0.005495999, 'self'),\n",
      "   (0.0049127745, 'simulation'),\n",
      "   (0.00457563, 'correlation'),\n",
      "   (0.004349383, 'capacity'),\n",
      "   (0.0041937935, 'fixed_point'),\n",
      "   (0.0039850464, 'learning_rule'),\n",
      "   (0.0038687463, 'matrix')],\n",
      "  -1.2741316692031537),\n",
      " ([(0.037270762, 'control'),\n",
      "   (0.01639091, 'trajectory'),\n",
      "   (0.015879821, 'movement'),\n",
      "   (0.015189353, 'motor'),\n",
      "   (0.015080127, 'robot'),\n",
      "   (0.013682695, 'position'),\n",
      "   (0.013623654, 'direction'),\n",
      "   (0.012829811, 'eye'),\n",
      "   (0.012735338, 'sound'),\n",
      "   (0.012409973, 'controller'),\n",
      "   (0.011936398, 'velocity'),\n",
      "   (0.010312679, 'dynamic'),\n",
      "   (0.010238654, 'motion'),\n",
      "   (0.010135572, 'subject'),\n",
      "   (0.009523865, 'head'),\n",
      "   (0.008205601, 'feedback'),\n",
      "   (0.008007681, 'arm'),\n",
      "   (0.008001502, 'target'),\n",
      "   (0.007871341, 'sensor'),\n",
      "   (0.007110301, 'signal')],\n",
      "  -1.441068969746084),\n",
      " ([(0.008451602, 'action'),\n",
      "   (0.0069246707, 'policy'),\n",
      "   (0.006532357, 'rule'),\n",
      "   (0.0046724267, 'reinforcement'),\n",
      "   (0.0042541823, 'sequence'),\n",
      "   (0.004072267, 'learn'),\n",
      "   (0.0035206198, 'reinforcement_learning'),\n",
      "   (0.003234782, 'reward'),\n",
      "   (0.0031155066, 'learned'),\n",
      "   (0.0030762476, 'search'),\n",
      "   (0.0030509017, 'environment'),\n",
      "   (0.0029544213, 'table'),\n",
      "   (0.0029434478, 'goal'),\n",
      "   (0.002847156, 'memory'),\n",
      "   (0.0028286995, 'dynamic'),\n",
      "   (0.0027753343, 'machine'),\n",
      "   (0.002756084, 'architecture'),\n",
      "   (0.0027491872, 'trial'),\n",
      "   (0.0027104355, 'net'),\n",
      "   (0.0027057463, 'ica')],\n",
      "  -1.5674127595573275)]\n"
     ]
    }
   ],
   "source": [
    "top_topics = training(corpus, dictionary)\n",
    "\n",
    "from pprint import pprint\n",
    "pprint(top_topics)"
   ],
   "metadata": {
    "collapsed": false,
    "ExecuteTime": {
     "end_time": "2023-06-01T09:35:53.500032Z",
     "start_time": "2023-06-01T09:33:49.692788Z"
    }
   }
  },
  {
   "cell_type": "code",
   "execution_count": 20,
   "outputs": [
    {
     "data": {
      "text/plain": "<Figure size 640x480 with 1 Axes>",
      "image/png": "[encoded data removed]"
     },
     "metadata": {},
     "output_type": "display_data"
    }
   ],
   "source": [
    "# Creazione del grafico a dispersione\n",
    "coherence_scores = [topic[0] for topic in top_topics[0][0]]\n",
    "topics_names = [topic[1] for topic in top_topics[0][0]]\n",
    "# Creazione del grafico a barre\n",
    "plt.bar(topics_names, coherence_scores, color='b')\n",
    "\n",
    "plt.xticks(range(len(topics_names)), topics_names, rotation=45, fontsize=7)\n",
    "# Aggiunta delle etichette degli assi e del titolo del grafico\n",
    "plt.xlabel('Topic')\n",
    "plt.ylabel('Coerenza')\n",
    "plt.title('Confronto delle Coerenze dei Topic')\n",
    "\n",
    "# Visualizzazione del grafico\n",
    "plt.show()\n"
   ],
   "metadata": {
    "collapsed": false,
    "ExecuteTime": {
     "end_time": "2023-06-01T10:21:40.372806Z",
     "start_time": "2023-06-01T10:21:39.908820Z"
    }
   }
  }
 ],
 "metadata": {
  "kernelspec": {
   "display_name": "Python 3",
   "language": "python",
   "name": "python3"
  },
  "language_info": {
   "codemirror_mode": {
    "name": "ipython",
    "version": 2
   },
   "file_extension": ".py",
   "mimetype": "text/x-python",
   "name": "python",
   "nbconvert_exporter": "python",
   "pygments_lexer": "ipython2",
   "version": "2.7.6"
  }
 },
 "nbformat": 4,
 "nbformat_minor": 0
}
