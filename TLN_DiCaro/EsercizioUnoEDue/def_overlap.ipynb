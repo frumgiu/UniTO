{
 "cells": [
  {
   "cell_type": "code",
   "execution_count": 1,
   "metadata": {
    "collapsed": true,
    "ExecuteTime": {
     "end_time": "2023-06-09T12:43:44.694946Z",
     "start_time": "2023-06-09T12:43:41.400339Z"
    }
   },
   "outputs": [],
   "source": [
    "import pandas as pd\n",
    "from nltk.tokenize import word_tokenize\n",
    "import nltk.stem.porter as porter\n",
    "from def_overlap_funcs import filter_words, similarity_score"
   ]
  },
  {
   "cell_type": "markdown",
   "source": [
    "## Similarità definizioni\n",
    "Si sono create, per ogni studente, quattro definizioni. Il task successivo richiedeva di valutare la similarità tra le definizioni, per ognuno dei concetti scelti.\n",
    "Il primo output visibile nel notebook rappresenta la tabella con un concetto per colonna e nelle righe le definizioni pulite da stop words e punteggiatura e stemmatizzate (ovvero ridotte alla loro *radice*)."
   ],
   "metadata": {
    "collapsed": false
   }
  },
  {
   "cell_type": "code",
   "execution_count": 2,
   "outputs": [],
   "source": [
    "stemmer = porter.PorterStemmer()"
   ],
   "metadata": {
    "collapsed": false,
    "ExecuteTime": {
     "end_time": "2023-06-09T12:43:44.705757Z",
     "start_time": "2023-06-09T12:43:44.701425Z"
    }
   }
  },
  {
   "cell_type": "code",
   "execution_count": 3,
   "outputs": [
    {
     "data": {
      "text/plain": "                                                 door   \n0   {close, divid, construct, two, room, passag, u...  \\\n1                                       {close, open}   \n2   {wall, close, hole, peopl, let, divid, door, r...   \n3                   {access, anoth, area, one, usabl}   \n4            {access, delimit, allow, structur, area}   \n5            {move, passag, use, object, pass, block}   \n6   {push, hing, mean, histor, iron, rotat, use, o...   \n7   {wall, close, room, use, open, object, separ, go}   \n8         {access, anoth, order, someth, open, place}   \n9                                      {access, room}   \n10                      {access, object, allow, room}   \n11  {time, small, outsid, condit, present, lock, s...   \n12  {made, outsid, unlock, chamber, insid, peopl, ...   \n13                                {wall, close, open}   \n14      {access, room, allow, mechan, barrier, block}   \n15               {way, peopl, exit, let, room, enter}   \n16  {made, hing, artifici, main, two, passag, usua...   \n17   {close, exit, allow, open, object, place, enter}   \n18        {wall, element, room, passag, allow, block}   \n19              {access, cross, limit, object, place}   \n20  {made, access, hous, wood, lock, room, rectang...   \n21                {exit, build, room, entranc, space}   \n22               {connect, two, allow, space, object}   \n23  {anoth, make, new, architectur, one, person, l...   \n24                             {build, room, entranc}   \n25               {close, room, open, entranc, object}   \n26                      {entranc, object, lock, hous}   \n27  {access, physic, point, room, space, object, b...   \n28                          {allow, someth, open, go}   \n29  {access, built, wall, differ, build, auxiliari...   \n\n                                              ladybug   \n0   {small, spot, six, red, fli, typic, black, ins...  \\\n1   {symbol, luck, cultur, good, red, black, insec...   \n2        {color, fli, orang, red, black, insect, dot}   \n3                          {red, small, insect, back}   \n4                         {fli, small, insect, round}   \n5   {small, color, beatl, fli, famili, tendenti, r...   \n6   {small, back, luck, consid, insectivor, natur,...   \n7   {small, luck, cultur, red, black, insect, dot,...   \n8                    {small, red, black, insect, dot}   \n9             {small, yellow, coat, red, insect, dot}   \n10       {small, fli, usual, red, black, insect, dot}   \n11  {omen, consid, fli, coat, usual, good, charact...   \n12  {small, spot, luck, live, black, usual, planet...   \n13                   {small, red, black, insect, dot}   \n14                         {red, black, insect, spot}   \n15                  {small, back, black, insect, dot}   \n16  {luck, character, black, harmless, fli, gener,...   \n17  {small, spot, color, luck, black, fli, good, s...   \n18  {small, round, luck, gener, usual, good, link,...   \n19  {small, color, black, red, character, insect, ...   \n20  {flower, small, round, fli, usual, red, black,...   \n21       {small, spot, round, shape, bug, red, black}   \n22  {small, color, black, usual, red, character, i...   \n23                 {luck, fli, person, insect, bring}   \n24                   {small, red, black, insect, dot}   \n25                                {red, back, insect}   \n26                    {back, red, black, insect, dot}   \n27      {small, known, red, black, insect, dot, wing}   \n28                                  {dot, color, bug}   \n29  {pattern, color, fli, usual, structur, red, in...   \n\n                                                 pain   \n0                    {physic, feel, distress, mental}  \\\n1                     {emot, physic, bad, hurt, feel}   \n2                {consciou, experi, be, suffer, fell}   \n3                    {concept, suffer, describ, live}   \n4                          {physic, discomfort, feel}   \n5                             {burn, unpleas, sensat}   \n6   {psycholog, physic, natur, creatur, felt, dama...   \n7       {emot, injuri, caus, physic, sad, pain, feel}   \n8                        {express, sentiment, sorrow}   \n9      {emot, result, physic, exert, sensat, unpleas}   \n10                    {physic, unpleas, emot, sensat}   \n11  {light, happen, cri, could, result, someth, me...   \n12  {emot, physic, discomfort, sensat, person, sor...   \n13                   {emot, caus, physic, harm, feel}   \n14                              {unpleas, harm, feel}   \n15                  {uncomfort, emot, sensat, physic}   \n16           {emot, caus, physic, uneasi, harm, feel}   \n17                            {situat, tangibl, feel}   \n18  {complex, make, physic, brain, natur, creatur,...   \n19                    {emot, associ, unpleas, suffer}   \n20  {emot, tell, someth, right, felt, want, us, ge...   \n21  {respons, emot, someth, physic, felt, damag, k...   \n22                   {experi, feel, discomfort, caus}   \n23               {emot, someth, physic, person, hurt}   \n24                                   {sicken, sensat}   \n25                          {physic, emot, bad, feel}   \n26                                  {get, hurt, feel}   \n27                                     {hurt, sensat}   \n28                                        {bad, feel}   \n29    {mental, physic, caus, discomfort, sensat, neg}   \n\n                                           blurriness  \n0                                       {sight, focu}  \n1                {shapeless, definit, absenc, border}  \n2    {someth, border, clearli, felt, ca, sensat, see}  \n3                                       {lack, sharp}  \n4               {characterist, lack, clariti, precis}  \n5                   {blur, everyth, eye, sensat, see}  \n6   {perceiv, physic, whether, certain, inabl, goa...  \n7     {unfocus, memori, eye, bad, lack, vision, imag}  \n8    {make, clear, condit, bright, total, thant, see}  \n9   {result, confus, physic, exert, state, drug, u...  \n10                                     {sens, confus}  \n11  {happen, also, photograph, make, properti, ill...  \n12  {way, close, peopl, condit, detail, allow, per...  \n13     {border, visual, defin, clariti, absenc, imag}  \n14  {blend, visual, condit, detail, clariti, lose,...  \n15  {partial, phenomenon, camera, person, disrupt,...  \n16  {indefinit, metaphor, perceiv, someth, concept...  \n17  {subject, visibl, someth, make, photograph, co...  \n18  {attribut, border, devic, state, defin, clearl...  \n19  {recogn, undefin, whose, shape, line, hard, ch...  \n20  {happen, someth, visual, clear, problem, pictu...  \n21  {effect, make, confus, affect, detail, outlin,...  \n22   {effect, someth, make, visual, clear, hard, see}  \n23   {effect, way, visual, clear, allow, see, object}  \n24                    {visual, look, percept, confus}  \n25                                  {distort, vision}  \n26                   {correct, condit, eye, eyeglass}  \n27  {properli, faulti, perceiv, defin, percept, ob...  \n28                  {distanc, increas, effect, blind}  \n29    {qualiti, given, textur, low, lack, focu, imag}  ",
      "text/html": "<div>\n<style scoped>\n    .dataframe tbody tr th:only-of-type {\n        vertical-align: middle;\n    }\n\n    .dataframe tbody tr th {\n        vertical-align: top;\n    }\n\n    .dataframe thead th {\n        text-align: right;\n    }\n</style>\n<table border=\"1\" class=\"dataframe\">\n  <thead>\n    <tr style=\"text-align: right;\">\n      <th></th>\n      <th>door</th>\n      <th>ladybug</th>\n      <th>pain</th>\n      <th>blurriness</th>\n    </tr>\n  </thead>\n  <tbody>\n    <tr>\n      <th>0</th>\n      <td>{close, divid, construct, two, room, passag, u...</td>\n      <td>{small, spot, six, red, fli, typic, black, ins...</td>\n      <td>{physic, feel, distress, mental}</td>\n      <td>{sight, focu}</td>\n    </tr>\n    <tr>\n      <th>1</th>\n      <td>{close, open}</td>\n      <td>{symbol, luck, cultur, good, red, black, insec...</td>\n      <td>{emot, physic, bad, hurt, feel}</td>\n      <td>{shapeless, definit, absenc, border}</td>\n    </tr>\n    <tr>\n      <th>2</th>\n      <td>{wall, close, hole, peopl, let, divid, door, r...</td>\n      <td>{color, fli, orang, red, black, insect, dot}</td>\n      <td>{consciou, experi, be, suffer, fell}</td>\n      <td>{someth, border, clearli, felt, ca, sensat, see}</td>\n    </tr>\n    <tr>\n      <th>3</th>\n      <td>{access, anoth, area, one, usabl}</td>\n      <td>{red, small, insect, back}</td>\n      <td>{concept, suffer, describ, live}</td>\n      <td>{lack, sharp}</td>\n    </tr>\n    <tr>\n      <th>4</th>\n      <td>{access, delimit, allow, structur, area}</td>\n      <td>{fli, small, insect, round}</td>\n      <td>{physic, discomfort, feel}</td>\n      <td>{characterist, lack, clariti, precis}</td>\n    </tr>\n    <tr>\n      <th>5</th>\n      <td>{move, passag, use, object, pass, block}</td>\n      <td>{small, color, beatl, fli, famili, tendenti, r...</td>\n      <td>{burn, unpleas, sensat}</td>\n      <td>{blur, everyth, eye, sensat, see}</td>\n    </tr>\n    <tr>\n      <th>6</th>\n      <td>{push, hing, mean, histor, iron, rotat, use, o...</td>\n      <td>{small, back, luck, consid, insectivor, natur,...</td>\n      <td>{psycholog, physic, natur, creatur, felt, dama...</td>\n      <td>{perceiv, physic, whether, certain, inabl, goa...</td>\n    </tr>\n    <tr>\n      <th>7</th>\n      <td>{wall, close, room, use, open, object, separ, go}</td>\n      <td>{small, luck, cultur, red, black, insect, dot,...</td>\n      <td>{emot, injuri, caus, physic, sad, pain, feel}</td>\n      <td>{unfocus, memori, eye, bad, lack, vision, imag}</td>\n    </tr>\n    <tr>\n      <th>8</th>\n      <td>{access, anoth, order, someth, open, place}</td>\n      <td>{small, red, black, insect, dot}</td>\n      <td>{express, sentiment, sorrow}</td>\n      <td>{make, clear, condit, bright, total, thant, see}</td>\n    </tr>\n    <tr>\n      <th>9</th>\n      <td>{access, room}</td>\n      <td>{small, yellow, coat, red, insect, dot}</td>\n      <td>{emot, result, physic, exert, sensat, unpleas}</td>\n      <td>{result, confus, physic, exert, state, drug, u...</td>\n    </tr>\n    <tr>\n      <th>10</th>\n      <td>{access, object, allow, room}</td>\n      <td>{small, fli, usual, red, black, insect, dot}</td>\n      <td>{physic, unpleas, emot, sensat}</td>\n      <td>{sens, confus}</td>\n    </tr>\n    <tr>\n      <th>11</th>\n      <td>{time, small, outsid, condit, present, lock, s...</td>\n      <td>{omen, consid, fli, coat, usual, good, charact...</td>\n      <td>{light, happen, cri, could, result, someth, me...</td>\n      <td>{happen, also, photograph, make, properti, ill...</td>\n    </tr>\n    <tr>\n      <th>12</th>\n      <td>{made, outsid, unlock, chamber, insid, peopl, ...</td>\n      <td>{small, spot, luck, live, black, usual, planet...</td>\n      <td>{emot, physic, discomfort, sensat, person, sor...</td>\n      <td>{way, close, peopl, condit, detail, allow, per...</td>\n    </tr>\n    <tr>\n      <th>13</th>\n      <td>{wall, close, open}</td>\n      <td>{small, red, black, insect, dot}</td>\n      <td>{emot, caus, physic, harm, feel}</td>\n      <td>{border, visual, defin, clariti, absenc, imag}</td>\n    </tr>\n    <tr>\n      <th>14</th>\n      <td>{access, room, allow, mechan, barrier, block}</td>\n      <td>{red, black, insect, spot}</td>\n      <td>{unpleas, harm, feel}</td>\n      <td>{blend, visual, condit, detail, clariti, lose,...</td>\n    </tr>\n    <tr>\n      <th>15</th>\n      <td>{way, peopl, exit, let, room, enter}</td>\n      <td>{small, back, black, insect, dot}</td>\n      <td>{uncomfort, emot, sensat, physic}</td>\n      <td>{partial, phenomenon, camera, person, disrupt,...</td>\n    </tr>\n    <tr>\n      <th>16</th>\n      <td>{made, hing, artifici, main, two, passag, usua...</td>\n      <td>{luck, character, black, harmless, fli, gener,...</td>\n      <td>{emot, caus, physic, uneasi, harm, feel}</td>\n      <td>{indefinit, metaphor, perceiv, someth, concept...</td>\n    </tr>\n    <tr>\n      <th>17</th>\n      <td>{close, exit, allow, open, object, place, enter}</td>\n      <td>{small, spot, color, luck, black, fli, good, s...</td>\n      <td>{situat, tangibl, feel}</td>\n      <td>{subject, visibl, someth, make, photograph, co...</td>\n    </tr>\n    <tr>\n      <th>18</th>\n      <td>{wall, element, room, passag, allow, block}</td>\n      <td>{small, round, luck, gener, usual, good, link,...</td>\n      <td>{complex, make, physic, brain, natur, creatur,...</td>\n      <td>{attribut, border, devic, state, defin, clearl...</td>\n    </tr>\n    <tr>\n      <th>19</th>\n      <td>{access, cross, limit, object, place}</td>\n      <td>{small, color, black, red, character, insect, ...</td>\n      <td>{emot, associ, unpleas, suffer}</td>\n      <td>{recogn, undefin, whose, shape, line, hard, ch...</td>\n    </tr>\n    <tr>\n      <th>20</th>\n      <td>{made, access, hous, wood, lock, room, rectang...</td>\n      <td>{flower, small, round, fli, usual, red, black,...</td>\n      <td>{emot, tell, someth, right, felt, want, us, ge...</td>\n      <td>{happen, someth, visual, clear, problem, pictu...</td>\n    </tr>\n    <tr>\n      <th>21</th>\n      <td>{exit, build, room, entranc, space}</td>\n      <td>{small, spot, round, shape, bug, red, black}</td>\n      <td>{respons, emot, someth, physic, felt, damag, k...</td>\n      <td>{effect, make, confus, affect, detail, outlin,...</td>\n    </tr>\n    <tr>\n      <th>22</th>\n      <td>{connect, two, allow, space, object}</td>\n      <td>{small, color, black, usual, red, character, i...</td>\n      <td>{experi, feel, discomfort, caus}</td>\n      <td>{effect, someth, make, visual, clear, hard, see}</td>\n    </tr>\n    <tr>\n      <th>23</th>\n      <td>{anoth, make, new, architectur, one, person, l...</td>\n      <td>{luck, fli, person, insect, bring}</td>\n      <td>{emot, someth, physic, person, hurt}</td>\n      <td>{effect, way, visual, clear, allow, see, object}</td>\n    </tr>\n    <tr>\n      <th>24</th>\n      <td>{build, room, entranc}</td>\n      <td>{small, red, black, insect, dot}</td>\n      <td>{sicken, sensat}</td>\n      <td>{visual, look, percept, confus}</td>\n    </tr>\n    <tr>\n      <th>25</th>\n      <td>{close, room, open, entranc, object}</td>\n      <td>{red, back, insect}</td>\n      <td>{physic, emot, bad, feel}</td>\n      <td>{distort, vision}</td>\n    </tr>\n    <tr>\n      <th>26</th>\n      <td>{entranc, object, lock, hous}</td>\n      <td>{back, red, black, insect, dot}</td>\n      <td>{get, hurt, feel}</td>\n      <td>{correct, condit, eye, eyeglass}</td>\n    </tr>\n    <tr>\n      <th>27</th>\n      <td>{access, physic, point, room, space, object, b...</td>\n      <td>{small, known, red, black, insect, dot, wing}</td>\n      <td>{hurt, sensat}</td>\n      <td>{properli, faulti, perceiv, defin, percept, ob...</td>\n    </tr>\n    <tr>\n      <th>28</th>\n      <td>{allow, someth, open, go}</td>\n      <td>{dot, color, bug}</td>\n      <td>{bad, feel}</td>\n      <td>{distanc, increas, effect, blind}</td>\n    </tr>\n    <tr>\n      <th>29</th>\n      <td>{access, built, wall, differ, build, auxiliari...</td>\n      <td>{pattern, color, fli, usual, structur, red, in...</td>\n      <td>{mental, physic, caus, discomfort, sensat, neg}</td>\n      <td>{qualiti, given, textur, low, lack, focu, imag}</td>\n    </tr>\n  </tbody>\n</table>\n</div>"
     },
     "execution_count": 3,
     "metadata": {},
     "output_type": "execute_result"
    }
   ],
   "source": [
    "data = pd.read_csv('TLN-definitions-23.csv', sep=';')\n",
    "data = data.applymap(lambda s: filter_words(set(word_tokenize(s))))\n",
    "data = data.applymap(lambda tokens: {stemmer.stem(t) for t in tokens})\n",
    "\n",
    "data"
   ],
   "metadata": {
    "collapsed": false,
    "ExecuteTime": {
     "end_time": "2023-06-09T12:43:44.886903Z",
     "start_time": "2023-06-09T12:43:44.711576Z"
    }
   }
  },
  {
   "cell_type": "markdown",
   "source": [
    "### Calcolo punteggi similarità tra definizioni\n",
    "In questa cella vengono calcolate le similarità tra le definizioni di una colonna. Il processo viene eseguito per ogni colonna e i per ognuna i valori sono salvati in una lista"
   ],
   "metadata": {
    "collapsed": false
   }
  },
  {
   "cell_type": "code",
   "execution_count": 4,
   "outputs": [],
   "source": [
    "scores = []\n",
    "words = list(data.columns.values)\n",
    "for word in words:\n",
    "    word_scores = [similarity_score(len(def1.intersection(def2)), len(def1), len(def2))\n",
    "                   for def1 in data[word] for def2 in data[word] if def1 != def2]\n",
    "    scores.append(word_scores)"
   ],
   "metadata": {
    "collapsed": false,
    "ExecuteTime": {
     "end_time": "2023-06-09T12:43:44.903354Z",
     "start_time": "2023-06-09T12:43:44.899534Z"
    }
   }
  },
  {
   "cell_type": "markdown",
   "source": [
    "### Valore medio\n",
    "Per sapere il valore medio di similarità tra le definizioni di una colonna si fa il rapporto tra la somma dei valori e il numero di valori. I risultati sono mostrati nell'output sottostante .\n",
    "Il punteggio di similarità più alta lo si trova per la parola **'ladybug'** con un valore di 0.5967. Per i concetti generici, *'door'* e *'pain'*, i punteggi sono molto simili e sono poco sopra allo 0.20. Il punteggio più basso lo si trova per il concetto *'blurriness'* con uno score di 0.081."
   ],
   "metadata": {
    "collapsed": false
   }
  },
  {
   "cell_type": "code",
   "execution_count": 5,
   "outputs": [
    {
     "name": "stdout",
     "output_type": "stream",
     "text": [
      "            Astratto    Concreto\n",
      "Generico     0.2524     0.2345\n",
      "Specifico    0.081      0.5967\n"
     ]
    }
   ],
   "source": [
    "results = [round(sum(word_scores) / len(word_scores), 4) for word_scores in scores]\n",
    "\n",
    "print('            Astratto    Concreto')\n",
    "print('Generico    ', results[2], '   ',results[0])\n",
    "print('Specifico   ', results[3], '    ', results[1])"
   ],
   "metadata": {
    "collapsed": false,
    "ExecuteTime": {
     "end_time": "2023-06-09T12:43:44.934396Z",
     "start_time": "2023-06-09T12:43:44.911570Z"
    }
   }
  }
 ],
 "metadata": {
  "kernelspec": {
   "display_name": "Python 3",
   "language": "python",
   "name": "python3"
  },
  "language_info": {
   "codemirror_mode": {
    "name": "ipython",
    "version": 2
   },
   "file_extension": ".py",
   "mimetype": "text/x-python",
   "name": "python",
   "nbconvert_exporter": "python",
   "pygments_lexer": "ipython2",
   "version": "2.7.6"
  }
 },
 "nbformat": 4,
 "nbformat_minor": 0
}
