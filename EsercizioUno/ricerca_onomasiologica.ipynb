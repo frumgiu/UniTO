{
 "cells": [
  {
   "cell_type": "code",
   "execution_count": 1,
   "metadata": {
    "collapsed": true
   },
   "outputs": [],
   "source": [
    "import pandas as pd\n",
    "from collections import Counter\n",
    "from def_overlap_funcs import filter_words\n",
    "from nltk.tokenize import word_tokenize\n",
    "from ricerca import get_ordered_hyponyms"
   ]
  },
  {
   "cell_type": "code",
   "execution_count": 2,
   "outputs": [
    {
     "data": {
      "text/plain": "                                                 door   \n0   {divide, closing, rooms, two, used, constructi...  \\\n1                           {opening, closed, opened}   \n2   {divide, hole, wall, object, room, let, people...   \n3                {area, access, another, usable, one}   \n4         {area, access, structure, allows, delimits}   \n5         {block, used, object, pass, passage, moved}   \n6   {moving, sometimes, object, handle, wood, cons...   \n7   {go, rooms, used, wall, object, closed, separa...   \n8   {order, access, something, place, another, ope...   \n9                                      {room, access}   \n10                     {access, allows, room, object}   \n11  {presents, sort, opening, blocks, well, intrud...   \n12  {outside, chamber, inside, made, object, key, ...   \n13                             {wall, closed, opened}   \n14   {block, access, room, mechanism, allow, barrier}   \n15              {enter, room, way, let, people, exit}   \n16  {body, spaces, main, made, object, handle, usu...   \n17  {place, opens, allows, object, closes, enter, ...   \n18     {blocks, allows, room, wall, passage, element}   \n19            {place, cross, access, object, limited}   \n20  {wood, lock, access, house, use, rectangular, ...   \n21            {building, room, entrance, space, exit}   \n22          {connection, two, allows, spaces, object}   \n23  {make, person, another, new, leave, architectu...   \n24                         {room, building, entrance}   \n25             {opens, close, object, room, entrance}   \n26                    {lock, house, object, entrance}   \n27  {blocks, access, point, physically, object, ro...   \n28                   {something, go, allows, opening}   \n29  {structure, access, built, building, spaces, u...   \n\n                                              ladybug   \n0   {typically, spots, black, six, insect, flying,...  \\\n1   {many, black, wings, luck, red, symbol, dots, ...   \n2      {color, fly, black, insect, orange, red, dots}   \n3                          {back, red, small, insect}   \n4                      {flying, small, insect, round}   \n5   {beatle, tendentially, insect, colored, small,...   \n6   {bring, black, luck, red, pest, dots, head, fl...   \n7   {black, brings, luck, insect, dots, red, small...   \n8                   {small, black, red, insect, dots}   \n9          {yellow, insect, coat, dotted, red, small}   \n10  {black, insect, flying, red, usually, small, d...   \n11  {considered, tiny, omen, characterised, insect...   \n12  {human, black, spots, luck, red, usually, plan...   \n13                  {small, black, red, insect, dots}   \n14                        {black, spots, red, insect}   \n15                 {back, black, insect, small, dots}   \n16  {generally, black, wings, luck, characterized,...   \n17  {color, black, spots, luck, characterized, red...   \n18  {linked, generally, black, luck, insect, good,...   \n19  {color, black, insect, characterized, red, sma...   \n20  {flies, black, flowers, insect, red, usually, ...   \n21       {black, shape, spot, red, bug, round, small}   \n22  {color, black, usually, insect, characterized,...   \n23                {fly, person, brings, luck, insect}   \n24                  {small, black, red, insect, dots}   \n25                                {back, red, insect}   \n26                   {back, black, insect, red, dots}   \n27    {black, wings, insect, known, red, small, dots}   \n28                               {colored, bug, dots}   \n29  {pattern, insect, colored, structured, red, us...   \n\n                                                 pain   \n0               {mental, physical, distress, feeling}  \\\n1           {physical, feeling, hurt, bad, emotional}   \n2    {experience, suffer, felling, beings, conscious}   \n3             {suffering, living, describes, concept}   \n4                     {feeling, physical, discomfort}   \n5                    {sensation, unpleasant, burning}   \n6   {damaged, negative, body, nature, sensation, p...   \n7   {injury, physical, sadness, feeling, caused, e...   \n8                      {sentiment, expresses, sorrow}   \n9   {physical, exertion, unpleasant, emotional, re...   \n10       {physical, sensation, unpleasant, emotional}   \n11  {something, feeling, could, physically, discom...   \n12  {bring, physical, person, soreness, emotional,...   \n13       {physical, feeling, caused, emotional, harm}   \n14                     {harmful, feeling, unpleasant}   \n15    {physical, emotional, uncomfortable, sensation}   \n16  {uneasiness, physical, feeling, emotional, har...   \n17              {tangible, feeling, situations, feel}   \n18  {brain, produced, creature, feeling, make, nec...   \n19       {suffering, unpleasant, emotion, associated}   \n20  {getting, something, emotion, body, harmed, us...   \n21  {something, physical, response, emotional, fel...   \n22          {feeling, experience, discomfort, causes}   \n23  {something, person, physically, emotionally, h...   \n24                             {sensation, sickening}   \n25                {feeling, physical, bad, emotional}   \n26                               {get, feeling, hurt}   \n27                                  {hurt, sensation}   \n28                                     {bad, feeling}   \n29  {causing, mentally, physically, negative, disc...   \n\n                                           blurriness  \n0                                      {focus, sight}  \n1         {absence, borders, shapelessness, definite}  \n2   {clearly, something, see, border, felt, ca, se...  \n3                                   {lack, sharpness}  \n4          {characteristic, clarity, lack, precision}  \n5   {everything, eyes, see, sensation, blurred, bl...  \n6   {whether, physical, accurately, goal, conceptu...  \n7   {memory, eye, bad, lack, unfocused, image, vis...  \n8   {totally, clear, makes, condition, seeing, tha...  \n9   {drugs, alcohol, physical, exertion, state, us...  \n10                                 {sense, confusion}  \n11  {property, object, illness, make, usually, hap...  \n12  {far, distance, way, allow, people, objects, s...  \n13  {absence, clarity, borders, image, visual, def...  \n14  {losing, details, clarity, together, condition...  \n15  {partially, person, disrupts, camera, vision, ...  \n16  {something, perceived, metaphorically, defined...  \n17  {something, makes, context, often, less, speci...  \n18  {eye, attributed, borders, defined, clearly, n...  \n19  {undefined, image, shapes, whose, lines, chara...  \n20  {something, eye, visually, colours, problems, ...  \n21  {effect, outlines, details, affect, see, makin...  \n22  {something, effect, see, clear, makes, visual,...  \n23  {objects, see, effect, allows, clear, visual, ...  \n24            {looking, perception, confuses, visual}  \n25                                {distorted, vision}  \n26           {corrected, condition, eyeglasses, eyes}  \n27  {properly, faulty, object, perceived, specific...  \n28            {distance, effect, blinding, increases}  \n29  {lack, image, texture, low, given, quality, fo...  ",
      "text/html": "<div>\n<style scoped>\n    .dataframe tbody tr th:only-of-type {\n        vertical-align: middle;\n    }\n\n    .dataframe tbody tr th {\n        vertical-align: top;\n    }\n\n    .dataframe thead th {\n        text-align: right;\n    }\n</style>\n<table border=\"1\" class=\"dataframe\">\n  <thead>\n    <tr style=\"text-align: right;\">\n      <th></th>\n      <th>door</th>\n      <th>ladybug</th>\n      <th>pain</th>\n      <th>blurriness</th>\n    </tr>\n  </thead>\n  <tbody>\n    <tr>\n      <th>0</th>\n      <td>{divide, closing, rooms, two, used, constructi...</td>\n      <td>{typically, spots, black, six, insect, flying,...</td>\n      <td>{mental, physical, distress, feeling}</td>\n      <td>{focus, sight}</td>\n    </tr>\n    <tr>\n      <th>1</th>\n      <td>{opening, closed, opened}</td>\n      <td>{many, black, wings, luck, red, symbol, dots, ...</td>\n      <td>{physical, feeling, hurt, bad, emotional}</td>\n      <td>{absence, borders, shapelessness, definite}</td>\n    </tr>\n    <tr>\n      <th>2</th>\n      <td>{divide, hole, wall, object, room, let, people...</td>\n      <td>{color, fly, black, insect, orange, red, dots}</td>\n      <td>{experience, suffer, felling, beings, conscious}</td>\n      <td>{clearly, something, see, border, felt, ca, se...</td>\n    </tr>\n    <tr>\n      <th>3</th>\n      <td>{area, access, another, usable, one}</td>\n      <td>{back, red, small, insect}</td>\n      <td>{suffering, living, describes, concept}</td>\n      <td>{lack, sharpness}</td>\n    </tr>\n    <tr>\n      <th>4</th>\n      <td>{area, access, structure, allows, delimits}</td>\n      <td>{flying, small, insect, round}</td>\n      <td>{feeling, physical, discomfort}</td>\n      <td>{characteristic, clarity, lack, precision}</td>\n    </tr>\n    <tr>\n      <th>5</th>\n      <td>{block, used, object, pass, passage, moved}</td>\n      <td>{beatle, tendentially, insect, colored, small,...</td>\n      <td>{sensation, unpleasant, burning}</td>\n      <td>{everything, eyes, see, sensation, blurred, bl...</td>\n    </tr>\n    <tr>\n      <th>6</th>\n      <td>{moving, sometimes, object, handle, wood, cons...</td>\n      <td>{bring, black, luck, red, pest, dots, head, fl...</td>\n      <td>{damaged, negative, body, nature, sensation, p...</td>\n      <td>{whether, physical, accurately, goal, conceptu...</td>\n    </tr>\n    <tr>\n      <th>7</th>\n      <td>{go, rooms, used, wall, object, closed, separa...</td>\n      <td>{black, brings, luck, insect, dots, red, small...</td>\n      <td>{injury, physical, sadness, feeling, caused, e...</td>\n      <td>{memory, eye, bad, lack, unfocused, image, vis...</td>\n    </tr>\n    <tr>\n      <th>8</th>\n      <td>{order, access, something, place, another, ope...</td>\n      <td>{small, black, red, insect, dots}</td>\n      <td>{sentiment, expresses, sorrow}</td>\n      <td>{totally, clear, makes, condition, seeing, tha...</td>\n    </tr>\n    <tr>\n      <th>9</th>\n      <td>{room, access}</td>\n      <td>{yellow, insect, coat, dotted, red, small}</td>\n      <td>{physical, exertion, unpleasant, emotional, re...</td>\n      <td>{drugs, alcohol, physical, exertion, state, us...</td>\n    </tr>\n    <tr>\n      <th>10</th>\n      <td>{access, allows, room, object}</td>\n      <td>{black, insect, flying, red, usually, small, d...</td>\n      <td>{physical, sensation, unpleasant, emotional}</td>\n      <td>{sense, confusion}</td>\n    </tr>\n    <tr>\n      <th>11</th>\n      <td>{presents, sort, opening, blocks, well, intrud...</td>\n      <td>{considered, tiny, omen, characterised, insect...</td>\n      <td>{something, feeling, could, physically, discom...</td>\n      <td>{property, object, illness, make, usually, hap...</td>\n    </tr>\n    <tr>\n      <th>12</th>\n      <td>{outside, chamber, inside, made, object, key, ...</td>\n      <td>{human, black, spots, luck, red, usually, plan...</td>\n      <td>{bring, physical, person, soreness, emotional,...</td>\n      <td>{far, distance, way, allow, people, objects, s...</td>\n    </tr>\n    <tr>\n      <th>13</th>\n      <td>{wall, closed, opened}</td>\n      <td>{small, black, red, insect, dots}</td>\n      <td>{physical, feeling, caused, emotional, harm}</td>\n      <td>{absence, clarity, borders, image, visual, def...</td>\n    </tr>\n    <tr>\n      <th>14</th>\n      <td>{block, access, room, mechanism, allow, barrier}</td>\n      <td>{black, spots, red, insect}</td>\n      <td>{harmful, feeling, unpleasant}</td>\n      <td>{losing, details, clarity, together, condition...</td>\n    </tr>\n    <tr>\n      <th>15</th>\n      <td>{enter, room, way, let, people, exit}</td>\n      <td>{back, black, insect, small, dots}</td>\n      <td>{physical, emotional, uncomfortable, sensation}</td>\n      <td>{partially, person, disrupts, camera, vision, ...</td>\n    </tr>\n    <tr>\n      <th>16</th>\n      <td>{body, spaces, main, made, object, handle, usu...</td>\n      <td>{generally, black, wings, luck, characterized,...</td>\n      <td>{uneasiness, physical, feeling, emotional, har...</td>\n      <td>{something, perceived, metaphorically, defined...</td>\n    </tr>\n    <tr>\n      <th>17</th>\n      <td>{place, opens, allows, object, closes, enter, ...</td>\n      <td>{color, black, spots, luck, characterized, red...</td>\n      <td>{tangible, feeling, situations, feel}</td>\n      <td>{something, makes, context, often, less, speci...</td>\n    </tr>\n    <tr>\n      <th>18</th>\n      <td>{blocks, allows, room, wall, passage, element}</td>\n      <td>{linked, generally, black, luck, insect, good,...</td>\n      <td>{brain, produced, creature, feeling, make, nec...</td>\n      <td>{eye, attributed, borders, defined, clearly, n...</td>\n    </tr>\n    <tr>\n      <th>19</th>\n      <td>{place, cross, access, object, limited}</td>\n      <td>{color, black, insect, characterized, red, sma...</td>\n      <td>{suffering, unpleasant, emotion, associated}</td>\n      <td>{undefined, image, shapes, whose, lines, chara...</td>\n    </tr>\n    <tr>\n      <th>20</th>\n      <td>{wood, lock, access, house, use, rectangular, ...</td>\n      <td>{flies, black, flowers, insect, red, usually, ...</td>\n      <td>{getting, something, emotion, body, harmed, us...</td>\n      <td>{something, eye, visually, colours, problems, ...</td>\n    </tr>\n    <tr>\n      <th>21</th>\n      <td>{building, room, entrance, space, exit}</td>\n      <td>{black, shape, spot, red, bug, round, small}</td>\n      <td>{something, physical, response, emotional, fel...</td>\n      <td>{effect, outlines, details, affect, see, makin...</td>\n    </tr>\n    <tr>\n      <th>22</th>\n      <td>{connection, two, allows, spaces, object}</td>\n      <td>{color, black, usually, insect, characterized,...</td>\n      <td>{feeling, experience, discomfort, causes}</td>\n      <td>{something, effect, see, clear, makes, visual,...</td>\n    </tr>\n    <tr>\n      <th>23</th>\n      <td>{make, person, another, new, leave, architectu...</td>\n      <td>{fly, person, brings, luck, insect}</td>\n      <td>{something, person, physically, emotionally, h...</td>\n      <td>{objects, see, effect, allows, clear, visual, ...</td>\n    </tr>\n    <tr>\n      <th>24</th>\n      <td>{room, building, entrance}</td>\n      <td>{small, black, red, insect, dots}</td>\n      <td>{sensation, sickening}</td>\n      <td>{looking, perception, confuses, visual}</td>\n    </tr>\n    <tr>\n      <th>25</th>\n      <td>{opens, close, object, room, entrance}</td>\n      <td>{back, red, insect}</td>\n      <td>{feeling, physical, bad, emotional}</td>\n      <td>{distorted, vision}</td>\n    </tr>\n    <tr>\n      <th>26</th>\n      <td>{lock, house, object, entrance}</td>\n      <td>{back, black, insect, red, dots}</td>\n      <td>{get, feeling, hurt}</td>\n      <td>{corrected, condition, eyeglasses, eyes}</td>\n    </tr>\n    <tr>\n      <th>27</th>\n      <td>{blocks, access, point, physically, object, ro...</td>\n      <td>{black, wings, insect, known, red, small, dots}</td>\n      <td>{hurt, sensation}</td>\n      <td>{properly, faulty, object, perceived, specific...</td>\n    </tr>\n    <tr>\n      <th>28</th>\n      <td>{something, go, allows, opening}</td>\n      <td>{colored, bug, dots}</td>\n      <td>{bad, feeling}</td>\n      <td>{distance, effect, blinding, increases}</td>\n    </tr>\n    <tr>\n      <th>29</th>\n      <td>{structure, access, built, building, spaces, u...</td>\n      <td>{pattern, insect, colored, structured, red, us...</td>\n      <td>{causing, mentally, physically, negative, disc...</td>\n      <td>{lack, image, texture, low, given, quality, fo...</td>\n    </tr>\n  </tbody>\n</table>\n</div>"
     },
     "execution_count": 2,
     "metadata": {},
     "output_type": "execute_result"
    }
   ],
   "source": [
    "data = pd.read_csv('TLN-definitions-23.csv', sep=';')\n",
    "data = data.applymap(lambda s: filter_words(set(word_tokenize(s))))\n",
    "\n",
    "data"
   ],
   "metadata": {
    "collapsed": false
   }
  },
  {
   "cell_type": "code",
   "execution_count": 3,
   "outputs": [],
   "source": [
    "r = data.apply(lambda colonna: Counter(parola for insieme in colonna for parola in insieme).most_common(1)[0][0])"
   ],
   "metadata": {
    "collapsed": false
   }
  },
  {
   "cell_type": "code",
   "execution_count": 14,
   "outputs": [],
   "source": [
    "flat_list = list(set().union(*data['ladybug']))"
   ],
   "metadata": {
    "collapsed": false,
    "ExecuteTime": {
     "end_time": "2023-05-29T16:26:55.094053Z",
     "start_time": "2023-05-29T16:26:55.071458Z"
    }
   }
  },
  {
   "cell_type": "code",
   "execution_count": 15,
   "outputs": [
    {
     "data": {
      "text/plain": "[Synset('dipterous_insect.n.01'),\n Synset('leaf_miner.n.01'),\n Synset('lepidopterous_insect.n.01'),\n Synset('psocopterous_insect.n.01'),\n Synset('beetle.n.01'),\n Synset('ephemeron.n.01'),\n Synset('louse.n.01'),\n Synset('neuropteron.n.01'),\n Synset('odonate.n.01'),\n Synset('social_insect.n.01')]"
     },
     "execution_count": 15,
     "metadata": {},
     "output_type": "execute_result"
    }
   ],
   "source": [
    "get_ordered_hyponyms(r['ladybug'], flat_list)[0:10]"
   ],
   "metadata": {
    "collapsed": false,
    "ExecuteTime": {
     "end_time": "2023-05-29T16:26:56.799788Z",
     "start_time": "2023-05-29T16:26:56.768495Z"
    }
   }
  }
 ],
 "metadata": {
  "kernelspec": {
   "display_name": "Python 3",
   "language": "python",
   "name": "python3"
  },
  "language_info": {
   "codemirror_mode": {
    "name": "ipython",
    "version": 2
   },
   "file_extension": ".py",
   "mimetype": "text/x-python",
   "name": "python",
   "nbconvert_exporter": "python",
   "pygments_lexer": "ipython2",
   "version": "2.7.6"
  }
 },
 "nbformat": 4,
 "nbformat_minor": 0
}
