{
 "cells": [
  {
   "cell_type": "code",
   "execution_count": 1,
   "metadata": {
    "collapsed": true,
    "ExecuteTime": {
     "end_time": "2023-05-29T19:25:29.360144Z",
     "start_time": "2023-05-29T19:25:28.597298Z"
    }
   },
   "outputs": [],
   "source": [
    "import pandas as pd\n",
    "from collections import Counter\n",
    "from def_overlap_funcs import filter_words\n",
    "from nltk.tokenize import word_tokenize\n",
    "from ricerca import get_ordered_hyponyms"
   ]
  },
  {
   "cell_type": "code",
   "execution_count": 2,
   "outputs": [
    {
     "data": {
      "text/plain": "                                                 door   \n0   {used, divide, rooms, passage, construction, c...  \\\n1                           {opening, opened, closed}   \n2   {door, wall, people, let, divide, hole, open, ...   \n3                {area, another, one, usable, access}   \n4         {delimits, area, allows, structure, access}   \n5         {used, passage, block, moved, object, pass}   \n6   {assembled, requires, rooms, unlock, pushed, w...   \n7   {used, opened, rooms, go, separate, wall, clos...   \n8   {something, opened, order, another, place, acc...   \n9                                      {access, room}   \n10                     {allows, object, access, room}   \n11  {opening, outside, key, locked, weather, one, ...   \n12  {key, outside, unlock, lock, people, usually, ...   \n13                             {opened, wall, closed}   \n14   {mechanism, barrier, block, access, room, allow}   \n15              {way, exit, enter, people, room, let}   \n16  {passage, usually, artificial, main, opened, h...   \n17  {opens, object, exit, closes, allows, enter, p...   \n18     {blocks, element, passage, room, wall, allows}   \n19            {place, object, access, cross, limited}   \n20  {object, use, lock, rectangular, wood, usually...   \n21            {exit, building, space, entrance, room}   \n22          {allows, object, two, connection, spaces}   \n23  {leave, architecture, space, pass, another, ma...   \n24                         {entrance, building, room}   \n25             {opens, entrance, object, close, room}   \n26                    {lock, entrance, object, house}   \n27  {blocks, point, space, room, object, access, p...   \n28                   {something, opening, go, allows}   \n29  {used, different, blank, building, walls, buil...   \n\n                                              ladybug   \n0   {six, flying, spots, insect, typically, legs, ...  \\\n1   {symbol, dots, black, wings, cultures, luck, i...   \n2      {color, fly, insect, dots, orange, red, black}   \n3                          {small, red, back, insect}   \n4                      {round, flying, small, insect}   \n5   {tendentially, small, flying, insect, red, col...   \n6   {used, control, considered, insectivore, flies...   \n7   {luck, brings, insect, dots, red, black, cultu...   \n8                   {dots, red, black, small, insect}   \n9          {coat, yellow, insect, dotted, red, small}   \n10  {flying, insect, dots, usually, red, black, sm...   \n11  {considered, coat, flying, characterised, omen...   \n12  {falls, human, lives, spots, usually, associat...   \n13                  {dots, red, black, small, insect}   \n14                        {red, black, spots, insect}   \n15                 {insect, dots, back, black, small}   \n16  {dots, associated, black, characterized, wings...   \n17  {spots, said, bring, black, small, characteriz...   \n18  {luck, round, linked, insect, dots, usually, r...   \n19  {characterized, color, insect, dots, red, blac...   \n20  {small, round, insect, dots, usually, flies, r...   \n21       {shape, small, round, bug, red, black, spot}   \n22  {characterized, color, small, insect, dots, us...   \n23                {luck, brings, fly, insect, person}   \n24                  {dots, red, black, small, insect}   \n25                                {red, back, insect}   \n26                   {back, insect, dots, red, black}   \n27    {wings, small, known, insect, dots, red, black}   \n28                               {dots, colored, bug}   \n29  {pattern, flying, insect, structured, usually,...   \n\n                                                 pain   \n0               {feeling, distress, physical, mental}  \\\n1           {feeling, bad, emotional, hurt, physical}   \n2    {conscious, beings, experience, suffer, felling}   \n3             {suffering, concept, living, describes}   \n4                     {feeling, physical, discomfort}   \n5                    {sensation, unpleasant, burning}   \n6   {damaged, creatures, felt, sensation, nature, ...   \n7   {feeling, emotional, caused, pain, injury, phy...   \n8                      {sentiment, expresses, sorrow}   \n9   {sensation, exertion, emotional, resulting, ph...   \n10       {sensation, physical, unpleasant, emotional}   \n11  {feeling, either, mentally, happens, could, cr...   \n12  {sensation, discomfort, emotional, person, phy...   \n13       {feeling, harm, emotional, physical, caused}   \n14                     {feeling, harmful, unpleasant}   \n15    {sensation, emotional, uncomfortable, physical}   \n16  {feeling, harm, uneasiness, causes, emotional,...   \n17              {feeling, tangible, situations, feel}   \n18  {feeling, brain, issues, complex, produced, ma...   \n19       {suffering, associated, emotion, unpleasant}   \n20  {tell, harmed, right, felt, emotion, want, us,...   \n21  {sensation, harmful, something, response, dama...   \n22          {feeling, discomfort, causes, experience}   \n23  {something, hurts, person, emotionally, physic...   \n24                             {sensation, sickening}   \n25                {feeling, bad, physical, emotional}   \n26                               {feeling, hurt, get}   \n27                                  {sensation, hurt}   \n28                                     {feeling, bad}   \n29  {sensation, mentally, causing, physically, neg...   \n\n                                           blurriness  \n0                                      {focus, sight}  \n1         {borders, definite, shapelessness, absence}  \n2   {ca, sensation, something, border, see, clearl...  \n3                                   {sharpness, lack}  \n4          {precision, lack, characteristic, clarity}  \n5   {sensation, everything, see, eyes, blurring, b...  \n6   {certain, accurately, perceive, whether, kind,...  \n7   {bad, eye, lack, image, vision, unfocused, mem...  \n8   {seeing, totally, thant, bright, condition, ma...  \n9   {exertion, alcohol, confusion, use, resulting,...  \n10                                 {sense, confusion}  \n11  {photograph, drug, also, see, happens, illness...  \n12  {objects, way, see, person, detailed, far, dis...  \n13  {borders, clarity, visual, absence, image, def...  \n14  {details, clarity, losing, blends, condition, ...  \n15  {phenomenon, vision, camera, person, partially...  \n16  {indefiniteness, metaphorically, clearly, conc...  \n17  {used, less, specific, often, subject, somethi...  \n18  {borders, eye, clearly, image, attributed, sta...  \n19  {recognize, shapes, hard, whose, characteristi...  \n20  {picture, eye, happens, phenomena, visually, v...  \n21  {details, effect, affect, see, making, images,...  \n22  {something, hard, effect, see, visual, makes, ...  \n23  {objects, way, effect, see, allows, visual, cl...  \n24            {confuses, looking, visual, perception}  \n25                                {vision, distorted}  \n26           {corrected, condition, eyes, eyeglasses}  \n27  {properly, perception, faulty, perceived, defi...  \n28            {increases, blinding, effect, distance}  \n29  {texture, given, quality, lack, focus, low, im...  ",
      "text/html": "<div>\n<style scoped>\n    .dataframe tbody tr th:only-of-type {\n        vertical-align: middle;\n    }\n\n    .dataframe tbody tr th {\n        vertical-align: top;\n    }\n\n    .dataframe thead th {\n        text-align: right;\n    }\n</style>\n<table border=\"1\" class=\"dataframe\">\n  <thead>\n    <tr style=\"text-align: right;\">\n      <th></th>\n      <th>door</th>\n      <th>ladybug</th>\n      <th>pain</th>\n      <th>blurriness</th>\n    </tr>\n  </thead>\n  <tbody>\n    <tr>\n      <th>0</th>\n      <td>{used, divide, rooms, passage, construction, c...</td>\n      <td>{six, flying, spots, insect, typically, legs, ...</td>\n      <td>{feeling, distress, physical, mental}</td>\n      <td>{focus, sight}</td>\n    </tr>\n    <tr>\n      <th>1</th>\n      <td>{opening, opened, closed}</td>\n      <td>{symbol, dots, black, wings, cultures, luck, i...</td>\n      <td>{feeling, bad, emotional, hurt, physical}</td>\n      <td>{borders, definite, shapelessness, absence}</td>\n    </tr>\n    <tr>\n      <th>2</th>\n      <td>{door, wall, people, let, divide, hole, open, ...</td>\n      <td>{color, fly, insect, dots, orange, red, black}</td>\n      <td>{conscious, beings, experience, suffer, felling}</td>\n      <td>{ca, sensation, something, border, see, clearl...</td>\n    </tr>\n    <tr>\n      <th>3</th>\n      <td>{area, another, one, usable, access}</td>\n      <td>{small, red, back, insect}</td>\n      <td>{suffering, concept, living, describes}</td>\n      <td>{sharpness, lack}</td>\n    </tr>\n    <tr>\n      <th>4</th>\n      <td>{delimits, area, allows, structure, access}</td>\n      <td>{round, flying, small, insect}</td>\n      <td>{feeling, physical, discomfort}</td>\n      <td>{precision, lack, characteristic, clarity}</td>\n    </tr>\n    <tr>\n      <th>5</th>\n      <td>{used, passage, block, moved, object, pass}</td>\n      <td>{tendentially, small, flying, insect, red, col...</td>\n      <td>{sensation, unpleasant, burning}</td>\n      <td>{sensation, everything, see, eyes, blurring, b...</td>\n    </tr>\n    <tr>\n      <th>6</th>\n      <td>{assembled, requires, rooms, unlock, pushed, w...</td>\n      <td>{used, control, considered, insectivore, flies...</td>\n      <td>{damaged, creatures, felt, sensation, nature, ...</td>\n      <td>{certain, accurately, perceive, whether, kind,...</td>\n    </tr>\n    <tr>\n      <th>7</th>\n      <td>{used, opened, rooms, go, separate, wall, clos...</td>\n      <td>{luck, brings, insect, dots, red, black, cultu...</td>\n      <td>{feeling, emotional, caused, pain, injury, phy...</td>\n      <td>{bad, eye, lack, image, vision, unfocused, mem...</td>\n    </tr>\n    <tr>\n      <th>8</th>\n      <td>{something, opened, order, another, place, acc...</td>\n      <td>{dots, red, black, small, insect}</td>\n      <td>{sentiment, expresses, sorrow}</td>\n      <td>{seeing, totally, thant, bright, condition, ma...</td>\n    </tr>\n    <tr>\n      <th>9</th>\n      <td>{access, room}</td>\n      <td>{coat, yellow, insect, dotted, red, small}</td>\n      <td>{sensation, exertion, emotional, resulting, ph...</td>\n      <td>{exertion, alcohol, confusion, use, resulting,...</td>\n    </tr>\n    <tr>\n      <th>10</th>\n      <td>{allows, object, access, room}</td>\n      <td>{flying, insect, dots, usually, red, black, sm...</td>\n      <td>{sensation, physical, unpleasant, emotional}</td>\n      <td>{sense, confusion}</td>\n    </tr>\n    <tr>\n      <th>11</th>\n      <td>{opening, outside, key, locked, weather, one, ...</td>\n      <td>{considered, coat, flying, characterised, omen...</td>\n      <td>{feeling, either, mentally, happens, could, cr...</td>\n      <td>{photograph, drug, also, see, happens, illness...</td>\n    </tr>\n    <tr>\n      <th>12</th>\n      <td>{key, outside, unlock, lock, people, usually, ...</td>\n      <td>{falls, human, lives, spots, usually, associat...</td>\n      <td>{sensation, discomfort, emotional, person, phy...</td>\n      <td>{objects, way, see, person, detailed, far, dis...</td>\n    </tr>\n    <tr>\n      <th>13</th>\n      <td>{opened, wall, closed}</td>\n      <td>{dots, red, black, small, insect}</td>\n      <td>{feeling, harm, emotional, physical, caused}</td>\n      <td>{borders, clarity, visual, absence, image, def...</td>\n    </tr>\n    <tr>\n      <th>14</th>\n      <td>{mechanism, barrier, block, access, room, allow}</td>\n      <td>{red, black, spots, insect}</td>\n      <td>{feeling, harmful, unpleasant}</td>\n      <td>{details, clarity, losing, blends, condition, ...</td>\n    </tr>\n    <tr>\n      <th>15</th>\n      <td>{way, exit, enter, people, room, let}</td>\n      <td>{insect, dots, back, black, small}</td>\n      <td>{sensation, emotional, uncomfortable, physical}</td>\n      <td>{phenomenon, vision, camera, person, partially...</td>\n    </tr>\n    <tr>\n      <th>16</th>\n      <td>{passage, usually, artificial, main, opened, h...</td>\n      <td>{dots, associated, black, characterized, wings...</td>\n      <td>{feeling, harm, uneasiness, causes, emotional,...</td>\n      <td>{indefiniteness, metaphorically, clearly, conc...</td>\n    </tr>\n    <tr>\n      <th>17</th>\n      <td>{opens, object, exit, closes, allows, enter, p...</td>\n      <td>{spots, said, bring, black, small, characteriz...</td>\n      <td>{feeling, tangible, situations, feel}</td>\n      <td>{used, less, specific, often, subject, somethi...</td>\n    </tr>\n    <tr>\n      <th>18</th>\n      <td>{blocks, element, passage, room, wall, allows}</td>\n      <td>{luck, round, linked, insect, dots, usually, r...</td>\n      <td>{feeling, brain, issues, complex, produced, ma...</td>\n      <td>{borders, eye, clearly, image, attributed, sta...</td>\n    </tr>\n    <tr>\n      <th>19</th>\n      <td>{place, object, access, cross, limited}</td>\n      <td>{characterized, color, insect, dots, red, blac...</td>\n      <td>{suffering, associated, emotion, unpleasant}</td>\n      <td>{recognize, shapes, hard, whose, characteristi...</td>\n    </tr>\n    <tr>\n      <th>20</th>\n      <td>{object, use, lock, rectangular, wood, usually...</td>\n      <td>{small, round, insect, dots, usually, flies, r...</td>\n      <td>{tell, harmed, right, felt, emotion, want, us,...</td>\n      <td>{picture, eye, happens, phenomena, visually, v...</td>\n    </tr>\n    <tr>\n      <th>21</th>\n      <td>{exit, building, space, entrance, room}</td>\n      <td>{shape, small, round, bug, red, black, spot}</td>\n      <td>{sensation, harmful, something, response, dama...</td>\n      <td>{details, effect, affect, see, making, images,...</td>\n    </tr>\n    <tr>\n      <th>22</th>\n      <td>{allows, object, two, connection, spaces}</td>\n      <td>{characterized, color, small, insect, dots, us...</td>\n      <td>{feeling, discomfort, causes, experience}</td>\n      <td>{something, hard, effect, see, visual, makes, ...</td>\n    </tr>\n    <tr>\n      <th>23</th>\n      <td>{leave, architecture, space, pass, another, ma...</td>\n      <td>{luck, brings, fly, insect, person}</td>\n      <td>{something, hurts, person, emotionally, physic...</td>\n      <td>{objects, way, effect, see, allows, visual, cl...</td>\n    </tr>\n    <tr>\n      <th>24</th>\n      <td>{entrance, building, room}</td>\n      <td>{dots, red, black, small, insect}</td>\n      <td>{sensation, sickening}</td>\n      <td>{confuses, looking, visual, perception}</td>\n    </tr>\n    <tr>\n      <th>25</th>\n      <td>{opens, entrance, object, close, room}</td>\n      <td>{red, back, insect}</td>\n      <td>{feeling, bad, physical, emotional}</td>\n      <td>{vision, distorted}</td>\n    </tr>\n    <tr>\n      <th>26</th>\n      <td>{lock, entrance, object, house}</td>\n      <td>{back, insect, dots, red, black}</td>\n      <td>{feeling, hurt, get}</td>\n      <td>{corrected, condition, eyes, eyeglasses}</td>\n    </tr>\n    <tr>\n      <th>27</th>\n      <td>{blocks, point, space, room, object, access, p...</td>\n      <td>{wings, small, known, insect, dots, red, black}</td>\n      <td>{sensation, hurt}</td>\n      <td>{properly, perception, faulty, perceived, defi...</td>\n    </tr>\n    <tr>\n      <th>28</th>\n      <td>{something, opening, go, allows}</td>\n      <td>{dots, colored, bug}</td>\n      <td>{feeling, bad}</td>\n      <td>{increases, blinding, effect, distance}</td>\n    </tr>\n    <tr>\n      <th>29</th>\n      <td>{used, different, blank, building, walls, buil...</td>\n      <td>{pattern, flying, insect, structured, usually,...</td>\n      <td>{sensation, mentally, causing, physically, neg...</td>\n      <td>{texture, given, quality, lack, focus, low, im...</td>\n    </tr>\n  </tbody>\n</table>\n</div>"
     },
     "execution_count": 2,
     "metadata": {},
     "output_type": "execute_result"
    }
   ],
   "source": [
    "data = pd.read_csv('TLN-definitions-23.csv', sep=';')\n",
    "data = data.applymap(lambda s: filter_words(set(word_tokenize(s))))\n",
    "\n",
    "data"
   ],
   "metadata": {
    "collapsed": false,
    "ExecuteTime": {
     "end_time": "2023-05-29T19:25:29.516250Z",
     "start_time": "2023-05-29T19:25:29.365555Z"
    }
   }
  },
  {
   "cell_type": "code",
   "execution_count": 3,
   "outputs": [
    {
     "data": {
      "text/plain": "door           object\nladybug        insect\npain          feeling\nblurriness        see\ndtype: object"
     },
     "execution_count": 3,
     "metadata": {},
     "output_type": "execute_result"
    }
   ],
   "source": [
    "r = data.apply(lambda column: Counter(p for i in column for p in i).most_common(1)[0][0])\n",
    "r"
   ],
   "metadata": {
    "collapsed": false,
    "ExecuteTime": {
     "end_time": "2023-05-29T19:25:29.532727Z",
     "start_time": "2023-05-29T19:25:29.524046Z"
    }
   }
  },
  {
   "cell_type": "code",
   "execution_count": 4,
   "outputs": [
    {
     "data": {
      "text/plain": "['delimits',\n 'key',\n 'requires',\n 'rooms',\n 'unlock',\n 'pushed',\n 'rectangular',\n 'wood',\n 'separate',\n 'person',\n 'weather',\n 'new',\n 'cross',\n 'rotates',\n 'presents',\n 'blank',\n 'opened',\n 'open',\n 'go',\n 'building',\n 'hinge',\n 'barrier',\n 'entrance',\n 'allows',\n 'closing',\n 'intruders',\n 'make',\n 'object',\n 'house',\n 'conditions',\n 'spaces',\n 'connection',\n 'way',\n 'times',\n 'see',\n 'physically',\n 'moving',\n 'let',\n 'closes',\n 'consists',\n 'hole',\n 'use',\n 'enclosing',\n 'point',\n 'mechanism',\n 'made',\n 'enter',\n 'structure',\n 'main',\n 'pass',\n 'access',\n 'allow',\n 'assembled',\n 'element',\n 'opening',\n 'outside',\n 'leave',\n 'passage',\n 'locked',\n 'closed',\n 'walls',\n 'one',\n 'historically',\n 'usable',\n 'well',\n 'artificial',\n 'handle',\n 'enables',\n 'moved',\n 'means',\n 'two',\n 'chamber',\n 'close',\n 'areas',\n 'used',\n 'hinges',\n 'sometimes',\n 'iron',\n 'lock',\n 'exit',\n 'also',\n 'door',\n 'wall',\n 'order',\n 'construction',\n 'another',\n 'block',\n 'usually',\n 'inside',\n 'space',\n 'built',\n 'place',\n 'temporarily',\n 'small',\n 'opens',\n 'limited',\n 'divide',\n 'something',\n 'blocks',\n 'sort',\n 'different',\n 'area',\n 'body',\n 'architecture',\n 'get',\n 'materials',\n 'people',\n 'auxiliary',\n 'room']"
     },
     "execution_count": 4,
     "metadata": {},
     "output_type": "execute_result"
    }
   ],
   "source": [
    "flat_list = list(set().union(*data['door']))\n",
    "flat_list"
   ],
   "metadata": {
    "collapsed": false,
    "ExecuteTime": {
     "end_time": "2023-05-29T19:25:29.597609Z",
     "start_time": "2023-05-29T19:25:29.540185Z"
    }
   }
  },
  {
   "cell_type": "code",
   "execution_count": 5,
   "outputs": [
    {
     "name": "stdout",
     "output_type": "stream",
     "text": [
      "Synset('object.n.01') 2\n",
      "Synset('aim.n.02') 6\n",
      "Synset('object.n.03') 11\n",
      "Synset('object.n.04') 5\n",
      "Synset('object.n.05') 9\n"
     ]
    },
    {
     "data": {
      "text/plain": "[Synset('fomite.n.01'),\n Synset('commemorative.n.01'),\n Synset('moon.n.02'),\n Synset('part.n.02'),\n Synset('finding.n.03'),\n Synset('location.n.01'),\n Synset('triviality.n.03'),\n Synset('wall.n.02'),\n Synset('point.n.07'),\n Synset('retained_object.n.01')]"
     },
     "execution_count": 5,
     "metadata": {},
     "output_type": "execute_result"
    }
   ],
   "source": [
    "get_ordered_hyponyms(r['door'], flat_list)[0:10]"
   ],
   "metadata": {
    "collapsed": false,
    "ExecuteTime": {
     "end_time": "2023-05-29T19:25:32.316384Z",
     "start_time": "2023-05-29T19:25:29.558541Z"
    }
   }
  }
 ],
 "metadata": {
  "kernelspec": {
   "display_name": "Python 3",
   "language": "python",
   "name": "python3"
  },
  "language_info": {
   "codemirror_mode": {
    "name": "ipython",
    "version": 2
   },
   "file_extension": ".py",
   "mimetype": "text/x-python",
   "name": "python",
   "nbconvert_exporter": "python",
   "pygments_lexer": "ipython2",
   "version": "2.7.6"
  }
 },
 "nbformat": 4,
 "nbformat_minor": 0
}
