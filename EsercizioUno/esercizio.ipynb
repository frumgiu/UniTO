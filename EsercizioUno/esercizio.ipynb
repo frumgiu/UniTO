{
 "cells": [
  {
   "cell_type": "code",
   "execution_count": 26,
   "outputs": [],
   "source": [
    "import pandas as pd\n",
    "from SimilarityFunctions import similarity_function\n",
    "from CorrelationCoeff import pearson_coeff, spearman_coeff"
   ],
   "metadata": {
    "collapsed": false,
    "ExecuteTime": {
     "start_time": "2023-04-24T09:37:46.151114Z",
     "end_time": "2023-04-24T09:37:46.303397Z"
    }
   }
  },
  {
   "cell_type": "code",
   "execution_count": 27,
   "outputs": [],
   "source": [
    "table = pd.read_csv('combined.csv')"
   ],
   "metadata": {
    "collapsed": false,
    "ExecuteTime": {
     "start_time": "2023-04-24T09:37:46.191260Z",
     "end_time": "2023-04-24T09:37:46.328488Z"
    }
   }
  },
  {
   "cell_type": "code",
   "execution_count": 30,
   "outputs": [
    {
     "data": {
      "text/plain": "           Word 1    Word 2  Human (mean)  Wu & Palmer  Leakcock & Chodorow   \n0            love       sex          6.77         0.91                 2.94  \\\n1           tiger       cat          7.35         0.96                 2.94   \n2           tiger     tiger         10.00         1.00                 3.64   \n3            book     paper          7.46         0.86                 2.54   \n4        computer  keyboard          7.62         0.80                 2.25   \n..            ...       ...           ...          ...                  ...   \n348        shower     flood          6.03         0.60                 2.03   \n349       weather  forecast          8.34         0.00                 1.00   \n350      disaster      area          6.25         0.43                 1.44   \n351      governor    office          6.34         0.47                 1.34   \n352  architecture   century          3.78         0.18                 1.34   \n\n     Shortest Path  \n0               37  \n1               37  \n2               38  \n3               36  \n4               35  \n..             ...  \n348             34  \n349             25  \n350             30  \n351             29  \n352             29  \n\n[353 rows x 6 columns]",
      "text/html": "<div>\n<style scoped>\n    .dataframe tbody tr th:only-of-type {\n        vertical-align: middle;\n    }\n\n    .dataframe tbody tr th {\n        vertical-align: top;\n    }\n\n    .dataframe thead th {\n        text-align: right;\n    }\n</style>\n<table border=\"1\" class=\"dataframe\">\n  <thead>\n    <tr style=\"text-align: right;\">\n      <th></th>\n      <th>Word 1</th>\n      <th>Word 2</th>\n      <th>Human (mean)</th>\n      <th>Wu &amp; Palmer</th>\n      <th>Leakcock &amp; Chodorow</th>\n      <th>Shortest Path</th>\n    </tr>\n  </thead>\n  <tbody>\n    <tr>\n      <th>0</th>\n      <td>love</td>\n      <td>sex</td>\n      <td>6.77</td>\n      <td>0.91</td>\n      <td>2.94</td>\n      <td>37</td>\n    </tr>\n    <tr>\n      <th>1</th>\n      <td>tiger</td>\n      <td>cat</td>\n      <td>7.35</td>\n      <td>0.96</td>\n      <td>2.94</td>\n      <td>37</td>\n    </tr>\n    <tr>\n      <th>2</th>\n      <td>tiger</td>\n      <td>tiger</td>\n      <td>10.00</td>\n      <td>1.00</td>\n      <td>3.64</td>\n      <td>38</td>\n    </tr>\n    <tr>\n      <th>3</th>\n      <td>book</td>\n      <td>paper</td>\n      <td>7.46</td>\n      <td>0.86</td>\n      <td>2.54</td>\n      <td>36</td>\n    </tr>\n    <tr>\n      <th>4</th>\n      <td>computer</td>\n      <td>keyboard</td>\n      <td>7.62</td>\n      <td>0.80</td>\n      <td>2.25</td>\n      <td>35</td>\n    </tr>\n    <tr>\n      <th>...</th>\n      <td>...</td>\n      <td>...</td>\n      <td>...</td>\n      <td>...</td>\n      <td>...</td>\n      <td>...</td>\n    </tr>\n    <tr>\n      <th>348</th>\n      <td>shower</td>\n      <td>flood</td>\n      <td>6.03</td>\n      <td>0.60</td>\n      <td>2.03</td>\n      <td>34</td>\n    </tr>\n    <tr>\n      <th>349</th>\n      <td>weather</td>\n      <td>forecast</td>\n      <td>8.34</td>\n      <td>0.00</td>\n      <td>1.00</td>\n      <td>25</td>\n    </tr>\n    <tr>\n      <th>350</th>\n      <td>disaster</td>\n      <td>area</td>\n      <td>6.25</td>\n      <td>0.43</td>\n      <td>1.44</td>\n      <td>30</td>\n    </tr>\n    <tr>\n      <th>351</th>\n      <td>governor</td>\n      <td>office</td>\n      <td>6.34</td>\n      <td>0.47</td>\n      <td>1.34</td>\n      <td>29</td>\n    </tr>\n    <tr>\n      <th>352</th>\n      <td>architecture</td>\n      <td>century</td>\n      <td>3.78</td>\n      <td>0.18</td>\n      <td>1.34</td>\n      <td>29</td>\n    </tr>\n  </tbody>\n</table>\n<p>353 rows × 6 columns</p>\n</div>"
     },
     "execution_count": 30,
     "metadata": {},
     "output_type": "execute_result"
    }
   ],
   "source": [
    "table['Wu & Palmer'] = similarity_function('WP', table['Word 1'], table['Word 2'])\n",
    "table['Leakcock & Chodorow'] = similarity_function('LC', table['Word 1'], table['Word 2'])\n",
    "table['Shortest Path'] = similarity_function('SP', table['Word 1'], table['Word 2'])\n",
    "display(table)"
   ],
   "metadata": {
    "collapsed": false,
    "ExecuteTime": {
     "start_time": "2023-04-24T09:38:28.849730Z",
     "end_time": "2023-04-24T09:38:42.235418Z"
    }
   }
  },
  {
   "cell_type": "code",
   "execution_count": 31,
   "outputs": [
    {
     "data": {
      "text/plain": "                     Pearson  Spearman\nWu & Palmer           0.2946    0.3456\nLeakcock & Chodorow   0.3171    0.2919\nShortest Path         0.1846    0.2919",
      "text/html": "<div>\n<style scoped>\n    .dataframe tbody tr th:only-of-type {\n        vertical-align: middle;\n    }\n\n    .dataframe tbody tr th {\n        vertical-align: top;\n    }\n\n    .dataframe thead th {\n        text-align: right;\n    }\n</style>\n<table border=\"1\" class=\"dataframe\">\n  <thead>\n    <tr style=\"text-align: right;\">\n      <th></th>\n      <th>Pearson</th>\n      <th>Spearman</th>\n    </tr>\n  </thead>\n  <tbody>\n    <tr>\n      <th>Wu &amp; Palmer</th>\n      <td>0.2946</td>\n      <td>0.3456</td>\n    </tr>\n    <tr>\n      <th>Leakcock &amp; Chodorow</th>\n      <td>0.3171</td>\n      <td>0.2919</td>\n    </tr>\n    <tr>\n      <th>Shortest Path</th>\n      <td>0.1846</td>\n      <td>0.2919</td>\n    </tr>\n  </tbody>\n</table>\n</div>"
     },
     "execution_count": 31,
     "metadata": {},
     "output_type": "execute_result"
    }
   ],
   "source": [
    "corr_table = pd.DataFrame()\n",
    "corr_table['Pearson'] = [pearson_coeff(table['Wu & Palmer'], table['Human (mean)']), pearson_coeff(table['Leakcock & Chodorow'], table['Human (mean)']), pearson_coeff(table['Shortest Path'], table['Human (mean)'])]\n",
    "corr_table['Spearman'] = [spearman_coeff(table['Wu & Palmer'], table['Human (mean)']), spearman_coeff(table['Leakcock & Chodorow'], table['Human (mean)']), spearman_coeff(table['Shortest Path'], table['Human (mean)'])]\n",
    "\n",
    "corr_table.index = ['Wu & Palmer', 'Leakcock & Chodorow', 'Shortest Path']\n",
    "\n",
    "display(corr_table)"
   ],
   "metadata": {
    "collapsed": false,
    "ExecuteTime": {
     "start_time": "2023-04-24T09:38:50.005592Z",
     "end_time": "2023-04-24T09:38:50.055366Z"
    }
   }
  }
 ],
 "metadata": {
  "kernelspec": {
   "display_name": "Python 3",
   "language": "python",
   "name": "python3"
  },
  "language_info": {
   "codemirror_mode": {
    "name": "ipython",
    "version": 2
   },
   "file_extension": ".py",
   "mimetype": "text/x-python",
   "name": "python",
   "nbconvert_exporter": "python",
   "pygments_lexer": "ipython2",
   "version": "2.7.6"
  }
 },
 "nbformat": 4,
 "nbformat_minor": 0
}
